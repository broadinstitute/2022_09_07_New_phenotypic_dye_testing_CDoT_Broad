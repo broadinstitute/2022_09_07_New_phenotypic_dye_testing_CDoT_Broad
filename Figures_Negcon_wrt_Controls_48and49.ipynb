{
 "cells": [
  {
   "cell_type": "markdown",
   "id": "b51535da",
   "metadata": {
    "lines_to_next_cell": 0
   },
   "source": [
    "Figures\n",
    "* **Normalization:** Negcon normalization\n",
    "* **mAP calculation:** mAP is calculated as difference to controls."
   ]
  },
  {
   "cell_type": "code",
   "execution_count": null,
   "id": "c472dc7e",
   "metadata": {},
   "outputs": [],
   "source": [
    "### Modules import\n",
    "\n",
    "from pathlib import Path\n",
    "\n",
    "import pandas as pd\n",
    "import plotly\n",
    "import plotly.express as px\n",
    "import plotly.graph_objects as go\n",
    "import plotly.io as pio\n",
    "from plotly.subplots import make_subplots"
   ]
  },
  {
   "cell_type": "markdown",
   "id": "a352e57f",
   "metadata": {},
   "source": [
    "#### Reading the dataframes"
   ]
  },
  {
   "cell_type": "code",
   "execution_count": null,
   "id": "e13d4e01",
   "metadata": {},
   "outputs": [],
   "source": [
    "notebook_suffix = \"48and49\"\n",
    "save_figures_externally = True\n",
    "\n",
    "copairs_dir = Path(\"copairs_csv\")\n",
    "figures_dir = Path(\"figures\")\n",
    "if save_figures_externally:\n",
    "    figures_dir.mkdir(exist_ok=True)\n",
    "\n",
    "combined_moa_df = pd.read_csv(\n",
    "    copairs_dir / \"PrecisionValues_with_MoA_allplates_Negcon_wrt_Controls_48and49.csv\"\n",
    ")"
   ]
  },
  {
   "cell_type": "markdown",
   "id": "cd52cedb",
   "metadata": {
    "lines_to_next_cell": 2
   },
   "source": [
    "### Comparison of Mean average precision"
   ]
  },
  {
   "cell_type": "markdown",
   "id": "464f2fbc",
   "metadata": {
    "lines_to_next_cell": 2
   },
   "source": [
    "##### Comparison of Batch 3 (Cell Painting) and Batch 5 (ChromaLive Saguaro dyes)\n"
   ]
  },
  {
   "cell_type": "code",
   "execution_count": null,
   "id": "b7f022f7",
   "metadata": {},
   "outputs": [],
   "source": [
    "def quick_save(fig, fig_suffix: str, save_externally: bool = save_figures_externally):\n",
    "    if save_externally:\n",
    "        fig.write_html(str(figures_dir / f\"{notebook_suffix}_{fig_suffix}.html\"))\n",
    "    else:\n",
    "        fig.show(\"notebook\")"
   ]
  },
  {
   "cell_type": "code",
   "execution_count": null,
   "id": "67c7711f",
   "metadata": {},
   "outputs": [],
   "source": [
    "labels = {\n",
    "    f\"mean_average_precision_{batch}\": name\n",
    "    for batch, name in zip(\n",
    "        (\"batch3\", \"batch5\"), (\"mAP (Cell Painting)\", \"mAP (Saguaro)\")\n",
    "    )\n",
    "}\n",
    "first, second = labels.keys()\n",
    "scatter = px.scatter(\n",
    "    combined_moa_df,\n",
    "    x=combined_moa_df[first],\n",
    "    y=combined_moa_df[second],\n",
    "    labels=labels,\n",
    "    color=combined_moa_df[\"MoA\"],\n",
    ")\n",
    "scatter.update_layout(legend=dict(orientation=\"h\"), height=800, width=1000)\n",
    "quick_save(scatter, \"scatter_mAP_MoA\")"
   ]
  },
  {
   "cell_type": "markdown",
   "id": "6dfbd6d1",
   "metadata": {},
   "source": [
    "### Mean average precision values of all compounds"
   ]
  },
  {
   "cell_type": "code",
   "execution_count": null,
   "id": "02d1c16a",
   "metadata": {},
   "outputs": [],
   "source": [
    "combined_box_plot = go.Figure()\n",
    "\n",
    "for field, name in labels.items():\n",
    "    combined_box_plot.add_trace(\n",
    "        go.Box(\n",
    "            y=combined_moa_df[field],\n",
    "            name=name[5:-1],\n",
    "            boxpoints=\"all\",\n",
    "            hovertext=combined_moa_df[\"MoA\"] + \"-\" + combined_moa_df[\"Common Name\"],\n",
    "        )\n",
    "    )\n",
    "\n",
    "combined_box_plot.update_layout(\n",
    "    height=800,\n",
    "    width=1000,\n",
    "    font_family=\"Arial\",\n",
    "    font=dict(size=14, color=\"Black\"),\n",
    "    boxmode=\"group\",\n",
    "    yaxis_title=\"Mean average precision\",\n",
    ")\n",
    "# combined_box_plot.show(\"notebook\")\n",
    "quick_save(combined_box_plot, \"boxplot_mAP_MoA\")"
   ]
  },
  {
   "cell_type": "code",
   "execution_count": null,
   "id": "9507c7d5",
   "metadata": {
    "title": "Boxenplot"
   },
   "outputs": [],
   "source": [
    "# tidy data frame first\n",
    "\n",
    "from itertools import product\n",
    "\n",
    "cols = (\"mean_average_precision\", \"above_p_threshold\", \"above_q_threshold\")\n",
    "batches = (\"batch3\", \"batch5\")\n",
    "# maps = combined_moa_df[[*map(lambda x: combined\"_\".join(x), product(cols, batches)), \"BRD ID\"]]\n",
    "\n",
    "\n",
    "def combine_cols(df: pd.DataFrame, cols, batches, id_col: str = \"BRD ID\"):\n",
    "    \"\"\"\n",
    "    Get a column-based data frame and make it denser\n",
    "    \"\"\"\n",
    "    maps = []\n",
    "    for col in cols:\n",
    "        tmp = []\n",
    "        for batch in batches:\n",
    "            colname = \"_\".join((col, batch))\n",
    "            df = df.loc(axis=1)[[colname, id_col]].copy()\n",
    "            df.rename({colname: col}, inplace=True, axis=1)\n",
    "            df[\"batch\"] = batch\n",
    "            tmp.append(df)\n",
    "\n",
    "        maps.append(pd.concat(tmp, axis=0))\n",
    "    return pd.concat(maps, axis=1)\n",
    "\n",
    "\n",
    "result = combine_cols(combined_moa_df, cols, batches)"
   ]
  },
  {
   "cell_type": "markdown",
   "id": "e69093de",
   "metadata": {},
   "source": [
    "### Difference in mean average precision values"
   ]
  },
  {
   "cell_type": "markdown",
   "id": "7ffa9784",
   "metadata": {},
   "source": [
    "##### Standard Cell Painting\n",
    "The negative values indicate the better performance of one set of dyes against the other"
   ]
  },
  {
   "cell_type": "code",
   "execution_count": null,
   "id": "31c056b2",
   "metadata": {},
   "outputs": [],
   "source": [
    "fig = go.Figure()\n",
    "fig.add_trace(\n",
    "    go.Scatter(\n",
    "        x=combined_moa_df[\"MoA\"],\n",
    "        y=combined_moa_df[\"batch3_vs_batch5\"],\n",
    "        mode=\"markers\",\n",
    "        hovertext=combined_moa_df[\"Common Name\"],\n",
    "    )\n",
    ")\n",
    "fig.update_layout(\n",
    "    height=1000, width=1700, font_family=\"Arial\", font=dict(size=14, color=\"Black\")\n",
    ")\n",
    "fig.update_yaxes(title=\"Difference in <br> Mean average precision\")\n",
    "fig.update_xaxes(categoryorder=\"total ascending\")\n",
    "# fig.show(\"notebook\")\n",
    "\n",
    "quick_save(fig, \"scatter_MoA\")"
   ]
  }
 ],
 "metadata": {
  "kernelspec": {
   "display_name": "base",
   "language": "python",
   "name": "python3"
  }
 },
 "nbformat": 4,
 "nbformat_minor": 5
}