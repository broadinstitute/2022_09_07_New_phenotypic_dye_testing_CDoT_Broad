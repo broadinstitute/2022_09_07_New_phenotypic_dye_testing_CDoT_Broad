{
 "cells": [
  {
   "cell_type": "markdown",
   "id": "4d4d54b2",
   "metadata": {
    "lines_to_next_cell": 0
   },
   "source": [
    "Figures\n",
    "* **Normalization:** Negcon normalization\n",
    "* **mAP calculation:** mAP is calculated as difference to controls."
   ]
  },
  {
   "cell_type": "code",
   "execution_count": 1,
   "id": "3ff8aff7",
   "metadata": {
    "execution": {
     "iopub.execute_input": "2023-10-20T15:04:11.324683Z",
     "iopub.status.busy": "2023-10-20T15:04:11.324427Z",
     "iopub.status.idle": "2023-10-20T15:04:11.866810Z",
     "shell.execute_reply": "2023-10-20T15:04:11.865874Z"
    }
   },
   "outputs": [],
   "source": [
    "### Modules import\n",
    "\n",
    "from pathlib import Path\n",
    "\n",
    "import pandas as pd\n",
    "import plotly\n",
    "import plotly.express as px\n",
    "import plotly.graph_objects as go\n",
    "import plotly.io as pio\n",
    "from plotly.subplots import make_subplots"
   ]
  },
  {
   "cell_type": "markdown",
   "id": "794a5bbd",
   "metadata": {},
   "source": [
    "#### Reading the dataframes"
   ]
  },
  {
   "cell_type": "code",
   "execution_count": 2,
   "id": "9f515656",
   "metadata": {
    "execution": {
     "iopub.execute_input": "2023-10-20T15:04:11.870786Z",
     "iopub.status.busy": "2023-10-20T15:04:11.870474Z",
     "iopub.status.idle": "2023-10-20T15:04:11.887725Z",
     "shell.execute_reply": "2023-10-20T15:04:11.886861Z"
    }
   },
   "outputs": [],
   "source": [
    "notebook_suffix = \"48and49\"\n",
    "save_figures_externally = True\n",
    "\n",
    "copairs_dir = Path(\"copairs_csv\")\n",
    "figures_dir = Path(\"figures\")\n",
    "if save_figures_externally:\n",
    "    figures_dir.mkdir(exist_ok=True)\n",
    "\n",
    "combined_moa_df = pd.read_csv(\n",
    "    copairs_dir / \"PrecisionValues_with_MoA_allplates_Negcon_wrt_Controls_48and49.csv\"\n",
    ")"
   ]
  },
  {
   "cell_type": "markdown",
   "id": "14c9876f",
   "metadata": {
    "lines_to_next_cell": 2
   },
   "source": [
    "### Comparison of Mean average precision"
   ]
  },
  {
   "cell_type": "markdown",
   "id": "19e8e30b",
   "metadata": {
    "lines_to_next_cell": 2
   },
   "source": [
    "##### Comparison of Batch 3 (Cell Painting) and Batch 5 (ChromaLive Saguaro dyes)\n"
   ]
  },
  {
   "cell_type": "code",
   "execution_count": 3,
   "id": "3652195c",
   "metadata": {
    "execution": {
     "iopub.execute_input": "2023-10-20T15:04:11.891143Z",
     "iopub.status.busy": "2023-10-20T15:04:11.890912Z",
     "iopub.status.idle": "2023-10-20T15:04:11.896007Z",
     "shell.execute_reply": "2023-10-20T15:04:11.894823Z"
    }
   },
   "outputs": [],
   "source": [
    "def quick_save(fig, fig_suffix: str, save_externally: bool = save_figures_externally):\n",
    "    if save_externally:\n",
    "        fig.write_html(str(figures_dir / f\"{notebook_suffix}_{fig_suffix}.html\"))\n",
    "    else:\n",
    "        fig.show(\"notebook\")"
   ]
  },
  {
   "cell_type": "code",
   "execution_count": 4,
   "id": "02ed871b",
   "metadata": {
    "execution": {
     "iopub.execute_input": "2023-10-20T15:04:11.899476Z",
     "iopub.status.busy": "2023-10-20T15:04:11.899213Z",
     "iopub.status.idle": "2023-10-20T15:04:12.399600Z",
     "shell.execute_reply": "2023-10-20T15:04:12.398767Z"
    }
   },
   "outputs": [],
   "source": [
    "labels = {\n",
    "    f\"mean_average_precision_{batch}\": name\n",
    "    for batch, name in zip(\n",
    "        (\"batch3\", \"batch5\"), (\"mAP (Cell Painting)\", \"mAP (Saguaro)\")\n",
    "    )\n",
    "}\n",
    "first, second = labels.keys()\n",
    "scatter = px.scatter(\n",
    "    combined_moa_df,\n",
    "    x=combined_moa_df[first],\n",
    "    y=combined_moa_df[second],\n",
    "    labels=labels,\n",
    "    color=combined_moa_df[\"MoA\"],\n",
    ")\n",
    "scatter.update_layout(legend=dict(orientation=\"h\"), height=800, width=1000)\n",
    "quick_save(scatter, \"scatter_mAP_MoA\")"
   ]
  },
  {
   "cell_type": "markdown",
   "id": "92197c1a",
   "metadata": {},
   "source": [
    "### Mean average precision values of all compounds"
   ]
  },
  {
   "cell_type": "code",
   "execution_count": 5,
   "id": "3dc37058",
   "metadata": {
    "execution": {
     "iopub.execute_input": "2023-10-20T15:04:12.404149Z",
     "iopub.status.busy": "2023-10-20T15:04:12.403904Z",
     "iopub.status.idle": "2023-10-20T15:04:12.444807Z",
     "shell.execute_reply": "2023-10-20T15:04:12.443892Z"
    }
   },
   "outputs": [],
   "source": [
    "combined_box_plot = go.Figure()\n",
    "\n",
    "for field, name in labels.items():\n",
    "    combined_box_plot.add_trace(\n",
    "        go.Box(\n",
    "            y=combined_moa_df[field],\n",
    "            name=name[5:-1],\n",
    "            boxpoints=\"all\",\n",
    "            hovertext=combined_moa_df[\"MoA\"] + \"-\" + combined_moa_df[\"Common Name\"],\n",
    "        )\n",
    "    )\n",
    "\n",
    "combined_box_plot.update_layout(\n",
    "    height=800,\n",
    "    width=1000,\n",
    "    font_family=\"Arial\",\n",
    "    font=dict(size=14, color=\"Black\"),\n",
    "    boxmode=\"group\",\n",
    "    yaxis_title=\"Mean average precision\",\n",
    ")\n",
    "# combined_box_plot.show(\"notebook\")\n",
    "quick_save(combined_box_plot, \"boxplot_mAP_MoA\")"
   ]
  },
  {
   "cell_type": "markdown",
   "id": "4f7c6eeb",
   "metadata": {},
   "source": [
    "### Difference in mean average precision values"
   ]
  },
  {
   "cell_type": "markdown",
   "id": "3789f54b",
   "metadata": {},
   "source": [
    "##### Standard Cell Painting\n",
    "The negative values indicate the better performance of one set of dyes against the other"
   ]
  },
  {
   "cell_type": "code",
   "execution_count": 6,
   "id": "ba665f1e",
   "metadata": {
    "execution": {
     "iopub.execute_input": "2023-10-20T15:04:12.448482Z",
     "iopub.status.busy": "2023-10-20T15:04:12.448184Z",
     "iopub.status.idle": "2023-10-20T15:04:12.487914Z",
     "shell.execute_reply": "2023-10-20T15:04:12.487129Z"
    }
   },
   "outputs": [],
   "source": [
    "fig = go.Figure()\n",
    "fig.add_trace(\n",
    "    go.Scatter(\n",
    "        x=combined_moa_df[\"MoA\"],\n",
    "        y=combined_moa_df[\"batch3_vs_batch5\"],\n",
    "        mode=\"markers\",\n",
    "        hovertext=combined_moa_df[\"Common Name\"],\n",
    "    )\n",
    ")\n",
    "fig.update_layout(\n",
    "    height=1000, width=1700, font_family=\"Arial\", font=dict(size=14, color=\"Black\")\n",
    ")\n",
    "fig.update_yaxes(title=\"Difference in <br> Mean average precision\")\n",
    "fig.update_xaxes(categoryorder=\"total ascending\")\n",
    "# fig.show(\"notebook\")\n",
    "\n",
    "quick_save(fig, \"scatter_MoA\")"
   ]
  }
 ],
 "metadata": {
  "kernelspec": {
   "display_name": "base",
   "language": "python",
   "name": "python3"
  },
  "language_info": {
   "codemirror_mode": {
    "name": "ipython",
    "version": 3
   },
   "file_extension": ".py",
   "mimetype": "text/x-python",
   "name": "python",
   "nbconvert_exporter": "python",
   "pygments_lexer": "ipython3",
   "version": "3.8.17"
  }
 },
 "nbformat": 4,
 "nbformat_minor": 5
}
