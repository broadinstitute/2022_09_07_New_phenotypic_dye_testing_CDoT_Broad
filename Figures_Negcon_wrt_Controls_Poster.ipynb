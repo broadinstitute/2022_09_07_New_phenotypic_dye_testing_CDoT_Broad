{
 "cells": [
  {
   "cell_type": "markdown",
   "metadata": {},
   "source": [
    "# Figures for the SBI2 poster "
   ]
  },
  {
   "cell_type": "code",
   "execution_count": 1,
   "metadata": {},
   "outputs": [],
   "source": [
    "### Modules import\n",
    "import plotly.express as px\n",
    "from plotly.subplots import make_subplots\n",
    "import plotly.graph_objects as go\n",
    "import plotly.io as pio\n",
    "import pandas as pd"
   ]
  },
  {
   "cell_type": "markdown",
   "metadata": {},
   "source": [
    "### Reading the dataframes"
   ]
  },
  {
   "cell_type": "code",
   "execution_count": 2,
   "metadata": {},
   "outputs": [],
   "source": [
    "combined_moa_50_46_47_df = pd.read_csv('copairs_csv\\\\PrecisionValues_with_MoA_allplates_Negcon_wrt_Controls.csv')\n",
    "combined_moa_48_49_df = pd.read_csv('copairs_csv\\\\PrecisionValues_with_MoA_allplates_Negcon_wrt_Controls_48and49.csv')"
   ]
  },
  {
   "cell_type": "code",
   "execution_count": 12,
   "metadata": {},
   "outputs": [],
   "source": [
    "#Reading the cellcount df\n",
    "combined_moa_cellcount_50_46_47_df = pd.read_csv('copairs_csv\\\\PrecisionValues_with_MoA_allplates_cellcount_Negcon_wrt_Controls.csv')\n"
   ]
  },
  {
   "cell_type": "markdown",
   "metadata": {},
   "source": [
    "### Mean average precision values of all compounds \n"
   ]
  },
  {
   "cell_type": "code",
   "execution_count": 10,
   "metadata": {},
   "outputs": [
    {
     "data": {
      "application/vnd.plotly.v1+json": {
       "config": {
        "plotlyServerURL": "https://plot.ly"
       },
       "data": [
        {
         "boxpoints": "all",
         "hovertext": [
          "tumor necrosis factor production inhibitor-pomalidomide",
          "antihistamine-homochlorcyclizine",
          "acetylcholine receptor antagonist-orphenadrine",
          "pyruvate dehydrogenase kinase inhibitor-AZD7545",
          "protein tyrosine kinase inhibitor-SHP099",
          "antihistamine-hydroxyzine",
          "hepatocyte growth factor receptor inhibitor-SU-11274",
          "CHK inhibitor-PF-477736",
          "glycogen synthase kinase inhibitor-GSK-3-inhibitor-IX",
          "histone lysine methyltransferase inhibitor-A-366",
          "tumor necrosis factor production inhibitor-apratastat",
          "inosine monophosphate dehydrogenase inhibitor-merimepodib",
          "CDC inhibitor-BMS-863233",
          "PARP inhibitor-veliparib",
          "bromodomain inhibitor-PFI-1",
          "ubiquitin specific protease inhibitor-P5091",
          "glycogen synthase kinase inhibitor-CHIR-99021",
          "JAK inhibitor-filgotinib",
          "Apoptosis inducer (ATP-competitive kinase inhibitor)-Staurosporine",
          "hepatocyte growth factor receptor inhibitor-SGX523",
          "bromodomain inhibitor-CPI-0610",
          "MEK inhibitor-BIX-02188",
          "Aurora kinase inhibitor-AMG900",
          "LXR agonist-T-0901317",
          "phospholipase inhibitor-ML-298",
          "IGF-1 inhibitor-NVP-AEW541",
          "tricyclic antidepressant-maprotiline",
          "histone lysine demethylase inhibitor-ML324",
          "phosphodiesterase inhibitor-ketotifen",
          "beta-catenin inhibitor-PNU-74654",
          "JNK inhibitor-SU3327",
          "LXR agonist-GW-3965",
          "DNA inhibitor-carmustine",
          "kinesin inhibitor-filanesib",
          "phosphoinositide dependent kinase inhibitor-APY0201",
          "RAF inhibitor-GW-5074",
          "FGFR inhibitor-lenvatinib",
          "Bcr-Abl kinase inhibitor-ponatinib",
          "AMPK inhibitor-WZ4003",
          "pyruvate dehydrogenase kinase inhibitor-BX-912",
          "phospholipase inhibitor-halopemide",
          "Aurora kinase inhibitor-MK-5108",
          "JAK inhibitor-ruxolitinib",
          "tricyclic antidepressant-dosulepin",
          "PARP inhibitor-niraparib",
          "BCL inhibitor-ABT-737",
          "inosine monophosphate dehydrogenase inhibitor-BMS-566419",
          "MEK inhibitor-selumetinib",
          "histone lysine methyltransferase inhibitor-UNC0642",
          "HDAC inhibitor-romidepsin",
          "HDAC inhibitor-RGFP966",
          "BCL inhibitor-venetoclax",
          "phosphodiesterase inhibitor-quazinone",
          "kinesin inhibitor-ispinesib",
          "CDK inhibitor-THZ1",
          "CDC inhibitor-KH-CB19",
          "RAF inhibitor-GDC-0879",
          "protein tyrosine kinase inhibitor-rheochrysidin",
          "MAP kinase inhibitor-FR-180204",
          "ER stressor (SERCA inhibitor)-Thapsigargin",
          "protein arginine N-methyltransferase inhibitor-EPZ015666",
          "Apoptosis inducer (transcription inhibitor)-DACTINOMYCIN",
          "phosphoinositide dependent kinase inhibitor-GSK2334470",
          "FGFR inhibitor-BLU9931",
          "DNA inhibitor-valrubicin",
          "smoothened receptor agonist-purmorphamine",
          "JNK inhibitor-BI-78D3",
          "CHK inhibitor-SCH-900776",
          "EGFR inhibitor-CP-724714",
          "androgen receptor modulator-andarine",
          "HMGCR inhibitor-rosuvastatin",
          "acetylcholine receptor antagonist-dimethindene-(S)-(+)",
          "p38 MAPK inhibitor-skepinone-l",
          "mTOR inhibitor-sirolimus",
          "EGFR inhibitor-neratinib",
          "HMGCR inhibitor-delta-Tocotrienol",
          "IGF-1 inhibitor-linsitinib",
          "protein arginine N-methyltransferase inhibitor-SGC-707",
          "Bcr-Abl kinase inhibitor-GNF-5",
          "MAP kinase inhibitor-PD-198306",
          "p38 MAPK inhibitor-VX-745",
          "ubiquitin specific protease inhibitor-ML-323",
          "beta-catenin inhibitor-ICG-001",
          "CDK inhibitor-AMG-925",
          "histone lysine demethylase inhibitor-GSK-J4",
          "hypoxia inducible factor inhibitor-IOX2",
          "androgen receptor modulator-PS178990",
          "mTOR inhibitor-AZD2014",
          "smoothened receptor agonist-SAG",
          "hypoxia inducible factor inhibitor-acriflavine"
         ],
         "name": "Standard Cellpainting dyes",
         "type": "box",
         "y": [
          0.2867454304954305,
          0.5277777777777778,
          0.3665339631129105,
          0.9791666666666666,
          0.269047619047619,
          0.3409569597069597,
          1,
          1,
          1,
          0.3211886357106945,
          0.6629960317460317,
          1,
          1,
          0.2878517316017316,
          0.9027777777777776,
          0.7722222222222223,
          1,
          0.3130067798546059,
          1,
          0.1553240894513273,
          1,
          0.6666666666666666,
          1,
          1,
          0.3373316498316498,
          1,
          0.1428226121704382,
          0.8791666666666667,
          0.3121044464794464,
          0.333519721019721,
          0.4163628038628039,
          0.6468253968253967,
          0.2762655168905168,
          1,
          1,
          0.3563161375661375,
          1,
          1,
          1,
          1,
          1,
          1,
          0.6593013468013467,
          0.2128561131850605,
          1,
          1,
          0.9523809523809524,
          1,
          1,
          1,
          1,
          0.9097222222222222,
          0.1111099037414826,
          1,
          1,
          0.3197270322270322,
          1,
          0.1919969650232807,
          0.3525825789252899,
          1,
          1,
          1,
          1,
          1,
          1,
          0.7875,
          0.4266827943298531,
          1,
          0.424074074074074,
          0.1514401140368632,
          0.3466479534957796,
          0.2294011544011543,
          1,
          1,
          1,
          0.174074074074074,
          1,
          0.5073641636141636,
          0.9666666666666668,
          0.9375,
          0.6715277777777777,
          1,
          1,
          1,
          1,
          0.2487324795374331,
          0.2108456820956821,
          1,
          0.8993055555555556,
          1
         ]
        },
        {
         "boxpoints": "all",
         "hovertext": [
          "tumor necrosis factor production inhibitor-pomalidomide",
          "antihistamine-homochlorcyclizine",
          "acetylcholine receptor antagonist-orphenadrine",
          "pyruvate dehydrogenase kinase inhibitor-AZD7545",
          "protein tyrosine kinase inhibitor-SHP099",
          "antihistamine-hydroxyzine",
          "hepatocyte growth factor receptor inhibitor-SU-11274",
          "CHK inhibitor-PF-477736",
          "glycogen synthase kinase inhibitor-GSK-3-inhibitor-IX",
          "histone lysine methyltransferase inhibitor-A-366",
          "tumor necrosis factor production inhibitor-apratastat",
          "inosine monophosphate dehydrogenase inhibitor-merimepodib",
          "CDC inhibitor-BMS-863233",
          "PARP inhibitor-veliparib",
          "bromodomain inhibitor-PFI-1",
          "ubiquitin specific protease inhibitor-P5091",
          "glycogen synthase kinase inhibitor-CHIR-99021",
          "JAK inhibitor-filgotinib",
          "Apoptosis inducer (ATP-competitive kinase inhibitor)-Staurosporine",
          "hepatocyte growth factor receptor inhibitor-SGX523",
          "bromodomain inhibitor-CPI-0610",
          "MEK inhibitor-BIX-02188",
          "Aurora kinase inhibitor-AMG900",
          "LXR agonist-T-0901317",
          "phospholipase inhibitor-ML-298",
          "IGF-1 inhibitor-NVP-AEW541",
          "tricyclic antidepressant-maprotiline",
          "histone lysine demethylase inhibitor-ML324",
          "phosphodiesterase inhibitor-ketotifen",
          "beta-catenin inhibitor-PNU-74654",
          "JNK inhibitor-SU3327",
          "LXR agonist-GW-3965",
          "DNA inhibitor-carmustine",
          "kinesin inhibitor-filanesib",
          "phosphoinositide dependent kinase inhibitor-APY0201",
          "RAF inhibitor-GW-5074",
          "FGFR inhibitor-lenvatinib",
          "Bcr-Abl kinase inhibitor-ponatinib",
          "AMPK inhibitor-WZ4003",
          "pyruvate dehydrogenase kinase inhibitor-BX-912",
          "phospholipase inhibitor-halopemide",
          "Aurora kinase inhibitor-MK-5108",
          "JAK inhibitor-ruxolitinib",
          "tricyclic antidepressant-dosulepin",
          "PARP inhibitor-niraparib",
          "BCL inhibitor-ABT-737",
          "inosine monophosphate dehydrogenase inhibitor-BMS-566419",
          "MEK inhibitor-selumetinib",
          "histone lysine methyltransferase inhibitor-UNC0642",
          "HDAC inhibitor-romidepsin",
          "HDAC inhibitor-RGFP966",
          "BCL inhibitor-venetoclax",
          "phosphodiesterase inhibitor-quazinone",
          "kinesin inhibitor-ispinesib",
          "CDK inhibitor-THZ1",
          "CDC inhibitor-KH-CB19",
          "RAF inhibitor-GDC-0879",
          "protein tyrosine kinase inhibitor-rheochrysidin",
          "MAP kinase inhibitor-FR-180204",
          "ER stressor (SERCA inhibitor)-Thapsigargin",
          "protein arginine N-methyltransferase inhibitor-EPZ015666",
          "Apoptosis inducer (transcription inhibitor)-DACTINOMYCIN",
          "phosphoinositide dependent kinase inhibitor-GSK2334470",
          "FGFR inhibitor-BLU9931",
          "DNA inhibitor-valrubicin",
          "smoothened receptor agonist-purmorphamine",
          "JNK inhibitor-BI-78D3",
          "CHK inhibitor-SCH-900776",
          "EGFR inhibitor-CP-724714",
          "androgen receptor modulator-andarine",
          "HMGCR inhibitor-rosuvastatin",
          "acetylcholine receptor antagonist-dimethindene-(S)-(+)",
          "p38 MAPK inhibitor-skepinone-l",
          "mTOR inhibitor-sirolimus",
          "EGFR inhibitor-neratinib",
          "HMGCR inhibitor-delta-Tocotrienol",
          "IGF-1 inhibitor-linsitinib",
          "protein arginine N-methyltransferase inhibitor-SGC-707",
          "Bcr-Abl kinase inhibitor-GNF-5",
          "MAP kinase inhibitor-PD-198306",
          "p38 MAPK inhibitor-VX-745",
          "ubiquitin specific protease inhibitor-ML-323",
          "beta-catenin inhibitor-ICG-001",
          "CDK inhibitor-AMG-925",
          "histone lysine demethylase inhibitor-GSK-J4",
          "hypoxia inducible factor inhibitor-IOX2",
          "androgen receptor modulator-PS178990",
          "mTOR inhibitor-AZD2014",
          "smoothened receptor agonist-SAG",
          "hypoxia inducible factor inhibitor-acriflavine"
         ],
         "name": "Phalloidin 400LS",
         "type": "box",
         "y": [
          0.2558751542575072,
          0.159312189788196,
          0.3335751054501054,
          0.8500000000000001,
          0.248718917391518,
          0.5228863728863729,
          1,
          1,
          1,
          0.3401785714285714,
          0.1566587347837347,
          1,
          1,
          0.3268518518518518,
          1,
          0.3692045454545454,
          1,
          0.3742799852067586,
          1,
          0.1680952643548551,
          1,
          0.7242063492063492,
          1,
          1,
          0.3908527678748267,
          1,
          0.3147934813724287,
          0.4847187412976886,
          0.2237367614269788,
          0.240540293040293,
          0.2428185190413451,
          0.6048611111111111,
          0.1154631271135847,
          1,
          1,
          0.2824013949013949,
          1,
          1,
          0.9097222222222222,
          1,
          1,
          1,
          0.6797852474323063,
          0.2132009058479646,
          1,
          1,
          0.7871031746031746,
          1,
          0.8694444444444445,
          1,
          1,
          0.7999999999999999,
          0.1576762709914883,
          1,
          1,
          0.275005305152364,
          0.7676587301587301,
          0.2301143301143301,
          0.4014936330725804,
          1,
          0.9583333333333331,
          1,
          0.9513888888888888,
          1,
          1,
          0.5174693362193362,
          0.2016026747005007,
          1,
          0.5733987077737077,
          0.2232273391812865,
          0.365625,
          0.4890873015873015,
          1,
          1,
          1,
          0.1883964719491035,
          1,
          0.1587512025012024,
          1,
          0.8694444444444445,
          0.5371031746031746,
          0.7583333333333333,
          0.8069444444444444,
          1,
          1,
          0.9055555555555556,
          0.1651788790919225,
          1,
          0.8347222222222223,
          1
         ]
        },
        {
         "boxpoints": "all",
         "hovertext": [
          "tumor necrosis factor production inhibitor-pomalidomide",
          "antihistamine-homochlorcyclizine",
          "acetylcholine receptor antagonist-orphenadrine",
          "pyruvate dehydrogenase kinase inhibitor-AZD7545",
          "protein tyrosine kinase inhibitor-SHP099",
          "antihistamine-hydroxyzine",
          "hepatocyte growth factor receptor inhibitor-SU-11274",
          "CHK inhibitor-PF-477736",
          "glycogen synthase kinase inhibitor-GSK-3-inhibitor-IX",
          "histone lysine methyltransferase inhibitor-A-366",
          "tumor necrosis factor production inhibitor-apratastat",
          "inosine monophosphate dehydrogenase inhibitor-merimepodib",
          "CDC inhibitor-BMS-863233",
          "PARP inhibitor-veliparib",
          "bromodomain inhibitor-PFI-1",
          "ubiquitin specific protease inhibitor-P5091",
          "glycogen synthase kinase inhibitor-CHIR-99021",
          "JAK inhibitor-filgotinib",
          "Apoptosis inducer (ATP-competitive kinase inhibitor)-Staurosporine",
          "hepatocyte growth factor receptor inhibitor-SGX523",
          "bromodomain inhibitor-CPI-0610",
          "MEK inhibitor-BIX-02188",
          "Aurora kinase inhibitor-AMG900",
          "LXR agonist-T-0901317",
          "phospholipase inhibitor-ML-298",
          "IGF-1 inhibitor-NVP-AEW541",
          "tricyclic antidepressant-maprotiline",
          "histone lysine demethylase inhibitor-ML324",
          "phosphodiesterase inhibitor-ketotifen",
          "beta-catenin inhibitor-PNU-74654",
          "JNK inhibitor-SU3327",
          "LXR agonist-GW-3965",
          "DNA inhibitor-carmustine",
          "kinesin inhibitor-filanesib",
          "phosphoinositide dependent kinase inhibitor-APY0201",
          "RAF inhibitor-GW-5074",
          "FGFR inhibitor-lenvatinib",
          "Bcr-Abl kinase inhibitor-ponatinib",
          "AMPK inhibitor-WZ4003",
          "pyruvate dehydrogenase kinase inhibitor-BX-912",
          "phospholipase inhibitor-halopemide",
          "Aurora kinase inhibitor-MK-5108",
          "JAK inhibitor-ruxolitinib",
          "tricyclic antidepressant-dosulepin",
          "PARP inhibitor-niraparib",
          "BCL inhibitor-ABT-737",
          "inosine monophosphate dehydrogenase inhibitor-BMS-566419",
          "MEK inhibitor-selumetinib",
          "histone lysine methyltransferase inhibitor-UNC0642",
          "HDAC inhibitor-romidepsin",
          "HDAC inhibitor-RGFP966",
          "BCL inhibitor-venetoclax",
          "phosphodiesterase inhibitor-quazinone",
          "kinesin inhibitor-ispinesib",
          "CDK inhibitor-THZ1",
          "CDC inhibitor-KH-CB19",
          "RAF inhibitor-GDC-0879",
          "protein tyrosine kinase inhibitor-rheochrysidin",
          "MAP kinase inhibitor-FR-180204",
          "ER stressor (SERCA inhibitor)-Thapsigargin",
          "protein arginine N-methyltransferase inhibitor-EPZ015666",
          "Apoptosis inducer (transcription inhibitor)-DACTINOMYCIN",
          "phosphoinositide dependent kinase inhibitor-GSK2334470",
          "FGFR inhibitor-BLU9931",
          "DNA inhibitor-valrubicin",
          "smoothened receptor agonist-purmorphamine",
          "JNK inhibitor-BI-78D3",
          "CHK inhibitor-SCH-900776",
          "EGFR inhibitor-CP-724714",
          "androgen receptor modulator-andarine",
          "HMGCR inhibitor-rosuvastatin",
          "acetylcholine receptor antagonist-dimethindene-(S)-(+)",
          "p38 MAPK inhibitor-skepinone-l",
          "mTOR inhibitor-sirolimus",
          "EGFR inhibitor-neratinib",
          "HMGCR inhibitor-delta-Tocotrienol",
          "IGF-1 inhibitor-linsitinib",
          "protein arginine N-methyltransferase inhibitor-SGC-707",
          "Bcr-Abl kinase inhibitor-GNF-5",
          "MAP kinase inhibitor-PD-198306",
          "p38 MAPK inhibitor-VX-745",
          "ubiquitin specific protease inhibitor-ML-323",
          "beta-catenin inhibitor-ICG-001",
          "CDK inhibitor-AMG-925",
          "histone lysine demethylase inhibitor-GSK-J4",
          "hypoxia inducible factor inhibitor-IOX2",
          "androgen receptor modulator-PS178990",
          "mTOR inhibitor-AZD2014",
          "smoothened receptor agonist-SAG",
          "hypoxia inducible factor inhibitor-acriflavine"
         ],
         "name": "Tocris MitoBrilliant",
         "type": "box",
         "y": [
          0.2027960329430917,
          0.3345779779216312,
          0.4226851851851852,
          0.8972222222222223,
          0.2980579605579606,
          0.3343637743094265,
          1,
          1,
          1,
          0.6847222222222222,
          0.2407671957671957,
          1,
          1,
          0.1540660679476468,
          1,
          0.3978021978021978,
          1,
          0.2013040078829552,
          1,
          0.160032375032375,
          1,
          0.7162698412698412,
          1,
          0.6102272727272727,
          0.233270202020202,
          1,
          0.1503406084656084,
          1,
          0.1692830086580086,
          0.2592456617456617,
          0.5779220779220778,
          0.7868055555555555,
          0.1982075963538812,
          1,
          1,
          0.601572039072039,
          1,
          1,
          1,
          1,
          0.8833333333333333,
          0.7902777777777777,
          0.6113095238095237,
          0.2839539967829442,
          1,
          1,
          1,
          1,
          1,
          1,
          1,
          0.8555555555555555,
          0.2473735061235061,
          1,
          1,
          0.2456109168609168,
          1,
          0.321013431013431,
          0.531060606060606,
          1,
          0.8357142857142856,
          1,
          1,
          1,
          1,
          0.8486111111111111,
          0.2357184944684944,
          1,
          0.7583333333333333,
          0.1329138876545997,
          0.2705291005291005,
          0.290791847041847,
          1,
          1,
          1,
          0.2157399027987263,
          1,
          0.1969066640834375,
          1,
          0.8416666666666666,
          0.7071661998132586,
          1,
          1,
          1,
          1,
          0.4983115468409586,
          0.2001908372844905,
          1,
          1,
          1
         ]
        },
        {
         "boxpoints": "all",
         "hovertext": [
          "tumor necrosis factor production inhibitor-pomalidomide",
          "antihistamine-homochlorcyclizine",
          "acetylcholine receptor antagonist-orphenadrine",
          "pyruvate dehydrogenase kinase inhibitor-AZD7545",
          "protein tyrosine kinase inhibitor-SHP099",
          "antihistamine-hydroxyzine",
          "hepatocyte growth factor receptor inhibitor-SU-11274",
          "CHK inhibitor-PF-477736",
          "glycogen synthase kinase inhibitor-GSK-3-inhibitor-IX",
          "histone lysine methyltransferase inhibitor-A-366",
          "tumor necrosis factor production inhibitor-apratastat",
          "inosine monophosphate dehydrogenase inhibitor-merimepodib",
          "CDC inhibitor-BMS-863233",
          "PARP inhibitor-veliparib",
          "bromodomain inhibitor-PFI-1",
          "ubiquitin specific protease inhibitor-P5091",
          "glycogen synthase kinase inhibitor-CHIR-99021",
          "JAK inhibitor-filgotinib",
          "Apoptosis inducer (ATP-competitive kinase inhibitor)-Staurosporine",
          "hepatocyte growth factor receptor inhibitor-SGX523",
          "bromodomain inhibitor-CPI-0610",
          "MEK inhibitor-BIX-02188",
          "Aurora kinase inhibitor-AMG900",
          "LXR agonist-T-0901317",
          "phospholipase inhibitor-ML-298",
          "IGF-1 inhibitor-NVP-AEW541",
          "tricyclic antidepressant-maprotiline",
          "histone lysine demethylase inhibitor-ML324",
          "phosphodiesterase inhibitor-ketotifen",
          "beta-catenin inhibitor-PNU-74654",
          "JNK inhibitor-SU3327",
          "LXR agonist-GW-3965",
          "DNA inhibitor-carmustine",
          "kinesin inhibitor-filanesib",
          "phosphoinositide dependent kinase inhibitor-APY0201",
          "RAF inhibitor-GW-5074",
          "FGFR inhibitor-lenvatinib",
          "Bcr-Abl kinase inhibitor-ponatinib",
          "AMPK inhibitor-WZ4003",
          "pyruvate dehydrogenase kinase inhibitor-BX-912",
          "phospholipase inhibitor-halopemide",
          "Aurora kinase inhibitor-MK-5108",
          "JAK inhibitor-ruxolitinib",
          "tricyclic antidepressant-dosulepin",
          "PARP inhibitor-niraparib",
          "BCL inhibitor-ABT-737",
          "inosine monophosphate dehydrogenase inhibitor-BMS-566419",
          "MEK inhibitor-selumetinib",
          "histone lysine methyltransferase inhibitor-UNC0642",
          "HDAC inhibitor-romidepsin",
          "HDAC inhibitor-RGFP966",
          "BCL inhibitor-venetoclax",
          "phosphodiesterase inhibitor-quazinone",
          "kinesin inhibitor-ispinesib",
          "CDK inhibitor-THZ1",
          "CDC inhibitor-KH-CB19",
          "RAF inhibitor-GDC-0879",
          "protein tyrosine kinase inhibitor-rheochrysidin",
          "MAP kinase inhibitor-FR-180204",
          "ER stressor (SERCA inhibitor)-Thapsigargin",
          "protein arginine N-methyltransferase inhibitor-EPZ015666",
          "Apoptosis inducer (transcription inhibitor)-DACTINOMYCIN",
          "phosphoinositide dependent kinase inhibitor-GSK2334470",
          "FGFR inhibitor-BLU9931",
          "DNA inhibitor-valrubicin",
          "smoothened receptor agonist-purmorphamine",
          "JNK inhibitor-BI-78D3",
          "CHK inhibitor-SCH-900776",
          "EGFR inhibitor-CP-724714",
          "androgen receptor modulator-andarine",
          "HMGCR inhibitor-rosuvastatin",
          "acetylcholine receptor antagonist-dimethindene-(S)-(+)",
          "p38 MAPK inhibitor-skepinone-l",
          "mTOR inhibitor-sirolimus",
          "EGFR inhibitor-neratinib",
          "HMGCR inhibitor-delta-Tocotrienol",
          "IGF-1 inhibitor-linsitinib",
          "protein arginine N-methyltransferase inhibitor-SGC-707",
          "Bcr-Abl kinase inhibitor-GNF-5",
          "MAP kinase inhibitor-PD-198306",
          "p38 MAPK inhibitor-VX-745",
          "ubiquitin specific protease inhibitor-ML-323",
          "beta-catenin inhibitor-ICG-001",
          "CDK inhibitor-AMG-925",
          "histone lysine demethylase inhibitor-GSK-J4",
          "hypoxia inducible factor inhibitor-IOX2",
          "androgen receptor modulator-PS178990",
          "mTOR inhibitor-AZD2014",
          "smoothened receptor agonist-SAG",
          "hypoxia inducible factor inhibitor-acriflavine"
         ],
         "name": "Saguaro and standard CP dyes",
         "type": "box",
         "y": [
          0.2620529832486354,
          0.187351741395859,
          0.1679112554112554,
          0.807936507936508,
          0.3463270815572605,
          0.2333037060978237,
          1,
          1,
          1,
          0.4303075396825396,
          0.2027149675659737,
          1,
          1,
          0.1605173163609696,
          1,
          0.4452876984126984,
          0.9791666666666666,
          0.2362660215601392,
          0.9333333333333332,
          0.1740594541910331,
          1,
          0.4176346801346801,
          1,
          1,
          0.4549428104575163,
          1,
          0.2388026783419837,
          0.8194444444444444,
          0.2118987493987494,
          0.2344467179993495,
          0.6081196581196581,
          0.5736971104231166,
          0.1194994719451241,
          1,
          1,
          0.5995791245791245,
          1,
          1,
          0.7492063492063492,
          1,
          0.9458333333333332,
          0.8694444444444445,
          0.6685606060606061,
          0.1523611618560467,
          1,
          0.7791666666666667,
          1,
          1,
          0.9513888888888888,
          1,
          0.9791666666666666,
          0.7857142857142857,
          0.1421207944949363,
          1,
          1,
          0.2284549890528151,
          0.9388888888888888,
          0.3158543771043771,
          0.2206763008233596,
          1,
          0.6657738095238095,
          1,
          1,
          1,
          1,
          0.9305555555555556,
          0.1981503666126428,
          1,
          0.6791666666666667,
          0.1915129153325747,
          0.2824490202779676,
          0.3229256854256854,
          0.7551587301587303,
          0.6826388888888888,
          0.7458333333333333,
          0.1433912017348549,
          1,
          0.2900373745322594,
          1,
          1,
          0.4858630952380952,
          0.9513888888888888,
          1,
          1,
          1,
          0.3258522727272727,
          0.1963753738210259,
          1,
          0.5130050505050504,
          1
         ]
        },
        {
         "boxpoints": "all",
         "hovertext": [
          "tumor necrosis factor production inhibitor-pomalidomide",
          "antihistamine-homochlorcyclizine",
          "acetylcholine receptor antagonist-orphenadrine",
          "pyruvate dehydrogenase kinase inhibitor-AZD7545",
          "protein tyrosine kinase inhibitor-SHP099",
          "antihistamine-hydroxyzine",
          "hepatocyte growth factor receptor inhibitor-SU-11274",
          "CHK inhibitor-PF-477736",
          "glycogen synthase kinase inhibitor-GSK-3-inhibitor-IX",
          "histone lysine methyltransferase inhibitor-A-366",
          "tumor necrosis factor production inhibitor-apratastat",
          "inosine monophosphate dehydrogenase inhibitor-merimepodib",
          "CDC inhibitor-BMS-863233",
          "PARP inhibitor-veliparib",
          "bromodomain inhibitor-PFI-1",
          "ubiquitin specific protease inhibitor-P5091",
          "glycogen synthase kinase inhibitor-CHIR-99021",
          "JAK inhibitor-filgotinib",
          "Apoptosis inducer (ATP-competitive kinase inhibitor)-Staurosporine",
          "hepatocyte growth factor receptor inhibitor-SGX523",
          "bromodomain inhibitor-CPI-0610",
          "MEK inhibitor-BIX-02188",
          "Aurora kinase inhibitor-AMG900",
          "LXR agonist-T-0901317",
          "phospholipase inhibitor-ML-298",
          "IGF-1 inhibitor-NVP-AEW541",
          "tricyclic antidepressant-maprotiline",
          "histone lysine demethylase inhibitor-ML324",
          "phosphodiesterase inhibitor-ketotifen",
          "beta-catenin inhibitor-PNU-74654",
          "JNK inhibitor-SU3327",
          "LXR agonist-GW-3965",
          "DNA inhibitor-carmustine",
          "kinesin inhibitor-filanesib",
          "phosphoinositide dependent kinase inhibitor-APY0201",
          "RAF inhibitor-GW-5074",
          "FGFR inhibitor-lenvatinib",
          "Bcr-Abl kinase inhibitor-ponatinib",
          "AMPK inhibitor-WZ4003",
          "pyruvate dehydrogenase kinase inhibitor-BX-912",
          "phospholipase inhibitor-halopemide",
          "Aurora kinase inhibitor-MK-5108",
          "JAK inhibitor-ruxolitinib",
          "tricyclic antidepressant-dosulepin",
          "PARP inhibitor-niraparib",
          "BCL inhibitor-ABT-737",
          "inosine monophosphate dehydrogenase inhibitor-BMS-566419",
          "MEK inhibitor-selumetinib",
          "histone lysine methyltransferase inhibitor-UNC0642",
          "HDAC inhibitor-romidepsin",
          "HDAC inhibitor-RGFP966",
          "BCL inhibitor-venetoclax",
          "phosphodiesterase inhibitor-quazinone",
          "kinesin inhibitor-ispinesib",
          "CDK inhibitor-THZ1",
          "CDC inhibitor-KH-CB19",
          "RAF inhibitor-GDC-0879",
          "protein tyrosine kinase inhibitor-rheochrysidin",
          "MAP kinase inhibitor-FR-180204",
          "ER stressor (SERCA inhibitor)-Thapsigargin",
          "protein arginine N-methyltransferase inhibitor-EPZ015666",
          "Apoptosis inducer (transcription inhibitor)-DACTINOMYCIN",
          "phosphoinositide dependent kinase inhibitor-GSK2334470",
          "FGFR inhibitor-BLU9931",
          "DNA inhibitor-valrubicin",
          "smoothened receptor agonist-purmorphamine",
          "JNK inhibitor-BI-78D3",
          "CHK inhibitor-SCH-900776",
          "EGFR inhibitor-CP-724714",
          "androgen receptor modulator-andarine",
          "HMGCR inhibitor-rosuvastatin",
          "acetylcholine receptor antagonist-dimethindene-(S)-(+)",
          "p38 MAPK inhibitor-skepinone-l",
          "mTOR inhibitor-sirolimus",
          "EGFR inhibitor-neratinib",
          "HMGCR inhibitor-delta-Tocotrienol",
          "IGF-1 inhibitor-linsitinib",
          "protein arginine N-methyltransferase inhibitor-SGC-707",
          "Bcr-Abl kinase inhibitor-GNF-5",
          "MAP kinase inhibitor-PD-198306",
          "p38 MAPK inhibitor-VX-745",
          "ubiquitin specific protease inhibitor-ML-323",
          "beta-catenin inhibitor-ICG-001",
          "CDK inhibitor-AMG-925",
          "histone lysine demethylase inhibitor-GSK-J4",
          "hypoxia inducible factor inhibitor-IOX2",
          "androgen receptor modulator-PS178990",
          "mTOR inhibitor-AZD2014",
          "smoothened receptor agonist-SAG",
          "hypoxia inducible factor inhibitor-acriflavine"
         ],
         "name": "Saguaro dyes",
         "type": "box",
         "y": [
          0.2978433431451166,
          1,
          0.5678571428571428,
          0.8222222222222222,
          0.8416666666666666,
          1,
          1,
          1,
          1,
          0.9055555555555556,
          0.1854065987618619,
          1,
          1,
          0.202776159026159,
          1,
          0.1287872190445719,
          1,
          0.4314484126984127,
          1,
          0.2953139195399257,
          1,
          1,
          1,
          1,
          1,
          1,
          1,
          0.9791666666666666,
          1,
          0.3976686507936507,
          0.1771228720956981,
          0.6229166666666667,
          0.1534194971694971,
          1,
          1,
          0.534967320261438,
          1,
          1,
          1,
          1,
          0.9097222222222222,
          0.8333333333333333,
          0.6407738095238096,
          1,
          1,
          1,
          1,
          0.7461309523809524,
          1,
          1,
          1,
          1,
          0.1342572324750276,
          1,
          0.825,
          0.5508928571428571,
          0.7947420634920634,
          0.8829365079365079,
          0.7944444444444444,
          1,
          0.9375,
          1,
          1,
          1,
          1,
          0.9097222222222222,
          0.1619550015202189,
          0.8833333333333334,
          0.8680555555555556,
          0.571031746031746,
          0.5554292929292929,
          1,
          0.7593253968253968,
          1,
          1,
          0.4575441919191919,
          1,
          0.32748778998779,
          0.7297619047619048,
          0.751984126984127,
          0.5547123015873016,
          0.9791666666666666,
          1,
          1,
          1,
          0.3054292929292929,
          0.1762871337599598,
          1,
          1,
          1
         ]
        }
       ],
       "layout": {
        "boxmode": "group",
        "font": {
         "color": "Black",
         "family": "Arial",
         "size": 14
        },
        "height": 1000,
        "template": {
         "data": {
          "bar": [
           {
            "error_x": {
             "color": "#2a3f5f"
            },
            "error_y": {
             "color": "#2a3f5f"
            },
            "marker": {
             "line": {
              "color": "#E5ECF6",
              "width": 0.5
             },
             "pattern": {
              "fillmode": "overlay",
              "size": 10,
              "solidity": 0.2
             }
            },
            "type": "bar"
           }
          ],
          "barpolar": [
           {
            "marker": {
             "line": {
              "color": "#E5ECF6",
              "width": 0.5
             },
             "pattern": {
              "fillmode": "overlay",
              "size": 10,
              "solidity": 0.2
             }
            },
            "type": "barpolar"
           }
          ],
          "carpet": [
           {
            "aaxis": {
             "endlinecolor": "#2a3f5f",
             "gridcolor": "white",
             "linecolor": "white",
             "minorgridcolor": "white",
             "startlinecolor": "#2a3f5f"
            },
            "baxis": {
             "endlinecolor": "#2a3f5f",
             "gridcolor": "white",
             "linecolor": "white",
             "minorgridcolor": "white",
             "startlinecolor": "#2a3f5f"
            },
            "type": "carpet"
           }
          ],
          "choropleth": [
           {
            "colorbar": {
             "outlinewidth": 0,
             "ticks": ""
            },
            "type": "choropleth"
           }
          ],
          "contour": [
           {
            "colorbar": {
             "outlinewidth": 0,
             "ticks": ""
            },
            "colorscale": [
             [
              0,
              "#0d0887"
             ],
             [
              0.1111111111111111,
              "#46039f"
             ],
             [
              0.2222222222222222,
              "#7201a8"
             ],
             [
              0.3333333333333333,
              "#9c179e"
             ],
             [
              0.4444444444444444,
              "#bd3786"
             ],
             [
              0.5555555555555556,
              "#d8576b"
             ],
             [
              0.6666666666666666,
              "#ed7953"
             ],
             [
              0.7777777777777778,
              "#fb9f3a"
             ],
             [
              0.8888888888888888,
              "#fdca26"
             ],
             [
              1,
              "#f0f921"
             ]
            ],
            "type": "contour"
           }
          ],
          "contourcarpet": [
           {
            "colorbar": {
             "outlinewidth": 0,
             "ticks": ""
            },
            "type": "contourcarpet"
           }
          ],
          "heatmap": [
           {
            "colorbar": {
             "outlinewidth": 0,
             "ticks": ""
            },
            "colorscale": [
             [
              0,
              "#0d0887"
             ],
             [
              0.1111111111111111,
              "#46039f"
             ],
             [
              0.2222222222222222,
              "#7201a8"
             ],
             [
              0.3333333333333333,
              "#9c179e"
             ],
             [
              0.4444444444444444,
              "#bd3786"
             ],
             [
              0.5555555555555556,
              "#d8576b"
             ],
             [
              0.6666666666666666,
              "#ed7953"
             ],
             [
              0.7777777777777778,
              "#fb9f3a"
             ],
             [
              0.8888888888888888,
              "#fdca26"
             ],
             [
              1,
              "#f0f921"
             ]
            ],
            "type": "heatmap"
           }
          ],
          "heatmapgl": [
           {
            "colorbar": {
             "outlinewidth": 0,
             "ticks": ""
            },
            "colorscale": [
             [
              0,
              "#0d0887"
             ],
             [
              0.1111111111111111,
              "#46039f"
             ],
             [
              0.2222222222222222,
              "#7201a8"
             ],
             [
              0.3333333333333333,
              "#9c179e"
             ],
             [
              0.4444444444444444,
              "#bd3786"
             ],
             [
              0.5555555555555556,
              "#d8576b"
             ],
             [
              0.6666666666666666,
              "#ed7953"
             ],
             [
              0.7777777777777778,
              "#fb9f3a"
             ],
             [
              0.8888888888888888,
              "#fdca26"
             ],
             [
              1,
              "#f0f921"
             ]
            ],
            "type": "heatmapgl"
           }
          ],
          "histogram": [
           {
            "marker": {
             "pattern": {
              "fillmode": "overlay",
              "size": 10,
              "solidity": 0.2
             }
            },
            "type": "histogram"
           }
          ],
          "histogram2d": [
           {
            "colorbar": {
             "outlinewidth": 0,
             "ticks": ""
            },
            "colorscale": [
             [
              0,
              "#0d0887"
             ],
             [
              0.1111111111111111,
              "#46039f"
             ],
             [
              0.2222222222222222,
              "#7201a8"
             ],
             [
              0.3333333333333333,
              "#9c179e"
             ],
             [
              0.4444444444444444,
              "#bd3786"
             ],
             [
              0.5555555555555556,
              "#d8576b"
             ],
             [
              0.6666666666666666,
              "#ed7953"
             ],
             [
              0.7777777777777778,
              "#fb9f3a"
             ],
             [
              0.8888888888888888,
              "#fdca26"
             ],
             [
              1,
              "#f0f921"
             ]
            ],
            "type": "histogram2d"
           }
          ],
          "histogram2dcontour": [
           {
            "colorbar": {
             "outlinewidth": 0,
             "ticks": ""
            },
            "colorscale": [
             [
              0,
              "#0d0887"
             ],
             [
              0.1111111111111111,
              "#46039f"
             ],
             [
              0.2222222222222222,
              "#7201a8"
             ],
             [
              0.3333333333333333,
              "#9c179e"
             ],
             [
              0.4444444444444444,
              "#bd3786"
             ],
             [
              0.5555555555555556,
              "#d8576b"
             ],
             [
              0.6666666666666666,
              "#ed7953"
             ],
             [
              0.7777777777777778,
              "#fb9f3a"
             ],
             [
              0.8888888888888888,
              "#fdca26"
             ],
             [
              1,
              "#f0f921"
             ]
            ],
            "type": "histogram2dcontour"
           }
          ],
          "mesh3d": [
           {
            "colorbar": {
             "outlinewidth": 0,
             "ticks": ""
            },
            "type": "mesh3d"
           }
          ],
          "parcoords": [
           {
            "line": {
             "colorbar": {
              "outlinewidth": 0,
              "ticks": ""
             }
            },
            "type": "parcoords"
           }
          ],
          "pie": [
           {
            "automargin": true,
            "type": "pie"
           }
          ],
          "scatter": [
           {
            "fillpattern": {
             "fillmode": "overlay",
             "size": 10,
             "solidity": 0.2
            },
            "type": "scatter"
           }
          ],
          "scatter3d": [
           {
            "line": {
             "colorbar": {
              "outlinewidth": 0,
              "ticks": ""
             }
            },
            "marker": {
             "colorbar": {
              "outlinewidth": 0,
              "ticks": ""
             }
            },
            "type": "scatter3d"
           }
          ],
          "scattercarpet": [
           {
            "marker": {
             "colorbar": {
              "outlinewidth": 0,
              "ticks": ""
             }
            },
            "type": "scattercarpet"
           }
          ],
          "scattergeo": [
           {
            "marker": {
             "colorbar": {
              "outlinewidth": 0,
              "ticks": ""
             }
            },
            "type": "scattergeo"
           }
          ],
          "scattergl": [
           {
            "marker": {
             "colorbar": {
              "outlinewidth": 0,
              "ticks": ""
             }
            },
            "type": "scattergl"
           }
          ],
          "scattermapbox": [
           {
            "marker": {
             "colorbar": {
              "outlinewidth": 0,
              "ticks": ""
             }
            },
            "type": "scattermapbox"
           }
          ],
          "scatterpolar": [
           {
            "marker": {
             "colorbar": {
              "outlinewidth": 0,
              "ticks": ""
             }
            },
            "type": "scatterpolar"
           }
          ],
          "scatterpolargl": [
           {
            "marker": {
             "colorbar": {
              "outlinewidth": 0,
              "ticks": ""
             }
            },
            "type": "scatterpolargl"
           }
          ],
          "scatterternary": [
           {
            "marker": {
             "colorbar": {
              "outlinewidth": 0,
              "ticks": ""
             }
            },
            "type": "scatterternary"
           }
          ],
          "surface": [
           {
            "colorbar": {
             "outlinewidth": 0,
             "ticks": ""
            },
            "colorscale": [
             [
              0,
              "#0d0887"
             ],
             [
              0.1111111111111111,
              "#46039f"
             ],
             [
              0.2222222222222222,
              "#7201a8"
             ],
             [
              0.3333333333333333,
              "#9c179e"
             ],
             [
              0.4444444444444444,
              "#bd3786"
             ],
             [
              0.5555555555555556,
              "#d8576b"
             ],
             [
              0.6666666666666666,
              "#ed7953"
             ],
             [
              0.7777777777777778,
              "#fb9f3a"
             ],
             [
              0.8888888888888888,
              "#fdca26"
             ],
             [
              1,
              "#f0f921"
             ]
            ],
            "type": "surface"
           }
          ],
          "table": [
           {
            "cells": {
             "fill": {
              "color": "#EBF0F8"
             },
             "line": {
              "color": "white"
             }
            },
            "header": {
             "fill": {
              "color": "#C8D4E3"
             },
             "line": {
              "color": "white"
             }
            },
            "type": "table"
           }
          ]
         },
         "layout": {
          "annotationdefaults": {
           "arrowcolor": "#2a3f5f",
           "arrowhead": 0,
           "arrowwidth": 1
          },
          "autotypenumbers": "strict",
          "coloraxis": {
           "colorbar": {
            "outlinewidth": 0,
            "ticks": ""
           }
          },
          "colorscale": {
           "diverging": [
            [
             0,
             "#8e0152"
            ],
            [
             0.1,
             "#c51b7d"
            ],
            [
             0.2,
             "#de77ae"
            ],
            [
             0.3,
             "#f1b6da"
            ],
            [
             0.4,
             "#fde0ef"
            ],
            [
             0.5,
             "#f7f7f7"
            ],
            [
             0.6,
             "#e6f5d0"
            ],
            [
             0.7,
             "#b8e186"
            ],
            [
             0.8,
             "#7fbc41"
            ],
            [
             0.9,
             "#4d9221"
            ],
            [
             1,
             "#276419"
            ]
           ],
           "sequential": [
            [
             0,
             "#0d0887"
            ],
            [
             0.1111111111111111,
             "#46039f"
            ],
            [
             0.2222222222222222,
             "#7201a8"
            ],
            [
             0.3333333333333333,
             "#9c179e"
            ],
            [
             0.4444444444444444,
             "#bd3786"
            ],
            [
             0.5555555555555556,
             "#d8576b"
            ],
            [
             0.6666666666666666,
             "#ed7953"
            ],
            [
             0.7777777777777778,
             "#fb9f3a"
            ],
            [
             0.8888888888888888,
             "#fdca26"
            ],
            [
             1,
             "#f0f921"
            ]
           ],
           "sequentialminus": [
            [
             0,
             "#0d0887"
            ],
            [
             0.1111111111111111,
             "#46039f"
            ],
            [
             0.2222222222222222,
             "#7201a8"
            ],
            [
             0.3333333333333333,
             "#9c179e"
            ],
            [
             0.4444444444444444,
             "#bd3786"
            ],
            [
             0.5555555555555556,
             "#d8576b"
            ],
            [
             0.6666666666666666,
             "#ed7953"
            ],
            [
             0.7777777777777778,
             "#fb9f3a"
            ],
            [
             0.8888888888888888,
             "#fdca26"
            ],
            [
             1,
             "#f0f921"
            ]
           ]
          },
          "colorway": [
           "#636efa",
           "#EF553B",
           "#00cc96",
           "#ab63fa",
           "#FFA15A",
           "#19d3f3",
           "#FF6692",
           "#B6E880",
           "#FF97FF",
           "#FECB52"
          ],
          "font": {
           "color": "#2a3f5f"
          },
          "geo": {
           "bgcolor": "white",
           "lakecolor": "white",
           "landcolor": "#E5ECF6",
           "showlakes": true,
           "showland": true,
           "subunitcolor": "white"
          },
          "hoverlabel": {
           "align": "left"
          },
          "hovermode": "closest",
          "mapbox": {
           "style": "light"
          },
          "paper_bgcolor": "white",
          "plot_bgcolor": "#E5ECF6",
          "polar": {
           "angularaxis": {
            "gridcolor": "white",
            "linecolor": "white",
            "ticks": ""
           },
           "bgcolor": "#E5ECF6",
           "radialaxis": {
            "gridcolor": "white",
            "linecolor": "white",
            "ticks": ""
           }
          },
          "scene": {
           "xaxis": {
            "backgroundcolor": "#E5ECF6",
            "gridcolor": "white",
            "gridwidth": 2,
            "linecolor": "white",
            "showbackground": true,
            "ticks": "",
            "zerolinecolor": "white"
           },
           "yaxis": {
            "backgroundcolor": "#E5ECF6",
            "gridcolor": "white",
            "gridwidth": 2,
            "linecolor": "white",
            "showbackground": true,
            "ticks": "",
            "zerolinecolor": "white"
           },
           "zaxis": {
            "backgroundcolor": "#E5ECF6",
            "gridcolor": "white",
            "gridwidth": 2,
            "linecolor": "white",
            "showbackground": true,
            "ticks": "",
            "zerolinecolor": "white"
           }
          },
          "shapedefaults": {
           "line": {
            "color": "#2a3f5f"
           }
          },
          "ternary": {
           "aaxis": {
            "gridcolor": "white",
            "linecolor": "white",
            "ticks": ""
           },
           "baxis": {
            "gridcolor": "white",
            "linecolor": "white",
            "ticks": ""
           },
           "bgcolor": "#E5ECF6",
           "caxis": {
            "gridcolor": "white",
            "linecolor": "white",
            "ticks": ""
           }
          },
          "title": {
           "x": 0.05
          },
          "xaxis": {
           "automargin": true,
           "gridcolor": "white",
           "linecolor": "white",
           "ticks": "",
           "title": {
            "standoff": 15
           },
           "zerolinecolor": "white",
           "zerolinewidth": 2
          },
          "yaxis": {
           "automargin": true,
           "gridcolor": "white",
           "linecolor": "white",
           "ticks": "",
           "title": {
            "standoff": 15
           },
           "zerolinecolor": "white",
           "zerolinewidth": 2
          }
         }
        },
        "width": 1000,
        "yaxis": {
         "title": {
          "text": "Mean average precision"
         }
        }
       }
      }
     },
     "metadata": {},
     "output_type": "display_data"
    }
   ],
   "source": [
    "combined_box_plot = go.Figure()\n",
    "\n",
    "combined_box_plot.add_trace(go.Box(y=combined_moa_50_46_47_df['average_precision_std'], name = 'Standard Cellpainting dyes', boxpoints='all', hovertext=combined_moa_50_46_47_df['MoA']+'-'+ combined_moa_50_46_47_df['Common Name']))\n",
    "combined_box_plot.add_trace(go.Box(y=combined_moa_50_46_47_df['average_precision_act'], name = 'Phalloidin 400LS', boxpoints='all', hovertext=combined_moa_50_46_47_df['MoA']+'-'+ combined_moa_50_46_47_df['Common Name']))\n",
    "combined_box_plot.add_trace(go.Box(y=combined_moa_50_46_47_df['average_precision_mito'], name = 'Tocris MitoBrilliant', boxpoints='all', hovertext=combined_moa_50_46_47_df['MoA']+'-'+ combined_moa_50_46_47_df['Common Name']))\n",
    "combined_box_plot.add_trace(go.Box(y=combined_moa_48_49_df['mean_average_precision_batch3'], name = 'Saguaro and standard CP dyes', boxpoints='all', hovertext=combined_moa_48_49_df['MoA']+'-'+ combined_moa_48_49_df['Common Name']))\n",
    "combined_box_plot.add_trace(go.Box(y=combined_moa_48_49_df['mean_average_precision_batch5'], name = 'Saguaro dyes', boxpoints='all', hovertext=combined_moa_48_49_df['MoA']+'-'+ combined_moa_48_49_df['Common Name']))\n",
    "\n",
    "combined_box_plot.update_layout(height=1000,width=1000, font_family='Arial', font=dict(size=14, color='Black'), boxmode='group',yaxis_title = 'Mean average precision')\n",
    "combined_box_plot.show('notebook')"
   ]
  },
  {
   "cell_type": "markdown",
   "metadata": {},
   "source": [
    "### Mean average precision values -  MoA\n",
    "\n",
    "The size of the markers represent the average number of cells present in the replicates. The number of cells were normalized by dividing the actual number by 100 for easier plotting. "
   ]
  },
  {
   "cell_type": "code",
   "execution_count": null,
   "metadata": {},
   "outputs": [],
   "source": [
    "scatter_plot = go.Figure()\n",
    "scatter_plot.add_trace(go.Scatter(x=combined_moa_cellcount_df['MoA'], y=combined_moa_cellcount_df['average_precision_std'],hovertext=[combined_moa_cellcount_df['Metadata_Count_Cells_Std']], mode='markers', name = 'Standard Cellpainting dyes', marker_size =combined_moa_cellcount_df['Metadata_Count_Cells_Std_norm'] ))\n",
    "scatter_plot.add_trace(go.Scatter(x=combined_moa_cellcount_df['MoA'], y=combined_moa_cellcount_df['average_precision_act'],hovertext=[combined_moa_cellcount_df['Metadata_Count_Cells_act']], mode='markers', name = 'Phalloidin 400LS', marker_size =combined_moa_cellcount_df['Metadata_Count_Cells_act_norm']))\n",
    "scatter_plot.update_layout(height=1000,width=1500, font_family='Arial', font=dict(size=14, color='Black'), boxmode='group',yaxis_title = 'Mean average precision',  legend=dict(yanchor=\"top\",y=0.99,xanchor=\"left\",x=0.01))\n",
    "scatter_plot.update_xaxes(tickangle=90, categoryorder='total ascending')\n",
    "scatter_plot.show('notebook')"
   ]
  }
 ],
 "metadata": {
  "kernelspec": {
   "display_name": "base",
   "language": "python",
   "name": "python3"
  },
  "language_info": {
   "codemirror_mode": {
    "name": "ipython",
    "version": 3
   },
   "file_extension": ".py",
   "mimetype": "text/x-python",
   "name": "python",
   "nbconvert_exporter": "python",
   "pygments_lexer": "ipython3",
   "version": "3.9.13"
  }
 },
 "nbformat": 4,
 "nbformat_minor": 2
}
