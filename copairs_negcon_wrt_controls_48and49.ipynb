{
 "cells": [
  {
   "cell_type": "markdown",
   "id": "87255350",
   "metadata": {
    "lines_to_next_cell": 0
   },
   "source": [
    "## Copairs\n",
    "* **Details of the analysis in this notebook:**\n",
    "* **Data from :** CDoT\n",
    "* **Plates compared:**\n",
    "    * BR00122248 -\n",
    "    * BR00122249 -\n",
    "* **Objective:** To understand the mAP of the plates stained with the new set of dyes.\n",
    "* **Normalization:** Negcon normalization\n",
    "* **mAP calculation:** mAP is calculated as difference to controls.\n",
    "\n",
    "import logging\n",
    "from pathlib import Path\n",
    "\n",
    "import numpy as np"
   ]
  },
  {
   "cell_type": "code",
   "execution_count": null,
   "id": "f681f8d9",
   "metadata": {},
   "outputs": [],
   "source": [
    "import pandas as pd\n",
    "from copairs.map import run_pipeline\n",
    "\n",
    "logging.basicConfig(format=\"%(levelname)s:%(asctime)s:%(name)s:%(message)s\")\n",
    "logging.getLogger(\"copairs\").setLevel(logging.INFO)"
   ]
  },
  {
   "cell_type": "code",
   "execution_count": null,
   "id": "e0d4799f",
   "metadata": {},
   "outputs": [],
   "source": [
    "### Reading the dataframe"
   ]
  },
  {
   "cell_type": "markdown",
   "id": "2c6b1826",
   "metadata": {
    "lines_to_next_cell": 0
   },
   "source": [
    "### Load batches"
   ]
  },
  {
   "cell_type": "code",
   "execution_count": null,
   "id": "61954c71",
   "metadata": {},
   "outputs": [],
   "source": [
    "\n",
    "names_batches = {\"batch3\": \"2023_05_17_Batch3\", \"batch5\": \"2023_08_02_Batch5\"}\n",
    "batches = {\n",
    "    name: pd.read_csv(\n",
    "        Path(\"gct\") / batch / f\"{batch}_normalized_feature_select_negcon_batch.csv.gz\"\n",
    "    )\n",
    "    for name, batch in names_batches.items()\n",
    "}"
   ]
  },
  {
   "cell_type": "markdown",
   "id": "60092851",
   "metadata": {},
   "source": [
    "### Analysis - Plate wise with respect to control DMSO wells\n",
    "#### Defining parameters to compute map"
   ]
  },
  {
   "cell_type": "code",
   "execution_count": null,
   "id": "09865bfd",
   "metadata": {},
   "outputs": [],
   "source": [
    "pert_col = \"Metadata_broad_sample\"\n",
    "control_col = \"Metadata_control_type\""
   ]
  },
  {
   "cell_type": "code",
   "execution_count": null,
   "id": "f9497922",
   "metadata": {},
   "outputs": [],
   "source": [
    "pos_sameby = [pert_col]\n",
    "pos_diffby = []\n",
    "\n",
    "neg_sameby = []\n",
    "neg_diffby = [control_col]\n",
    "null_size = 10000"
   ]
  },
  {
   "cell_type": "markdown",
   "id": "d8b4cbd7",
   "metadata": {},
   "source": [
    "### Batch 3 and 5\n"
   ]
  },
  {
   "cell_type": "code",
   "execution_count": null,
   "id": "eb414c2b",
   "metadata": {},
   "outputs": [],
   "source": [
    "copairs_dir = Path(\"copairs_csv\")\n",
    "aggregated = {}\n",
    "for name, batch in batches.items():\n",
    "    metadata_names = [c for c in batch.columns if c.startswith(\"Metadata\")]\n",
    "    feature_names = [c for c in batch.columns if not c.startswith(\"Metadata\")]\n",
    "    feats = batch[feature_names].values\n",
    "    dframe = batch[metadata_names]\n",
    "    dframe[control_col].fillna(\"trt\", inplace=True)\n",
    "    result = run_pipeline(\n",
    "        dframe, feats, pos_sameby, pos_diffby, neg_sameby, neg_diffby, null_size\n",
    "    )\n",
    "    result.to_csv(copairs_dir / f\"Result_Negcon_wrt_Controls_{name}.csv\")\n",
    "    from copairs.map import aggregate\n",
    "\n",
    "    aggregated[name] = aggregate(result, sameby=pos_sameby, threshold=0.05)\n",
    "    aggregated[name].to_csv(\n",
    "        copairs_dir / f\"Aggregate_result_Negcon_wrt_Controls_{name}.csv\"\n",
    "    )"
   ]
  },
  {
   "cell_type": "markdown",
   "id": "0f18e5e4",
   "metadata": {
    "lines_to_next_cell": 0
   },
   "source": [
    "#### Merge all results"
   ]
  },
  {
   "cell_type": "code",
   "execution_count": null,
   "id": "eaa3ef11",
   "metadata": {
    "lines_to_next_cell": 0
   },
   "outputs": [],
   "source": [
    "\n",
    "combined_df = pd.merge(\n",
    "    *aggregated.values(),\n",
    "    on=\"Metadata_broad_sample\",\n",
    "    suffixes=[f\"_{batch}\" for batch in aggregated.keys()],\n",
    ")"
   ]
  },
  {
   "cell_type": "code",
   "execution_count": null,
   "id": "0ae20a02",
   "metadata": {
    "lines_to_next_cell": 2
   },
   "outputs": [],
   "source": [
    "moa_metadata = pd.read_csv(copairs_dir / \"LC00009948_MoA_Common_Names.csv\")\n",
    "moa_metadata = moa_metadata.rename(columns={\"BRD with batch\": \"Metadata_broad_sample\"})"
   ]
  },
  {
   "cell_type": "markdown",
   "id": "9263c7bf",
   "metadata": {
    "lines_to_next_cell": 2
   },
   "source": [
    "##### Extracting BRD ID from BROAD sample name"
   ]
  },
  {
   "cell_type": "code",
   "execution_count": null,
   "id": "f5d428f3",
   "metadata": {},
   "outputs": [],
   "source": [
    "def BRD_ID(i):\n",
    "    if type(i) != float:\n",
    "        ID = i.split(\"-\")\n",
    "        return ID[1]"
   ]
  },
  {
   "cell_type": "code",
   "execution_count": null,
   "id": "ea0c3196",
   "metadata": {},
   "outputs": [],
   "source": [
    "combined_df[\"BRD ID\"] = combined_df[\"Metadata_broad_sample\"].map(BRD_ID)\n",
    "combined_moa_df = pd.merge(combined_df, moa_metadata, on=\"BRD ID\")"
   ]
  },
  {
   "cell_type": "markdown",
   "id": "7cd520dc",
   "metadata": {},
   "source": [
    "### Generating columns for difference in mAP"
   ]
  },
  {
   "cell_type": "code",
   "execution_count": null,
   "id": "d28e440e",
   "metadata": {},
   "outputs": [],
   "source": [
    "\n",
    "combined_moa_df[\"batch3_vs_batch5\"] = (\n",
    "    combined_moa_df[\"mean_average_precision_batch3\"]\n",
    "    - combined_moa_df[\"mean_average_precision_batch5\"]\n",
    ")"
   ]
  },
  {
   "cell_type": "code",
   "execution_count": null,
   "id": "22bfd61d",
   "metadata": {},
   "outputs": [],
   "source": [
    "combined_moa_df.to_csv(\n",
    "    copairs_dir / \"PrecisionValues_with_MoA_allplates_Negcon_wrt_Controls.csv\"\n",
    ")"
   ]
  }
 ],
 "metadata": {
  "kernelspec": {
   "display_name": "base",
   "language": "python",
   "name": "python3"
  }
 },
 "nbformat": 4,
 "nbformat_minor": 5
}
