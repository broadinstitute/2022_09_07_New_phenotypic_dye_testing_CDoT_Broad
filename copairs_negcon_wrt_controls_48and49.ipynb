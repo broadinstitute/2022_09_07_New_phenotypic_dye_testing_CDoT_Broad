{
 "cells": [
  {
   "cell_type": "markdown",
   "metadata": {},
   "source": [
    "## Copairs \n",
    "* **Details of the analysis in this notebook:**\n",
    "* **Data from :** CDoT\n",
    "* **Plates compared:**  \n",
    "    * BR00122248 - \n",
    "    * BR00122249 - \n",
    "* **Objective:** To understand the mAP of the plates stained with the new set of dyes.  \n",
    "* **Normalization:** Negcon normalization \n",
    "* **mAP calculation:** mAP is calculated as difference to controls."
   ]
  },
  {
   "cell_type": "code",
   "execution_count": 2,
   "metadata": {},
   "outputs": [],
   "source": [
    "import pandas as pd\n",
    "from copairs.map import run_pipeline\n",
    "import numpy as np\n",
    "\n",
    "import logging\n",
    "logging.basicConfig(format='%(levelname)s:%(asctime)s:%(name)s:%(message)s')\n",
    "logging.getLogger(\"copairs\").setLevel(logging.INFO)"
   ]
  },
  {
   "cell_type": "code",
   "execution_count": 2,
   "metadata": {},
   "outputs": [],
   "source": [
    "### Reading the dataframe "
   ]
  },
  {
   "cell_type": "code",
   "execution_count": 9,
   "metadata": {},
   "outputs": [],
   "source": [
    "batch = pd.read_csv('gct\\\\2023_05_17_Batch3\\\\2023_05_17_Batch3_normalized_feature_select_negcon_batch.csv.gz')"
   ]
  },
  {
   "cell_type": "code",
   "execution_count": 10,
   "metadata": {},
   "outputs": [],
   "source": [
    "batch5_negcon_df = pd.read_csv('gct\\\\2023_08_02_Batch5\\\\2023_08_02_Batch5_normalized_feature_select_negcon_batch.csv.gz')"
   ]
  },
  {
   "cell_type": "markdown",
   "metadata": {},
   "source": [
    "### Analysis - Plate wise with respect to control DMSO wells\n",
    "#### Defining parameters to compute map "
   ]
  },
  {
   "cell_type": "code",
   "execution_count": 5,
   "metadata": {},
   "outputs": [],
   "source": [
    "pert_col = 'Metadata_broad_sample'\n",
    "control_col = 'Metadata_control_type'"
   ]
  },
  {
   "cell_type": "code",
   "execution_count": 6,
   "metadata": {},
   "outputs": [],
   "source": [
    "pos_sameby = [pert_col]\n",
    "pos_diffby = []\n",
    "\n",
    "neg_sameby = []\n",
    "neg_diffby = [control_col]\n",
    "null_size =10000"
   ]
  },
  {
   "cell_type": "markdown",
   "metadata": {},
   "source": [
    "### Batch 3 and 5\n"
   ]
  },
  {
   "cell_type": "code",
   "execution_count": 17,
   "metadata": {},
   "outputs": [
    {
     "name": "stderr",
     "output_type": "stream",
     "text": [
      "C:\\Users\\ssivagur\\AppData\\Local\\Temp\\ipykernel_20492\\2991901301.py:6: SettingWithCopyWarning: \n",
      "A value is trying to be set on a copy of a slice from a DataFrame\n",
      "\n",
      "See the caveats in the documentation: https://pandas.pydata.org/pandas-docs/stable/user_guide/indexing.html#returning-a-view-versus-a-copy\n",
      "  dframe_std[control_col].fillna('trt', inplace=True)\n",
      "INFO:2023-10-19 09:42:13,368:copairs:Indexing metadata...\n",
      "INFO:2023-10-19 09:42:13,375:copairs:Finding positive pairs...\n",
      "INFO:2023-10-19 09:42:13,377:copairs:dropping dups...\n",
      "INFO:2023-10-19 09:42:13,379:copairs:Finding negative pairs...\n",
      "INFO:2023-10-19 09:42:13,400:copairs:dropping dups...\n",
      "INFO:2023-10-19 09:42:13,408:copairs:Computing positive similarities...\n"
     ]
    },
    {
     "data": {
      "application/vnd.jupyter.widget-view+json": {
       "model_id": "bb3662af441e4884a8ff1b16a2b1981e",
       "version_major": 2,
       "version_minor": 0
      },
      "text/plain": [
       "  0%|          | 0/1 [00:00<?, ?it/s]"
      ]
     },
     "metadata": {},
     "output_type": "display_data"
    },
    {
     "name": "stderr",
     "output_type": "stream",
     "text": [
      "INFO:2023-10-19 09:42:14,021:copairs:Computing negative similarities...\n"
     ]
    },
    {
     "data": {
      "application/vnd.jupyter.widget-view+json": {
       "model_id": "055b05a3c86f4d69af4a12d79c07c08d",
       "version_major": 2,
       "version_minor": 0
      },
      "text/plain": [
       "  0%|          | 0/1 [00:00<?, ?it/s]"
      ]
     },
     "metadata": {},
     "output_type": "display_data"
    },
    {
     "name": "stderr",
     "output_type": "stream",
     "text": [
      "INFO:2023-10-19 09:42:14,714:copairs:Building rank lists...\n",
      "INFO:2023-10-19 09:42:14,735:copairs:Computing average precision...\n",
      "INFO:2023-10-19 09:42:14,744:copairs:Computing null distributions...\n",
      "INFO:2023-10-19 09:42:15,612:copairs:Computing P-values...\n",
      "INFO:2023-10-19 09:42:15,618:copairs:Creating result DataFrame...\n",
      "INFO:2023-10-19 09:42:15,621:copairs:Finished.\n",
      "C:\\Users\\ssivagur\\AppData\\Local\\Temp\\ipykernel_20492\\2991901301.py:6: SettingWithCopyWarning: \n",
      "A value is trying to be set on a copy of a slice from a DataFrame\n",
      "\n",
      "See the caveats in the documentation: https://pandas.pydata.org/pandas-docs/stable/user_guide/indexing.html#returning-a-view-versus-a-copy\n",
      "  dframe_std[control_col].fillna('trt', inplace=True)\n",
      "INFO:2023-10-19 09:42:15,651:copairs:Indexing metadata...\n",
      "INFO:2023-10-19 09:42:15,657:copairs:Finding positive pairs...\n",
      "INFO:2023-10-19 09:42:15,658:copairs:dropping dups...\n",
      "INFO:2023-10-19 09:42:15,660:copairs:Finding negative pairs...\n",
      "INFO:2023-10-19 09:42:15,678:copairs:dropping dups...\n",
      "INFO:2023-10-19 09:42:15,685:copairs:Computing positive similarities...\n"
     ]
    },
    {
     "data": {
      "application/vnd.jupyter.widget-view+json": {
       "model_id": "5f0ad5753ed24706928330eccc3d8a0c",
       "version_major": 2,
       "version_minor": 0
      },
      "text/plain": [
       "  0%|          | 0/1 [00:00<?, ?it/s]"
      ]
     },
     "metadata": {},
     "output_type": "display_data"
    },
    {
     "name": "stderr",
     "output_type": "stream",
     "text": [
      "INFO:2023-10-19 09:42:16,275:copairs:Computing negative similarities...\n"
     ]
    },
    {
     "data": {
      "application/vnd.jupyter.widget-view+json": {
       "model_id": "400b9383dada4b0ca2471dcc9812534d",
       "version_major": 2,
       "version_minor": 0
      },
      "text/plain": [
       "  0%|          | 0/1 [00:00<?, ?it/s]"
      ]
     },
     "metadata": {},
     "output_type": "display_data"
    },
    {
     "name": "stderr",
     "output_type": "stream",
     "text": [
      "INFO:2023-10-19 09:42:17,048:copairs:Building rank lists...\n",
      "INFO:2023-10-19 09:42:17,071:copairs:Computing average precision...\n",
      "INFO:2023-10-19 09:42:17,078:copairs:Computing null distributions...\n",
      "INFO:2023-10-19 09:42:17,994:copairs:Computing P-values...\n",
      "INFO:2023-10-19 09:42:18,002:copairs:Creating result DataFrame...\n",
      "INFO:2023-10-19 09:42:18,004:copairs:Finished.\n"
     ]
    }
   ],
   "source": [
    "for name, batch in zip((\"batch3\", \"batch5\"),(batch3_negcon_df, batch5_negcon_df)):\n",
    "    metadata_names_std = [c for c in batch.columns if c.startswith('Metadata')]\n",
    "    feature_names_std = [c for c in batch.columns if not c.startswith('Metadata')]\n",
    "    feats_std = batch[feature_names_std].values\n",
    "    dframe_std = batch[metadata_names_std]\n",
    "    dframe_std[control_col].fillna('trt', inplace=True)\n",
    "    result_std = run_pipeline(dframe_std, feats_std, \n",
    "                            pos_sameby, pos_diffby,\n",
    "                            neg_sameby, neg_diffby,\n",
    "                            null_size)\n",
    "    result_std.to_csv(f'copairs_csv\\\\Result_Negcon_wrt_Controls_{name}.csv')\n",
    "    from copairs.map import aggregate\n",
    "    agg_result_std = aggregate(result_std, sameby=pos_sameby, threshold=0.05)\n",
    "    agg_result_std.to_csv(f'copairs_csv\\\\Aggregate_result_Negcon_wrt_Controls_{name}.csv')"
   ]
  },
  {
   "cell_type": "markdown",
   "metadata": {},
   "source": [
    "#### Mito data "
   ]
  },
  {
   "cell_type": "code",
   "execution_count": null,
   "metadata": {},
   "outputs": [],
   "source": [
    "metadata_names_mito = [ c for c in mito_negcon_df.columns if c.startswith('Metadata')]\n",
    "feature_names_mito = [c for c in mito_negcon_df.columns if not c.startswith('Metadata')]\n",
    "feats_mito = mito_negcon_df[feature_names_mito].values\n",
    "dframe_mito = mito_negcon_df[metadata_names_mito]"
   ]
  },
  {
   "cell_type": "code",
   "execution_count": null,
   "metadata": {},
   "outputs": [
    {
     "name": "stderr",
     "output_type": "stream",
     "text": [
      "C:\\Users\\ssivagur\\AppData\\Local\\Temp\\ipykernel_30596\\4093336437.py:1: SettingWithCopyWarning: \n",
      "A value is trying to be set on a copy of a slice from a DataFrame\n",
      "\n",
      "See the caveats in the documentation: https://pandas.pydata.org/pandas-docs/stable/user_guide/indexing.html#returning-a-view-versus-a-copy\n",
      "  dframe_mito[control_col].fillna('trt', inplace=True)\n"
     ]
    }
   ],
   "source": [
    "dframe_mito[control_col].fillna('trt', inplace=True)"
   ]
  },
  {
   "cell_type": "code",
   "execution_count": null,
   "metadata": {},
   "outputs": [
    {
     "name": "stderr",
     "output_type": "stream",
     "text": [
      "INFO:2023-07-14 12:17:36,763:copairs:Indexing metadata...\n",
      "INFO:2023-07-14 12:17:36,776:copairs:Finding positive pairs...\n",
      "INFO:2023-07-14 12:17:36,777:copairs:dropping dups...\n",
      "INFO:2023-07-14 12:17:36,781:copairs:Finding negative pairs...\n",
      "INFO:2023-07-14 12:17:36,804:copairs:dropping dups...\n",
      "INFO:2023-07-14 12:17:36,815:copairs:Computing positive similarities...\n"
     ]
    },
    {
     "data": {
      "application/vnd.jupyter.widget-view+json": {
       "model_id": "a167e2f7b134417e9f7f876b435312f5",
       "version_major": 2,
       "version_minor": 0
      },
      "text/plain": [
       "  0%|          | 0/1 [00:00<?, ?it/s]"
      ]
     },
     "metadata": {},
     "output_type": "display_data"
    },
    {
     "name": "stderr",
     "output_type": "stream",
     "text": [
      "INFO:2023-07-14 12:17:37,633:copairs:Computing negative similarities...\n"
     ]
    },
    {
     "data": {
      "application/vnd.jupyter.widget-view+json": {
       "model_id": "74faa44cfc01403e8b3e1a6ff6549ac4",
       "version_major": 2,
       "version_minor": 0
      },
      "text/plain": [
       "  0%|          | 0/1 [00:00<?, ?it/s]"
      ]
     },
     "metadata": {},
     "output_type": "display_data"
    },
    {
     "name": "stderr",
     "output_type": "stream",
     "text": [
      "INFO:2023-07-14 12:17:38,557:copairs:Building rank lists...\n",
      "INFO:2023-07-14 12:17:38,589:copairs:Computing average precision...\n",
      "INFO:2023-07-14 12:17:38,597:copairs:Computing null distributions...\n",
      "INFO:2023-07-14 12:17:39,725:copairs:Computing P-values...\n",
      "INFO:2023-07-14 12:17:39,733:copairs:Creating result DataFrame...\n",
      "INFO:2023-07-14 12:17:39,733:copairs:Finished.\n"
     ]
    }
   ],
   "source": [
    "result_mito = run_pipeline(dframe_mito, feats_mito,\n",
    "                           pos_sameby, pos_diffby,\n",
    "                           neg_sameby, neg_diffby,\n",
    "                           null_size)"
   ]
  },
  {
   "cell_type": "code",
   "execution_count": null,
   "metadata": {},
   "outputs": [],
   "source": [
    "result_mito.to_csv('copairs_csv\\\\Result_Negcon_wrt_Controls_Tocris_mitobrilliant.csv')"
   ]
  },
  {
   "cell_type": "code",
   "execution_count": null,
   "metadata": {},
   "outputs": [],
   "source": [
    "agg_result_mito = aggregate(result_mito, sameby=pos_sameby, threshold=0.05)\n",
    "agg_result_mito.to_csv('copairs_csv\\\\Aggregate_result_Negcon_wrt_Controls_Tocris_Mitobrilliant.csv')"
   ]
  },
  {
   "cell_type": "markdown",
   "metadata": {},
   "source": [
    "#### Batch2 - Long stoke shifted actin "
   ]
  },
  {
   "cell_type": "code",
   "execution_count": null,
   "metadata": {},
   "outputs": [],
   "source": [
    "metadata_names_act = [c for c in batch2_negcon_df.columns if c.startswith('Metadata')]\n",
    "feature_names_act = [ c for c in batch2_negcon_df.columns if not c.startswith('Metadata')]\n",
    "feats_act = batch2_negcon_df[feature_names_act].values\n",
    "dframe_act = batch2_negcon_df[metadata_names_act]"
   ]
  },
  {
   "cell_type": "code",
   "execution_count": null,
   "metadata": {},
   "outputs": [
    {
     "name": "stderr",
     "output_type": "stream",
     "text": [
      "C:\\Users\\ssivagur\\AppData\\Local\\Temp\\ipykernel_30596\\4240195735.py:1: SettingWithCopyWarning: \n",
      "A value is trying to be set on a copy of a slice from a DataFrame\n",
      "\n",
      "See the caveats in the documentation: https://pandas.pydata.org/pandas-docs/stable/user_guide/indexing.html#returning-a-view-versus-a-copy\n",
      "  dframe_act[control_col].fillna('trt', inplace=True)\n"
     ]
    }
   ],
   "source": [
    "dframe_act[control_col].fillna('trt', inplace=True)"
   ]
  },
  {
   "cell_type": "code",
   "execution_count": null,
   "metadata": {},
   "outputs": [
    {
     "name": "stderr",
     "output_type": "stream",
     "text": [
      "INFO:2023-07-14 12:20:25,241:copairs:Indexing metadata...\n",
      "INFO:2023-07-14 12:20:25,254:copairs:Finding positive pairs...\n",
      "INFO:2023-07-14 12:20:25,256:copairs:dropping dups...\n",
      "INFO:2023-07-14 12:20:25,261:copairs:Finding negative pairs...\n",
      "INFO:2023-07-14 12:20:25,284:copairs:dropping dups...\n",
      "INFO:2023-07-14 12:20:25,297:copairs:Computing positive similarities...\n"
     ]
    },
    {
     "data": {
      "application/vnd.jupyter.widget-view+json": {
       "model_id": "0cd9e495be7747a88da46a6c87f8c8dc",
       "version_major": 2,
       "version_minor": 0
      },
      "text/plain": [
       "  0%|          | 0/1 [00:00<?, ?it/s]"
      ]
     },
     "metadata": {},
     "output_type": "display_data"
    },
    {
     "name": "stderr",
     "output_type": "stream",
     "text": [
      "INFO:2023-07-14 12:20:26,145:copairs:Computing negative similarities...\n"
     ]
    },
    {
     "data": {
      "application/vnd.jupyter.widget-view+json": {
       "model_id": "a2a5d61cadbc43c59c8b19b96d1898f6",
       "version_major": 2,
       "version_minor": 0
      },
      "text/plain": [
       "  0%|          | 0/1 [00:00<?, ?it/s]"
      ]
     },
     "metadata": {},
     "output_type": "display_data"
    },
    {
     "name": "stderr",
     "output_type": "stream",
     "text": [
      "INFO:2023-07-14 12:20:27,088:copairs:Building rank lists...\n",
      "INFO:2023-07-14 12:20:27,120:copairs:Computing average precision...\n",
      "INFO:2023-07-14 12:20:27,127:copairs:Computing null distributions...\n",
      "INFO:2023-07-14 12:20:28,182:copairs:Computing P-values...\n",
      "INFO:2023-07-14 12:20:28,191:copairs:Creating result DataFrame...\n",
      "INFO:2023-07-14 12:20:28,191:copairs:Finished.\n"
     ]
    }
   ],
   "source": [
    "result_act = run_pipeline(dframe_act, feats_act,\n",
    "                          pos_sameby, pos_diffby, \n",
    "                          neg_sameby, neg_diffby,\n",
    "                          null_size)"
   ]
  },
  {
   "cell_type": "code",
   "execution_count": null,
   "metadata": {},
   "outputs": [],
   "source": [
    "result_act.to_csv('copairs_csv\\\\Result_Negcon_wrt_Controls_Phalloidin400LS.csv')"
   ]
  },
  {
   "cell_type": "code",
   "execution_count": null,
   "metadata": {},
   "outputs": [],
   "source": [
    "agg_result_act = aggregate(result_act, sameby=pos_sameby, threshold=0.05)\n",
    "agg_result_act.to_csv('copairs_csv\\\\Aggregate_result_Negcon_wrt_Controls_Phalloidin400LS.csv')"
   ]
  },
  {
   "cell_type": "markdown",
   "metadata": {},
   "source": [
    "#### Combining all the aggregated results for easier plotting "
   ]
  },
  {
   "cell_type": "code",
   "execution_count": null,
   "metadata": {},
   "outputs": [],
   "source": [
    "agg_result_std = agg_result_std.rename(columns = {'average_precision': 'average_precision_std'})\n",
    "agg_result_mito = agg_result_mito.rename(columns = {'average_precision':'average_precision_mito'})\n",
    "agg_result_act = agg_result_act.rename(columns = {'average_precision':'average_precision_act'})"
   ]
  },
  {
   "cell_type": "code",
   "execution_count": null,
   "metadata": {},
   "outputs": [],
   "source": [
    "agg_result_std_subset = agg_result_std[['Metadata_broad_sample', 'average_precision_std']]\n",
    "agg_result_mito_subset = agg_result_mito[['Metadata_broad_sample', 'average_precision_mito']]\n",
    "agg_result_act_subset = agg_result_act[['Metadata_broad_sample', 'average_precision_act']]"
   ]
  },
  {
   "cell_type": "code",
   "execution_count": null,
   "metadata": {},
   "outputs": [],
   "source": [
    "combined_df = pd.merge(agg_result_std_subset, agg_result_mito_subset, on='Metadata_broad_sample')\n",
    "combined_df  =pd.merge(combined_df,agg_result_act_subset, on='Metadata_broad_sample')"
   ]
  },
  {
   "cell_type": "markdown",
   "metadata": {},
   "source": [
    "#### Adding metadata information to the combined_df \n"
   ]
  },
  {
   "cell_type": "code",
   "execution_count": null,
   "metadata": {},
   "outputs": [],
   "source": [
    "moa_metadata = pd.read_csv('copairs_csv\\\\LC00009948_MoA_Common_Names.csv')\n",
    "moa_metadata = moa_metadata.rename(columns = {'BRD with batch':'Metadata_broad_sample'})"
   ]
  },
  {
   "cell_type": "markdown",
   "metadata": {},
   "source": [
    "##### Extracting BRD ID from BROAD sample name "
   ]
  },
  {
   "cell_type": "code",
   "execution_count": null,
   "metadata": {},
   "outputs": [],
   "source": [
    "def BRD_ID(i):\n",
    "    if type(i) != float:\n",
    "        ID = i.split('-')\n",
    "        return ID[1]"
   ]
  },
  {
   "cell_type": "code",
   "execution_count": null,
   "metadata": {},
   "outputs": [],
   "source": [
    "combined_df['BRD ID'] = combined_df['Metadata_broad_sample'].map(BRD_ID)\n",
    "combined_moa_df = pd.merge(combined_df,moa_metadata, on = 'BRD ID')"
   ]
  },
  {
   "cell_type": "markdown",
   "metadata": {},
   "source": [
    "### Generating columns for difference in mAP"
   ]
  },
  {
   "cell_type": "code",
   "execution_count": null,
   "metadata": {},
   "outputs": [],
   "source": [
    " \n",
    "combined_moa_df['std_vs_act'] = combined_moa_df['average_precision_std'] - combined_moa_df['average_precision_act']\n",
    "combined_moa_df['std_vs_mito'] = combined_moa_df['average_precision_std'] - combined_moa_df['average_precision_mito']\n"
   ]
  },
  {
   "cell_type": "code",
   "execution_count": null,
   "metadata": {},
   "outputs": [],
   "source": [
    "combined_moa_df.to_csv('copairs_csv\\\\PrecisionValues_with_MoA_allplates_Negcon_wrt_Controls.csv')"
   ]
  }
 ],
 "metadata": {
  "kernelspec": {
   "display_name": "base",
   "language": "python",
   "name": "python3"
  },
  "language_info": {
   "codemirror_mode": {
    "name": "ipython",
    "version": 3
   },
   "file_extension": ".py",
   "mimetype": "text/x-python",
   "name": "python",
   "nbconvert_exporter": "python",
   "pygments_lexer": "ipython3",
   "version": "3.9.13"
  }
 },
 "nbformat": 4,
 "nbformat_minor": 2
}
