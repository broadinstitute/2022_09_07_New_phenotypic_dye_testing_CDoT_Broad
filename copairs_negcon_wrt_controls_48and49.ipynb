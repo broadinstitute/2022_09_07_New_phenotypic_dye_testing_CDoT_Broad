{
 "cells": [
  {
   "cell_type": "markdown",
   "id": "cd2dc860",
   "metadata": {},
   "source": [
    "## Copairs\n",
    "* **Details of the analysis in this notebook:**\n",
    "* **Data from :** CDoT\n",
    "* **Plates compared:**\n",
    "    * BR00122248 -\n",
    "    * BR00122249 -\n",
    "* **Objective:** To understand the mAP of the plates stained with the new set of dyes.\n",
    "* **Normalization:** Negcon normalization\n",
    "* **mAP calculation:** mAP is calculated as difference to controls."
   ]
  },
  {
   "cell_type": "code",
   "execution_count": null,
   "id": "d3d807b7",
   "metadata": {},
   "outputs": [],
   "source": [
    "import logging\n",
    "from pathlib import Path\n",
    "\n",
    "import numpy as np\n",
    "import pandas as pd\n",
    "from copairs.map import run_pipeline\n",
    "\n",
    "logging.basicConfig(format=\"%(levelname)s:%(asctime)s:%(name)s:%(message)s\")\n",
    "logging.getLogger(\"copairs\").setLevel(logging.INFO)"
   ]
  },
  {
   "cell_type": "code",
   "execution_count": null,
   "id": "ccbd35fa",
   "metadata": {},
   "outputs": [],
   "source": [
    "### Reading the dataframe"
   ]
  },
  {
   "cell_type": "markdown",
   "id": "5a0aed19",
   "metadata": {
    "lines_to_next_cell": 0
   },
   "source": [
    "### Load batches"
   ]
  },
  {
   "cell_type": "code",
   "execution_count": null,
   "id": "340e121e",
   "metadata": {},
   "outputs": [],
   "source": [
    "\n",
    "names_batches = {\"batch3\": \"2023_05_17_Batch3\", \"batch5\": \"2023_08_02_Batch5\"}\n",
    "batches = {\n",
    "    name: pd.read_csv(\n",
    "        Path(\"gct\") / batch / f\"{batch}_normalized_feature_select_negcon_batch.csv.gz\"\n",
    "    )\n",
    "    for name, batch in names_batches.items()\n",
    "}"
   ]
  },
  {
   "cell_type": "markdown",
   "id": "5098750a",
   "metadata": {},
   "source": [
    "### Analysis - Plate wise with respect to control DMSO wells\n",
    "#### Defining parameters to compute map"
   ]
  },
  {
   "cell_type": "code",
   "execution_count": null,
   "id": "b9eba709",
   "metadata": {},
   "outputs": [],
   "source": [
    "pert_col = \"Metadata_broad_sample\"\n",
    "control_col = \"Metadata_control_type\""
   ]
  },
  {
   "cell_type": "code",
   "execution_count": null,
   "id": "0ff35344",
   "metadata": {},
   "outputs": [],
   "source": [
    "pos_sameby = [pert_col]\n",
    "pos_diffby = []\n",
    "\n",
    "neg_sameby = []\n",
    "neg_diffby = [control_col]\n",
    "null_size = 10000"
   ]
  },
  {
   "cell_type": "markdown",
   "id": "cd201f27",
   "metadata": {},
   "source": [
    "### Batch 3 and 5\n"
   ]
  },
  {
   "cell_type": "code",
   "execution_count": null,
   "id": "99adde5c",
   "metadata": {},
   "outputs": [],
   "source": [
    "copairs_dir = Path(\"copairs_csv\")\n",
    "aggregated = {}\n",
    "for name, batch in batches.items():\n",
    "    metadata_names = [c for c in batch.columns if c.startswith(\"Metadata\")]\n",
    "    feature_names = [c for c in batch.columns if not c.startswith(\"Metadata\")]\n",
    "    if name == \"batch5\":  # Remove DNA (Hoecht) features for the Saguaro plate\n",
    "        feature_names = [\n",
    "            x for x in feature_names if \"_DNA_\" not in x and not x.endswith(\"_DNA\")\n",
    "        ]\n",
    "    feats = batch[feature_names].values\n",
    "    dframe = batch[metadata_names]\n",
    "    dframe[control_col].fillna(\"trt\", inplace=True)\n",
    "    result = run_pipeline(\n",
    "        dframe, feats, pos_sameby, pos_diffby, neg_sameby, neg_diffby, null_size\n",
    "    )\n",
    "    result.to_csv(copairs_dir / f\"Result_Negcon_wrt_Controls_{name}.csv\")\n",
    "    from copairs.map import aggregate\n",
    "\n",
    "    aggregated[name] = aggregate(result, sameby=pos_sameby, threshold=0.05)\n",
    "    aggregated[name].to_csv(\n",
    "        copairs_dir / f\"Aggregate_result_Negcon_wrt_Controls_{name}.csv\"\n",
    "    )"
   ]
  },
  {
   "cell_type": "markdown",
   "id": "1281b7c2",
   "metadata": {
    "lines_to_next_cell": 0
   },
   "source": [
    "#### Merge all results"
   ]
  },
  {
   "cell_type": "code",
   "execution_count": null,
   "id": "42dbc9f7",
   "metadata": {
    "lines_to_next_cell": 0
   },
   "outputs": [],
   "source": [
    "\n",
    "combined_df = pd.merge(\n",
    "    *aggregated.values(),\n",
    "    on=\"Metadata_broad_sample\",\n",
    "    suffixes=[f\"_{batch}\" for batch in aggregated.keys()],\n",
    ")"
   ]
  },
  {
   "cell_type": "code",
   "execution_count": null,
   "id": "376e73d3",
   "metadata": {
    "lines_to_next_cell": 2
   },
   "outputs": [],
   "source": [
    "moa_metadata = pd.read_csv(copairs_dir / \"LC00009948_MoA_Common_Names.csv\")\n",
    "moa_metadata = moa_metadata.rename(columns={\"BRD with batch\": \"Metadata_broad_sample\"})"
   ]
  },
  {
   "cell_type": "markdown",
   "id": "5a9a1fbf",
   "metadata": {
    "lines_to_next_cell": 2
   },
   "source": [
    "##### Extracting BRD ID from BROAD sample name"
   ]
  },
  {
   "cell_type": "code",
   "execution_count": null,
   "id": "66aaa2ec",
   "metadata": {},
   "outputs": [],
   "source": [
    "def BRD_ID(i):\n",
    "    if type(i) != float:\n",
    "        ID = i.split(\"-\")\n",
    "        return ID[1]"
   ]
  },
  {
   "cell_type": "code",
   "execution_count": null,
   "id": "a4e4167f",
   "metadata": {},
   "outputs": [],
   "source": [
    "combined_df[\"BRD ID\"] = combined_df[\"Metadata_broad_sample\"].map(BRD_ID)\n",
    "combined_moa_df = pd.merge(combined_df, moa_metadata, on=\"BRD ID\")"
   ]
  },
  {
   "cell_type": "markdown",
   "id": "e16a5797",
   "metadata": {},
   "source": [
    "### Generating columns for difference in mAP"
   ]
  },
  {
   "cell_type": "code",
   "execution_count": null,
   "id": "c6111d2c",
   "metadata": {},
   "outputs": [],
   "source": [
    "\n",
    "combined_moa_df[\"batch3_vs_batch5\"] = (\n",
    "    combined_moa_df[\"mean_average_precision_batch3\"]\n",
    "    - combined_moa_df[\"mean_average_precision_batch5\"]\n",
    ")"
   ]
  },
  {
   "cell_type": "code",
   "execution_count": null,
   "id": "13bd6a8d",
   "metadata": {},
   "outputs": [],
   "source": [
    "combined_moa_df.to_csv(\n",
    "    copairs_dir / \"PrecisionValues_with_MoA_allplates_Negcon_wrt_Controls_48and49.csv\"\n",
    ")"
   ]
  }
 ],
 "metadata": {
  "kernelspec": {
   "display_name": "base",
   "language": "python",
   "name": "python3"
  }
 },
 "nbformat": 4,
 "nbformat_minor": 5
}
