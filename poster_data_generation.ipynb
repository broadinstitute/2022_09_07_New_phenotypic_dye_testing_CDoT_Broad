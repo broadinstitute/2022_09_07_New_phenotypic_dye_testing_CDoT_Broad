{
 "cells": [
  {
   "cell_type": "markdown",
   "id": "c405baaa",
   "metadata": {},
   "source": [
    "Copairs analysis which includes the comparison of standard CP data with the Phalloidin 400LS data.\n",
    "\n",
    "* **Normalization:** Negcon normalization\n",
    "* **mAP calculation:** The following notebook includes the data from mAP calculated as difference to controls as well as the mAP calculated as difference to other treatments.\n",
    "\n",
    "from pathlib import Path"
   ]
  },
  {
   "cell_type": "code",
   "execution_count": null,
   "id": "b9f01dcd",
   "metadata": {},
   "outputs": [],
   "source": [
    "import pandas as pd"
   ]
  },
  {
   "cell_type": "markdown",
   "id": "6ecf8ae7",
   "metadata": {},
   "source": [
    "#### Reading the dataframes"
   ]
  },
  {
   "cell_type": "markdown",
   "id": "e0f9dfa6",
   "metadata": {},
   "source": [
    "#### mAP calculated as difference to controls"
   ]
  },
  {
   "cell_type": "markdown",
   "id": "45b58005",
   "metadata": {},
   "source": [
    "##### Standard CP data"
   ]
  },
  {
   "cell_type": "code",
   "execution_count": null,
   "id": "7d723db3",
   "metadata": {
    "lines_to_next_cell": 2
   },
   "outputs": [],
   "source": [
    "# Reading the results dataframe of standard plate\n",
    "copairs_dir = Path(\"copairs_csv\")\n",
    "name_csv = {\n",
    "    \"CellPainting\": \"Result_Negcon_wrt_Controls_StandardCP\",\n",
    "    \"Saguaro\": \"Result_Negcon_wrt_Controls_batch5\",\n",
    "    # \"Saguaro\": \"PrecisionValues_with_MoA_allplates_Negcon_wrt_Controls_48and49\",\n",
    "    \"CP_Batch3\": \"Result_Negcon_wrt_Controls_batch3\",\n",
    "    \"Phalloidin\": \"Result_Negcon_wrt_Controls_Phalloidin400LS\",\n",
    "    \"MitoBrilliant\": \"Result_Negcon_wrt_Controls_Tocris_mitobrilliant\",\n",
    "}\n",
    "dfs = {\n",
    "    name: pd.read_csv(copairs_dir / f\"{csv_file}.csv\")\n",
    "    for name, csv_file in name_csv.items()\n",
    "}\n",
    "\n",
    "\n",
    "def find_col(df: pd.DataFrame, names):\n",
    "    for name in names:\n",
    "        if name in df.columns:\n",
    "            return name\n",
    "\n",
    "\n",
    "# Homogeneise BRD ID column\n",
    "def rename_id_col(df: pd.DataFrame) -> pd.DataFrame:\n",
    "    if not \"BRD ID\" in df.columns:\n",
    "        name = find_col(df, (\"Metadata_BRD ID\", \"Metadata_broad_sample.1\"))\n",
    "        assert name is not None, f\"Broad ID col not found\"\n",
    "        df = df.rename(columns={name: \"BRD ID\"})\n",
    "    return df\n",
    "\n",
    "\n",
    "def average_cell_count(\n",
    "    # df: pd.DataFrame, reference: str = \"BRD ID\", suffix: str = \"\"\n",
    "    df: pd.DataFrame,\n",
    "    suffix: str = \"\",\n",
    ") -> pd.DataFrame:\n",
    "    # id_col = find_col(df, (\"BRD ID\", \"Metadata_BRD ID\"))\n",
    "    id_col = \"BRD ID\"\n",
    "    # id_col = \"Metadata_broad_sample\"\n",
    "    # cc_col = find_col(df, (\"Metadata_Count_Cells\",))\n",
    "    mean_cell_count = (\n",
    "        rename_id_col(df).groupby(id_col)[\"Metadata_Count_Cells\"].mean().reset_index()\n",
    "    )\n",
    "    # df[f\"Metadata_Count_Cells_{suffix}\"] = df[\"Metadata_Count_Cells\"] / 100\n",
    "    mean_cell_count[f\"Metadata_Count_Cells_{suffix}_norm\"] = (\n",
    "        mean_cell_count[\"Metadata_Count_Cells\"] / 100\n",
    "    )\n",
    "    del mean_cell_count[\"Metadata_Count_Cells\"]\n",
    "    # df[\"Metadata_Batch_Name\"] = suffix\n",
    "    return mean_cell_count"
   ]
  },
  {
   "cell_type": "markdown",
   "id": "ef3f4317",
   "metadata": {},
   "source": [
    "##### Phalloidin 400 LS - long stoke shifted actin"
   ]
  },
  {
   "cell_type": "code",
   "execution_count": null,
   "id": "8566d83c",
   "metadata": {},
   "outputs": [],
   "source": [
    "\n",
    "\n",
    "moa_name_csv = {\n",
    "    \"std_mito_pha\": \"PrecisionValues_with_MoA_allplates_cellcount_Negcon_wrt_Controls\",\n",
    "    \"cp_saguaro\": \"PrecisionValues_with_MoA_allplates_Negcon_wrt_Controls_48and49\",\n",
    "}\n",
    "\n",
    "moa_dfs = {\n",
    "    name: pd.read_csv(copairs_dir / f\"{csv_file}.csv\")\n",
    "    for name, csv_file in moa_name_csv.items()\n",
    "}\n",
    "\n",
    "# df = rename_id_col(dfs[name])\n",
    "# df[\"Metadata_Count_Cells_norm\"] = df[\"Metadata_Count_Cells\"] / 100\n",
    "for name in (\"CellPainting\", \"Saguaro\", \"MitoBrilliant\"):\n",
    "    moa_dfs[\"cp_saguaro\"] = pd.merge(\n",
    "        rename_id_col(moa_dfs[\"cp_saguaro\"]),\n",
    "        average_cell_count(dfs[name], suffix=name),\n",
    "        on=\"BRD ID\",\n",
    "    )\n",
    "\n",
    "combined_df = pd.merge(*moa_dfs.values(), on=\"BRD ID\")\n",
    "combined_df[\"MoA\"] = combined_df[\"MoA_x\"]\n",
    "combined_df[\"Common Name\"] = combined_df[\"Common Name_x\"]"
   ]
  },
  {
   "cell_type": "markdown",
   "id": "031c675a",
   "metadata": {
    "lines_to_next_cell": 0
   },
   "source": [
    "Save only the relevant fields for plotting"
   ]
  },
  {
   "cell_type": "code",
   "execution_count": null,
   "id": "7c7b290a",
   "metadata": {},
   "outputs": [],
   "source": [
    "\n",
    "combined_df[\n",
    "    [\n",
    "        x\n",
    "        for x in combined_df.columns\n",
    "        if \"average_precision\" in x\n",
    "        or \"Count_Cells\" in x\n",
    "        or \"_vs_\" in x\n",
    "        or x == \"MoA\"\n",
    "        or x == \"Common Name\"\n",
    "    ]\n",
    "].to_csv(\n",
    "    copairs_dir / \"PrecisionValues_with_MoA_Negcon_wrt_Control_allplates_cellcount.csv\",\n",
    ")"
   ]
  }
 ],
 "metadata": {
  "kernelspec": {
   "display_name": "base",
   "language": "python",
   "name": "python3"
  }
 },
 "nbformat": 4,
 "nbformat_minor": 5
}
