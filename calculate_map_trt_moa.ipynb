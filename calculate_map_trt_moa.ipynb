{
 "cells": [
  {
   "cell_type": "markdown",
   "id": "f99eb931",
   "metadata": {},
   "source": [
    "## Copairs\n",
    "* **Details of the analysis in this notebook:**\n",
    "* **Data from :** CDoT\n",
    "* **Plates compared:**\n",
    "    * BR00122250 - stained with standard cellpaitning dyes\n",
    "    * BR00122246 - stained with Tocris Mitobrilliant dye along with the other CP dyes\n",
    "    * BR00122247 - stained with Phalloidin400LS dye along with other CP dyes\n",
    "* **Objective:** To understand the mAP of the plates stained with the new set of dyes.\n",
    "* **Normalization:** Negcon normalization\n",
    "* **mAP calculation:** mAP is calculated as difference to other treatments."
   ]
  },
  {
   "cell_type": "markdown",
   "id": "c8e02793",
   "metadata": {
    "lines_to_next_cell": 0
   },
   "source": [
    "### Modules import"
   ]
  },
  {
   "cell_type": "code",
   "execution_count": null,
   "id": "c9d0fd45",
   "metadata": {},
   "outputs": [],
   "source": [
    "\n",
    "\n",
    "import logging\n",
    "from pathlib import Path\n",
    "\n",
    "import numpy as np\n",
    "import pandas as pd\n",
    "from copairs.map import aggregate, run_pipeline\n",
    "from tqdm import tqdm\n",
    "\n",
    "logging.basicConfig(format=\"%(levelname)s:%(asctime)s:%(name)s:%(message)s\")\n",
    "logging.getLogger(\"copairs\").setLevel(logging.INFO)"
   ]
  },
  {
   "cell_type": "markdown",
   "id": "a5367f2a",
   "metadata": {},
   "source": [
    "### Reading the dataframe\n",
    "Batch 1 consists of plate with standard CP dye and other plate stained with Tocris Mitobrilliant dye"
   ]
  },
  {
   "cell_type": "code",
   "execution_count": null,
   "id": "7c89b344",
   "metadata": {
    "lines_to_next_cell": 0
   },
   "outputs": [],
   "source": [
    "copairs_path = Path(\"copairs_csv\")\n",
    "gct_path = Path(\"gct\")\n",
    "batch_file = {\n",
    "    str(v).split(\"/\")[1].split(\"_\")[-1].lower(): v\n",
    "    for v in sorted(gct_path.rglob(\"*Batch*normalized_feature_select_batch.csv.gz\"))\n",
    "}"
   ]
  },
  {
   "cell_type": "markdown",
   "id": "a333f4e1",
   "metadata": {},
   "source": [
    "### Analysis - Plate wise with respect to other treatments"
   ]
  },
  {
   "cell_type": "markdown",
   "id": "46efacd9",
   "metadata": {},
   "source": [
    "#### Defining parameters to compute map"
   ]
  },
  {
   "cell_type": "code",
   "execution_count": null,
   "id": "8fd3ec4d",
   "metadata": {},
   "outputs": [],
   "source": [
    "pert_col = \"Metadata_broad_sample\""
   ]
  },
  {
   "cell_type": "code",
   "execution_count": null,
   "id": "fd0418f3",
   "metadata": {},
   "outputs": [],
   "source": [
    "pos_sameby = [pert_col]\n",
    "pos_diffby = []\n",
    "\n",
    "neg_sameby = []\n",
    "neg_diffby = [pert_col]\n",
    "null_size = 10000"
   ]
  },
  {
   "cell_type": "markdown",
   "id": "3fda7b8c",
   "metadata": {
    "lines_to_next_cell": 0
   },
   "source": [
    "Rename batch names to their dye set"
   ]
  },
  {
   "cell_type": "code",
   "execution_count": null,
   "id": "196f4015",
   "metadata": {},
   "outputs": [],
   "source": [
    "batch_dye = {\n",
    "    \"batch2\": \"Phalloidin400LS\",\n",
    "    \"batch3\": \"Saguaro_then_CP\",\n",
    "    \"batch5\": \"Saguaro\",\n",
    "}\n",
    "\n",
    "\n",
    "dfs = {k: pd.read_csv(v) for k, v in batch_file.items()}\n",
    "dye_data = {v: dfs[k] for k, v in batch_dye.items() if k in batch_dye}\n",
    "for new_name, plate in ((\"Standard\", \"BR00122250\"), (\"MitoBrilliant\", \"BR00122246\")):\n",
    "    sub_df = dfs[\"batch1\"]\n",
    "    dye_data[new_name] = sub_df.loc[sub_df[\"Metadata_Plate\"] == \"BR00122250\"]"
   ]
  },
  {
   "cell_type": "code",
   "execution_count": null,
   "id": "4bc854af",
   "metadata": {
    "title": "Analysis"
   },
   "outputs": [],
   "source": [
    "\n",
    "agg_results = []\n",
    "for dye, profile in dye_data.items():\n",
    "    print(dye)\n",
    "    metadata_names = [c for c in profile.columns if c.startswith(\"Metadata\")]\n",
    "    feature_names = [c for c in profile.columns if not c.startswith(\"Metadata\")]\n",
    "    feats = profile[feature_names].values\n",
    "    dframe = profile[metadata_names]\n",
    "\n",
    "    # To get MoA stuff remove negative controls\n",
    "    feats = feats[dframe[\"Metadata_control_type\"].isna(), :]\n",
    "    dframe = dframe.loc(axis=0)[dframe[\"Metadata_control_type\"].isna()]\n",
    "    result = run_pipeline(\n",
    "        dframe, feats, pos_sameby, pos_diffby, neg_sameby, neg_diffby, null_size\n",
    "    )\n",
    "    result.to_csv(copairs_path / f\"stats_trt_{dye}.csv\")\n",
    "\n",
    "    agg_result = aggregate(result, sameby=pos_sameby, threshold=0.05)\n",
    "    agg_result[\"Dye set\"] = dye\n",
    "    agg_results.append(agg_result)\n",
    "    # agg_result.to_csv(copairs_path / f\"agg_stats_trt_{dye}.csv\")"
   ]
  },
  {
   "cell_type": "code",
   "execution_count": null,
   "id": "d042916d",
   "metadata": {},
   "outputs": [],
   "source": [
    "combined_df = pd.concat(agg_results, axis=0, ignore_index=True)"
   ]
  },
  {
   "cell_type": "markdown",
   "id": "ab4b622d",
   "metadata": {},
   "source": [
    "#### Adding metadata information to the combined_df\n"
   ]
  },
  {
   "cell_type": "code",
   "execution_count": null,
   "id": "aa326398",
   "metadata": {
    "lines_to_next_cell": 2
   },
   "outputs": [],
   "source": [
    "moa_metadata = pd.read_csv(copairs_path / \"LC00009948_MoA_Common_Names.csv\")\n",
    "moa_metadata = moa_metadata.rename(columns={\"BRD with batch\": \"Metadata_broad_sample\"})"
   ]
  },
  {
   "cell_type": "markdown",
   "id": "db8b0557",
   "metadata": {
    "lines_to_next_cell": 2
   },
   "source": [
    "##### Extracting BRD ID from BROAD sample name"
   ]
  },
  {
   "cell_type": "code",
   "execution_count": null,
   "id": "d3e64f53",
   "metadata": {},
   "outputs": [],
   "source": [
    "def BRD_ID(i):\n",
    "    if type(i) != float:\n",
    "        ID = i.split(\"-\")\n",
    "        return ID[1]\n",
    "\n",
    "\n",
    "combined_df[\"BRD ID\"] = combined_df[\"Metadata_broad_sample\"].map(BRD_ID)\n",
    "combined_moa_df = pd.merge(combined_df, moa_metadata, on=\"BRD ID\")\n",
    "\n",
    "combined_moa_df.to_csv(copairs_path / f\"moa_stats_5plates.csv\")"
   ]
  }
 ],
 "metadata": {
  "kernelspec": {
   "display_name": "base",
   "language": "python",
   "name": "python3"
  }
 },
 "nbformat": 4,
 "nbformat_minor": 5
}
