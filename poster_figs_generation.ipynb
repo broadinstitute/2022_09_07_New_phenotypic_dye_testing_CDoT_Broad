{
 "cells": [
  {
   "cell_type": "markdown",
   "id": "879249a0",
   "metadata": {
    "lines_to_next_cell": 0
   },
   "source": [
    "### figures - standard cp plate and the phalloidin400ls\n",
    "\n",
    "data were negcon normalized\n",
    "## modules import"
   ]
  },
  {
   "cell_type": "code",
   "execution_count": null,
   "id": "f4fb6494",
   "metadata": {},
   "outputs": [],
   "source": [
    "\n",
    "from pathlib import Path\n",
    "\n",
    "import pandas as pd\n",
    "import plotly.express as px\n",
    "import plotly.graph_objects as go\n",
    "import plotly.io as pio\n",
    "import seaborn as sns\n",
    "from plotly.subplots import make_subplots"
   ]
  },
  {
   "cell_type": "markdown",
   "id": "8d5eae0b",
   "metadata": {
    "lines_to_next_cell": 0
   },
   "source": [
    "## map calculated as difference to controls"
   ]
  },
  {
   "cell_type": "markdown",
   "id": "88ff7fc8",
   "metadata": {
    "lines_to_next_cell": 0
   },
   "source": [
    "##### reading the dataframe"
   ]
  },
  {
   "cell_type": "code",
   "execution_count": null,
   "id": "8b2964bd",
   "metadata": {},
   "outputs": [],
   "source": [
    "copairs_dir = Path(\"copairs_csv\")\n",
    "\n",
    "combined_moa_cellcount_df = pd.read_csv(\n",
    "    copairs_dir / \"PrecisionValues_with_MoA_Negcon_wrt_Control_allplates_cellcount.csv\"\n",
    ")"
   ]
  },
  {
   "cell_type": "code",
   "execution_count": null,
   "id": "2d41299f",
   "metadata": {
    "title": "[code]"
   },
   "outputs": [],
   "source": [
    "# set output folder\n",
    "figs_dir = Path(\"figures\") / \"poster\"\n",
    "save_figures_externally = True\n",
    "\n",
    "figs_dir.mkdir(exist_ok=True)\n",
    "\n",
    "\n",
    "def quick_save(fig, fig_name: str, save_externally: bool = save_figures_externally):\n",
    "    if save_externally:\n",
    "        fig.write_html(str(figs_dir / f\"{fig_name}\"))\n",
    "    else:\n",
    "        fig.show(\"notebook\")"
   ]
  },
  {
   "cell_type": "markdown",
   "id": "f3545879",
   "metadata": {},
   "source": [
    "### comparison of mean average precision\n"
   ]
  },
  {
   "cell_type": "markdown",
   "id": "d75d4cc3",
   "metadata": {},
   "source": [
    "#####  standard cellpainting data vs phalloidin 400ls\n"
   ]
  },
  {
   "cell_type": "code",
   "execution_count": null,
   "id": "3380cc4e",
   "metadata": {},
   "outputs": [],
   "source": [
    "actin_fig = px.scatter(\n",
    "    combined_moa_cellcount_df,\n",
    "    x=combined_moa_cellcount_df[\"average_precision_std\"],\n",
    "    y=combined_moa_cellcount_df[\"average_precision_act\"],\n",
    "    labels={\n",
    "        \"average_precision_std\": \"mean average precision - standard cellpainting dyes\",\n",
    "        \"average_precision_act\": \"mean average preicison - <br> phalloidin 400ls (long-stoke shifted)\",\n",
    "    },\n",
    "    color=combined_moa_cellcount_df[\"MoA\"],\n",
    ")\n",
    "actin_fig.update_layout(legend=dict(orientation=\"h\"), height=800, width=1000)\n",
    "quick_save(actin_fig, \"actin_fig.html\")"
   ]
  },
  {
   "cell_type": "markdown",
   "id": "2bf6e9d0",
   "metadata": {},
   "source": [
    "### mean average precision values of all compounds\n"
   ]
  },
  {
   "cell_type": "code",
   "execution_count": null,
   "id": "2b145c22",
   "metadata": {},
   "outputs": [],
   "source": [
    "combined_box_plot = go.Figure()\n",
    "\n",
    "\n",
    "map_cc_name = (\n",
    "    (\n",
    "        \"average_precision_std\",\n",
    "        \"Metadata_Count_Cells_Std_norm\",\n",
    "        \"Standard CellPainting dyes\",\n",
    "    ),\n",
    "    (\"average_precision_act\", \"Metadata_Count_Cells_act_norm\", \"Phalloidin 400LS\"),\n",
    "    (\"average_precision_mito\", \"Metadata_Count_Cells_Saguaro_norm\", \"MitoBrilliant\"),\n",
    "    (\n",
    "        \"mean_average_precision_batch3\",\n",
    "        \"Metadata_Count_Cells_CellPainting_norm\",\n",
    "        \"Saguaro + CellPainting\",\n",
    "    ),\n",
    "    (\"mean_average_precision_batch5\", \"Metadata_Count_Cells_Saguaro_norm\", \"Saguaro\"),\n",
    ")\n",
    "for map_field, _, name in map_cc_name:\n",
    "    combined_box_plot.add_trace(\n",
    "        go.Box(\n",
    "            y=combined_moa_cellcount_df[map_field],\n",
    "            name=name,\n",
    "            boxpoints=\"all\",\n",
    "            hovertext=combined_moa_cellcount_df[\"MoA\"]\n",
    "            + \"-\"\n",
    "            + combined_moa_cellcount_df[\"Common Name\"],\n",
    "        )\n",
    "    )\n",
    "combined_box_plot.update_layout(\n",
    "    height=800,\n",
    "    width=1000,\n",
    "    font_family=\"arial\",\n",
    "    font=dict(size=14, color=\"black\"),\n",
    "    boxmode=\"group\",\n",
    "    yaxis_title=\"mean average precision\",\n",
    ")\n",
    "quick_save(combined_box_plot, \"combined_box_plot.html\")"
   ]
  },
  {
   "cell_type": "markdown",
   "id": "81e9b1e8",
   "metadata": {
    "lines_to_next_cell": 0
   },
   "source": [
    "Plot cell count vs mAP for each dye"
   ]
  },
  {
   "cell_type": "code",
   "execution_count": null,
   "id": "ac923a08",
   "metadata": {
    "lines_to_next_cell": 2
   },
   "outputs": [],
   "source": []
  },
  {
   "cell_type": "markdown",
   "id": "d8aac7ad",
   "metadata": {},
   "source": [
    "### mean average precision values -  moa\n",
    "\n",
    "the size of the markers represent the average number of cells present in the replicates. the number of cells were normalized by dividing the actual number by 100 for easier plotting."
   ]
  },
  {
   "cell_type": "code",
   "execution_count": null,
   "id": "83fc0220",
   "metadata": {},
   "outputs": [],
   "source": [
    "scatter_plot = go.Figure()\n",
    "for map_field, cc_field, name in map_cc_name:\n",
    "    scatter_plot.add_trace(\n",
    "        go.Scatter(\n",
    "            # x=combined_moa_cellcount_df[\"MoA\"],\n",
    "            x=combined_moa_cellcount_df[cc_field],\n",
    "            y=combined_moa_cellcount_df[map_field],\n",
    "            # hovertext=[combined_moa_cellcount_df[map_field]],\n",
    "            hovertext=[combined_moa_cellcount_df[\"MoA\"]],\n",
    "            mode=\"markers\",\n",
    "            name=name,\n",
    "            marker_size=combined_moa_cellcount_df[cc_field],\n",
    "        )\n",
    "    )\n",
    "\n",
    "scatter_plot.update_layout(\n",
    "    height=1000,\n",
    "    width=1500,\n",
    "    font_family=\"arial\",\n",
    "    font=dict(size=14, color=\"black\"),\n",
    "    boxmode=\"group\",\n",
    "    yaxis_title=\"mean average precision\",\n",
    "    legend=dict(yanchor=\"top\", y=0.99, xanchor=\"left\", x=0.01),\n",
    ")\n",
    "scatter_plot.update_xaxes(tickangle=90, categoryorder=\"total ascending\")\n",
    "# quick_save(scatter_plot, \"scatter_plot.html\")\n",
    "quick_save(scatter_plot, \"scatter_cc_vs_map.html\")"
   ]
  },
  {
   "cell_type": "markdown",
   "id": "63dd2aaa",
   "metadata": {},
   "source": [
    "### difference in mean average precision values\n",
    "the negative values indicate the better performance of phalloidin 400ls"
   ]
  },
  {
   "cell_type": "code",
   "execution_count": null,
   "id": "c4c4c3ee",
   "metadata": {
    "lines_to_next_cell": 0
   },
   "outputs": [],
   "source": [
    "dfs = []\n",
    "for map_field, cc_field, name in map_cc_name:\n",
    "    tmp_df = pd.DataFrame()\n",
    "    tmp_df[\"Average Cell Count\"] = combined_moa_cellcount_df[cc_field]\n",
    "    tmp_df[\"Mean Average Precision\"] = combined_moa_cellcount_df[map_field]\n",
    "    tmp_df[\"Dye Set\"] = name\n",
    "    dfs.append(tmp_df)\n",
    "dye_sets_df = pd.concat(dfs, axis=0)\n",
    "\n",
    "ax = sns.stripplot(\n",
    "    data=dye_sets_df,\n",
    "    x=\"Average Cell Count\",\n",
    "    y=\"Dye Set\",\n",
    "    hue=\"Dye Set\",\n",
    "    # dodge=True\n",
    "    alpha=0.5,\n",
    "    # element=\"step\",\n",
    "    # alpha=0.1,\n",
    "    # stat=\"proportion\",\n",
    "    # common_norm=False,\n",
    ")\n",
    "# ax.spines[[\"right\", \"top\"]].set_visible(False)\n",
    "sns.despine(top=True, right=True)\n",
    "# sns.move_legend(ax, loc=\"upper left\")\n",
    "import matplotlib.pyplot as plt\n",
    "\n",
    "for item in ax.get_xticklabels():\n",
    "    item.set_rotation(45)\n",
    "\n",
    "# plt.savefig(figs_dir / \"cell_count_distribution.png\", dpi=200)\n",
    "plt.tight_layout()\n",
    "plt.savefig(figs_dir / \"cell_count_strip.png\", dpi=200)\n",
    "plt.close()"
   ]
  },
  {
   "cell_type": "code",
   "execution_count": null,
   "id": "79f2b59b",
   "metadata": {},
   "outputs": [],
   "source": [
    "fig = go.Figure()\n",
    "fig.add_trace(\n",
    "    go.Scatter(\n",
    "        x=combined_moa_cellcount_df[\"MoA\"],\n",
    "        y=combined_moa_cellcount_df[\"std_vs_act\"],\n",
    "        mode=\"markers\",\n",
    "        hovertext=combined_moa_cellcount_df[\"Common Name\"],\n",
    "    )\n",
    ")\n",
    "fig.update_layout(\n",
    "    height=1000, width=1700, font_family=\"arial\", font=dict(size=14, color=\"black\")\n",
    ")\n",
    "\n",
    "fig.update_yaxes(title=\"difference in <br> mean average precision\")\n",
    "fig.update_xaxes(categoryorder=\"total ascending\")\n",
    "quick_save(fig, \"dmAP_performance.html\")"
   ]
  }
 ],
 "metadata": {
  "kernelspec": {
   "display_name": "base",
   "language": "python",
   "name": "python3"
  }
 },
 "nbformat": 4,
 "nbformat_minor": 5
}
