{
 "cells": [
  {
   "cell_type": "markdown",
   "metadata": {},
   "source": [
    "### Modules import"
   ]
  },
  {
   "cell_type": "code",
   "execution_count": 2,
   "metadata": {},
   "outputs": [],
   "source": [
    "import pandas as pd\n",
    "from copairs.map import run_pipeline\n",
    "import numpy as np\n",
    "\n",
    "import logging\n",
    "logging.basicConfig(format='%(levelname)s:%(asctime)s:%(name)s:%(message)s')\n",
    "logging.getLogger(\"copairs\").setLevel(logging.INFO)"
   ]
  },
  {
   "cell_type": "markdown",
   "metadata": {},
   "source": [
    "### Reading the dataframe \n",
    "Batch 1 consists of plate with standard CP dye and other plate stained with Tocris Mitobrilliant dye"
   ]
  },
  {
   "cell_type": "code",
   "execution_count": 3,
   "metadata": {},
   "outputs": [],
   "source": [
    "batch1_df = pd.read_csv('gct\\\\2023_05_15_Batch1\\\\2023_05_15_Batch1_normalized_feature_select_batch.csv.gz')"
   ]
  },
  {
   "cell_type": "markdown",
   "metadata": {},
   "source": [
    "##### Batch 2 consists of plate stained with Phalloidin 400LS"
   ]
  },
  {
   "cell_type": "code",
   "execution_count": 4,
   "metadata": {},
   "outputs": [],
   "source": [
    "batch2_df = pd.read_csv('gct\\\\2023_05_17_Batch2\\\\2023_05_17_Batch2_normalized_feature_select_batch.csv.gz')"
   ]
  },
  {
   "attachments": {},
   "cell_type": "markdown",
   "metadata": {},
   "source": [
    "##### Defining parameters to compute map"
   ]
  },
  {
   "cell_type": "code",
   "execution_count": 5,
   "metadata": {},
   "outputs": [],
   "source": [
    "plate_col = 'Metadata_Plate'\n",
    "well_col = 'Metadata_Well'\n",
    "pert_col = 'Metadata_broad_sample'"
   ]
  },
  {
   "attachments": {},
   "cell_type": "markdown",
   "metadata": {},
   "source": [
    "#### Analysis - Plate wise "
   ]
  },
  {
   "cell_type": "code",
   "execution_count": 6,
   "metadata": {},
   "outputs": [],
   "source": [
    "pos_sameby = [pert_col]\n",
    "pos_diffby = []\n",
    "\n",
    "neg_sameby = []\n",
    "neg_diffby = [pert_col]\n",
    "null_size =10000"
   ]
  },
  {
   "attachments": {},
   "cell_type": "markdown",
   "metadata": {},
   "source": [
    "#### Batch1 "
   ]
  },
  {
   "attachments": {},
   "cell_type": "markdown",
   "metadata": {},
   "source": [
    "#### Splitting the dataframe into standard  CP dyes and the mito dyes "
   ]
  },
  {
   "cell_type": "code",
   "execution_count": 7,
   "metadata": {},
   "outputs": [
    {
     "data": {
      "text/plain": [
       "(767, 722)"
      ]
     },
     "execution_count": 7,
     "metadata": {},
     "output_type": "execute_result"
    }
   ],
   "source": [
    "batch1_df.shape"
   ]
  },
  {
   "cell_type": "code",
   "execution_count": 8,
   "metadata": {},
   "outputs": [],
   "source": [
    "std_data = batch1_df.loc[batch1_df['Metadata_Plate'] == 'BR00122250']"
   ]
  },
  {
   "cell_type": "code",
   "execution_count": 9,
   "metadata": {},
   "outputs": [
    {
     "data": {
      "text/plain": [
       "(384, 722)"
      ]
     },
     "execution_count": 9,
     "metadata": {},
     "output_type": "execute_result"
    }
   ],
   "source": [
    "std_data.shape"
   ]
  },
  {
   "cell_type": "code",
   "execution_count": 10,
   "metadata": {},
   "outputs": [],
   "source": [
    "mito_data = batch1_df.loc[batch1_df['Metadata_Plate'] == 'BR00122246']"
   ]
  },
  {
   "cell_type": "code",
   "execution_count": 11,
   "metadata": {},
   "outputs": [
    {
     "data": {
      "text/plain": [
       "(383, 722)"
      ]
     },
     "execution_count": 11,
     "metadata": {},
     "output_type": "execute_result"
    }
   ],
   "source": [
    "mito_data.shape"
   ]
  },
  {
   "cell_type": "code",
   "execution_count": 12,
   "metadata": {},
   "outputs": [
    {
     "data": {
      "text/plain": [
       "(384, 720)"
      ]
     },
     "execution_count": 12,
     "metadata": {},
     "output_type": "execute_result"
    }
   ],
   "source": [
    "batch2_df.shape"
   ]
  },
  {
   "cell_type": "code",
   "execution_count": 13,
   "metadata": {},
   "outputs": [
    {
     "name": "stderr",
     "output_type": "stream",
     "text": [
      "INFO:2023-07-12 10:29:00,473:copairs:Indexing metadata...\n",
      "INFO:2023-07-12 10:29:00,478:copairs:Finding positive pairs...\n",
      "INFO:2023-07-12 10:29:00,479:copairs:dropping dups...\n",
      "INFO:2023-07-12 10:29:00,483:copairs:Finding negative pairs...\n",
      "INFO:2023-07-12 10:29:00,627:copairs:dropping dups...\n",
      "INFO:2023-07-12 10:29:00,697:copairs:Computing positive similarities...\n"
     ]
    },
    {
     "data": {
      "application/vnd.jupyter.widget-view+json": {
       "model_id": "e9a8313c434c47e7aaf016ca9c50efa9",
       "version_major": 2,
       "version_minor": 0
      },
      "text/plain": [
       "  0%|          | 0/1 [00:00<?, ?it/s]"
      ]
     },
     "metadata": {},
     "output_type": "display_data"
    },
    {
     "name": "stderr",
     "output_type": "stream",
     "text": [
      "INFO:2023-07-12 10:29:01,347:copairs:Computing negative similarities...\n"
     ]
    },
    {
     "data": {
      "application/vnd.jupyter.widget-view+json": {
       "model_id": "75b0d660b45f440ca8e37375d87a2f49",
       "version_major": 2,
       "version_minor": 0
      },
      "text/plain": [
       "  0%|          | 0/4 [00:00<?, ?it/s]"
      ]
     },
     "metadata": {},
     "output_type": "display_data"
    },
    {
     "name": "stderr",
     "output_type": "stream",
     "text": [
      "INFO:2023-07-12 10:29:02,562:copairs:Building rank lists...\n",
      "INFO:2023-07-12 10:29:02,656:copairs:Computing average precision...\n",
      "INFO:2023-07-12 10:29:02,665:copairs:Computing null distributions...\n",
      "INFO:2023-07-12 10:29:03,487:copairs:Computing P-values...\n",
      "INFO:2023-07-12 10:29:03,494:copairs:Creating result DataFrame...\n",
      "INFO:2023-07-12 10:29:03,496:copairs:Finished.\n"
     ]
    }
   ],
   "source": [
    "metadata_names_std = [c for c in std_data.columns if  c.startswith('Metadata')]\n",
    "feature_names_std = [c for c in std_data.columns if not c.startswith('Metadata')]\n",
    "feats_std = std_data[feature_names_std].values\n",
    "dframe_std = std_data[metadata_names_std]\n",
    "result_std = run_pipeline(dframe_std, feats_std, \n",
    "                      pos_sameby, pos_diffby,\n",
    "                      neg_sameby, neg_diffby,\n",
    "                      null_size\n",
    "                     )"
   ]
  },
  {
   "cell_type": "code",
   "execution_count": 14,
   "metadata": {},
   "outputs": [],
   "source": [
    "result_std.to_csv('copairs_csv\\\\Result_StandardCP.csv')"
   ]
  },
  {
   "cell_type": "code",
   "execution_count": 15,
   "metadata": {},
   "outputs": [],
   "source": [
    "from copairs.map import aggregate\n",
    "agg_result_std = aggregate(result_std, sameby=pos_sameby, threshold=0.05)\n",
    "agg_result_std.to_csv('copairs_csv\\\\Aggrerate_result_StandardCP.csv')"
   ]
  },
  {
   "attachments": {},
   "cell_type": "markdown",
   "metadata": {},
   "source": [
    "##### Mito data "
   ]
  },
  {
   "cell_type": "code",
   "execution_count": 16,
   "metadata": {},
   "outputs": [
    {
     "name": "stderr",
     "output_type": "stream",
     "text": [
      "INFO:2023-07-12 10:29:03,654:copairs:Indexing metadata...\n",
      "INFO:2023-07-12 10:29:03,660:copairs:Finding positive pairs...\n",
      "INFO:2023-07-12 10:29:03,661:copairs:dropping dups...\n",
      "INFO:2023-07-12 10:29:03,664:copairs:Finding negative pairs...\n"
     ]
    },
    {
     "name": "stderr",
     "output_type": "stream",
     "text": [
      "INFO:2023-07-12 10:29:03,765:copairs:dropping dups...\n",
      "INFO:2023-07-12 10:29:03,812:copairs:Computing positive similarities...\n"
     ]
    },
    {
     "data": {
      "application/vnd.jupyter.widget-view+json": {
       "model_id": "b85a2b814ce04ea89db97fbc901951bb",
       "version_major": 2,
       "version_minor": 0
      },
      "text/plain": [
       "  0%|          | 0/1 [00:00<?, ?it/s]"
      ]
     },
     "metadata": {},
     "output_type": "display_data"
    },
    {
     "name": "stderr",
     "output_type": "stream",
     "text": [
      "INFO:2023-07-12 10:29:04,489:copairs:Computing negative similarities...\n"
     ]
    },
    {
     "data": {
      "application/vnd.jupyter.widget-view+json": {
       "model_id": "9a3a9431b19f4d1a8cebf69a51405a52",
       "version_major": 2,
       "version_minor": 0
      },
      "text/plain": [
       "  0%|          | 0/4 [00:00<?, ?it/s]"
      ]
     },
     "metadata": {},
     "output_type": "display_data"
    },
    {
     "name": "stderr",
     "output_type": "stream",
     "text": [
      "INFO:2023-07-12 10:29:05,691:copairs:Building rank lists...\n",
      "INFO:2023-07-12 10:29:05,800:copairs:Computing average precision...\n",
      "INFO:2023-07-12 10:29:05,810:copairs:Computing null distributions...\n",
      "INFO:2023-07-12 10:29:06,759:copairs:Computing P-values...\n",
      "INFO:2023-07-12 10:29:06,766:copairs:Creating result DataFrame...\n",
      "INFO:2023-07-12 10:29:06,767:copairs:Finished.\n"
     ]
    }
   ],
   "source": [
    "metadata_names_mito = [c for c in mito_data.columns if  c.startswith('Metadata')]\n",
    "feature_names_mito = [c for c in mito_data.columns if not c.startswith('Metadata')]\n",
    "feats_mito = mito_data[feature_names_mito].values\n",
    "dframe_mito = mito_data[metadata_names_mito]\n",
    "result_mito = run_pipeline(dframe_mito, feats_mito, \n",
    "                      pos_sameby, pos_diffby,\n",
    "                      neg_sameby, neg_diffby,\n",
    "                      null_size\n",
    "                     )"
   ]
  },
  {
   "cell_type": "code",
   "execution_count": 17,
   "metadata": {},
   "outputs": [],
   "source": [
    "result_mito.to_csv('copairs_csv\\\\Result_Tocris_mitobrilliant.csv')"
   ]
  },
  {
   "cell_type": "code",
   "execution_count": 18,
   "metadata": {},
   "outputs": [],
   "source": [
    "agg_result_mito = aggregate(result_mito, sameby=pos_sameby, threshold=0.05)\n",
    "agg_result_mito.to_csv('copairs_csv\\\\Aggrerate_result_Tocris_mitobrilliant.csv')"
   ]
  },
  {
   "attachments": {},
   "cell_type": "markdown",
   "metadata": {},
   "source": [
    "##### Batch2 - Lond stoke shifted actin "
   ]
  },
  {
   "cell_type": "code",
   "execution_count": 19,
   "metadata": {},
   "outputs": [
    {
     "name": "stderr",
     "output_type": "stream",
     "text": [
      "INFO:2023-07-12 10:29:06,916:copairs:Indexing metadata...\n",
      "INFO:2023-07-12 10:29:06,922:copairs:Finding positive pairs...\n",
      "INFO:2023-07-12 10:29:06,923:copairs:dropping dups...\n",
      "INFO:2023-07-12 10:29:06,926:copairs:Finding negative pairs...\n",
      "INFO:2023-07-12 10:29:07,029:copairs:dropping dups...\n",
      "INFO:2023-07-12 10:29:07,072:copairs:Computing positive similarities...\n"
     ]
    },
    {
     "data": {
      "application/vnd.jupyter.widget-view+json": {
       "model_id": "2d740b770ebf460b89e388fb4214dce2",
       "version_major": 2,
       "version_minor": 0
      },
      "text/plain": [
       "  0%|          | 0/1 [00:00<?, ?it/s]"
      ]
     },
     "metadata": {},
     "output_type": "display_data"
    },
    {
     "name": "stderr",
     "output_type": "stream",
     "text": [
      "INFO:2023-07-12 10:29:07,658:copairs:Computing negative similarities...\n"
     ]
    },
    {
     "data": {
      "application/vnd.jupyter.widget-view+json": {
       "model_id": "0fd952a447c4469e9b3a643f32b72307",
       "version_major": 2,
       "version_minor": 0
      },
      "text/plain": [
       "  0%|          | 0/4 [00:00<?, ?it/s]"
      ]
     },
     "metadata": {},
     "output_type": "display_data"
    },
    {
     "name": "stderr",
     "output_type": "stream",
     "text": [
      "INFO:2023-07-12 10:29:08,746:copairs:Building rank lists...\n",
      "INFO:2023-07-12 10:29:08,828:copairs:Computing average precision...\n",
      "INFO:2023-07-12 10:29:08,838:copairs:Computing null distributions...\n",
      "INFO:2023-07-12 10:29:09,612:copairs:Computing P-values...\n",
      "INFO:2023-07-12 10:29:09,620:copairs:Creating result DataFrame...\n",
      "INFO:2023-07-12 10:29:09,622:copairs:Finished.\n"
     ]
    }
   ],
   "source": [
    "metadata_names_2 = [c for c in batch2_df.columns if  c.startswith('Metadata')]\n",
    "feature_names_2 = [c for c in batch2_df.columns if not c.startswith('Metadata')]\n",
    "feats_2 = batch2_df[feature_names_2].values\n",
    "dframe_2 = batch2_df[metadata_names_2]\n",
    "result_batch2 = run_pipeline(dframe_2, feats_2, \n",
    "                      pos_sameby, pos_diffby,\n",
    "                      neg_sameby, neg_diffby,\n",
    "                      null_size\n",
    "                     )"
   ]
  },
  {
   "cell_type": "code",
   "execution_count": 20,
   "metadata": {},
   "outputs": [],
   "source": [
    "result_batch2.to_csv('copairs_csv\\\\Result_Phalloidin400LS.csv')"
   ]
  },
  {
   "cell_type": "code",
   "execution_count": 21,
   "metadata": {},
   "outputs": [],
   "source": [
    "agg_result_act = aggregate(result_batch2, sameby=pos_sameby, threshold=0.05)\n",
    "agg_result_act.to_csv('copairs_csv\\\\Aggrerate_result_Phalloidin400LS.csv')"
   ]
  },
  {
   "attachments": {},
   "cell_type": "markdown",
   "metadata": {},
   "source": [
    "#### Renaming columns"
   ]
  },
  {
   "cell_type": "code",
   "execution_count": 22,
   "metadata": {},
   "outputs": [],
   "source": [
    "agg_result_std = agg_result_std.rename(columns = {'average_precision': 'average_precision_std'})\n",
    "agg_result_mito = agg_result_mito.rename(columns = {'average_precision':'average_precision_mito'})\n",
    "agg_result_act = agg_result_act.rename(columns = {'average_precision':'average_precision_act'})"
   ]
  },
  {
   "attachments": {},
   "cell_type": "markdown",
   "metadata": {},
   "source": [
    "#### Combining the average precision values into a single dataframe"
   ]
  },
  {
   "cell_type": "code",
   "execution_count": 23,
   "metadata": {},
   "outputs": [],
   "source": [
    "agg_result_std_subset = agg_result_std[['Metadata_broad_sample', 'average_precision_std']]\n",
    "agg_result_mito_subset = agg_result_mito[['Metadata_broad_sample', 'average_precision_mito']]\n",
    "agg_result_act = agg_result_act[['Metadata_broad_sample', 'average_precision_act']]"
   ]
  },
  {
   "cell_type": "code",
   "execution_count": 24,
   "metadata": {},
   "outputs": [],
   "source": [
    "combined_df = pd.merge(agg_result_std_subset, agg_result_mito_subset, on='Metadata_broad_sample')\n",
    "combined_df  =pd.merge(combined_df,agg_result_act, on='Metadata_broad_sample')"
   ]
  },
  {
   "cell_type": "code",
   "execution_count": 25,
   "metadata": {},
   "outputs": [
    {
     "data": {
      "text/html": [
       "<div>\n",
       "<style scoped>\n",
       "    .dataframe tbody tr th:only-of-type {\n",
       "        vertical-align: middle;\n",
       "    }\n",
       "\n",
       "    .dataframe tbody tr th {\n",
       "        vertical-align: top;\n",
       "    }\n",
       "\n",
       "    .dataframe thead th {\n",
       "        text-align: right;\n",
       "    }\n",
       "</style>\n",
       "<table border=\"1\" class=\"dataframe\">\n",
       "  <thead>\n",
       "    <tr style=\"text-align: right;\">\n",
       "      <th></th>\n",
       "      <th>Metadata_broad_sample</th>\n",
       "      <th>average_precision_std</th>\n",
       "      <th>average_precision_mito</th>\n",
       "      <th>average_precision_act</th>\n",
       "    </tr>\n",
       "  </thead>\n",
       "  <tbody>\n",
       "    <tr>\n",
       "      <th>0</th>\n",
       "      <td>BRD-A12994259-001-11-9</td>\n",
       "      <td>0.109555</td>\n",
       "      <td>0.041064</td>\n",
       "      <td>0.118931</td>\n",
       "    </tr>\n",
       "    <tr>\n",
       "      <th>1</th>\n",
       "      <td>BRD-A22769835-300-05-7</td>\n",
       "      <td>0.011390</td>\n",
       "      <td>0.029497</td>\n",
       "      <td>0.023822</td>\n",
       "    </tr>\n",
       "    <tr>\n",
       "      <th>2</th>\n",
       "      <td>BRD-A53576514-048-02-8</td>\n",
       "      <td>0.046175</td>\n",
       "      <td>0.183302</td>\n",
       "      <td>0.059661</td>\n",
       "    </tr>\n",
       "    <tr>\n",
       "      <th>3</th>\n",
       "      <td>BRD-A87435144-001-01-6</td>\n",
       "      <td>0.106790</td>\n",
       "      <td>0.078665</td>\n",
       "      <td>0.133939</td>\n",
       "    </tr>\n",
       "    <tr>\n",
       "      <th>4</th>\n",
       "      <td>BRD-K00818915-001-02-9</td>\n",
       "      <td>0.189290</td>\n",
       "      <td>0.189756</td>\n",
       "      <td>0.071897</td>\n",
       "    </tr>\n",
       "    <tr>\n",
       "      <th>...</th>\n",
       "      <td>...</td>\n",
       "      <td>...</td>\n",
       "      <td>...</td>\n",
       "      <td>...</td>\n",
       "    </tr>\n",
       "    <tr>\n",
       "      <th>85</th>\n",
       "      <td>BRD-K98251413-001-07-9</td>\n",
       "      <td>0.034381</td>\n",
       "      <td>0.207946</td>\n",
       "      <td>0.218591</td>\n",
       "    </tr>\n",
       "    <tr>\n",
       "      <th>86</th>\n",
       "      <td>BRD-K99092662-001-02-9</td>\n",
       "      <td>0.181962</td>\n",
       "      <td>0.038368</td>\n",
       "      <td>0.111170</td>\n",
       "    </tr>\n",
       "    <tr>\n",
       "      <th>87</th>\n",
       "      <td>BRD-K99113996-001-02-0</td>\n",
       "      <td>1.000000</td>\n",
       "      <td>1.000000</td>\n",
       "      <td>1.000000</td>\n",
       "    </tr>\n",
       "    <tr>\n",
       "      <th>88</th>\n",
       "      <td>BRD-K99433989-001-02-9</td>\n",
       "      <td>0.162272</td>\n",
       "      <td>0.698810</td>\n",
       "      <td>0.354452</td>\n",
       "    </tr>\n",
       "    <tr>\n",
       "      <th>89</th>\n",
       "      <td>BRD-M87138257-003-01-1</td>\n",
       "      <td>0.938889</td>\n",
       "      <td>0.698562</td>\n",
       "      <td>0.450754</td>\n",
       "    </tr>\n",
       "  </tbody>\n",
       "</table>\n",
       "<p>90 rows × 4 columns</p>\n",
       "</div>"
      ],
      "text/plain": [
       "     Metadata_broad_sample  average_precision_std  average_precision_mito  \\\n",
       "0   BRD-A12994259-001-11-9               0.109555                0.041064   \n",
       "1   BRD-A22769835-300-05-7               0.011390                0.029497   \n",
       "2   BRD-A53576514-048-02-8               0.046175                0.183302   \n",
       "3   BRD-A87435144-001-01-6               0.106790                0.078665   \n",
       "4   BRD-K00818915-001-02-9               0.189290                0.189756   \n",
       "..                     ...                    ...                     ...   \n",
       "85  BRD-K98251413-001-07-9               0.034381                0.207946   \n",
       "86  BRD-K99092662-001-02-9               0.181962                0.038368   \n",
       "87  BRD-K99113996-001-02-0               1.000000                1.000000   \n",
       "88  BRD-K99433989-001-02-9               0.162272                0.698810   \n",
       "89  BRD-M87138257-003-01-1               0.938889                0.698562   \n",
       "\n",
       "    average_precision_act  \n",
       "0                0.118931  \n",
       "1                0.023822  \n",
       "2                0.059661  \n",
       "3                0.133939  \n",
       "4                0.071897  \n",
       "..                    ...  \n",
       "85               0.218591  \n",
       "86               0.111170  \n",
       "87               1.000000  \n",
       "88               0.354452  \n",
       "89               0.450754  \n",
       "\n",
       "[90 rows x 4 columns]"
      ]
     },
     "execution_count": 25,
     "metadata": {},
     "output_type": "execute_result"
    }
   ],
   "source": [
    "combined_df"
   ]
  },
  {
   "cell_type": "markdown",
   "metadata": {},
   "source": [
    "#### Adding metadata information to the combined_df "
   ]
  },
  {
   "cell_type": "code",
   "execution_count": 26,
   "metadata": {},
   "outputs": [],
   "source": [
    "moa_metadata = pd.read_csv('copairs_csv\\\\LC00009948_MoA_Common_Names.csv')\n",
    "moa_metadata = moa_metadata.rename(columns = {'BRD with batch':'Metadata_broad_sample'})"
   ]
  },
  {
   "cell_type": "markdown",
   "metadata": {},
   "source": [
    "##### Extracting BRD ID from BROAD sample name "
   ]
  },
  {
   "cell_type": "code",
   "execution_count": 27,
   "metadata": {},
   "outputs": [],
   "source": [
    "def BRD_ID(i):\n",
    "    if type(i) != float:\n",
    "        ID = i.split('-')\n",
    "        return ID[1]\n",
    "\n"
   ]
  },
  {
   "cell_type": "code",
   "execution_count": 28,
   "metadata": {},
   "outputs": [],
   "source": [
    "combined_df['BRD ID'] = combined_df['Metadata_broad_sample'].map(BRD_ID)\n",
    "combined_moa_df = pd.merge(combined_df,moa_metadata, on = 'BRD ID')"
   ]
  },
  {
   "cell_type": "code",
   "execution_count": 30,
   "metadata": {},
   "outputs": [
    {
     "data": {
      "text/html": [
       "<div>\n",
       "<style scoped>\n",
       "    .dataframe tbody tr th:only-of-type {\n",
       "        vertical-align: middle;\n",
       "    }\n",
       "\n",
       "    .dataframe tbody tr th {\n",
       "        vertical-align: top;\n",
       "    }\n",
       "\n",
       "    .dataframe thead th {\n",
       "        text-align: right;\n",
       "    }\n",
       "</style>\n",
       "<table border=\"1\" class=\"dataframe\">\n",
       "  <thead>\n",
       "    <tr style=\"text-align: right;\">\n",
       "      <th></th>\n",
       "      <th>Metadata_broad_sample_x</th>\n",
       "      <th>average_precision_std</th>\n",
       "      <th>average_precision_mito</th>\n",
       "      <th>average_precision_act</th>\n",
       "      <th>BRD ID</th>\n",
       "      <th>Metadata_broad_sample_y</th>\n",
       "      <th>Common Name</th>\n",
       "      <th>MoA</th>\n",
       "    </tr>\n",
       "  </thead>\n",
       "  <tbody>\n",
       "    <tr>\n",
       "      <th>0</th>\n",
       "      <td>BRD-A12994259-001-11-9</td>\n",
       "      <td>0.109555</td>\n",
       "      <td>0.041064</td>\n",
       "      <td>0.118931</td>\n",
       "      <td>A12994259</td>\n",
       "      <td>BRD-A12994259-001-02-1</td>\n",
       "      <td>pomalidomide</td>\n",
       "      <td>tumor necrosis factor production inhibitor</td>\n",
       "    </tr>\n",
       "    <tr>\n",
       "      <th>1</th>\n",
       "      <td>BRD-A22769835-300-05-7</td>\n",
       "      <td>0.011390</td>\n",
       "      <td>0.029497</td>\n",
       "      <td>0.023822</td>\n",
       "      <td>A22769835</td>\n",
       "      <td>BRD-A22769835-300-05-7</td>\n",
       "      <td>homochlorcyclizine</td>\n",
       "      <td>antihistamine</td>\n",
       "    </tr>\n",
       "    <tr>\n",
       "      <th>2</th>\n",
       "      <td>BRD-A53576514-048-02-8</td>\n",
       "      <td>0.046175</td>\n",
       "      <td>0.183302</td>\n",
       "      <td>0.059661</td>\n",
       "      <td>A53576514</td>\n",
       "      <td>BRD-A53576514-048-14-3</td>\n",
       "      <td>orphenadrine</td>\n",
       "      <td>acetylcholine receptor antagonist</td>\n",
       "    </tr>\n",
       "    <tr>\n",
       "      <th>3</th>\n",
       "      <td>BRD-A87435144-001-01-6</td>\n",
       "      <td>0.106790</td>\n",
       "      <td>0.078665</td>\n",
       "      <td>0.133939</td>\n",
       "      <td>A87435144</td>\n",
       "      <td>BRD-A87435144-001-01-6</td>\n",
       "      <td>AZD7545</td>\n",
       "      <td>pyruvate dehydrogenase kinase inhibitor</td>\n",
       "    </tr>\n",
       "    <tr>\n",
       "      <th>4</th>\n",
       "      <td>BRD-K00818915-001-02-9</td>\n",
       "      <td>0.189290</td>\n",
       "      <td>0.189756</td>\n",
       "      <td>0.071897</td>\n",
       "      <td>K00818915</td>\n",
       "      <td>BRD-K00818915-003-01-8</td>\n",
       "      <td>SHP099</td>\n",
       "      <td>protein tyrosine kinase inhibitor</td>\n",
       "    </tr>\n",
       "    <tr>\n",
       "      <th>5</th>\n",
       "      <td>BRD-K01826510-001-09-9</td>\n",
       "      <td>0.037976</td>\n",
       "      <td>0.074683</td>\n",
       "      <td>0.018357</td>\n",
       "      <td>K01826510</td>\n",
       "      <td>BRD-K01826510-300-06-9</td>\n",
       "      <td>hydroxyzine</td>\n",
       "      <td>antihistamine</td>\n",
       "    </tr>\n",
       "    <tr>\n",
       "      <th>6</th>\n",
       "      <td>BRD-K02965346-001-01-8</td>\n",
       "      <td>0.916667</td>\n",
       "      <td>0.566919</td>\n",
       "      <td>0.858631</td>\n",
       "      <td>K02965346</td>\n",
       "      <td>BRD-K02965346-001-07-5</td>\n",
       "      <td>SU-11274</td>\n",
       "      <td>hepatocyte growth factor receptor inhibitor</td>\n",
       "    </tr>\n",
       "    <tr>\n",
       "      <th>7</th>\n",
       "      <td>BRD-K03063480-001-08-9</td>\n",
       "      <td>0.958333</td>\n",
       "      <td>0.580847</td>\n",
       "      <td>0.740972</td>\n",
       "      <td>K03063480</td>\n",
       "      <td>BRD-K03063480-001-06-6</td>\n",
       "      <td>PF-477736</td>\n",
       "      <td>CHK inhibitor</td>\n",
       "    </tr>\n",
       "    <tr>\n",
       "      <th>8</th>\n",
       "      <td>BRD-K04923131-001-17-9</td>\n",
       "      <td>1.000000</td>\n",
       "      <td>1.000000</td>\n",
       "      <td>0.586369</td>\n",
       "      <td>K04923131</td>\n",
       "      <td>BRD-K04923131-001-15-4</td>\n",
       "      <td>GSK-3-inhibitor-IX</td>\n",
       "      <td>glycogen synthase kinase inhibitor</td>\n",
       "    </tr>\n",
       "    <tr>\n",
       "      <th>9</th>\n",
       "      <td>BRD-K06182768-001-02-3</td>\n",
       "      <td>0.010157</td>\n",
       "      <td>0.062980</td>\n",
       "      <td>0.026257</td>\n",
       "      <td>K06182768</td>\n",
       "      <td>BRD-K06182768-001-06-4</td>\n",
       "      <td>A-366</td>\n",
       "      <td>histone lysine methyltransferase inhibitor</td>\n",
       "    </tr>\n",
       "    <tr>\n",
       "      <th>10</th>\n",
       "      <td>BRD-K06883221-001-02-9</td>\n",
       "      <td>0.027263</td>\n",
       "      <td>0.019430</td>\n",
       "      <td>0.024690</td>\n",
       "      <td>K06883221</td>\n",
       "      <td>BRD-K06883221-001-01-9</td>\n",
       "      <td>apratastat</td>\n",
       "      <td>tumor necrosis factor production inhibitor</td>\n",
       "    </tr>\n",
       "    <tr>\n",
       "      <th>11</th>\n",
       "      <td>BRD-K09372874-001-02-9</td>\n",
       "      <td>0.958333</td>\n",
       "      <td>0.979167</td>\n",
       "      <td>1.000000</td>\n",
       "      <td>K09372874</td>\n",
       "      <td>BRD-K09372874-001-01-0</td>\n",
       "      <td>merimepodib</td>\n",
       "      <td>inosine monophosphate dehydrogenase inhibitor</td>\n",
       "    </tr>\n",
       "    <tr>\n",
       "      <th>12</th>\n",
       "      <td>BRD-K12511835-003-03-9</td>\n",
       "      <td>1.000000</td>\n",
       "      <td>1.000000</td>\n",
       "      <td>0.794231</td>\n",
       "      <td>K12511835</td>\n",
       "      <td>BRD-K12511835-003-01-2</td>\n",
       "      <td>BMS-863233</td>\n",
       "      <td>CDC inhibitor</td>\n",
       "    </tr>\n",
       "    <tr>\n",
       "      <th>13</th>\n",
       "      <td>BRD-K12737986-001-01-4</td>\n",
       "      <td>0.187703</td>\n",
       "      <td>0.021221</td>\n",
       "      <td>0.075043</td>\n",
       "      <td>K12737986</td>\n",
       "      <td>BRD-K12737986-001-01-4</td>\n",
       "      <td>veliparib</td>\n",
       "      <td>PARP inhibitor</td>\n",
       "    </tr>\n",
       "    <tr>\n",
       "      <th>14</th>\n",
       "      <td>BRD-K13094524-001-10-9</td>\n",
       "      <td>0.177424</td>\n",
       "      <td>0.312146</td>\n",
       "      <td>0.187796</td>\n",
       "      <td>K13094524</td>\n",
       "      <td>BRD-K13094524-001-04-2</td>\n",
       "      <td>PFI-1</td>\n",
       "      <td>bromodomain inhibitor</td>\n",
       "    </tr>\n",
       "    <tr>\n",
       "      <th>15</th>\n",
       "      <td>BRD-K13606314-001-02-9</td>\n",
       "      <td>0.022485</td>\n",
       "      <td>0.025235</td>\n",
       "      <td>0.011739</td>\n",
       "      <td>K13606314</td>\n",
       "      <td>BRD-K13606314-001-01-3</td>\n",
       "      <td>P5091</td>\n",
       "      <td>ubiquitin specific protease inhibitor</td>\n",
       "    </tr>\n",
       "    <tr>\n",
       "      <th>16</th>\n",
       "      <td>BRD-K16189898-001-26-9</td>\n",
       "      <td>0.565424</td>\n",
       "      <td>1.000000</td>\n",
       "      <td>1.000000</td>\n",
       "      <td>K16189898</td>\n",
       "      <td>BRD-K16189898-003-03-3</td>\n",
       "      <td>CHIR-99021</td>\n",
       "      <td>glycogen synthase kinase inhibitor</td>\n",
       "    </tr>\n",
       "    <tr>\n",
       "      <th>17</th>\n",
       "      <td>BRD-K16803204-001-02-9</td>\n",
       "      <td>0.065686</td>\n",
       "      <td>0.087567</td>\n",
       "      <td>0.032413</td>\n",
       "      <td>K16803204</td>\n",
       "      <td>BRD-K16803204-001-01-6</td>\n",
       "      <td>filgotinib</td>\n",
       "      <td>JAK inhibitor</td>\n",
       "    </tr>\n",
       "    <tr>\n",
       "      <th>18</th>\n",
       "      <td>BRD-K17953061-001-05-1</td>\n",
       "      <td>0.693562</td>\n",
       "      <td>1.000000</td>\n",
       "      <td>0.650079</td>\n",
       "      <td>K17953061</td>\n",
       "      <td>BRD-K17953061-001-14-3</td>\n",
       "      <td>Staurosporine</td>\n",
       "      <td>Apoptosis inducer (ATP-competitive kinase inhi...</td>\n",
       "    </tr>\n",
       "    <tr>\n",
       "      <th>19</th>\n",
       "      <td>BRD-K19477839-001-10-9</td>\n",
       "      <td>0.054253</td>\n",
       "      <td>0.033475</td>\n",
       "      <td>0.022860</td>\n",
       "      <td>K19477839</td>\n",
       "      <td>BRD-K19477839-001-07-6</td>\n",
       "      <td>SGX523</td>\n",
       "      <td>hepatocyte growth factor receptor inhibitor</td>\n",
       "    </tr>\n",
       "    <tr>\n",
       "      <th>20</th>\n",
       "      <td>BRD-K19871656-001-01-3</td>\n",
       "      <td>0.896825</td>\n",
       "      <td>1.000000</td>\n",
       "      <td>1.000000</td>\n",
       "      <td>K19871656</td>\n",
       "      <td>BRD-K19871656-001-01-3</td>\n",
       "      <td>CPI-0610</td>\n",
       "      <td>bromodomain inhibitor</td>\n",
       "    </tr>\n",
       "    <tr>\n",
       "      <th>21</th>\n",
       "      <td>BRD-K20290250-001-03-9</td>\n",
       "      <td>0.220606</td>\n",
       "      <td>0.232274</td>\n",
       "      <td>0.158402</td>\n",
       "      <td>K20290250</td>\n",
       "      <td>BRD-K20290250-001-02-1</td>\n",
       "      <td>BIX-02188</td>\n",
       "      <td>MEK inhibitor</td>\n",
       "    </tr>\n",
       "    <tr>\n",
       "      <th>22</th>\n",
       "      <td>BRD-K21728777-001-03-9</td>\n",
       "      <td>0.927083</td>\n",
       "      <td>1.000000</td>\n",
       "      <td>1.000000</td>\n",
       "      <td>K21728777</td>\n",
       "      <td>BRD-K21728777-001-02-3</td>\n",
       "      <td>AMG900</td>\n",
       "      <td>Aurora kinase inhibitor</td>\n",
       "    </tr>\n",
       "    <tr>\n",
       "      <th>23</th>\n",
       "      <td>BRD-K23383398-001-08-1</td>\n",
       "      <td>0.843056</td>\n",
       "      <td>0.101092</td>\n",
       "      <td>0.623122</td>\n",
       "      <td>K23383398</td>\n",
       "      <td>BRD-K23383398-001-09-9</td>\n",
       "      <td>T-0901317</td>\n",
       "      <td>LXR agonist</td>\n",
       "    </tr>\n",
       "    <tr>\n",
       "      <th>24</th>\n",
       "      <td>BRD-K24600306-003-02-9</td>\n",
       "      <td>0.008888</td>\n",
       "      <td>0.054628</td>\n",
       "      <td>0.024035</td>\n",
       "      <td>K24600306</td>\n",
       "      <td>BRD-K24600306-003-02-9</td>\n",
       "      <td>ML-298</td>\n",
       "      <td>phospholipase inhibitor</td>\n",
       "    </tr>\n",
       "    <tr>\n",
       "      <th>25</th>\n",
       "      <td>BRD-K24696047-001-03-9</td>\n",
       "      <td>0.684127</td>\n",
       "      <td>0.387764</td>\n",
       "      <td>0.658929</td>\n",
       "      <td>K24696047</td>\n",
       "      <td>BRD-K24696047-001-02-3</td>\n",
       "      <td>NVP-AEW541</td>\n",
       "      <td>IGF-1 inhibitor</td>\n",
       "    </tr>\n",
       "    <tr>\n",
       "      <th>26</th>\n",
       "      <td>BRD-K25433859-003-03-1</td>\n",
       "      <td>0.014399</td>\n",
       "      <td>0.021027</td>\n",
       "      <td>0.141166</td>\n",
       "      <td>K25433859</td>\n",
       "      <td>BRD-K25433859-003-23-9</td>\n",
       "      <td>maprotiline</td>\n",
       "      <td>tricyclic antidepressant</td>\n",
       "    </tr>\n",
       "    <tr>\n",
       "      <th>27</th>\n",
       "      <td>BRD-K25611237-001-09-9</td>\n",
       "      <td>0.030328</td>\n",
       "      <td>0.083494</td>\n",
       "      <td>0.050275</td>\n",
       "      <td>K25611237</td>\n",
       "      <td>BRD-K25611237-001-02-1</td>\n",
       "      <td>ML324</td>\n",
       "      <td>histone lysine demethylase inhibitor</td>\n",
       "    </tr>\n",
       "    <tr>\n",
       "      <th>28</th>\n",
       "      <td>BRD-K28936863-051-14-0</td>\n",
       "      <td>0.063667</td>\n",
       "      <td>0.024264</td>\n",
       "      <td>0.038548</td>\n",
       "      <td>K28936863</td>\n",
       "      <td>BRD-K28936863-051-32-2</td>\n",
       "      <td>ketotifen</td>\n",
       "      <td>phosphodiesterase inhibitor</td>\n",
       "    </tr>\n",
       "    <tr>\n",
       "      <th>29</th>\n",
       "      <td>BRD-K30707190-001-06-9</td>\n",
       "      <td>0.026106</td>\n",
       "      <td>0.026108</td>\n",
       "      <td>0.019010</td>\n",
       "      <td>K30707190</td>\n",
       "      <td>BRD-K30707190-001-04-1</td>\n",
       "      <td>PNU-74654</td>\n",
       "      <td>beta-catenin inhibitor</td>\n",
       "    </tr>\n",
       "  </tbody>\n",
       "</table>\n",
       "</div>"
      ],
      "text/plain": [
       "   Metadata_broad_sample_x  average_precision_std  average_precision_mito  \\\n",
       "0   BRD-A12994259-001-11-9               0.109555                0.041064   \n",
       "1   BRD-A22769835-300-05-7               0.011390                0.029497   \n",
       "2   BRD-A53576514-048-02-8               0.046175                0.183302   \n",
       "3   BRD-A87435144-001-01-6               0.106790                0.078665   \n",
       "4   BRD-K00818915-001-02-9               0.189290                0.189756   \n",
       "5   BRD-K01826510-001-09-9               0.037976                0.074683   \n",
       "6   BRD-K02965346-001-01-8               0.916667                0.566919   \n",
       "7   BRD-K03063480-001-08-9               0.958333                0.580847   \n",
       "8   BRD-K04923131-001-17-9               1.000000                1.000000   \n",
       "9   BRD-K06182768-001-02-3               0.010157                0.062980   \n",
       "10  BRD-K06883221-001-02-9               0.027263                0.019430   \n",
       "11  BRD-K09372874-001-02-9               0.958333                0.979167   \n",
       "12  BRD-K12511835-003-03-9               1.000000                1.000000   \n",
       "13  BRD-K12737986-001-01-4               0.187703                0.021221   \n",
       "14  BRD-K13094524-001-10-9               0.177424                0.312146   \n",
       "15  BRD-K13606314-001-02-9               0.022485                0.025235   \n",
       "16  BRD-K16189898-001-26-9               0.565424                1.000000   \n",
       "17  BRD-K16803204-001-02-9               0.065686                0.087567   \n",
       "18  BRD-K17953061-001-05-1               0.693562                1.000000   \n",
       "19  BRD-K19477839-001-10-9               0.054253                0.033475   \n",
       "20  BRD-K19871656-001-01-3               0.896825                1.000000   \n",
       "21  BRD-K20290250-001-03-9               0.220606                0.232274   \n",
       "22  BRD-K21728777-001-03-9               0.927083                1.000000   \n",
       "23  BRD-K23383398-001-08-1               0.843056                0.101092   \n",
       "24  BRD-K24600306-003-02-9               0.008888                0.054628   \n",
       "25  BRD-K24696047-001-03-9               0.684127                0.387764   \n",
       "26  BRD-K25433859-003-03-1               0.014399                0.021027   \n",
       "27  BRD-K25611237-001-09-9               0.030328                0.083494   \n",
       "28  BRD-K28936863-051-14-0               0.063667                0.024264   \n",
       "29  BRD-K30707190-001-06-9               0.026106                0.026108   \n",
       "\n",
       "    average_precision_act     BRD ID Metadata_broad_sample_y  \\\n",
       "0                0.118931  A12994259  BRD-A12994259-001-02-1   \n",
       "1                0.023822  A22769835  BRD-A22769835-300-05-7   \n",
       "2                0.059661  A53576514  BRD-A53576514-048-14-3   \n",
       "3                0.133939  A87435144  BRD-A87435144-001-01-6   \n",
       "4                0.071897  K00818915  BRD-K00818915-003-01-8   \n",
       "5                0.018357  K01826510  BRD-K01826510-300-06-9   \n",
       "6                0.858631  K02965346  BRD-K02965346-001-07-5   \n",
       "7                0.740972  K03063480  BRD-K03063480-001-06-6   \n",
       "8                0.586369  K04923131  BRD-K04923131-001-15-4   \n",
       "9                0.026257  K06182768  BRD-K06182768-001-06-4   \n",
       "10               0.024690  K06883221  BRD-K06883221-001-01-9   \n",
       "11               1.000000  K09372874  BRD-K09372874-001-01-0   \n",
       "12               0.794231  K12511835  BRD-K12511835-003-01-2   \n",
       "13               0.075043  K12737986  BRD-K12737986-001-01-4   \n",
       "14               0.187796  K13094524  BRD-K13094524-001-04-2   \n",
       "15               0.011739  K13606314  BRD-K13606314-001-01-3   \n",
       "16               1.000000  K16189898  BRD-K16189898-003-03-3   \n",
       "17               0.032413  K16803204  BRD-K16803204-001-01-6   \n",
       "18               0.650079  K17953061  BRD-K17953061-001-14-3   \n",
       "19               0.022860  K19477839  BRD-K19477839-001-07-6   \n",
       "20               1.000000  K19871656  BRD-K19871656-001-01-3   \n",
       "21               0.158402  K20290250  BRD-K20290250-001-02-1   \n",
       "22               1.000000  K21728777  BRD-K21728777-001-02-3   \n",
       "23               0.623122  K23383398  BRD-K23383398-001-09-9   \n",
       "24               0.024035  K24600306  BRD-K24600306-003-02-9   \n",
       "25               0.658929  K24696047  BRD-K24696047-001-02-3   \n",
       "26               0.141166  K25433859  BRD-K25433859-003-23-9   \n",
       "27               0.050275  K25611237  BRD-K25611237-001-02-1   \n",
       "28               0.038548  K28936863  BRD-K28936863-051-32-2   \n",
       "29               0.019010  K30707190  BRD-K30707190-001-04-1   \n",
       "\n",
       "           Common Name                                                MoA  \n",
       "0         pomalidomide         tumor necrosis factor production inhibitor  \n",
       "1   homochlorcyclizine                                      antihistamine  \n",
       "2         orphenadrine                  acetylcholine receptor antagonist  \n",
       "3              AZD7545            pyruvate dehydrogenase kinase inhibitor  \n",
       "4               SHP099                  protein tyrosine kinase inhibitor  \n",
       "5          hydroxyzine                                      antihistamine  \n",
       "6             SU-11274        hepatocyte growth factor receptor inhibitor  \n",
       "7            PF-477736                                      CHK inhibitor  \n",
       "8   GSK-3-inhibitor-IX                 glycogen synthase kinase inhibitor  \n",
       "9                A-366         histone lysine methyltransferase inhibitor  \n",
       "10          apratastat         tumor necrosis factor production inhibitor  \n",
       "11         merimepodib      inosine monophosphate dehydrogenase inhibitor  \n",
       "12          BMS-863233                                      CDC inhibitor  \n",
       "13           veliparib                                     PARP inhibitor  \n",
       "14               PFI-1                              bromodomain inhibitor  \n",
       "15               P5091              ubiquitin specific protease inhibitor  \n",
       "16          CHIR-99021                 glycogen synthase kinase inhibitor  \n",
       "17          filgotinib                                      JAK inhibitor  \n",
       "18       Staurosporine  Apoptosis inducer (ATP-competitive kinase inhi...  \n",
       "19              SGX523        hepatocyte growth factor receptor inhibitor  \n",
       "20            CPI-0610                              bromodomain inhibitor  \n",
       "21           BIX-02188                                      MEK inhibitor  \n",
       "22              AMG900                            Aurora kinase inhibitor  \n",
       "23           T-0901317                                        LXR agonist  \n",
       "24              ML-298                            phospholipase inhibitor  \n",
       "25          NVP-AEW541                                    IGF-1 inhibitor  \n",
       "26         maprotiline                           tricyclic antidepressant  \n",
       "27               ML324               histone lysine demethylase inhibitor  \n",
       "28           ketotifen                        phosphodiesterase inhibitor  \n",
       "29           PNU-74654                             beta-catenin inhibitor  "
      ]
     },
     "execution_count": 30,
     "metadata": {},
     "output_type": "execute_result"
    }
   ],
   "source": [
    "combined_moa_df.head(30)"
   ]
  },
  {
   "cell_type": "markdown",
   "metadata": {},
   "source": [
    "### Generating columns for difference in mAP "
   ]
  },
  {
   "cell_type": "code",
   "execution_count": 33,
   "metadata": {},
   "outputs": [],
   "source": [
    "combined_moa_df['std_vs_act'] = combined_moa_df['average_precision_std'] - combined_moa_df['average_precision_act']\n",
    "combined_moa_df['std_vs_mito'] = combined_moa_df['average_precision_std'] - combined_moa_df['average_precision_mito']\n"
   ]
  },
  {
   "cell_type": "code",
   "execution_count": 34,
   "metadata": {},
   "outputs": [],
   "source": [
    "combined_moa_df.to_csv('copairs_csv\\\\PrecisionValues_with_MoA_allplates.csv')"
   ]
  },
  {
   "cell_type": "code",
   "execution_count": 35,
   "metadata": {},
   "outputs": [
    {
     "data": {
      "text/html": [
       "<div>\n",
       "<style scoped>\n",
       "    .dataframe tbody tr th:only-of-type {\n",
       "        vertical-align: middle;\n",
       "    }\n",
       "\n",
       "    .dataframe tbody tr th {\n",
       "        vertical-align: top;\n",
       "    }\n",
       "\n",
       "    .dataframe thead th {\n",
       "        text-align: right;\n",
       "    }\n",
       "</style>\n",
       "<table border=\"1\" class=\"dataframe\">\n",
       "  <thead>\n",
       "    <tr style=\"text-align: right;\">\n",
       "      <th></th>\n",
       "      <th>Metadata_broad_sample_x</th>\n",
       "      <th>average_precision_std</th>\n",
       "      <th>average_precision_mito</th>\n",
       "      <th>average_precision_act</th>\n",
       "      <th>BRD ID</th>\n",
       "      <th>Metadata_broad_sample_y</th>\n",
       "      <th>Common Name</th>\n",
       "      <th>MoA</th>\n",
       "      <th>std_vs_act</th>\n",
       "      <th>std_vs_mito</th>\n",
       "    </tr>\n",
       "  </thead>\n",
       "  <tbody>\n",
       "    <tr>\n",
       "      <th>0</th>\n",
       "      <td>BRD-A12994259-001-11-9</td>\n",
       "      <td>0.109555</td>\n",
       "      <td>0.041064</td>\n",
       "      <td>0.118931</td>\n",
       "      <td>A12994259</td>\n",
       "      <td>BRD-A12994259-001-02-1</td>\n",
       "      <td>pomalidomide</td>\n",
       "      <td>tumor necrosis factor production inhibitor</td>\n",
       "      <td>-0.009376</td>\n",
       "      <td>0.068491</td>\n",
       "    </tr>\n",
       "    <tr>\n",
       "      <th>1</th>\n",
       "      <td>BRD-A22769835-300-05-7</td>\n",
       "      <td>0.011390</td>\n",
       "      <td>0.029497</td>\n",
       "      <td>0.023822</td>\n",
       "      <td>A22769835</td>\n",
       "      <td>BRD-A22769835-300-05-7</td>\n",
       "      <td>homochlorcyclizine</td>\n",
       "      <td>antihistamine</td>\n",
       "      <td>-0.012432</td>\n",
       "      <td>-0.018106</td>\n",
       "    </tr>\n",
       "    <tr>\n",
       "      <th>2</th>\n",
       "      <td>BRD-A53576514-048-02-8</td>\n",
       "      <td>0.046175</td>\n",
       "      <td>0.183302</td>\n",
       "      <td>0.059661</td>\n",
       "      <td>A53576514</td>\n",
       "      <td>BRD-A53576514-048-14-3</td>\n",
       "      <td>orphenadrine</td>\n",
       "      <td>acetylcholine receptor antagonist</td>\n",
       "      <td>-0.013486</td>\n",
       "      <td>-0.137127</td>\n",
       "    </tr>\n",
       "    <tr>\n",
       "      <th>3</th>\n",
       "      <td>BRD-A87435144-001-01-6</td>\n",
       "      <td>0.106790</td>\n",
       "      <td>0.078665</td>\n",
       "      <td>0.133939</td>\n",
       "      <td>A87435144</td>\n",
       "      <td>BRD-A87435144-001-01-6</td>\n",
       "      <td>AZD7545</td>\n",
       "      <td>pyruvate dehydrogenase kinase inhibitor</td>\n",
       "      <td>-0.027149</td>\n",
       "      <td>0.028125</td>\n",
       "    </tr>\n",
       "    <tr>\n",
       "      <th>4</th>\n",
       "      <td>BRD-K00818915-001-02-9</td>\n",
       "      <td>0.189290</td>\n",
       "      <td>0.189756</td>\n",
       "      <td>0.071897</td>\n",
       "      <td>K00818915</td>\n",
       "      <td>BRD-K00818915-003-01-8</td>\n",
       "      <td>SHP099</td>\n",
       "      <td>protein tyrosine kinase inhibitor</td>\n",
       "      <td>0.117393</td>\n",
       "      <td>-0.000466</td>\n",
       "    </tr>\n",
       "    <tr>\n",
       "      <th>...</th>\n",
       "      <td>...</td>\n",
       "      <td>...</td>\n",
       "      <td>...</td>\n",
       "      <td>...</td>\n",
       "      <td>...</td>\n",
       "      <td>...</td>\n",
       "      <td>...</td>\n",
       "      <td>...</td>\n",
       "      <td>...</td>\n",
       "      <td>...</td>\n",
       "    </tr>\n",
       "    <tr>\n",
       "      <th>85</th>\n",
       "      <td>BRD-K98251413-001-07-9</td>\n",
       "      <td>0.034381</td>\n",
       "      <td>0.207946</td>\n",
       "      <td>0.218591</td>\n",
       "      <td>K98251413</td>\n",
       "      <td>BRD-K98251413-001-04-0</td>\n",
       "      <td>IOX2</td>\n",
       "      <td>hypoxia inducible factor inhibitor</td>\n",
       "      <td>-0.184210</td>\n",
       "      <td>-0.173566</td>\n",
       "    </tr>\n",
       "    <tr>\n",
       "      <th>86</th>\n",
       "      <td>BRD-K99092662-001-02-9</td>\n",
       "      <td>0.181962</td>\n",
       "      <td>0.038368</td>\n",
       "      <td>0.111170</td>\n",
       "      <td>K99092662</td>\n",
       "      <td>BRD-K99092662-001-01-1</td>\n",
       "      <td>PS178990</td>\n",
       "      <td>androgen receptor modulator</td>\n",
       "      <td>0.070791</td>\n",
       "      <td>0.143594</td>\n",
       "    </tr>\n",
       "    <tr>\n",
       "      <th>87</th>\n",
       "      <td>BRD-K99113996-001-02-0</td>\n",
       "      <td>1.000000</td>\n",
       "      <td>1.000000</td>\n",
       "      <td>1.000000</td>\n",
       "      <td>K99113996</td>\n",
       "      <td>BRD-K99113996-001-02-0</td>\n",
       "      <td>AZD2014</td>\n",
       "      <td>mTOR inhibitor</td>\n",
       "      <td>0.000000</td>\n",
       "      <td>0.000000</td>\n",
       "    </tr>\n",
       "    <tr>\n",
       "      <th>88</th>\n",
       "      <td>BRD-K99433989-001-02-9</td>\n",
       "      <td>0.162272</td>\n",
       "      <td>0.698810</td>\n",
       "      <td>0.354452</td>\n",
       "      <td>K99433989</td>\n",
       "      <td>BRD-K99433989-001-02-9</td>\n",
       "      <td>SAG</td>\n",
       "      <td>smoothened receptor agonist</td>\n",
       "      <td>-0.192180</td>\n",
       "      <td>-0.536537</td>\n",
       "    </tr>\n",
       "    <tr>\n",
       "      <th>89</th>\n",
       "      <td>BRD-M87138257-003-01-1</td>\n",
       "      <td>0.938889</td>\n",
       "      <td>0.698562</td>\n",
       "      <td>0.450754</td>\n",
       "      <td>M87138257</td>\n",
       "      <td>BRD-M87138257-003-01-1</td>\n",
       "      <td>acriflavine</td>\n",
       "      <td>hypoxia inducible factor inhibitor</td>\n",
       "      <td>0.488135</td>\n",
       "      <td>0.240327</td>\n",
       "    </tr>\n",
       "  </tbody>\n",
       "</table>\n",
       "<p>90 rows × 10 columns</p>\n",
       "</div>"
      ],
      "text/plain": [
       "   Metadata_broad_sample_x  average_precision_std  average_precision_mito  \\\n",
       "0   BRD-A12994259-001-11-9               0.109555                0.041064   \n",
       "1   BRD-A22769835-300-05-7               0.011390                0.029497   \n",
       "2   BRD-A53576514-048-02-8               0.046175                0.183302   \n",
       "3   BRD-A87435144-001-01-6               0.106790                0.078665   \n",
       "4   BRD-K00818915-001-02-9               0.189290                0.189756   \n",
       "..                     ...                    ...                     ...   \n",
       "85  BRD-K98251413-001-07-9               0.034381                0.207946   \n",
       "86  BRD-K99092662-001-02-9               0.181962                0.038368   \n",
       "87  BRD-K99113996-001-02-0               1.000000                1.000000   \n",
       "88  BRD-K99433989-001-02-9               0.162272                0.698810   \n",
       "89  BRD-M87138257-003-01-1               0.938889                0.698562   \n",
       "\n",
       "    average_precision_act     BRD ID Metadata_broad_sample_y  \\\n",
       "0                0.118931  A12994259  BRD-A12994259-001-02-1   \n",
       "1                0.023822  A22769835  BRD-A22769835-300-05-7   \n",
       "2                0.059661  A53576514  BRD-A53576514-048-14-3   \n",
       "3                0.133939  A87435144  BRD-A87435144-001-01-6   \n",
       "4                0.071897  K00818915  BRD-K00818915-003-01-8   \n",
       "..                    ...        ...                     ...   \n",
       "85               0.218591  K98251413  BRD-K98251413-001-04-0   \n",
       "86               0.111170  K99092662  BRD-K99092662-001-01-1   \n",
       "87               1.000000  K99113996  BRD-K99113996-001-02-0   \n",
       "88               0.354452  K99433989  BRD-K99433989-001-02-9   \n",
       "89               0.450754  M87138257  BRD-M87138257-003-01-1   \n",
       "\n",
       "           Common Name                                         MoA  \\\n",
       "0         pomalidomide  tumor necrosis factor production inhibitor   \n",
       "1   homochlorcyclizine                               antihistamine   \n",
       "2         orphenadrine           acetylcholine receptor antagonist   \n",
       "3              AZD7545     pyruvate dehydrogenase kinase inhibitor   \n",
       "4               SHP099           protein tyrosine kinase inhibitor   \n",
       "..                 ...                                         ...   \n",
       "85                IOX2          hypoxia inducible factor inhibitor   \n",
       "86            PS178990                 androgen receptor modulator   \n",
       "87             AZD2014                              mTOR inhibitor   \n",
       "88                 SAG                 smoothened receptor agonist   \n",
       "89         acriflavine          hypoxia inducible factor inhibitor   \n",
       "\n",
       "    std_vs_act  std_vs_mito  \n",
       "0    -0.009376     0.068491  \n",
       "1    -0.012432    -0.018106  \n",
       "2    -0.013486    -0.137127  \n",
       "3    -0.027149     0.028125  \n",
       "4     0.117393    -0.000466  \n",
       "..         ...          ...  \n",
       "85   -0.184210    -0.173566  \n",
       "86    0.070791     0.143594  \n",
       "87    0.000000     0.000000  \n",
       "88   -0.192180    -0.536537  \n",
       "89    0.488135     0.240327  \n",
       "\n",
       "[90 rows x 10 columns]"
      ]
     },
     "execution_count": 35,
     "metadata": {},
     "output_type": "execute_result"
    }
   ],
   "source": [
    "combined_moa_df"
   ]
  }
 ],
 "metadata": {
  "kernelspec": {
   "display_name": "base",
   "language": "python",
   "name": "python3"
  },
  "language_info": {
   "codemirror_mode": {
    "name": "ipython",
    "version": 3
   },
   "file_extension": ".py",
   "mimetype": "text/x-python",
   "name": "python",
   "nbconvert_exporter": "python",
   "pygments_lexer": "ipython3",
   "version": "3.9.13"
  },
  "orig_nbformat": 4
 },
 "nbformat": 4,
 "nbformat_minor": 2
}
