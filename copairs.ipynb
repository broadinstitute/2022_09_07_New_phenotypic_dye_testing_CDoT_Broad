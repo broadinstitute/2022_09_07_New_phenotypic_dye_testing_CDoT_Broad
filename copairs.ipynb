{
 "cells": [
  {
   "cell_type": "markdown",
   "metadata": {},
   "source": [
    "### Modules import"
   ]
  },
  {
   "cell_type": "code",
   "execution_count": 165,
   "metadata": {},
   "outputs": [],
   "source": [
    "import pandas as pd\n",
    "from copairs.map import run_pipeline\n",
    "import numpy as np\n",
    "\n",
    "import plotly.express as px\n",
    "from plotly.subplots import make_subplots\n",
    "import plotly.graph_objects as go\n",
    "\n",
    "import logging\n",
    "logging.basicConfig(format='%(levelname)s:%(asctime)s:%(name)s:%(message)s')\n",
    "logging.getLogger(\"copairs\").setLevel(logging.INFO)"
   ]
  },
  {
   "cell_type": "markdown",
   "metadata": {},
   "source": [
    "### Reading the dataframe \n",
    "Batch 1 consists of plate with standard CP dye and other plate stained with Tocris Mitobrilliant dye"
   ]
  },
  {
   "cell_type": "code",
   "execution_count": 5,
   "metadata": {},
   "outputs": [],
   "source": [
    "batch1_df = pd.read_csv('C:\\\\Users\\\\ssivagur\\\\Documents\\\\Cell_painting_projects\\\\CDoT\\\\Batch1\\\\2023_05_15_Batch1_normalized_feature_select_batch.csv.gz')"
   ]
  },
  {
   "cell_type": "markdown",
   "metadata": {},
   "source": [
    "##### Batch 2 consists of plate stained with Phalloidin 400LS"
   ]
  },
  {
   "cell_type": "code",
   "execution_count": 8,
   "metadata": {},
   "outputs": [],
   "source": [
    "batch2_df = pd.read_csv('C:\\\\Users\\\\ssivagur\\\\Documents\\\\Cell_painting_projects\\\\CDoT\\\\Batch2\\\\2023_05_17_Batch2_normalized_feature_select_batch.csv.gz')"
   ]
  },
  {
   "attachments": {},
   "cell_type": "markdown",
   "metadata": {},
   "source": [
    "##### Defining parameters to compute map"
   ]
  },
  {
   "cell_type": "code",
   "execution_count": 9,
   "metadata": {},
   "outputs": [],
   "source": [
    "plate_col = 'Metadata_Plate'\n",
    "well_col = 'Metadata_Well'\n",
    "pert_col = 'Metadata_broad_sample'"
   ]
  },
  {
   "cell_type": "markdown",
   "metadata": {},
   "source": [
    "#### First set of parameters which was not used since the analysis was done by plate which can be found later in the notebook"
   ]
  },
  {
   "cell_type": "code",
   "execution_count": 50,
   "metadata": {},
   "outputs": [],
   "source": [
    "pos_sameby = [pert_col]\n",
    "pos_diffby = []\n",
    "\n",
    "neg_sameby = [plate_col]\n",
    "neg_diffby = [pert_col]\n",
    "null_size =10000"
   ]
  },
  {
   "cell_type": "code",
   "execution_count": 56,
   "metadata": {},
   "outputs": [],
   "source": [
    "metadata_names = [c for c in batch1_df.columns if  c.startswith('Metadata')]\n",
    "feature_names = [c for c in batch1_df.columns if not c.startswith('Metadata')]\n",
    "feats = batch1_df[feature_names].values\n",
    "dframe = batch1_df[metadata_names]"
   ]
  },
  {
   "cell_type": "code",
   "execution_count": 60,
   "metadata": {},
   "outputs": [
    {
     "name": "stderr",
     "output_type": "stream",
     "text": [
      "INFO:2023-07-06 15:45:14,659:copairs:Indexing metadata...\n",
      "INFO:2023-07-06 15:45:14,664:copairs:Finding positive pairs...\n",
      "INFO:2023-07-06 15:45:14,667:copairs:dropping dups...\n",
      "INFO:2023-07-06 15:45:14,670:copairs:Finding negative pairs...\n",
      "INFO:2023-07-06 15:45:14,722:copairs:dropping dups...\n",
      "INFO:2023-07-06 15:45:14,818:copairs:Computing positive similarities...\n"
     ]
    },
    {
     "data": {
      "application/vnd.jupyter.widget-view+json": {
       "model_id": "1f4c1bd4156d4c93aa7cc53467a209cc",
       "version_major": 2,
       "version_minor": 0
      },
      "text/plain": [
       "  0%|          | 0/1 [00:00<?, ?it/s]"
      ]
     },
     "metadata": {},
     "output_type": "display_data"
    },
    {
     "name": "stderr",
     "output_type": "stream",
     "text": [
      "INFO:2023-07-06 15:45:15,431:copairs:Computing negative similarities...\n"
     ]
    },
    {
     "data": {
      "application/vnd.jupyter.widget-view+json": {
       "model_id": "4e08b1ad4165495b9acdb9b36179d2ee",
       "version_major": 2,
       "version_minor": 0
      },
      "text/plain": [
       "  0%|          | 0/8 [00:00<?, ?it/s]"
      ]
     },
     "metadata": {},
     "output_type": "display_data"
    },
    {
     "name": "stderr",
     "output_type": "stream",
     "text": [
      "INFO:2023-07-06 15:45:17,193:copairs:Building rank lists...\n",
      "INFO:2023-07-06 15:45:17,364:copairs:Computing average precision...\n",
      "INFO:2023-07-06 15:45:17,378:copairs:Computing null distributions...\n",
      "INFO:2023-07-06 15:45:18,763:copairs:Computing P-values...\n",
      "INFO:2023-07-06 15:45:18,775:copairs:Creating result DataFrame...\n",
      "INFO:2023-07-06 15:45:18,777:copairs:Finished.\n"
     ]
    }
   ],
   "source": [
    "result = run_pipeline(dframe, feats, \n",
    "                      pos_sameby, pos_diffby,\n",
    "                      neg_sameby, neg_diffby,\n",
    "                      null_size\n",
    "                     )"
   ]
  },
  {
   "cell_type": "code",
   "execution_count": 61,
   "metadata": {},
   "outputs": [
    {
     "data": {
      "text/html": [
       "<div>\n",
       "<style scoped>\n",
       "    .dataframe tbody tr th:only-of-type {\n",
       "        vertical-align: middle;\n",
       "    }\n",
       "\n",
       "    .dataframe tbody tr th {\n",
       "        vertical-align: top;\n",
       "    }\n",
       "\n",
       "    .dataframe thead th {\n",
       "        text-align: right;\n",
       "    }\n",
       "</style>\n",
       "<table border=\"1\" class=\"dataframe\">\n",
       "  <thead>\n",
       "    <tr style=\"text-align: right;\">\n",
       "      <th></th>\n",
       "      <th>Metadata_plate_map_name</th>\n",
       "      <th>Metadata_broad_sample</th>\n",
       "      <th>Metadata_mg_per_ml</th>\n",
       "      <th>Metadata_mmoles_per_liter</th>\n",
       "      <th>Metadata_solvent</th>\n",
       "      <th>Metadata_BRD ID</th>\n",
       "      <th>Metadata_BRD with batch</th>\n",
       "      <th>Metadata_Common Name</th>\n",
       "      <th>Metadata_MoA</th>\n",
       "      <th>Metadata_Plate</th>\n",
       "      <th>Metadata_Well</th>\n",
       "      <th>Metadata_Site_Count</th>\n",
       "      <th>Metadata_Count_Cells</th>\n",
       "      <th>Metadata_Count_Cytoplasm</th>\n",
       "      <th>Metadata_Count_Nuclei</th>\n",
       "      <th>Metadata_Object_Count</th>\n",
       "      <th>Metadata_batch</th>\n",
       "      <th>p_value</th>\n",
       "      <th>average_precision</th>\n",
       "    </tr>\n",
       "  </thead>\n",
       "  <tbody>\n",
       "    <tr>\n",
       "      <th>0</th>\n",
       "      <td>S-C-7314-04-CMP-001</td>\n",
       "      <td>BRD-K62391742-001-19-9</td>\n",
       "      <td>4.3422</td>\n",
       "      <td>5.0</td>\n",
       "      <td>DMSO</td>\n",
       "      <td>K62391742</td>\n",
       "      <td>BRD-K62391742-001-03-0</td>\n",
       "      <td>venetoclax</td>\n",
       "      <td>BCL inhibitor</td>\n",
       "      <td>BR00122250</td>\n",
       "      <td>A01</td>\n",
       "      <td>9</td>\n",
       "      <td>3121</td>\n",
       "      <td>3121</td>\n",
       "      <td>3121</td>\n",
       "      <td>3121</td>\n",
       "      <td>2023_05_15_Batch1</td>\n",
       "      <td>0.019498</td>\n",
       "      <td>0.125965</td>\n",
       "    </tr>\n",
       "    <tr>\n",
       "      <th>1</th>\n",
       "      <td>S-C-7314-04-CMP-001</td>\n",
       "      <td>BRD-K19477839-001-10-9</td>\n",
       "      <td>1.7970</td>\n",
       "      <td>5.0</td>\n",
       "      <td>DMSO</td>\n",
       "      <td>K19477839</td>\n",
       "      <td>BRD-K19477839-001-07-6</td>\n",
       "      <td>SGX523</td>\n",
       "      <td>hepatocyte growth factor receptor inhibitor</td>\n",
       "      <td>BR00122250</td>\n",
       "      <td>A02</td>\n",
       "      <td>9</td>\n",
       "      <td>3804</td>\n",
       "      <td>3804</td>\n",
       "      <td>3804</td>\n",
       "      <td>3804</td>\n",
       "      <td>2023_05_15_Batch1</td>\n",
       "      <td>0.024398</td>\n",
       "      <td>0.107854</td>\n",
       "    </tr>\n",
       "    <tr>\n",
       "      <th>2</th>\n",
       "      <td>S-C-7314-04-CMP-001</td>\n",
       "      <td>BRD-K54759182-003-09-8</td>\n",
       "      <td>1.6595</td>\n",
       "      <td>5.0</td>\n",
       "      <td>DMSO</td>\n",
       "      <td>K54759182</td>\n",
       "      <td>BRD-K54759182-003-08-0</td>\n",
       "      <td>dosulepin</td>\n",
       "      <td>tricyclic antidepressant</td>\n",
       "      <td>BR00122250</td>\n",
       "      <td>A03</td>\n",
       "      <td>9</td>\n",
       "      <td>3766</td>\n",
       "      <td>3766</td>\n",
       "      <td>3766</td>\n",
       "      <td>3766</td>\n",
       "      <td>2023_05_15_Batch1</td>\n",
       "      <td>0.261774</td>\n",
       "      <td>0.033022</td>\n",
       "    </tr>\n",
       "    <tr>\n",
       "      <th>3</th>\n",
       "      <td>S-C-7314-04-CMP-001</td>\n",
       "      <td>BRD-K70642949-001-06-9</td>\n",
       "      <td>2.3130</td>\n",
       "      <td>5.0</td>\n",
       "      <td>DMSO</td>\n",
       "      <td>K70642949</td>\n",
       "      <td>BRD-K70642949-001-04-5</td>\n",
       "      <td>GSK2334470</td>\n",
       "      <td>phosphoinositide dependent kinase inhibitor</td>\n",
       "      <td>BR00122250</td>\n",
       "      <td>A04</td>\n",
       "      <td>9</td>\n",
       "      <td>2922</td>\n",
       "      <td>2922</td>\n",
       "      <td>2922</td>\n",
       "      <td>2922</td>\n",
       "      <td>2023_05_15_Batch1</td>\n",
       "      <td>0.000100</td>\n",
       "      <td>0.878419</td>\n",
       "    </tr>\n",
       "    <tr>\n",
       "      <th>4</th>\n",
       "      <td>S-C-7314-04-CMP-001</td>\n",
       "      <td>BRD-K73397362-001-09-9</td>\n",
       "      <td>2.6031</td>\n",
       "      <td>5.0</td>\n",
       "      <td>DMSO</td>\n",
       "      <td>K73397362</td>\n",
       "      <td>BRD-K73397362-001-06-6</td>\n",
       "      <td>purmorphamine</td>\n",
       "      <td>smoothened receptor agonist</td>\n",
       "      <td>BR00122250</td>\n",
       "      <td>A05</td>\n",
       "      <td>9</td>\n",
       "      <td>3971</td>\n",
       "      <td>3971</td>\n",
       "      <td>3971</td>\n",
       "      <td>3971</td>\n",
       "      <td>2023_05_15_Batch1</td>\n",
       "      <td>0.000100</td>\n",
       "      <td>0.348926</td>\n",
       "    </tr>\n",
       "    <tr>\n",
       "      <th>...</th>\n",
       "      <td>...</td>\n",
       "      <td>...</td>\n",
       "      <td>...</td>\n",
       "      <td>...</td>\n",
       "      <td>...</td>\n",
       "      <td>...</td>\n",
       "      <td>...</td>\n",
       "      <td>...</td>\n",
       "      <td>...</td>\n",
       "      <td>...</td>\n",
       "      <td>...</td>\n",
       "      <td>...</td>\n",
       "      <td>...</td>\n",
       "      <td>...</td>\n",
       "      <td>...</td>\n",
       "      <td>...</td>\n",
       "      <td>...</td>\n",
       "      <td>...</td>\n",
       "      <td>...</td>\n",
       "    </tr>\n",
       "    <tr>\n",
       "      <th>762</th>\n",
       "      <td>S-C-7314-04-CMP-001</td>\n",
       "      <td>BRD-K63631219-001-01-6</td>\n",
       "      <td>1.1784</td>\n",
       "      <td>5.0</td>\n",
       "      <td>DMSO</td>\n",
       "      <td>K63631219</td>\n",
       "      <td>BRD-K63631219-001-01-6</td>\n",
       "      <td>quazinone</td>\n",
       "      <td>phosphodiesterase inhibitor</td>\n",
       "      <td>BR00122246</td>\n",
       "      <td>P20</td>\n",
       "      <td>9</td>\n",
       "      <td>3899</td>\n",
       "      <td>3899</td>\n",
       "      <td>3899</td>\n",
       "      <td>3899</td>\n",
       "      <td>2023_05_15_Batch1</td>\n",
       "      <td>0.214379</td>\n",
       "      <td>0.037031</td>\n",
       "    </tr>\n",
       "    <tr>\n",
       "      <th>763</th>\n",
       "      <td>S-C-7314-04-CMP-001</td>\n",
       "      <td>BRD-K13094524-001-10-9</td>\n",
       "      <td>1.7369</td>\n",
       "      <td>5.0</td>\n",
       "      <td>DMSO</td>\n",
       "      <td>K13094524</td>\n",
       "      <td>BRD-K13094524-001-04-2</td>\n",
       "      <td>PFI-1</td>\n",
       "      <td>bromodomain inhibitor</td>\n",
       "      <td>BR00122246</td>\n",
       "      <td>P21</td>\n",
       "      <td>9</td>\n",
       "      <td>3614</td>\n",
       "      <td>3614</td>\n",
       "      <td>3614</td>\n",
       "      <td>3614</td>\n",
       "      <td>2023_05_15_Batch1</td>\n",
       "      <td>0.020098</td>\n",
       "      <td>0.125007</td>\n",
       "    </tr>\n",
       "    <tr>\n",
       "      <th>764</th>\n",
       "      <td>S-C-7314-04-CMP-001</td>\n",
       "      <td>BRD-K82941592-238-06-9</td>\n",
       "      <td>2.6182</td>\n",
       "      <td>5.0</td>\n",
       "      <td>DMSO</td>\n",
       "      <td>K82941592</td>\n",
       "      <td>BRD-K82941592-238-03-7</td>\n",
       "      <td>rosuvastatin</td>\n",
       "      <td>HMGCR inhibitor</td>\n",
       "      <td>BR00122246</td>\n",
       "      <td>P22</td>\n",
       "      <td>9</td>\n",
       "      <td>3995</td>\n",
       "      <td>3995</td>\n",
       "      <td>3995</td>\n",
       "      <td>3995</td>\n",
       "      <td>2023_05_15_Batch1</td>\n",
       "      <td>0.074493</td>\n",
       "      <td>0.062878</td>\n",
       "    </tr>\n",
       "    <tr>\n",
       "      <th>765</th>\n",
       "      <td>S-C-7314-04-CMP-001</td>\n",
       "      <td>NaN</td>\n",
       "      <td>NaN</td>\n",
       "      <td>NaN</td>\n",
       "      <td>DMSO</td>\n",
       "      <td>NaN</td>\n",
       "      <td>NaN</td>\n",
       "      <td>NaN</td>\n",
       "      <td>NaN</td>\n",
       "      <td>BR00122246</td>\n",
       "      <td>P23</td>\n",
       "      <td>9</td>\n",
       "      <td>4099</td>\n",
       "      <td>4099</td>\n",
       "      <td>4099</td>\n",
       "      <td>4099</td>\n",
       "      <td>2023_05_15_Batch1</td>\n",
       "      <td>0.000100</td>\n",
       "      <td>NaN</td>\n",
       "    </tr>\n",
       "    <tr>\n",
       "      <th>766</th>\n",
       "      <td>S-C-7314-04-CMP-001</td>\n",
       "      <td>BRD-K36234266-001-10-6</td>\n",
       "      <td>1.0702</td>\n",
       "      <td>5.0</td>\n",
       "      <td>DMSO</td>\n",
       "      <td>K36234266</td>\n",
       "      <td>BRD-K36234266-001-09-8</td>\n",
       "      <td>carmustine</td>\n",
       "      <td>DNA inhibitor</td>\n",
       "      <td>BR00122246</td>\n",
       "      <td>P24</td>\n",
       "      <td>9</td>\n",
       "      <td>3411</td>\n",
       "      <td>3411</td>\n",
       "      <td>3411</td>\n",
       "      <td>3411</td>\n",
       "      <td>2023_05_15_Batch1</td>\n",
       "      <td>0.015498</td>\n",
       "      <td>0.158571</td>\n",
       "    </tr>\n",
       "  </tbody>\n",
       "</table>\n",
       "<p>767 rows × 19 columns</p>\n",
       "</div>"
      ],
      "text/plain": [
       "    Metadata_plate_map_name   Metadata_broad_sample  Metadata_mg_per_ml  \\\n",
       "0       S-C-7314-04-CMP-001  BRD-K62391742-001-19-9              4.3422   \n",
       "1       S-C-7314-04-CMP-001  BRD-K19477839-001-10-9              1.7970   \n",
       "2       S-C-7314-04-CMP-001  BRD-K54759182-003-09-8              1.6595   \n",
       "3       S-C-7314-04-CMP-001  BRD-K70642949-001-06-9              2.3130   \n",
       "4       S-C-7314-04-CMP-001  BRD-K73397362-001-09-9              2.6031   \n",
       "..                      ...                     ...                 ...   \n",
       "762     S-C-7314-04-CMP-001  BRD-K63631219-001-01-6              1.1784   \n",
       "763     S-C-7314-04-CMP-001  BRD-K13094524-001-10-9              1.7369   \n",
       "764     S-C-7314-04-CMP-001  BRD-K82941592-238-06-9              2.6182   \n",
       "765     S-C-7314-04-CMP-001                     NaN                 NaN   \n",
       "766     S-C-7314-04-CMP-001  BRD-K36234266-001-10-6              1.0702   \n",
       "\n",
       "     Metadata_mmoles_per_liter Metadata_solvent Metadata_BRD ID  \\\n",
       "0                          5.0             DMSO       K62391742   \n",
       "1                          5.0             DMSO       K19477839   \n",
       "2                          5.0             DMSO       K54759182   \n",
       "3                          5.0             DMSO       K70642949   \n",
       "4                          5.0             DMSO       K73397362   \n",
       "..                         ...              ...             ...   \n",
       "762                        5.0             DMSO       K63631219   \n",
       "763                        5.0             DMSO       K13094524   \n",
       "764                        5.0             DMSO       K82941592   \n",
       "765                        NaN             DMSO             NaN   \n",
       "766                        5.0             DMSO       K36234266   \n",
       "\n",
       "    Metadata_BRD with batch Metadata_Common Name  \\\n",
       "0    BRD-K62391742-001-03-0           venetoclax   \n",
       "1    BRD-K19477839-001-07-6               SGX523   \n",
       "2    BRD-K54759182-003-08-0            dosulepin   \n",
       "3    BRD-K70642949-001-04-5           GSK2334470   \n",
       "4    BRD-K73397362-001-06-6        purmorphamine   \n",
       "..                      ...                  ...   \n",
       "762  BRD-K63631219-001-01-6            quazinone   \n",
       "763  BRD-K13094524-001-04-2                PFI-1   \n",
       "764  BRD-K82941592-238-03-7         rosuvastatin   \n",
       "765                     NaN                  NaN   \n",
       "766  BRD-K36234266-001-09-8           carmustine   \n",
       "\n",
       "                                    Metadata_MoA Metadata_Plate Metadata_Well  \\\n",
       "0                                  BCL inhibitor     BR00122250           A01   \n",
       "1    hepatocyte growth factor receptor inhibitor     BR00122250           A02   \n",
       "2                       tricyclic antidepressant     BR00122250           A03   \n",
       "3    phosphoinositide dependent kinase inhibitor     BR00122250           A04   \n",
       "4                    smoothened receptor agonist     BR00122250           A05   \n",
       "..                                           ...            ...           ...   \n",
       "762                  phosphodiesterase inhibitor     BR00122246           P20   \n",
       "763                        bromodomain inhibitor     BR00122246           P21   \n",
       "764                              HMGCR inhibitor     BR00122246           P22   \n",
       "765                                          NaN     BR00122246           P23   \n",
       "766                                DNA inhibitor     BR00122246           P24   \n",
       "\n",
       "     Metadata_Site_Count  Metadata_Count_Cells  Metadata_Count_Cytoplasm  \\\n",
       "0                      9                  3121                      3121   \n",
       "1                      9                  3804                      3804   \n",
       "2                      9                  3766                      3766   \n",
       "3                      9                  2922                      2922   \n",
       "4                      9                  3971                      3971   \n",
       "..                   ...                   ...                       ...   \n",
       "762                    9                  3899                      3899   \n",
       "763                    9                  3614                      3614   \n",
       "764                    9                  3995                      3995   \n",
       "765                    9                  4099                      4099   \n",
       "766                    9                  3411                      3411   \n",
       "\n",
       "     Metadata_Count_Nuclei  Metadata_Object_Count     Metadata_batch  \\\n",
       "0                     3121                   3121  2023_05_15_Batch1   \n",
       "1                     3804                   3804  2023_05_15_Batch1   \n",
       "2                     3766                   3766  2023_05_15_Batch1   \n",
       "3                     2922                   2922  2023_05_15_Batch1   \n",
       "4                     3971                   3971  2023_05_15_Batch1   \n",
       "..                     ...                    ...                ...   \n",
       "762                   3899                   3899  2023_05_15_Batch1   \n",
       "763                   3614                   3614  2023_05_15_Batch1   \n",
       "764                   3995                   3995  2023_05_15_Batch1   \n",
       "765                   4099                   4099  2023_05_15_Batch1   \n",
       "766                   3411                   3411  2023_05_15_Batch1   \n",
       "\n",
       "      p_value  average_precision  \n",
       "0    0.019498           0.125965  \n",
       "1    0.024398           0.107854  \n",
       "2    0.261774           0.033022  \n",
       "3    0.000100           0.878419  \n",
       "4    0.000100           0.348926  \n",
       "..        ...                ...  \n",
       "762  0.214379           0.037031  \n",
       "763  0.020098           0.125007  \n",
       "764  0.074493           0.062878  \n",
       "765  0.000100                NaN  \n",
       "766  0.015498           0.158571  \n",
       "\n",
       "[767 rows x 19 columns]"
      ]
     },
     "execution_count": 61,
     "metadata": {},
     "output_type": "execute_result"
    }
   ],
   "source": [
    "result"
   ]
  },
  {
   "cell_type": "code",
   "execution_count": 71,
   "metadata": {},
   "outputs": [
    {
     "data": {
      "text/html": [
       "<div>\n",
       "<style scoped>\n",
       "    .dataframe tbody tr th:only-of-type {\n",
       "        vertical-align: middle;\n",
       "    }\n",
       "\n",
       "    .dataframe tbody tr th {\n",
       "        vertical-align: top;\n",
       "    }\n",
       "\n",
       "    .dataframe thead th {\n",
       "        text-align: right;\n",
       "    }\n",
       "</style>\n",
       "<table border=\"1\" class=\"dataframe\">\n",
       "  <thead>\n",
       "    <tr style=\"text-align: right;\">\n",
       "      <th></th>\n",
       "      <th>Metadata_broad_sample</th>\n",
       "      <th>average_precision</th>\n",
       "      <th>nlog10pvalue</th>\n",
       "      <th>q_value</th>\n",
       "      <th>nlog10qvalue</th>\n",
       "      <th>above_p_threshold</th>\n",
       "      <th>above_q_threshold</th>\n",
       "    </tr>\n",
       "  </thead>\n",
       "  <tbody>\n",
       "    <tr>\n",
       "      <th>0</th>\n",
       "      <td>BRD-A12994259-001-11-9</td>\n",
       "      <td>0.067567</td>\n",
       "      <td>1.047995</td>\n",
       "      <td>0.107445</td>\n",
       "      <td>0.968814</td>\n",
       "      <td>False</td>\n",
       "      <td>False</td>\n",
       "    </tr>\n",
       "    <tr>\n",
       "      <th>1</th>\n",
       "      <td>BRD-A22769835-300-05-7</td>\n",
       "      <td>0.046448</td>\n",
       "      <td>0.792880</td>\n",
       "      <td>0.176011</td>\n",
       "      <td>0.754459</td>\n",
       "      <td>False</td>\n",
       "      <td>False</td>\n",
       "    </tr>\n",
       "    <tr>\n",
       "      <th>2</th>\n",
       "      <td>BRD-A53576514-048-02-8</td>\n",
       "      <td>0.109081</td>\n",
       "      <td>1.585143</td>\n",
       "      <td>0.039650</td>\n",
       "      <td>1.401753</td>\n",
       "      <td>True</td>\n",
       "      <td>True</td>\n",
       "    </tr>\n",
       "    <tr>\n",
       "      <th>3</th>\n",
       "      <td>BRD-A87435144-001-01-6</td>\n",
       "      <td>0.175087</td>\n",
       "      <td>2.240898</td>\n",
       "      <td>0.009571</td>\n",
       "      <td>2.019050</td>\n",
       "      <td>True</td>\n",
       "      <td>True</td>\n",
       "    </tr>\n",
       "    <tr>\n",
       "      <th>4</th>\n",
       "      <td>BRD-K00818915-001-02-9</td>\n",
       "      <td>0.158747</td>\n",
       "      <td>2.114070</td>\n",
       "      <td>0.012359</td>\n",
       "      <td>1.908016</td>\n",
       "      <td>True</td>\n",
       "      <td>True</td>\n",
       "    </tr>\n",
       "    <tr>\n",
       "      <th>...</th>\n",
       "      <td>...</td>\n",
       "      <td>...</td>\n",
       "      <td>...</td>\n",
       "      <td>...</td>\n",
       "      <td>...</td>\n",
       "      <td>...</td>\n",
       "      <td>...</td>\n",
       "    </tr>\n",
       "    <tr>\n",
       "      <th>85</th>\n",
       "      <td>BRD-K98251413-001-07-9</td>\n",
       "      <td>0.136686</td>\n",
       "      <td>1.862921</td>\n",
       "      <td>0.021649</td>\n",
       "      <td>1.664553</td>\n",
       "      <td>True</td>\n",
       "      <td>True</td>\n",
       "    </tr>\n",
       "    <tr>\n",
       "      <th>86</th>\n",
       "      <td>BRD-K99092662-001-02-9</td>\n",
       "      <td>0.098341</td>\n",
       "      <td>1.264969</td>\n",
       "      <td>0.071906</td>\n",
       "      <td>1.143236</td>\n",
       "      <td>False</td>\n",
       "      <td>False</td>\n",
       "    </tr>\n",
       "    <tr>\n",
       "      <th>87</th>\n",
       "      <td>BRD-K99113996-001-02-0</td>\n",
       "      <td>1.000000</td>\n",
       "      <td>4.000043</td>\n",
       "      <td>0.000375</td>\n",
       "      <td>3.426012</td>\n",
       "      <td>True</td>\n",
       "      <td>True</td>\n",
       "    </tr>\n",
       "    <tr>\n",
       "      <th>88</th>\n",
       "      <td>BRD-K99433989-001-02-9</td>\n",
       "      <td>0.398845</td>\n",
       "      <td>3.072500</td>\n",
       "      <td>0.001656</td>\n",
       "      <td>2.781015</td>\n",
       "      <td>True</td>\n",
       "      <td>True</td>\n",
       "    </tr>\n",
       "    <tr>\n",
       "      <th>89</th>\n",
       "      <td>BRD-M87138257-003-01-1</td>\n",
       "      <td>0.586350</td>\n",
       "      <td>4.000043</td>\n",
       "      <td>0.000375</td>\n",
       "      <td>3.426012</td>\n",
       "      <td>True</td>\n",
       "      <td>True</td>\n",
       "    </tr>\n",
       "  </tbody>\n",
       "</table>\n",
       "<p>90 rows × 7 columns</p>\n",
       "</div>"
      ],
      "text/plain": [
       "     Metadata_broad_sample  average_precision  nlog10pvalue   q_value  \\\n",
       "0   BRD-A12994259-001-11-9           0.067567      1.047995  0.107445   \n",
       "1   BRD-A22769835-300-05-7           0.046448      0.792880  0.176011   \n",
       "2   BRD-A53576514-048-02-8           0.109081      1.585143  0.039650   \n",
       "3   BRD-A87435144-001-01-6           0.175087      2.240898  0.009571   \n",
       "4   BRD-K00818915-001-02-9           0.158747      2.114070  0.012359   \n",
       "..                     ...                ...           ...       ...   \n",
       "85  BRD-K98251413-001-07-9           0.136686      1.862921  0.021649   \n",
       "86  BRD-K99092662-001-02-9           0.098341      1.264969  0.071906   \n",
       "87  BRD-K99113996-001-02-0           1.000000      4.000043  0.000375   \n",
       "88  BRD-K99433989-001-02-9           0.398845      3.072500  0.001656   \n",
       "89  BRD-M87138257-003-01-1           0.586350      4.000043  0.000375   \n",
       "\n",
       "    nlog10qvalue  above_p_threshold  above_q_threshold  \n",
       "0       0.968814              False              False  \n",
       "1       0.754459              False              False  \n",
       "2       1.401753               True               True  \n",
       "3       2.019050               True               True  \n",
       "4       1.908016               True               True  \n",
       "..           ...                ...                ...  \n",
       "85      1.664553               True               True  \n",
       "86      1.143236              False              False  \n",
       "87      3.426012               True               True  \n",
       "88      2.781015               True               True  \n",
       "89      3.426012               True               True  \n",
       "\n",
       "[90 rows x 7 columns]"
      ]
     },
     "execution_count": 71,
     "metadata": {},
     "output_type": "execute_result"
    }
   ],
   "source": [
    "from copairs.map import aggregate\n",
    "agg_result = aggregate(result, sameby=pos_sameby, threshold=0.05)\n",
    "agg_result"
   ]
  },
  {
   "cell_type": "code",
   "execution_count": 72,
   "metadata": {},
   "outputs": [
    {
     "data": {
      "text/html": [
       "<div>\n",
       "<style scoped>\n",
       "    .dataframe tbody tr th:only-of-type {\n",
       "        vertical-align: middle;\n",
       "    }\n",
       "\n",
       "    .dataframe tbody tr th {\n",
       "        vertical-align: top;\n",
       "    }\n",
       "\n",
       "    .dataframe thead th {\n",
       "        text-align: right;\n",
       "    }\n",
       "</style>\n",
       "<table border=\"1\" class=\"dataframe\">\n",
       "  <thead>\n",
       "    <tr style=\"text-align: right;\">\n",
       "      <th></th>\n",
       "      <th>Metadata_broad_sample</th>\n",
       "      <th>average_precision</th>\n",
       "      <th>nlog10pvalue</th>\n",
       "      <th>q_value</th>\n",
       "      <th>nlog10qvalue</th>\n",
       "      <th>above_p_threshold</th>\n",
       "      <th>above_q_threshold</th>\n",
       "    </tr>\n",
       "  </thead>\n",
       "  <tbody>\n",
       "    <tr>\n",
       "      <th>0</th>\n",
       "      <td>BRD-A12994259-001-11-9</td>\n",
       "      <td>0.067567</td>\n",
       "      <td>1.047995</td>\n",
       "      <td>0.107445</td>\n",
       "      <td>0.968814</td>\n",
       "      <td>False</td>\n",
       "      <td>False</td>\n",
       "    </tr>\n",
       "    <tr>\n",
       "      <th>1</th>\n",
       "      <td>BRD-A22769835-300-05-7</td>\n",
       "      <td>0.046448</td>\n",
       "      <td>0.792880</td>\n",
       "      <td>0.176011</td>\n",
       "      <td>0.754459</td>\n",
       "      <td>False</td>\n",
       "      <td>False</td>\n",
       "    </tr>\n",
       "    <tr>\n",
       "      <th>2</th>\n",
       "      <td>BRD-A53576514-048-02-8</td>\n",
       "      <td>0.109081</td>\n",
       "      <td>1.585143</td>\n",
       "      <td>0.039650</td>\n",
       "      <td>1.401753</td>\n",
       "      <td>True</td>\n",
       "      <td>True</td>\n",
       "    </tr>\n",
       "    <tr>\n",
       "      <th>3</th>\n",
       "      <td>BRD-A87435144-001-01-6</td>\n",
       "      <td>0.175087</td>\n",
       "      <td>2.240898</td>\n",
       "      <td>0.009571</td>\n",
       "      <td>2.019050</td>\n",
       "      <td>True</td>\n",
       "      <td>True</td>\n",
       "    </tr>\n",
       "    <tr>\n",
       "      <th>4</th>\n",
       "      <td>BRD-K00818915-001-02-9</td>\n",
       "      <td>0.158747</td>\n",
       "      <td>2.114070</td>\n",
       "      <td>0.012359</td>\n",
       "      <td>1.908016</td>\n",
       "      <td>True</td>\n",
       "      <td>True</td>\n",
       "    </tr>\n",
       "    <tr>\n",
       "      <th>5</th>\n",
       "      <td>BRD-K01826510-001-09-9</td>\n",
       "      <td>0.096330</td>\n",
       "      <td>1.389101</td>\n",
       "      <td>0.057527</td>\n",
       "      <td>1.240126</td>\n",
       "      <td>True</td>\n",
       "      <td>False</td>\n",
       "    </tr>\n",
       "    <tr>\n",
       "      <th>6</th>\n",
       "      <td>BRD-K02965346-001-01-8</td>\n",
       "      <td>0.774620</td>\n",
       "      <td>3.962415</td>\n",
       "      <td>0.000376</td>\n",
       "      <td>3.424276</td>\n",
       "      <td>True</td>\n",
       "      <td>True</td>\n",
       "    </tr>\n",
       "    <tr>\n",
       "      <th>7</th>\n",
       "      <td>BRD-K03063480-001-08-9</td>\n",
       "      <td>0.424831</td>\n",
       "      <td>3.834766</td>\n",
       "      <td>0.000399</td>\n",
       "      <td>3.399037</td>\n",
       "      <td>True</td>\n",
       "      <td>True</td>\n",
       "    </tr>\n",
       "    <tr>\n",
       "      <th>8</th>\n",
       "      <td>BRD-K04923131-001-17-9</td>\n",
       "      <td>1.000000</td>\n",
       "      <td>4.000043</td>\n",
       "      <td>0.000375</td>\n",
       "      <td>3.426012</td>\n",
       "      <td>True</td>\n",
       "      <td>True</td>\n",
       "    </tr>\n",
       "    <tr>\n",
       "      <th>9</th>\n",
       "      <td>BRD-K06182768-001-02-3</td>\n",
       "      <td>0.047141</td>\n",
       "      <td>0.758295</td>\n",
       "      <td>0.184726</td>\n",
       "      <td>0.733471</td>\n",
       "      <td>False</td>\n",
       "      <td>False</td>\n",
       "    </tr>\n",
       "  </tbody>\n",
       "</table>\n",
       "</div>"
      ],
      "text/plain": [
       "    Metadata_broad_sample  average_precision  nlog10pvalue   q_value  \\\n",
       "0  BRD-A12994259-001-11-9           0.067567      1.047995  0.107445   \n",
       "1  BRD-A22769835-300-05-7           0.046448      0.792880  0.176011   \n",
       "2  BRD-A53576514-048-02-8           0.109081      1.585143  0.039650   \n",
       "3  BRD-A87435144-001-01-6           0.175087      2.240898  0.009571   \n",
       "4  BRD-K00818915-001-02-9           0.158747      2.114070  0.012359   \n",
       "5  BRD-K01826510-001-09-9           0.096330      1.389101  0.057527   \n",
       "6  BRD-K02965346-001-01-8           0.774620      3.962415  0.000376   \n",
       "7  BRD-K03063480-001-08-9           0.424831      3.834766  0.000399   \n",
       "8  BRD-K04923131-001-17-9           1.000000      4.000043  0.000375   \n",
       "9  BRD-K06182768-001-02-3           0.047141      0.758295  0.184726   \n",
       "\n",
       "   nlog10qvalue  above_p_threshold  above_q_threshold  \n",
       "0      0.968814              False              False  \n",
       "1      0.754459              False              False  \n",
       "2      1.401753               True               True  \n",
       "3      2.019050               True               True  \n",
       "4      1.908016               True               True  \n",
       "5      1.240126               True              False  \n",
       "6      3.424276               True               True  \n",
       "7      3.399037               True               True  \n",
       "8      3.426012               True               True  \n",
       "9      0.733471              False              False  "
      ]
     },
     "execution_count": 72,
     "metadata": {},
     "output_type": "execute_result"
    }
   ],
   "source": [
    "agg_result.head(10)"
   ]
  },
  {
   "attachments": {},
   "cell_type": "markdown",
   "metadata": {},
   "source": [
    "#### Analysis-Plate wise - to see the mAP only in the standard CellPainting plate "
   ]
  },
  {
   "cell_type": "code",
   "execution_count": 10,
   "metadata": {},
   "outputs": [],
   "source": [
    "pos_sameby = [pert_col]\n",
    "pos_diffby = []\n",
    "\n",
    "neg_sameby = []\n",
    "neg_diffby = [pert_col]\n",
    "null_size =10000"
   ]
  },
  {
   "attachments": {},
   "cell_type": "markdown",
   "metadata": {},
   "source": [
    "#### Batch1 - Standard Cell Painting data (the mito stained plate removed)"
   ]
  },
  {
   "attachments": {},
   "cell_type": "markdown",
   "metadata": {},
   "source": [
    "#### Splitting the dataframe into standard  CP dyes and the mito dyes "
   ]
  },
  {
   "cell_type": "code",
   "execution_count": 11,
   "metadata": {},
   "outputs": [
    {
     "data": {
      "text/plain": [
       "(767, 722)"
      ]
     },
     "execution_count": 11,
     "metadata": {},
     "output_type": "execute_result"
    }
   ],
   "source": [
    "batch1_df.shape"
   ]
  },
  {
   "cell_type": "code",
   "execution_count": 12,
   "metadata": {},
   "outputs": [],
   "source": [
    "std_data = batch1_df.loc[batch1_df['Metadata_Plate'] == 'BR00122250']"
   ]
  },
  {
   "cell_type": "code",
   "execution_count": 13,
   "metadata": {},
   "outputs": [
    {
     "data": {
      "text/plain": [
       "(384, 722)"
      ]
     },
     "execution_count": 13,
     "metadata": {},
     "output_type": "execute_result"
    }
   ],
   "source": [
    "std_data.shape"
   ]
  },
  {
   "cell_type": "code",
   "execution_count": 14,
   "metadata": {},
   "outputs": [],
   "source": [
    "mito_data = batch1_df.loc[batch1_df['Metadata_Plate'] == 'BR00122246']"
   ]
  },
  {
   "cell_type": "code",
   "execution_count": 15,
   "metadata": {},
   "outputs": [
    {
     "data": {
      "text/plain": [
       "(383, 722)"
      ]
     },
     "execution_count": 15,
     "metadata": {},
     "output_type": "execute_result"
    }
   ],
   "source": [
    "mito_data.shape"
   ]
  },
  {
   "cell_type": "code",
   "execution_count": 16,
   "metadata": {},
   "outputs": [
    {
     "data": {
      "text/plain": [
       "(384, 720)"
      ]
     },
     "execution_count": 16,
     "metadata": {},
     "output_type": "execute_result"
    }
   ],
   "source": [
    "batch2_df.shape"
   ]
  },
  {
   "cell_type": "code",
   "execution_count": 17,
   "metadata": {},
   "outputs": [
    {
     "name": "stderr",
     "output_type": "stream",
     "text": [
      "INFO:2023-07-10 11:12:15,732:copairs:Indexing metadata...\n",
      "INFO:2023-07-10 11:12:15,738:copairs:Finding positive pairs...\n",
      "INFO:2023-07-10 11:12:15,742:copairs:dropping dups...\n",
      "INFO:2023-07-10 11:12:15,745:copairs:Finding negative pairs...\n",
      "INFO:2023-07-10 11:12:15,914:copairs:dropping dups...\n",
      "INFO:2023-07-10 11:12:15,988:copairs:Computing positive similarities...\n"
     ]
    },
    {
     "data": {
      "application/vnd.jupyter.widget-view+json": {
       "model_id": "342949e6206e402eb4d9b489f2242d7c",
       "version_major": 2,
       "version_minor": 0
      },
      "text/plain": [
       "  0%|          | 0/1 [00:00<?, ?it/s]"
      ]
     },
     "metadata": {},
     "output_type": "display_data"
    },
    {
     "name": "stderr",
     "output_type": "stream",
     "text": [
      "INFO:2023-07-10 11:12:16,881:copairs:Computing negative similarities...\n"
     ]
    },
    {
     "data": {
      "application/vnd.jupyter.widget-view+json": {
       "model_id": "6ef4cdabd6fd4051942d1bdc0f4fc0a8",
       "version_major": 2,
       "version_minor": 0
      },
      "text/plain": [
       "  0%|          | 0/4 [00:00<?, ?it/s]"
      ]
     },
     "metadata": {},
     "output_type": "display_data"
    },
    {
     "name": "stderr",
     "output_type": "stream",
     "text": [
      "INFO:2023-07-10 11:12:18,375:copairs:Building rank lists...\n",
      "INFO:2023-07-10 11:12:18,512:copairs:Computing average precision...\n",
      "INFO:2023-07-10 11:12:18,528:copairs:Computing null distributions...\n",
      "INFO:2023-07-10 11:12:19,580:copairs:Computing P-values...\n",
      "INFO:2023-07-10 11:12:19,588:copairs:Creating result DataFrame...\n",
      "INFO:2023-07-10 11:12:19,588:copairs:Finished.\n"
     ]
    }
   ],
   "source": [
    "metadata_names_std = [c for c in std_data.columns if  c.startswith('Metadata')]\n",
    "feature_names_std = [c for c in std_data.columns if not c.startswith('Metadata')]\n",
    "feats_std = std_data[feature_names_std].values\n",
    "dframe_std = std_data[metadata_names_std]\n",
    "result_std = run_pipeline(dframe_std, feats_std, \n",
    "                      pos_sameby, pos_diffby,\n",
    "                      neg_sameby, neg_diffby,\n",
    "                      null_size\n",
    "                     )"
   ]
  },
  {
   "cell_type": "code",
   "execution_count": 19,
   "metadata": {},
   "outputs": [
    {
     "data": {
      "text/html": [
       "<div>\n",
       "<style scoped>\n",
       "    .dataframe tbody tr th:only-of-type {\n",
       "        vertical-align: middle;\n",
       "    }\n",
       "\n",
       "    .dataframe tbody tr th {\n",
       "        vertical-align: top;\n",
       "    }\n",
       "\n",
       "    .dataframe thead th {\n",
       "        text-align: right;\n",
       "    }\n",
       "</style>\n",
       "<table border=\"1\" class=\"dataframe\">\n",
       "  <thead>\n",
       "    <tr style=\"text-align: right;\">\n",
       "      <th></th>\n",
       "      <th>Metadata_broad_sample</th>\n",
       "      <th>average_precision</th>\n",
       "      <th>nlog10pvalue</th>\n",
       "      <th>q_value</th>\n",
       "      <th>nlog10qvalue</th>\n",
       "      <th>above_p_threshold</th>\n",
       "      <th>above_q_threshold</th>\n",
       "    </tr>\n",
       "  </thead>\n",
       "  <tbody>\n",
       "    <tr>\n",
       "      <th>0</th>\n",
       "      <td>BRD-A12994259-001-11-9</td>\n",
       "      <td>0.109555</td>\n",
       "      <td>1.191982</td>\n",
       "      <td>0.094827</td>\n",
       "      <td>1.023070</td>\n",
       "      <td>False</td>\n",
       "      <td>False</td>\n",
       "    </tr>\n",
       "    <tr>\n",
       "      <th>1</th>\n",
       "      <td>BRD-A22769835-300-05-7</td>\n",
       "      <td>0.011390</td>\n",
       "      <td>0.223404</td>\n",
       "      <td>0.611443</td>\n",
       "      <td>0.213644</td>\n",
       "      <td>False</td>\n",
       "      <td>False</td>\n",
       "    </tr>\n",
       "    <tr>\n",
       "      <th>2</th>\n",
       "      <td>BRD-A53576514-048-02-8</td>\n",
       "      <td>0.046175</td>\n",
       "      <td>0.977294</td>\n",
       "      <td>0.142496</td>\n",
       "      <td>0.846199</td>\n",
       "      <td>False</td>\n",
       "      <td>False</td>\n",
       "    </tr>\n",
       "    <tr>\n",
       "      <th>3</th>\n",
       "      <td>BRD-A87435144-001-01-6</td>\n",
       "      <td>0.106790</td>\n",
       "      <td>1.437175</td>\n",
       "      <td>0.057702</td>\n",
       "      <td>1.238808</td>\n",
       "      <td>True</td>\n",
       "      <td>False</td>\n",
       "    </tr>\n",
       "    <tr>\n",
       "      <th>4</th>\n",
       "      <td>BRD-K00818915-001-02-9</td>\n",
       "      <td>0.189290</td>\n",
       "      <td>1.654123</td>\n",
       "      <td>0.036959</td>\n",
       "      <td>1.432274</td>\n",
       "      <td>True</td>\n",
       "      <td>True</td>\n",
       "    </tr>\n",
       "    <tr>\n",
       "      <th>...</th>\n",
       "      <td>...</td>\n",
       "      <td>...</td>\n",
       "      <td>...</td>\n",
       "      <td>...</td>\n",
       "      <td>...</td>\n",
       "      <td>...</td>\n",
       "      <td>...</td>\n",
       "    </tr>\n",
       "    <tr>\n",
       "      <th>85</th>\n",
       "      <td>BRD-K98251413-001-07-9</td>\n",
       "      <td>0.034381</td>\n",
       "      <td>0.731887</td>\n",
       "      <td>0.225488</td>\n",
       "      <td>0.646876</td>\n",
       "      <td>False</td>\n",
       "      <td>False</td>\n",
       "    </tr>\n",
       "    <tr>\n",
       "      <th>86</th>\n",
       "      <td>BRD-K99092662-001-02-9</td>\n",
       "      <td>0.181962</td>\n",
       "      <td>1.417506</td>\n",
       "      <td>0.059335</td>\n",
       "      <td>1.226691</td>\n",
       "      <td>True</td>\n",
       "      <td>False</td>\n",
       "    </tr>\n",
       "    <tr>\n",
       "      <th>87</th>\n",
       "      <td>BRD-K99113996-001-02-0</td>\n",
       "      <td>1.000000</td>\n",
       "      <td>4.000043</td>\n",
       "      <td>0.000300</td>\n",
       "      <td>3.522922</td>\n",
       "      <td>True</td>\n",
       "      <td>True</td>\n",
       "    </tr>\n",
       "    <tr>\n",
       "      <th>88</th>\n",
       "      <td>BRD-K99433989-001-02-9</td>\n",
       "      <td>0.162272</td>\n",
       "      <td>1.690299</td>\n",
       "      <td>0.034647</td>\n",
       "      <td>1.460333</td>\n",
       "      <td>True</td>\n",
       "      <td>True</td>\n",
       "    </tr>\n",
       "    <tr>\n",
       "      <th>89</th>\n",
       "      <td>BRD-M87138257-003-01-1</td>\n",
       "      <td>0.938889</td>\n",
       "      <td>4.000043</td>\n",
       "      <td>0.000300</td>\n",
       "      <td>3.522922</td>\n",
       "      <td>True</td>\n",
       "      <td>True</td>\n",
       "    </tr>\n",
       "  </tbody>\n",
       "</table>\n",
       "<p>90 rows × 7 columns</p>\n",
       "</div>"
      ],
      "text/plain": [
       "     Metadata_broad_sample  average_precision  nlog10pvalue   q_value  \\\n",
       "0   BRD-A12994259-001-11-9           0.109555      1.191982  0.094827   \n",
       "1   BRD-A22769835-300-05-7           0.011390      0.223404  0.611443   \n",
       "2   BRD-A53576514-048-02-8           0.046175      0.977294  0.142496   \n",
       "3   BRD-A87435144-001-01-6           0.106790      1.437175  0.057702   \n",
       "4   BRD-K00818915-001-02-9           0.189290      1.654123  0.036959   \n",
       "..                     ...                ...           ...       ...   \n",
       "85  BRD-K98251413-001-07-9           0.034381      0.731887  0.225488   \n",
       "86  BRD-K99092662-001-02-9           0.181962      1.417506  0.059335   \n",
       "87  BRD-K99113996-001-02-0           1.000000      4.000043  0.000300   \n",
       "88  BRD-K99433989-001-02-9           0.162272      1.690299  0.034647   \n",
       "89  BRD-M87138257-003-01-1           0.938889      4.000043  0.000300   \n",
       "\n",
       "    nlog10qvalue  above_p_threshold  above_q_threshold  \n",
       "0       1.023070              False              False  \n",
       "1       0.213644              False              False  \n",
       "2       0.846199              False              False  \n",
       "3       1.238808               True              False  \n",
       "4       1.432274               True               True  \n",
       "..           ...                ...                ...  \n",
       "85      0.646876              False              False  \n",
       "86      1.226691               True              False  \n",
       "87      3.522922               True               True  \n",
       "88      1.460333               True               True  \n",
       "89      3.522922               True               True  \n",
       "\n",
       "[90 rows x 7 columns]"
      ]
     },
     "execution_count": 19,
     "metadata": {},
     "output_type": "execute_result"
    }
   ],
   "source": [
    "from copairs.map import aggregate\n",
    "agg_result_std = aggregate(result_std, sameby=pos_sameby, threshold=0.05)\n",
    "agg_result_std"
   ]
  },
  {
   "attachments": {},
   "cell_type": "markdown",
   "metadata": {},
   "source": [
    "##### Mito data "
   ]
  },
  {
   "cell_type": "code",
   "execution_count": 20,
   "metadata": {},
   "outputs": [
    {
     "name": "stderr",
     "output_type": "stream",
     "text": [
      "INFO:2023-07-10 11:13:03,198:copairs:Indexing metadata...\n",
      "INFO:2023-07-10 11:13:03,204:copairs:Finding positive pairs...\n",
      "INFO:2023-07-10 11:13:03,206:copairs:dropping dups...\n",
      "INFO:2023-07-10 11:13:03,210:copairs:Finding negative pairs...\n",
      "INFO:2023-07-10 11:13:03,352:copairs:dropping dups...\n",
      "INFO:2023-07-10 11:13:03,428:copairs:Computing positive similarities...\n"
     ]
    },
    {
     "data": {
      "application/vnd.jupyter.widget-view+json": {
       "model_id": "1d8eca5e6fc84d009607a6aeee9cdabd",
       "version_major": 2,
       "version_minor": 0
      },
      "text/plain": [
       "  0%|          | 0/1 [00:00<?, ?it/s]"
      ]
     },
     "metadata": {},
     "output_type": "display_data"
    },
    {
     "name": "stderr",
     "output_type": "stream",
     "text": [
      "INFO:2023-07-10 11:13:04,295:copairs:Computing negative similarities...\n"
     ]
    },
    {
     "data": {
      "application/vnd.jupyter.widget-view+json": {
       "model_id": "b0b72f405e0d49eb9fd50680d732b882",
       "version_major": 2,
       "version_minor": 0
      },
      "text/plain": [
       "  0%|          | 0/4 [00:00<?, ?it/s]"
      ]
     },
     "metadata": {},
     "output_type": "display_data"
    },
    {
     "name": "stderr",
     "output_type": "stream",
     "text": [
      "INFO:2023-07-10 11:13:05,647:copairs:Building rank lists...\n",
      "INFO:2023-07-10 11:13:05,768:copairs:Computing average precision...\n",
      "INFO:2023-07-10 11:13:05,776:copairs:Computing null distributions...\n",
      "INFO:2023-07-10 11:13:07,031:copairs:Computing P-values...\n",
      "INFO:2023-07-10 11:13:07,039:copairs:Creating result DataFrame...\n",
      "INFO:2023-07-10 11:13:07,044:copairs:Finished.\n"
     ]
    }
   ],
   "source": [
    "metadata_names_mito = [c for c in mito_data.columns if  c.startswith('Metadata')]\n",
    "feature_names_mito = [c for c in mito_data.columns if not c.startswith('Metadata')]\n",
    "feats_mito = mito_data[feature_names_mito].values\n",
    "dframe_mito = mito_data[metadata_names_mito]\n",
    "result_mito = run_pipeline(dframe_mito, feats_mito, \n",
    "                      pos_sameby, pos_diffby,\n",
    "                      neg_sameby, neg_diffby,\n",
    "                      null_size\n",
    "                     )"
   ]
  },
  {
   "cell_type": "code",
   "execution_count": 21,
   "metadata": {},
   "outputs": [
    {
     "data": {
      "text/html": [
       "<div>\n",
       "<style scoped>\n",
       "    .dataframe tbody tr th:only-of-type {\n",
       "        vertical-align: middle;\n",
       "    }\n",
       "\n",
       "    .dataframe tbody tr th {\n",
       "        vertical-align: top;\n",
       "    }\n",
       "\n",
       "    .dataframe thead th {\n",
       "        text-align: right;\n",
       "    }\n",
       "</style>\n",
       "<table border=\"1\" class=\"dataframe\">\n",
       "  <thead>\n",
       "    <tr style=\"text-align: right;\">\n",
       "      <th></th>\n",
       "      <th>Metadata_broad_sample</th>\n",
       "      <th>average_precision</th>\n",
       "      <th>nlog10pvalue</th>\n",
       "      <th>q_value</th>\n",
       "      <th>nlog10qvalue</th>\n",
       "      <th>above_p_threshold</th>\n",
       "      <th>above_q_threshold</th>\n",
       "    </tr>\n",
       "  </thead>\n",
       "  <tbody>\n",
       "    <tr>\n",
       "      <th>0</th>\n",
       "      <td>BRD-A12994259-001-11-9</td>\n",
       "      <td>0.041064</td>\n",
       "      <td>0.928938</td>\n",
       "      <td>0.146960</td>\n",
       "      <td>0.832802</td>\n",
       "      <td>False</td>\n",
       "      <td>False</td>\n",
       "    </tr>\n",
       "    <tr>\n",
       "      <th>1</th>\n",
       "      <td>BRD-A22769835-300-05-7</td>\n",
       "      <td>0.029497</td>\n",
       "      <td>0.754930</td>\n",
       "      <td>0.200302</td>\n",
       "      <td>0.698314</td>\n",
       "      <td>False</td>\n",
       "      <td>False</td>\n",
       "    </tr>\n",
       "    <tr>\n",
       "      <th>2</th>\n",
       "      <td>BRD-A53576514-048-02-8</td>\n",
       "      <td>0.183302</td>\n",
       "      <td>1.860210</td>\n",
       "      <td>0.023880</td>\n",
       "      <td>1.621971</td>\n",
       "      <td>True</td>\n",
       "      <td>True</td>\n",
       "    </tr>\n",
       "    <tr>\n",
       "      <th>3</th>\n",
       "      <td>BRD-A87435144-001-01-6</td>\n",
       "      <td>0.078665</td>\n",
       "      <td>1.229894</td>\n",
       "      <td>0.082718</td>\n",
       "      <td>1.082399</td>\n",
       "      <td>False</td>\n",
       "      <td>False</td>\n",
       "    </tr>\n",
       "    <tr>\n",
       "      <th>4</th>\n",
       "      <td>BRD-K00818915-001-02-9</td>\n",
       "      <td>0.189756</td>\n",
       "      <td>1.667129</td>\n",
       "      <td>0.035869</td>\n",
       "      <td>1.445280</td>\n",
       "      <td>True</td>\n",
       "      <td>True</td>\n",
       "    </tr>\n",
       "    <tr>\n",
       "      <th>...</th>\n",
       "      <td>...</td>\n",
       "      <td>...</td>\n",
       "      <td>...</td>\n",
       "      <td>...</td>\n",
       "      <td>...</td>\n",
       "      <td>...</td>\n",
       "      <td>...</td>\n",
       "    </tr>\n",
       "    <tr>\n",
       "      <th>85</th>\n",
       "      <td>BRD-K98251413-001-07-9</td>\n",
       "      <td>0.207946</td>\n",
       "      <td>1.968259</td>\n",
       "      <td>0.019365</td>\n",
       "      <td>1.712986</td>\n",
       "      <td>True</td>\n",
       "      <td>True</td>\n",
       "    </tr>\n",
       "    <tr>\n",
       "      <th>86</th>\n",
       "      <td>BRD-K99092662-001-02-9</td>\n",
       "      <td>0.038368</td>\n",
       "      <td>0.756985</td>\n",
       "      <td>0.200302</td>\n",
       "      <td>0.698314</td>\n",
       "      <td>False</td>\n",
       "      <td>False</td>\n",
       "    </tr>\n",
       "    <tr>\n",
       "      <th>87</th>\n",
       "      <td>BRD-K99113996-001-02-0</td>\n",
       "      <td>1.000000</td>\n",
       "      <td>4.000043</td>\n",
       "      <td>0.000360</td>\n",
       "      <td>3.443741</td>\n",
       "      <td>True</td>\n",
       "      <td>True</td>\n",
       "    </tr>\n",
       "    <tr>\n",
       "      <th>88</th>\n",
       "      <td>BRD-K99433989-001-02-9</td>\n",
       "      <td>0.698810</td>\n",
       "      <td>3.730248</td>\n",
       "      <td>0.000558</td>\n",
       "      <td>3.253127</td>\n",
       "      <td>True</td>\n",
       "      <td>True</td>\n",
       "    </tr>\n",
       "    <tr>\n",
       "      <th>89</th>\n",
       "      <td>BRD-M87138257-003-01-1</td>\n",
       "      <td>0.698562</td>\n",
       "      <td>3.924786</td>\n",
       "      <td>0.000396</td>\n",
       "      <td>3.401907</td>\n",
       "      <td>True</td>\n",
       "      <td>True</td>\n",
       "    </tr>\n",
       "  </tbody>\n",
       "</table>\n",
       "<p>90 rows × 7 columns</p>\n",
       "</div>"
      ],
      "text/plain": [
       "     Metadata_broad_sample  average_precision  nlog10pvalue   q_value  \\\n",
       "0   BRD-A12994259-001-11-9           0.041064      0.928938  0.146960   \n",
       "1   BRD-A22769835-300-05-7           0.029497      0.754930  0.200302   \n",
       "2   BRD-A53576514-048-02-8           0.183302      1.860210  0.023880   \n",
       "3   BRD-A87435144-001-01-6           0.078665      1.229894  0.082718   \n",
       "4   BRD-K00818915-001-02-9           0.189756      1.667129  0.035869   \n",
       "..                     ...                ...           ...       ...   \n",
       "85  BRD-K98251413-001-07-9           0.207946      1.968259  0.019365   \n",
       "86  BRD-K99092662-001-02-9           0.038368      0.756985  0.200302   \n",
       "87  BRD-K99113996-001-02-0           1.000000      4.000043  0.000360   \n",
       "88  BRD-K99433989-001-02-9           0.698810      3.730248  0.000558   \n",
       "89  BRD-M87138257-003-01-1           0.698562      3.924786  0.000396   \n",
       "\n",
       "    nlog10qvalue  above_p_threshold  above_q_threshold  \n",
       "0       0.832802              False              False  \n",
       "1       0.698314              False              False  \n",
       "2       1.621971               True               True  \n",
       "3       1.082399              False              False  \n",
       "4       1.445280               True               True  \n",
       "..           ...                ...                ...  \n",
       "85      1.712986               True               True  \n",
       "86      0.698314              False              False  \n",
       "87      3.443741               True               True  \n",
       "88      3.253127               True               True  \n",
       "89      3.401907               True               True  \n",
       "\n",
       "[90 rows x 7 columns]"
      ]
     },
     "execution_count": 21,
     "metadata": {},
     "output_type": "execute_result"
    }
   ],
   "source": [
    "agg_result_mito = aggregate(result_mito, sameby=pos_sameby, threshold=0.05)\n",
    "agg_result_mito"
   ]
  },
  {
   "attachments": {},
   "cell_type": "markdown",
   "metadata": {},
   "source": [
    "##### Batch2 - Lond stoke shifted actin "
   ]
  },
  {
   "cell_type": "code",
   "execution_count": 22,
   "metadata": {},
   "outputs": [
    {
     "name": "stderr",
     "output_type": "stream",
     "text": [
      "INFO:2023-07-10 11:13:12,312:copairs:Indexing metadata...\n",
      "INFO:2023-07-10 11:13:12,325:copairs:Finding positive pairs...\n",
      "INFO:2023-07-10 11:13:12,326:copairs:dropping dups...\n"
     ]
    },
    {
     "name": "stderr",
     "output_type": "stream",
     "text": [
      "INFO:2023-07-10 11:13:12,330:copairs:Finding negative pairs...\n",
      "INFO:2023-07-10 11:13:12,487:copairs:dropping dups...\n",
      "INFO:2023-07-10 11:13:12,567:copairs:Computing positive similarities...\n"
     ]
    },
    {
     "data": {
      "application/vnd.jupyter.widget-view+json": {
       "model_id": "8f24d34fc4b54cb6803b6f49d28a47b3",
       "version_major": 2,
       "version_minor": 0
      },
      "text/plain": [
       "  0%|          | 0/1 [00:00<?, ?it/s]"
      ]
     },
     "metadata": {},
     "output_type": "display_data"
    },
    {
     "name": "stderr",
     "output_type": "stream",
     "text": [
      "INFO:2023-07-10 11:13:13,387:copairs:Computing negative similarities...\n"
     ]
    },
    {
     "data": {
      "application/vnd.jupyter.widget-view+json": {
       "model_id": "1c33fe7e817042d384e8ad43de3c5a3f",
       "version_major": 2,
       "version_minor": 0
      },
      "text/plain": [
       "  0%|          | 0/4 [00:00<?, ?it/s]"
      ]
     },
     "metadata": {},
     "output_type": "display_data"
    },
    {
     "name": "stderr",
     "output_type": "stream",
     "text": [
      "INFO:2023-07-10 11:13:14,752:copairs:Building rank lists...\n",
      "INFO:2023-07-10 11:13:14,904:copairs:Computing average precision...\n",
      "INFO:2023-07-10 11:13:14,923:copairs:Computing null distributions...\n",
      "INFO:2023-07-10 11:13:15,973:copairs:Computing P-values...\n",
      "INFO:2023-07-10 11:13:15,986:copairs:Creating result DataFrame...\n",
      "INFO:2023-07-10 11:13:15,986:copairs:Finished.\n"
     ]
    }
   ],
   "source": [
    "metadata_names_2 = [c for c in batch2_df.columns if  c.startswith('Metadata')]\n",
    "feature_names_2 = [c for c in batch2_df.columns if not c.startswith('Metadata')]\n",
    "feats_2 = batch2_df[feature_names_2].values\n",
    "dframe_2 = batch2_df[metadata_names_2]\n",
    "result_batch2 = run_pipeline(dframe_2, feats_2, \n",
    "                      pos_sameby, pos_diffby,\n",
    "                      neg_sameby, neg_diffby,\n",
    "                      null_size\n",
    "                     )"
   ]
  },
  {
   "cell_type": "code",
   "execution_count": 23,
   "metadata": {},
   "outputs": [
    {
     "data": {
      "text/html": [
       "<div>\n",
       "<style scoped>\n",
       "    .dataframe tbody tr th:only-of-type {\n",
       "        vertical-align: middle;\n",
       "    }\n",
       "\n",
       "    .dataframe tbody tr th {\n",
       "        vertical-align: top;\n",
       "    }\n",
       "\n",
       "    .dataframe thead th {\n",
       "        text-align: right;\n",
       "    }\n",
       "</style>\n",
       "<table border=\"1\" class=\"dataframe\">\n",
       "  <thead>\n",
       "    <tr style=\"text-align: right;\">\n",
       "      <th></th>\n",
       "      <th>Metadata_plate_map_name</th>\n",
       "      <th>Metadata_broad_sample</th>\n",
       "      <th>Metadata_mg_per_ml</th>\n",
       "      <th>Metadata_mmoles_per_liter</th>\n",
       "      <th>Metadata_solvent</th>\n",
       "      <th>Metadata_BRD ID</th>\n",
       "      <th>Metadata_BRD with batch</th>\n",
       "      <th>Metadata_Common Name</th>\n",
       "      <th>Metadata_MoA</th>\n",
       "      <th>Metadata_Plate</th>\n",
       "      <th>Metadata_Well</th>\n",
       "      <th>Metadata_Site_Count</th>\n",
       "      <th>Metadata_Count_Cells</th>\n",
       "      <th>Metadata_Count_Cytoplasm</th>\n",
       "      <th>Metadata_Count_Nuclei</th>\n",
       "      <th>Metadata_Object_Count</th>\n",
       "      <th>Metadata_batch</th>\n",
       "      <th>p_value</th>\n",
       "      <th>average_precision</th>\n",
       "    </tr>\n",
       "  </thead>\n",
       "  <tbody>\n",
       "    <tr>\n",
       "      <th>0</th>\n",
       "      <td>S-C-7314-04-CMP-001</td>\n",
       "      <td>BRD-K62391742-001-19-9</td>\n",
       "      <td>4.3422</td>\n",
       "      <td>5.0</td>\n",
       "      <td>DMSO</td>\n",
       "      <td>K62391742</td>\n",
       "      <td>BRD-K62391742-001-03-0</td>\n",
       "      <td>venetoclax</td>\n",
       "      <td>BCL inhibitor</td>\n",
       "      <td>BR00122247</td>\n",
       "      <td>A01</td>\n",
       "      <td>9</td>\n",
       "      <td>3361</td>\n",
       "      <td>3361</td>\n",
       "      <td>3361</td>\n",
       "      <td>3361</td>\n",
       "      <td>2023_05_17_Batch2</td>\n",
       "      <td>0.036696</td>\n",
       "      <td>0.085662</td>\n",
       "    </tr>\n",
       "    <tr>\n",
       "      <th>1</th>\n",
       "      <td>S-C-7314-04-CMP-001</td>\n",
       "      <td>BRD-K19477839-001-10-9</td>\n",
       "      <td>1.7970</td>\n",
       "      <td>5.0</td>\n",
       "      <td>DMSO</td>\n",
       "      <td>K19477839</td>\n",
       "      <td>BRD-K19477839-001-07-6</td>\n",
       "      <td>SGX523</td>\n",
       "      <td>hepatocyte growth factor receptor inhibitor</td>\n",
       "      <td>BR00122247</td>\n",
       "      <td>A02</td>\n",
       "      <td>9</td>\n",
       "      <td>4012</td>\n",
       "      <td>4012</td>\n",
       "      <td>4012</td>\n",
       "      <td>4012</td>\n",
       "      <td>2023_05_17_Batch2</td>\n",
       "      <td>0.211079</td>\n",
       "      <td>0.023813</td>\n",
       "    </tr>\n",
       "    <tr>\n",
       "      <th>2</th>\n",
       "      <td>S-C-7314-04-CMP-001</td>\n",
       "      <td>BRD-K54759182-003-09-8</td>\n",
       "      <td>1.6595</td>\n",
       "      <td>5.0</td>\n",
       "      <td>DMSO</td>\n",
       "      <td>K54759182</td>\n",
       "      <td>BRD-K54759182-003-08-0</td>\n",
       "      <td>dosulepin</td>\n",
       "      <td>tricyclic antidepressant</td>\n",
       "      <td>BR00122247</td>\n",
       "      <td>A03</td>\n",
       "      <td>9</td>\n",
       "      <td>4048</td>\n",
       "      <td>4048</td>\n",
       "      <td>4048</td>\n",
       "      <td>4048</td>\n",
       "      <td>2023_05_17_Batch2</td>\n",
       "      <td>0.553145</td>\n",
       "      <td>0.011738</td>\n",
       "    </tr>\n",
       "    <tr>\n",
       "      <th>3</th>\n",
       "      <td>S-C-7314-04-CMP-001</td>\n",
       "      <td>BRD-K70642949-001-06-9</td>\n",
       "      <td>2.3130</td>\n",
       "      <td>5.0</td>\n",
       "      <td>DMSO</td>\n",
       "      <td>K70642949</td>\n",
       "      <td>BRD-K70642949-001-04-5</td>\n",
       "      <td>GSK2334470</td>\n",
       "      <td>phosphoinositide dependent kinase inhibitor</td>\n",
       "      <td>BR00122247</td>\n",
       "      <td>A04</td>\n",
       "      <td>9</td>\n",
       "      <td>3239</td>\n",
       "      <td>3239</td>\n",
       "      <td>3239</td>\n",
       "      <td>3239</td>\n",
       "      <td>2023_05_17_Batch2</td>\n",
       "      <td>0.000100</td>\n",
       "      <td>0.766667</td>\n",
       "    </tr>\n",
       "    <tr>\n",
       "      <th>4</th>\n",
       "      <td>S-C-7314-04-CMP-001</td>\n",
       "      <td>BRD-K73397362-001-09-9</td>\n",
       "      <td>2.6031</td>\n",
       "      <td>5.0</td>\n",
       "      <td>DMSO</td>\n",
       "      <td>K73397362</td>\n",
       "      <td>BRD-K73397362-001-06-6</td>\n",
       "      <td>purmorphamine</td>\n",
       "      <td>smoothened receptor agonist</td>\n",
       "      <td>BR00122247</td>\n",
       "      <td>A05</td>\n",
       "      <td>9</td>\n",
       "      <td>3955</td>\n",
       "      <td>3955</td>\n",
       "      <td>3955</td>\n",
       "      <td>3955</td>\n",
       "      <td>2023_05_17_Batch2</td>\n",
       "      <td>0.001000</td>\n",
       "      <td>0.380556</td>\n",
       "    </tr>\n",
       "    <tr>\n",
       "      <th>...</th>\n",
       "      <td>...</td>\n",
       "      <td>...</td>\n",
       "      <td>...</td>\n",
       "      <td>...</td>\n",
       "      <td>...</td>\n",
       "      <td>...</td>\n",
       "      <td>...</td>\n",
       "      <td>...</td>\n",
       "      <td>...</td>\n",
       "      <td>...</td>\n",
       "      <td>...</td>\n",
       "      <td>...</td>\n",
       "      <td>...</td>\n",
       "      <td>...</td>\n",
       "      <td>...</td>\n",
       "      <td>...</td>\n",
       "      <td>...</td>\n",
       "      <td>...</td>\n",
       "      <td>...</td>\n",
       "    </tr>\n",
       "    <tr>\n",
       "      <th>379</th>\n",
       "      <td>S-C-7314-04-CMP-001</td>\n",
       "      <td>BRD-K63631219-001-01-6</td>\n",
       "      <td>1.1784</td>\n",
       "      <td>5.0</td>\n",
       "      <td>DMSO</td>\n",
       "      <td>K63631219</td>\n",
       "      <td>BRD-K63631219-001-01-6</td>\n",
       "      <td>quazinone</td>\n",
       "      <td>phosphodiesterase inhibitor</td>\n",
       "      <td>BR00122247</td>\n",
       "      <td>P20</td>\n",
       "      <td>9</td>\n",
       "      <td>3836</td>\n",
       "      <td>3836</td>\n",
       "      <td>3836</td>\n",
       "      <td>3836</td>\n",
       "      <td>2023_05_17_Batch2</td>\n",
       "      <td>0.751925</td>\n",
       "      <td>0.009178</td>\n",
       "    </tr>\n",
       "    <tr>\n",
       "      <th>380</th>\n",
       "      <td>S-C-7314-04-CMP-001</td>\n",
       "      <td>BRD-K13094524-001-10-9</td>\n",
       "      <td>1.7369</td>\n",
       "      <td>5.0</td>\n",
       "      <td>DMSO</td>\n",
       "      <td>K13094524</td>\n",
       "      <td>BRD-K13094524-001-04-2</td>\n",
       "      <td>PFI-1</td>\n",
       "      <td>bromodomain inhibitor</td>\n",
       "      <td>BR00122247</td>\n",
       "      <td>P21</td>\n",
       "      <td>9</td>\n",
       "      <td>3505</td>\n",
       "      <td>3505</td>\n",
       "      <td>3505</td>\n",
       "      <td>3505</td>\n",
       "      <td>2023_05_17_Batch2</td>\n",
       "      <td>0.027497</td>\n",
       "      <td>0.115467</td>\n",
       "    </tr>\n",
       "    <tr>\n",
       "      <th>381</th>\n",
       "      <td>S-C-7314-04-CMP-001</td>\n",
       "      <td>BRD-K82941592-238-06-9</td>\n",
       "      <td>2.6182</td>\n",
       "      <td>5.0</td>\n",
       "      <td>DMSO</td>\n",
       "      <td>K82941592</td>\n",
       "      <td>BRD-K82941592-238-03-7</td>\n",
       "      <td>rosuvastatin</td>\n",
       "      <td>HMGCR inhibitor</td>\n",
       "      <td>BR00122247</td>\n",
       "      <td>P22</td>\n",
       "      <td>9</td>\n",
       "      <td>3974</td>\n",
       "      <td>3974</td>\n",
       "      <td>3974</td>\n",
       "      <td>3974</td>\n",
       "      <td>2023_05_17_Batch2</td>\n",
       "      <td>0.041796</td>\n",
       "      <td>0.082583</td>\n",
       "    </tr>\n",
       "    <tr>\n",
       "      <th>382</th>\n",
       "      <td>S-C-7314-04-CMP-001</td>\n",
       "      <td>NaN</td>\n",
       "      <td>NaN</td>\n",
       "      <td>NaN</td>\n",
       "      <td>DMSO</td>\n",
       "      <td>NaN</td>\n",
       "      <td>NaN</td>\n",
       "      <td>NaN</td>\n",
       "      <td>NaN</td>\n",
       "      <td>BR00122247</td>\n",
       "      <td>P23</td>\n",
       "      <td>9</td>\n",
       "      <td>4048</td>\n",
       "      <td>4048</td>\n",
       "      <td>4048</td>\n",
       "      <td>4048</td>\n",
       "      <td>2023_05_17_Batch2</td>\n",
       "      <td>NaN</td>\n",
       "      <td>NaN</td>\n",
       "    </tr>\n",
       "    <tr>\n",
       "      <th>383</th>\n",
       "      <td>S-C-7314-04-CMP-001</td>\n",
       "      <td>BRD-K36234266-001-10-6</td>\n",
       "      <td>1.0702</td>\n",
       "      <td>5.0</td>\n",
       "      <td>DMSO</td>\n",
       "      <td>K36234266</td>\n",
       "      <td>BRD-K36234266-001-09-8</td>\n",
       "      <td>carmustine</td>\n",
       "      <td>DNA inhibitor</td>\n",
       "      <td>BR00122247</td>\n",
       "      <td>P24</td>\n",
       "      <td>9</td>\n",
       "      <td>3407</td>\n",
       "      <td>3407</td>\n",
       "      <td>3407</td>\n",
       "      <td>3407</td>\n",
       "      <td>2023_05_17_Batch2</td>\n",
       "      <td>0.964204</td>\n",
       "      <td>0.006693</td>\n",
       "    </tr>\n",
       "  </tbody>\n",
       "</table>\n",
       "<p>384 rows × 19 columns</p>\n",
       "</div>"
      ],
      "text/plain": [
       "    Metadata_plate_map_name   Metadata_broad_sample  Metadata_mg_per_ml  \\\n",
       "0       S-C-7314-04-CMP-001  BRD-K62391742-001-19-9              4.3422   \n",
       "1       S-C-7314-04-CMP-001  BRD-K19477839-001-10-9              1.7970   \n",
       "2       S-C-7314-04-CMP-001  BRD-K54759182-003-09-8              1.6595   \n",
       "3       S-C-7314-04-CMP-001  BRD-K70642949-001-06-9              2.3130   \n",
       "4       S-C-7314-04-CMP-001  BRD-K73397362-001-09-9              2.6031   \n",
       "..                      ...                     ...                 ...   \n",
       "379     S-C-7314-04-CMP-001  BRD-K63631219-001-01-6              1.1784   \n",
       "380     S-C-7314-04-CMP-001  BRD-K13094524-001-10-9              1.7369   \n",
       "381     S-C-7314-04-CMP-001  BRD-K82941592-238-06-9              2.6182   \n",
       "382     S-C-7314-04-CMP-001                     NaN                 NaN   \n",
       "383     S-C-7314-04-CMP-001  BRD-K36234266-001-10-6              1.0702   \n",
       "\n",
       "     Metadata_mmoles_per_liter Metadata_solvent Metadata_BRD ID  \\\n",
       "0                          5.0             DMSO       K62391742   \n",
       "1                          5.0             DMSO       K19477839   \n",
       "2                          5.0             DMSO       K54759182   \n",
       "3                          5.0             DMSO       K70642949   \n",
       "4                          5.0             DMSO       K73397362   \n",
       "..                         ...              ...             ...   \n",
       "379                        5.0             DMSO       K63631219   \n",
       "380                        5.0             DMSO       K13094524   \n",
       "381                        5.0             DMSO       K82941592   \n",
       "382                        NaN             DMSO             NaN   \n",
       "383                        5.0             DMSO       K36234266   \n",
       "\n",
       "    Metadata_BRD with batch Metadata_Common Name  \\\n",
       "0    BRD-K62391742-001-03-0           venetoclax   \n",
       "1    BRD-K19477839-001-07-6               SGX523   \n",
       "2    BRD-K54759182-003-08-0            dosulepin   \n",
       "3    BRD-K70642949-001-04-5           GSK2334470   \n",
       "4    BRD-K73397362-001-06-6        purmorphamine   \n",
       "..                      ...                  ...   \n",
       "379  BRD-K63631219-001-01-6            quazinone   \n",
       "380  BRD-K13094524-001-04-2                PFI-1   \n",
       "381  BRD-K82941592-238-03-7         rosuvastatin   \n",
       "382                     NaN                  NaN   \n",
       "383  BRD-K36234266-001-09-8           carmustine   \n",
       "\n",
       "                                    Metadata_MoA Metadata_Plate Metadata_Well  \\\n",
       "0                                  BCL inhibitor     BR00122247           A01   \n",
       "1    hepatocyte growth factor receptor inhibitor     BR00122247           A02   \n",
       "2                       tricyclic antidepressant     BR00122247           A03   \n",
       "3    phosphoinositide dependent kinase inhibitor     BR00122247           A04   \n",
       "4                    smoothened receptor agonist     BR00122247           A05   \n",
       "..                                           ...            ...           ...   \n",
       "379                  phosphodiesterase inhibitor     BR00122247           P20   \n",
       "380                        bromodomain inhibitor     BR00122247           P21   \n",
       "381                              HMGCR inhibitor     BR00122247           P22   \n",
       "382                                          NaN     BR00122247           P23   \n",
       "383                                DNA inhibitor     BR00122247           P24   \n",
       "\n",
       "     Metadata_Site_Count  Metadata_Count_Cells  Metadata_Count_Cytoplasm  \\\n",
       "0                      9                  3361                      3361   \n",
       "1                      9                  4012                      4012   \n",
       "2                      9                  4048                      4048   \n",
       "3                      9                  3239                      3239   \n",
       "4                      9                  3955                      3955   \n",
       "..                   ...                   ...                       ...   \n",
       "379                    9                  3836                      3836   \n",
       "380                    9                  3505                      3505   \n",
       "381                    9                  3974                      3974   \n",
       "382                    9                  4048                      4048   \n",
       "383                    9                  3407                      3407   \n",
       "\n",
       "     Metadata_Count_Nuclei  Metadata_Object_Count     Metadata_batch  \\\n",
       "0                     3361                   3361  2023_05_17_Batch2   \n",
       "1                     4012                   4012  2023_05_17_Batch2   \n",
       "2                     4048                   4048  2023_05_17_Batch2   \n",
       "3                     3239                   3239  2023_05_17_Batch2   \n",
       "4                     3955                   3955  2023_05_17_Batch2   \n",
       "..                     ...                    ...                ...   \n",
       "379                   3836                   3836  2023_05_17_Batch2   \n",
       "380                   3505                   3505  2023_05_17_Batch2   \n",
       "381                   3974                   3974  2023_05_17_Batch2   \n",
       "382                   4048                   4048  2023_05_17_Batch2   \n",
       "383                   3407                   3407  2023_05_17_Batch2   \n",
       "\n",
       "      p_value  average_precision  \n",
       "0    0.036696           0.085662  \n",
       "1    0.211079           0.023813  \n",
       "2    0.553145           0.011738  \n",
       "3    0.000100           0.766667  \n",
       "4    0.001000           0.380556  \n",
       "..        ...                ...  \n",
       "379  0.751925           0.009178  \n",
       "380  0.027497           0.115467  \n",
       "381  0.041796           0.082583  \n",
       "382       NaN                NaN  \n",
       "383  0.964204           0.006693  \n",
       "\n",
       "[384 rows x 19 columns]"
      ]
     },
     "execution_count": 23,
     "metadata": {},
     "output_type": "execute_result"
    }
   ],
   "source": [
    "result_batch2"
   ]
  },
  {
   "cell_type": "code",
   "execution_count": 24,
   "metadata": {},
   "outputs": [
    {
     "data": {
      "text/html": [
       "<div>\n",
       "<style scoped>\n",
       "    .dataframe tbody tr th:only-of-type {\n",
       "        vertical-align: middle;\n",
       "    }\n",
       "\n",
       "    .dataframe tbody tr th {\n",
       "        vertical-align: top;\n",
       "    }\n",
       "\n",
       "    .dataframe thead th {\n",
       "        text-align: right;\n",
       "    }\n",
       "</style>\n",
       "<table border=\"1\" class=\"dataframe\">\n",
       "  <thead>\n",
       "    <tr style=\"text-align: right;\">\n",
       "      <th></th>\n",
       "      <th>Metadata_broad_sample</th>\n",
       "      <th>average_precision</th>\n",
       "      <th>nlog10pvalue</th>\n",
       "      <th>q_value</th>\n",
       "      <th>nlog10qvalue</th>\n",
       "      <th>above_p_threshold</th>\n",
       "      <th>above_q_threshold</th>\n",
       "    </tr>\n",
       "  </thead>\n",
       "  <tbody>\n",
       "    <tr>\n",
       "      <th>0</th>\n",
       "      <td>BRD-A12994259-001-11-9</td>\n",
       "      <td>0.118931</td>\n",
       "      <td>1.217291</td>\n",
       "      <td>0.086618</td>\n",
       "      <td>1.062389</td>\n",
       "      <td>False</td>\n",
       "      <td>False</td>\n",
       "    </tr>\n",
       "    <tr>\n",
       "      <th>1</th>\n",
       "      <td>BRD-A22769835-300-05-7</td>\n",
       "      <td>0.023822</td>\n",
       "      <td>0.660318</td>\n",
       "      <td>0.242907</td>\n",
       "      <td>0.614560</td>\n",
       "      <td>False</td>\n",
       "      <td>False</td>\n",
       "    </tr>\n",
       "    <tr>\n",
       "      <th>2</th>\n",
       "      <td>BRD-A53576514-048-02-8</td>\n",
       "      <td>0.059661</td>\n",
       "      <td>1.136962</td>\n",
       "      <td>0.102589</td>\n",
       "      <td>0.988900</td>\n",
       "      <td>False</td>\n",
       "      <td>False</td>\n",
       "    </tr>\n",
       "    <tr>\n",
       "      <th>3</th>\n",
       "      <td>BRD-A87435144-001-01-6</td>\n",
       "      <td>0.133939</td>\n",
       "      <td>1.690935</td>\n",
       "      <td>0.033956</td>\n",
       "      <td>1.469087</td>\n",
       "      <td>True</td>\n",
       "      <td>True</td>\n",
       "    </tr>\n",
       "    <tr>\n",
       "      <th>4</th>\n",
       "      <td>BRD-K00818915-001-02-9</td>\n",
       "      <td>0.071897</td>\n",
       "      <td>1.238365</td>\n",
       "      <td>0.085221</td>\n",
       "      <td>1.069453</td>\n",
       "      <td>False</td>\n",
       "      <td>False</td>\n",
       "    </tr>\n",
       "    <tr>\n",
       "      <th>...</th>\n",
       "      <td>...</td>\n",
       "      <td>...</td>\n",
       "      <td>...</td>\n",
       "      <td>...</td>\n",
       "      <td>...</td>\n",
       "      <td>...</td>\n",
       "      <td>...</td>\n",
       "    </tr>\n",
       "    <tr>\n",
       "      <th>85</th>\n",
       "      <td>BRD-K98251413-001-07-9</td>\n",
       "      <td>0.218591</td>\n",
       "      <td>2.017601</td>\n",
       "      <td>0.017638</td>\n",
       "      <td>1.753554</td>\n",
       "      <td>True</td>\n",
       "      <td>True</td>\n",
       "    </tr>\n",
       "    <tr>\n",
       "      <th>86</th>\n",
       "      <td>BRD-K99092662-001-02-9</td>\n",
       "      <td>0.111170</td>\n",
       "      <td>0.897505</td>\n",
       "      <td>0.163981</td>\n",
       "      <td>0.785207</td>\n",
       "      <td>False</td>\n",
       "      <td>False</td>\n",
       "    </tr>\n",
       "    <tr>\n",
       "      <th>87</th>\n",
       "      <td>BRD-K99113996-001-02-0</td>\n",
       "      <td>1.000000</td>\n",
       "      <td>4.000043</td>\n",
       "      <td>0.000529</td>\n",
       "      <td>3.276250</td>\n",
       "      <td>True</td>\n",
       "      <td>True</td>\n",
       "    </tr>\n",
       "    <tr>\n",
       "      <th>88</th>\n",
       "      <td>BRD-K99433989-001-02-9</td>\n",
       "      <td>0.354452</td>\n",
       "      <td>2.695672</td>\n",
       "      <td>0.004030</td>\n",
       "      <td>2.394642</td>\n",
       "      <td>True</td>\n",
       "      <td>True</td>\n",
       "    </tr>\n",
       "    <tr>\n",
       "      <th>89</th>\n",
       "      <td>BRD-M87138257-003-01-1</td>\n",
       "      <td>0.450754</td>\n",
       "      <td>3.078384</td>\n",
       "      <td>0.001977</td>\n",
       "      <td>2.703925</td>\n",
       "      <td>True</td>\n",
       "      <td>True</td>\n",
       "    </tr>\n",
       "  </tbody>\n",
       "</table>\n",
       "<p>90 rows × 7 columns</p>\n",
       "</div>"
      ],
      "text/plain": [
       "     Metadata_broad_sample  average_precision  nlog10pvalue   q_value  \\\n",
       "0   BRD-A12994259-001-11-9           0.118931      1.217291  0.086618   \n",
       "1   BRD-A22769835-300-05-7           0.023822      0.660318  0.242907   \n",
       "2   BRD-A53576514-048-02-8           0.059661      1.136962  0.102589   \n",
       "3   BRD-A87435144-001-01-6           0.133939      1.690935  0.033956   \n",
       "4   BRD-K00818915-001-02-9           0.071897      1.238365  0.085221   \n",
       "..                     ...                ...           ...       ...   \n",
       "85  BRD-K98251413-001-07-9           0.218591      2.017601  0.017638   \n",
       "86  BRD-K99092662-001-02-9           0.111170      0.897505  0.163981   \n",
       "87  BRD-K99113996-001-02-0           1.000000      4.000043  0.000529   \n",
       "88  BRD-K99433989-001-02-9           0.354452      2.695672  0.004030   \n",
       "89  BRD-M87138257-003-01-1           0.450754      3.078384  0.001977   \n",
       "\n",
       "    nlog10qvalue  above_p_threshold  above_q_threshold  \n",
       "0       1.062389              False              False  \n",
       "1       0.614560              False              False  \n",
       "2       0.988900              False              False  \n",
       "3       1.469087               True               True  \n",
       "4       1.069453              False              False  \n",
       "..           ...                ...                ...  \n",
       "85      1.753554               True               True  \n",
       "86      0.785207              False              False  \n",
       "87      3.276250               True               True  \n",
       "88      2.394642               True               True  \n",
       "89      2.703925               True               True  \n",
       "\n",
       "[90 rows x 7 columns]"
      ]
     },
     "execution_count": 24,
     "metadata": {},
     "output_type": "execute_result"
    }
   ],
   "source": [
    "agg_result_act = aggregate(result_batch2, sameby=pos_sameby, threshold=0.05)\n",
    "agg_result_act"
   ]
  },
  {
   "attachments": {},
   "cell_type": "markdown",
   "metadata": {},
   "source": [
    "#### Renaming columns"
   ]
  },
  {
   "cell_type": "code",
   "execution_count": 29,
   "metadata": {},
   "outputs": [],
   "source": [
    "agg_result_std = agg_result_std.rename(columns = {'average_precision': 'average_precision_std'})\n",
    "agg_result_mito = agg_result_mito.rename(columns = {'average_precision':'average_precision_mito'})\n",
    "agg_result_act = agg_result_act.rename(columns = {'average_precision':'average_precision_act'})"
   ]
  },
  {
   "attachments": {},
   "cell_type": "markdown",
   "metadata": {},
   "source": [
    "#### Combining the average precision values into a single dataframe"
   ]
  },
  {
   "cell_type": "code",
   "execution_count": 32,
   "metadata": {},
   "outputs": [],
   "source": [
    "agg_result_std_subset = agg_result_std[['Metadata_broad_sample', 'average_precision_std']]\n",
    "agg_result_mito_subset = agg_result_mito[['Metadata_broad_sample', 'average_precision_mito']]\n",
    "agg_result_act = agg_result_act[['Metadata_broad_sample', 'average_precision_act']]"
   ]
  },
  {
   "cell_type": "code",
   "execution_count": 35,
   "metadata": {},
   "outputs": [],
   "source": [
    "combined_df = pd.merge(agg_result_std_subset, agg_result_mito_subset, on='Metadata_broad_sample')\n",
    "combined_df  =pd.merge(combined_df,agg_result_act, on='Metadata_broad_sample')"
   ]
  },
  {
   "cell_type": "code",
   "execution_count": 37,
   "metadata": {},
   "outputs": [
    {
     "data": {
      "text/html": [
       "<div>\n",
       "<style scoped>\n",
       "    .dataframe tbody tr th:only-of-type {\n",
       "        vertical-align: middle;\n",
       "    }\n",
       "\n",
       "    .dataframe tbody tr th {\n",
       "        vertical-align: top;\n",
       "    }\n",
       "\n",
       "    .dataframe thead th {\n",
       "        text-align: right;\n",
       "    }\n",
       "</style>\n",
       "<table border=\"1\" class=\"dataframe\">\n",
       "  <thead>\n",
       "    <tr style=\"text-align: right;\">\n",
       "      <th></th>\n",
       "      <th>Metadata_broad_sample</th>\n",
       "      <th>average_precision_std</th>\n",
       "      <th>average_precision_mito</th>\n",
       "      <th>average_precision_act</th>\n",
       "    </tr>\n",
       "  </thead>\n",
       "  <tbody>\n",
       "    <tr>\n",
       "      <th>0</th>\n",
       "      <td>BRD-A12994259-001-11-9</td>\n",
       "      <td>0.109555</td>\n",
       "      <td>0.041064</td>\n",
       "      <td>0.118931</td>\n",
       "    </tr>\n",
       "    <tr>\n",
       "      <th>1</th>\n",
       "      <td>BRD-A22769835-300-05-7</td>\n",
       "      <td>0.011390</td>\n",
       "      <td>0.029497</td>\n",
       "      <td>0.023822</td>\n",
       "    </tr>\n",
       "    <tr>\n",
       "      <th>2</th>\n",
       "      <td>BRD-A53576514-048-02-8</td>\n",
       "      <td>0.046175</td>\n",
       "      <td>0.183302</td>\n",
       "      <td>0.059661</td>\n",
       "    </tr>\n",
       "    <tr>\n",
       "      <th>3</th>\n",
       "      <td>BRD-A87435144-001-01-6</td>\n",
       "      <td>0.106790</td>\n",
       "      <td>0.078665</td>\n",
       "      <td>0.133939</td>\n",
       "    </tr>\n",
       "    <tr>\n",
       "      <th>4</th>\n",
       "      <td>BRD-K00818915-001-02-9</td>\n",
       "      <td>0.189290</td>\n",
       "      <td>0.189756</td>\n",
       "      <td>0.071897</td>\n",
       "    </tr>\n",
       "    <tr>\n",
       "      <th>...</th>\n",
       "      <td>...</td>\n",
       "      <td>...</td>\n",
       "      <td>...</td>\n",
       "      <td>...</td>\n",
       "    </tr>\n",
       "    <tr>\n",
       "      <th>85</th>\n",
       "      <td>BRD-K98251413-001-07-9</td>\n",
       "      <td>0.034381</td>\n",
       "      <td>0.207946</td>\n",
       "      <td>0.218591</td>\n",
       "    </tr>\n",
       "    <tr>\n",
       "      <th>86</th>\n",
       "      <td>BRD-K99092662-001-02-9</td>\n",
       "      <td>0.181962</td>\n",
       "      <td>0.038368</td>\n",
       "      <td>0.111170</td>\n",
       "    </tr>\n",
       "    <tr>\n",
       "      <th>87</th>\n",
       "      <td>BRD-K99113996-001-02-0</td>\n",
       "      <td>1.000000</td>\n",
       "      <td>1.000000</td>\n",
       "      <td>1.000000</td>\n",
       "    </tr>\n",
       "    <tr>\n",
       "      <th>88</th>\n",
       "      <td>BRD-K99433989-001-02-9</td>\n",
       "      <td>0.162272</td>\n",
       "      <td>0.698810</td>\n",
       "      <td>0.354452</td>\n",
       "    </tr>\n",
       "    <tr>\n",
       "      <th>89</th>\n",
       "      <td>BRD-M87138257-003-01-1</td>\n",
       "      <td>0.938889</td>\n",
       "      <td>0.698562</td>\n",
       "      <td>0.450754</td>\n",
       "    </tr>\n",
       "  </tbody>\n",
       "</table>\n",
       "<p>90 rows × 4 columns</p>\n",
       "</div>"
      ],
      "text/plain": [
       "     Metadata_broad_sample  average_precision_std  average_precision_mito  \\\n",
       "0   BRD-A12994259-001-11-9               0.109555                0.041064   \n",
       "1   BRD-A22769835-300-05-7               0.011390                0.029497   \n",
       "2   BRD-A53576514-048-02-8               0.046175                0.183302   \n",
       "3   BRD-A87435144-001-01-6               0.106790                0.078665   \n",
       "4   BRD-K00818915-001-02-9               0.189290                0.189756   \n",
       "..                     ...                    ...                     ...   \n",
       "85  BRD-K98251413-001-07-9               0.034381                0.207946   \n",
       "86  BRD-K99092662-001-02-9               0.181962                0.038368   \n",
       "87  BRD-K99113996-001-02-0               1.000000                1.000000   \n",
       "88  BRD-K99433989-001-02-9               0.162272                0.698810   \n",
       "89  BRD-M87138257-003-01-1               0.938889                0.698562   \n",
       "\n",
       "    average_precision_act  \n",
       "0                0.118931  \n",
       "1                0.023822  \n",
       "2                0.059661  \n",
       "3                0.133939  \n",
       "4                0.071897  \n",
       "..                    ...  \n",
       "85               0.218591  \n",
       "86               0.111170  \n",
       "87               1.000000  \n",
       "88               0.354452  \n",
       "89               0.450754  \n",
       "\n",
       "[90 rows x 4 columns]"
      ]
     },
     "execution_count": 37,
     "metadata": {},
     "output_type": "execute_result"
    }
   ],
   "source": [
    "combined_df"
   ]
  },
  {
   "cell_type": "markdown",
   "metadata": {},
   "source": [
    "#### Adding metadata information to the combined_df "
   ]
  },
  {
   "cell_type": "code",
   "execution_count": 25,
   "metadata": {},
   "outputs": [],
   "source": [
    "moa_metadata = pd.read_csv('C:\\\\Users\\\\ssivagur\\\\Documents\\\\Cell_painting_projects\\\\CDoT\\\\Batch1\\\\LC00009948_MoA_Common_Names.csv')\n",
    "moa_metadata = moa_metadata.rename(columns = {'BRD with batch':'Metadata_broad_sample'})"
   ]
  },
  {
   "cell_type": "markdown",
   "metadata": {},
   "source": [
    "##### Extracting BRD ID from BROAD sample name "
   ]
  },
  {
   "cell_type": "code",
   "execution_count": 45,
   "metadata": {},
   "outputs": [],
   "source": [
    "def BRD_ID(i):\n",
    "    if type(i) != float:\n",
    "        ID = i.split('-')\n",
    "        return ID[1]\n",
    "\n"
   ]
  },
  {
   "cell_type": "code",
   "execution_count": 47,
   "metadata": {},
   "outputs": [],
   "source": [
    "combined_df['BRD ID'] = combined_df['Metadata_broad_sample'].map(BRD_ID)\n",
    "combined_moa_df = pd.merge(combined_df,moa_metadata, on = 'BRD ID')"
   ]
  },
  {
   "cell_type": "code",
   "execution_count": 72,
   "metadata": {},
   "outputs": [
    {
     "data": {
      "text/html": [
       "<div>\n",
       "<style scoped>\n",
       "    .dataframe tbody tr th:only-of-type {\n",
       "        vertical-align: middle;\n",
       "    }\n",
       "\n",
       "    .dataframe tbody tr th {\n",
       "        vertical-align: top;\n",
       "    }\n",
       "\n",
       "    .dataframe thead th {\n",
       "        text-align: right;\n",
       "    }\n",
       "</style>\n",
       "<table border=\"1\" class=\"dataframe\">\n",
       "  <thead>\n",
       "    <tr style=\"text-align: right;\">\n",
       "      <th></th>\n",
       "      <th>Metadata_broad_sample_x</th>\n",
       "      <th>average_precision_std</th>\n",
       "      <th>average_precision_mito</th>\n",
       "      <th>average_precision_act</th>\n",
       "      <th>BRD ID</th>\n",
       "      <th>Metadata_broad_sample_y</th>\n",
       "      <th>Common Name</th>\n",
       "      <th>MoA</th>\n",
       "    </tr>\n",
       "  </thead>\n",
       "  <tbody>\n",
       "    <tr>\n",
       "      <th>0</th>\n",
       "      <td>BRD-A12994259-001-11-9</td>\n",
       "      <td>0.109555</td>\n",
       "      <td>0.041064</td>\n",
       "      <td>0.118931</td>\n",
       "      <td>A12994259</td>\n",
       "      <td>BRD-A12994259-001-02-1</td>\n",
       "      <td>pomalidomide</td>\n",
       "      <td>tumor necrosis factor production inhibitor</td>\n",
       "    </tr>\n",
       "    <tr>\n",
       "      <th>1</th>\n",
       "      <td>BRD-A22769835-300-05-7</td>\n",
       "      <td>0.011390</td>\n",
       "      <td>0.029497</td>\n",
       "      <td>0.023822</td>\n",
       "      <td>A22769835</td>\n",
       "      <td>BRD-A22769835-300-05-7</td>\n",
       "      <td>homochlorcyclizine</td>\n",
       "      <td>antihistamine</td>\n",
       "    </tr>\n",
       "    <tr>\n",
       "      <th>2</th>\n",
       "      <td>BRD-A53576514-048-02-8</td>\n",
       "      <td>0.046175</td>\n",
       "      <td>0.183302</td>\n",
       "      <td>0.059661</td>\n",
       "      <td>A53576514</td>\n",
       "      <td>BRD-A53576514-048-14-3</td>\n",
       "      <td>orphenadrine</td>\n",
       "      <td>acetylcholine receptor antagonist</td>\n",
       "    </tr>\n",
       "    <tr>\n",
       "      <th>3</th>\n",
       "      <td>BRD-A87435144-001-01-6</td>\n",
       "      <td>0.106790</td>\n",
       "      <td>0.078665</td>\n",
       "      <td>0.133939</td>\n",
       "      <td>A87435144</td>\n",
       "      <td>BRD-A87435144-001-01-6</td>\n",
       "      <td>AZD7545</td>\n",
       "      <td>pyruvate dehydrogenase kinase inhibitor</td>\n",
       "    </tr>\n",
       "    <tr>\n",
       "      <th>4</th>\n",
       "      <td>BRD-K00818915-001-02-9</td>\n",
       "      <td>0.189290</td>\n",
       "      <td>0.189756</td>\n",
       "      <td>0.071897</td>\n",
       "      <td>K00818915</td>\n",
       "      <td>BRD-K00818915-003-01-8</td>\n",
       "      <td>SHP099</td>\n",
       "      <td>protein tyrosine kinase inhibitor</td>\n",
       "    </tr>\n",
       "    <tr>\n",
       "      <th>5</th>\n",
       "      <td>BRD-K01826510-001-09-9</td>\n",
       "      <td>0.037976</td>\n",
       "      <td>0.074683</td>\n",
       "      <td>0.018357</td>\n",
       "      <td>K01826510</td>\n",
       "      <td>BRD-K01826510-300-06-9</td>\n",
       "      <td>hydroxyzine</td>\n",
       "      <td>antihistamine</td>\n",
       "    </tr>\n",
       "    <tr>\n",
       "      <th>6</th>\n",
       "      <td>BRD-K02965346-001-01-8</td>\n",
       "      <td>0.916667</td>\n",
       "      <td>0.566919</td>\n",
       "      <td>0.858631</td>\n",
       "      <td>K02965346</td>\n",
       "      <td>BRD-K02965346-001-07-5</td>\n",
       "      <td>SU-11274</td>\n",
       "      <td>hepatocyte growth factor receptor inhibitor</td>\n",
       "    </tr>\n",
       "    <tr>\n",
       "      <th>7</th>\n",
       "      <td>BRD-K03063480-001-08-9</td>\n",
       "      <td>0.958333</td>\n",
       "      <td>0.580847</td>\n",
       "      <td>0.740972</td>\n",
       "      <td>K03063480</td>\n",
       "      <td>BRD-K03063480-001-06-6</td>\n",
       "      <td>PF-477736</td>\n",
       "      <td>CHK inhibitor</td>\n",
       "    </tr>\n",
       "    <tr>\n",
       "      <th>8</th>\n",
       "      <td>BRD-K04923131-001-17-9</td>\n",
       "      <td>1.000000</td>\n",
       "      <td>1.000000</td>\n",
       "      <td>0.586369</td>\n",
       "      <td>K04923131</td>\n",
       "      <td>BRD-K04923131-001-15-4</td>\n",
       "      <td>GSK-3-inhibitor-IX</td>\n",
       "      <td>glycogen synthase kinase inhibitor</td>\n",
       "    </tr>\n",
       "    <tr>\n",
       "      <th>9</th>\n",
       "      <td>BRD-K06182768-001-02-3</td>\n",
       "      <td>0.010157</td>\n",
       "      <td>0.062980</td>\n",
       "      <td>0.026257</td>\n",
       "      <td>K06182768</td>\n",
       "      <td>BRD-K06182768-001-06-4</td>\n",
       "      <td>A-366</td>\n",
       "      <td>histone lysine methyltransferase inhibitor</td>\n",
       "    </tr>\n",
       "    <tr>\n",
       "      <th>10</th>\n",
       "      <td>BRD-K06883221-001-02-9</td>\n",
       "      <td>0.027263</td>\n",
       "      <td>0.019430</td>\n",
       "      <td>0.024690</td>\n",
       "      <td>K06883221</td>\n",
       "      <td>BRD-K06883221-001-01-9</td>\n",
       "      <td>apratastat</td>\n",
       "      <td>tumor necrosis factor production inhibitor</td>\n",
       "    </tr>\n",
       "    <tr>\n",
       "      <th>11</th>\n",
       "      <td>BRD-K09372874-001-02-9</td>\n",
       "      <td>0.958333</td>\n",
       "      <td>0.979167</td>\n",
       "      <td>1.000000</td>\n",
       "      <td>K09372874</td>\n",
       "      <td>BRD-K09372874-001-01-0</td>\n",
       "      <td>merimepodib</td>\n",
       "      <td>inosine monophosphate dehydrogenase inhibitor</td>\n",
       "    </tr>\n",
       "    <tr>\n",
       "      <th>12</th>\n",
       "      <td>BRD-K12511835-003-03-9</td>\n",
       "      <td>1.000000</td>\n",
       "      <td>1.000000</td>\n",
       "      <td>0.794231</td>\n",
       "      <td>K12511835</td>\n",
       "      <td>BRD-K12511835-003-01-2</td>\n",
       "      <td>BMS-863233</td>\n",
       "      <td>CDC inhibitor</td>\n",
       "    </tr>\n",
       "    <tr>\n",
       "      <th>13</th>\n",
       "      <td>BRD-K12737986-001-01-4</td>\n",
       "      <td>0.187703</td>\n",
       "      <td>0.021221</td>\n",
       "      <td>0.075043</td>\n",
       "      <td>K12737986</td>\n",
       "      <td>BRD-K12737986-001-01-4</td>\n",
       "      <td>veliparib</td>\n",
       "      <td>PARP inhibitor</td>\n",
       "    </tr>\n",
       "    <tr>\n",
       "      <th>14</th>\n",
       "      <td>BRD-K13094524-001-10-9</td>\n",
       "      <td>0.177424</td>\n",
       "      <td>0.312146</td>\n",
       "      <td>0.187796</td>\n",
       "      <td>K13094524</td>\n",
       "      <td>BRD-K13094524-001-04-2</td>\n",
       "      <td>PFI-1</td>\n",
       "      <td>bromodomain inhibitor</td>\n",
       "    </tr>\n",
       "    <tr>\n",
       "      <th>15</th>\n",
       "      <td>BRD-K13606314-001-02-9</td>\n",
       "      <td>0.022485</td>\n",
       "      <td>0.025235</td>\n",
       "      <td>0.011739</td>\n",
       "      <td>K13606314</td>\n",
       "      <td>BRD-K13606314-001-01-3</td>\n",
       "      <td>P5091</td>\n",
       "      <td>ubiquitin specific protease inhibitor</td>\n",
       "    </tr>\n",
       "    <tr>\n",
       "      <th>16</th>\n",
       "      <td>BRD-K16189898-001-26-9</td>\n",
       "      <td>0.565424</td>\n",
       "      <td>1.000000</td>\n",
       "      <td>1.000000</td>\n",
       "      <td>K16189898</td>\n",
       "      <td>BRD-K16189898-003-03-3</td>\n",
       "      <td>CHIR-99021</td>\n",
       "      <td>glycogen synthase kinase inhibitor</td>\n",
       "    </tr>\n",
       "    <tr>\n",
       "      <th>17</th>\n",
       "      <td>BRD-K16803204-001-02-9</td>\n",
       "      <td>0.065686</td>\n",
       "      <td>0.087567</td>\n",
       "      <td>0.032413</td>\n",
       "      <td>K16803204</td>\n",
       "      <td>BRD-K16803204-001-01-6</td>\n",
       "      <td>filgotinib</td>\n",
       "      <td>JAK inhibitor</td>\n",
       "    </tr>\n",
       "    <tr>\n",
       "      <th>18</th>\n",
       "      <td>BRD-K17953061-001-05-1</td>\n",
       "      <td>0.693562</td>\n",
       "      <td>1.000000</td>\n",
       "      <td>0.650079</td>\n",
       "      <td>K17953061</td>\n",
       "      <td>BRD-K17953061-001-14-3</td>\n",
       "      <td>Staurosporine</td>\n",
       "      <td>Apoptosis inducer (ATP-competitive kinase inhi...</td>\n",
       "    </tr>\n",
       "    <tr>\n",
       "      <th>19</th>\n",
       "      <td>BRD-K19477839-001-10-9</td>\n",
       "      <td>0.054253</td>\n",
       "      <td>0.033475</td>\n",
       "      <td>0.022860</td>\n",
       "      <td>K19477839</td>\n",
       "      <td>BRD-K19477839-001-07-6</td>\n",
       "      <td>SGX523</td>\n",
       "      <td>hepatocyte growth factor receptor inhibitor</td>\n",
       "    </tr>\n",
       "    <tr>\n",
       "      <th>20</th>\n",
       "      <td>BRD-K19871656-001-01-3</td>\n",
       "      <td>0.896825</td>\n",
       "      <td>1.000000</td>\n",
       "      <td>1.000000</td>\n",
       "      <td>K19871656</td>\n",
       "      <td>BRD-K19871656-001-01-3</td>\n",
       "      <td>CPI-0610</td>\n",
       "      <td>bromodomain inhibitor</td>\n",
       "    </tr>\n",
       "    <tr>\n",
       "      <th>21</th>\n",
       "      <td>BRD-K20290250-001-03-9</td>\n",
       "      <td>0.220606</td>\n",
       "      <td>0.232274</td>\n",
       "      <td>0.158402</td>\n",
       "      <td>K20290250</td>\n",
       "      <td>BRD-K20290250-001-02-1</td>\n",
       "      <td>BIX-02188</td>\n",
       "      <td>MEK inhibitor</td>\n",
       "    </tr>\n",
       "    <tr>\n",
       "      <th>22</th>\n",
       "      <td>BRD-K21728777-001-03-9</td>\n",
       "      <td>0.927083</td>\n",
       "      <td>1.000000</td>\n",
       "      <td>1.000000</td>\n",
       "      <td>K21728777</td>\n",
       "      <td>BRD-K21728777-001-02-3</td>\n",
       "      <td>AMG900</td>\n",
       "      <td>Aurora kinase inhibitor</td>\n",
       "    </tr>\n",
       "    <tr>\n",
       "      <th>23</th>\n",
       "      <td>BRD-K23383398-001-08-1</td>\n",
       "      <td>0.843056</td>\n",
       "      <td>0.101092</td>\n",
       "      <td>0.623122</td>\n",
       "      <td>K23383398</td>\n",
       "      <td>BRD-K23383398-001-09-9</td>\n",
       "      <td>T-0901317</td>\n",
       "      <td>LXR agonist</td>\n",
       "    </tr>\n",
       "    <tr>\n",
       "      <th>24</th>\n",
       "      <td>BRD-K24600306-003-02-9</td>\n",
       "      <td>0.008888</td>\n",
       "      <td>0.054628</td>\n",
       "      <td>0.024035</td>\n",
       "      <td>K24600306</td>\n",
       "      <td>BRD-K24600306-003-02-9</td>\n",
       "      <td>ML-298</td>\n",
       "      <td>phospholipase inhibitor</td>\n",
       "    </tr>\n",
       "    <tr>\n",
       "      <th>25</th>\n",
       "      <td>BRD-K24696047-001-03-9</td>\n",
       "      <td>0.684127</td>\n",
       "      <td>0.387764</td>\n",
       "      <td>0.658929</td>\n",
       "      <td>K24696047</td>\n",
       "      <td>BRD-K24696047-001-02-3</td>\n",
       "      <td>NVP-AEW541</td>\n",
       "      <td>IGF-1 inhibitor</td>\n",
       "    </tr>\n",
       "    <tr>\n",
       "      <th>26</th>\n",
       "      <td>BRD-K25433859-003-03-1</td>\n",
       "      <td>0.014399</td>\n",
       "      <td>0.021027</td>\n",
       "      <td>0.141166</td>\n",
       "      <td>K25433859</td>\n",
       "      <td>BRD-K25433859-003-23-9</td>\n",
       "      <td>maprotiline</td>\n",
       "      <td>tricyclic antidepressant</td>\n",
       "    </tr>\n",
       "    <tr>\n",
       "      <th>27</th>\n",
       "      <td>BRD-K25611237-001-09-9</td>\n",
       "      <td>0.030328</td>\n",
       "      <td>0.083494</td>\n",
       "      <td>0.050275</td>\n",
       "      <td>K25611237</td>\n",
       "      <td>BRD-K25611237-001-02-1</td>\n",
       "      <td>ML324</td>\n",
       "      <td>histone lysine demethylase inhibitor</td>\n",
       "    </tr>\n",
       "    <tr>\n",
       "      <th>28</th>\n",
       "      <td>BRD-K28936863-051-14-0</td>\n",
       "      <td>0.063667</td>\n",
       "      <td>0.024264</td>\n",
       "      <td>0.038548</td>\n",
       "      <td>K28936863</td>\n",
       "      <td>BRD-K28936863-051-32-2</td>\n",
       "      <td>ketotifen</td>\n",
       "      <td>phosphodiesterase inhibitor</td>\n",
       "    </tr>\n",
       "    <tr>\n",
       "      <th>29</th>\n",
       "      <td>BRD-K30707190-001-06-9</td>\n",
       "      <td>0.026106</td>\n",
       "      <td>0.026108</td>\n",
       "      <td>0.019010</td>\n",
       "      <td>K30707190</td>\n",
       "      <td>BRD-K30707190-001-04-1</td>\n",
       "      <td>PNU-74654</td>\n",
       "      <td>beta-catenin inhibitor</td>\n",
       "    </tr>\n",
       "  </tbody>\n",
       "</table>\n",
       "</div>"
      ],
      "text/plain": [
       "   Metadata_broad_sample_x  average_precision_std  average_precision_mito  \\\n",
       "0   BRD-A12994259-001-11-9               0.109555                0.041064   \n",
       "1   BRD-A22769835-300-05-7               0.011390                0.029497   \n",
       "2   BRD-A53576514-048-02-8               0.046175                0.183302   \n",
       "3   BRD-A87435144-001-01-6               0.106790                0.078665   \n",
       "4   BRD-K00818915-001-02-9               0.189290                0.189756   \n",
       "5   BRD-K01826510-001-09-9               0.037976                0.074683   \n",
       "6   BRD-K02965346-001-01-8               0.916667                0.566919   \n",
       "7   BRD-K03063480-001-08-9               0.958333                0.580847   \n",
       "8   BRD-K04923131-001-17-9               1.000000                1.000000   \n",
       "9   BRD-K06182768-001-02-3               0.010157                0.062980   \n",
       "10  BRD-K06883221-001-02-9               0.027263                0.019430   \n",
       "11  BRD-K09372874-001-02-9               0.958333                0.979167   \n",
       "12  BRD-K12511835-003-03-9               1.000000                1.000000   \n",
       "13  BRD-K12737986-001-01-4               0.187703                0.021221   \n",
       "14  BRD-K13094524-001-10-9               0.177424                0.312146   \n",
       "15  BRD-K13606314-001-02-9               0.022485                0.025235   \n",
       "16  BRD-K16189898-001-26-9               0.565424                1.000000   \n",
       "17  BRD-K16803204-001-02-9               0.065686                0.087567   \n",
       "18  BRD-K17953061-001-05-1               0.693562                1.000000   \n",
       "19  BRD-K19477839-001-10-9               0.054253                0.033475   \n",
       "20  BRD-K19871656-001-01-3               0.896825                1.000000   \n",
       "21  BRD-K20290250-001-03-9               0.220606                0.232274   \n",
       "22  BRD-K21728777-001-03-9               0.927083                1.000000   \n",
       "23  BRD-K23383398-001-08-1               0.843056                0.101092   \n",
       "24  BRD-K24600306-003-02-9               0.008888                0.054628   \n",
       "25  BRD-K24696047-001-03-9               0.684127                0.387764   \n",
       "26  BRD-K25433859-003-03-1               0.014399                0.021027   \n",
       "27  BRD-K25611237-001-09-9               0.030328                0.083494   \n",
       "28  BRD-K28936863-051-14-0               0.063667                0.024264   \n",
       "29  BRD-K30707190-001-06-9               0.026106                0.026108   \n",
       "\n",
       "    average_precision_act     BRD ID Metadata_broad_sample_y  \\\n",
       "0                0.118931  A12994259  BRD-A12994259-001-02-1   \n",
       "1                0.023822  A22769835  BRD-A22769835-300-05-7   \n",
       "2                0.059661  A53576514  BRD-A53576514-048-14-3   \n",
       "3                0.133939  A87435144  BRD-A87435144-001-01-6   \n",
       "4                0.071897  K00818915  BRD-K00818915-003-01-8   \n",
       "5                0.018357  K01826510  BRD-K01826510-300-06-9   \n",
       "6                0.858631  K02965346  BRD-K02965346-001-07-5   \n",
       "7                0.740972  K03063480  BRD-K03063480-001-06-6   \n",
       "8                0.586369  K04923131  BRD-K04923131-001-15-4   \n",
       "9                0.026257  K06182768  BRD-K06182768-001-06-4   \n",
       "10               0.024690  K06883221  BRD-K06883221-001-01-9   \n",
       "11               1.000000  K09372874  BRD-K09372874-001-01-0   \n",
       "12               0.794231  K12511835  BRD-K12511835-003-01-2   \n",
       "13               0.075043  K12737986  BRD-K12737986-001-01-4   \n",
       "14               0.187796  K13094524  BRD-K13094524-001-04-2   \n",
       "15               0.011739  K13606314  BRD-K13606314-001-01-3   \n",
       "16               1.000000  K16189898  BRD-K16189898-003-03-3   \n",
       "17               0.032413  K16803204  BRD-K16803204-001-01-6   \n",
       "18               0.650079  K17953061  BRD-K17953061-001-14-3   \n",
       "19               0.022860  K19477839  BRD-K19477839-001-07-6   \n",
       "20               1.000000  K19871656  BRD-K19871656-001-01-3   \n",
       "21               0.158402  K20290250  BRD-K20290250-001-02-1   \n",
       "22               1.000000  K21728777  BRD-K21728777-001-02-3   \n",
       "23               0.623122  K23383398  BRD-K23383398-001-09-9   \n",
       "24               0.024035  K24600306  BRD-K24600306-003-02-9   \n",
       "25               0.658929  K24696047  BRD-K24696047-001-02-3   \n",
       "26               0.141166  K25433859  BRD-K25433859-003-23-9   \n",
       "27               0.050275  K25611237  BRD-K25611237-001-02-1   \n",
       "28               0.038548  K28936863  BRD-K28936863-051-32-2   \n",
       "29               0.019010  K30707190  BRD-K30707190-001-04-1   \n",
       "\n",
       "           Common Name                                                MoA  \n",
       "0         pomalidomide         tumor necrosis factor production inhibitor  \n",
       "1   homochlorcyclizine                                      antihistamine  \n",
       "2         orphenadrine                  acetylcholine receptor antagonist  \n",
       "3              AZD7545            pyruvate dehydrogenase kinase inhibitor  \n",
       "4               SHP099                  protein tyrosine kinase inhibitor  \n",
       "5          hydroxyzine                                      antihistamine  \n",
       "6             SU-11274        hepatocyte growth factor receptor inhibitor  \n",
       "7            PF-477736                                      CHK inhibitor  \n",
       "8   GSK-3-inhibitor-IX                 glycogen synthase kinase inhibitor  \n",
       "9                A-366         histone lysine methyltransferase inhibitor  \n",
       "10          apratastat         tumor necrosis factor production inhibitor  \n",
       "11         merimepodib      inosine monophosphate dehydrogenase inhibitor  \n",
       "12          BMS-863233                                      CDC inhibitor  \n",
       "13           veliparib                                     PARP inhibitor  \n",
       "14               PFI-1                              bromodomain inhibitor  \n",
       "15               P5091              ubiquitin specific protease inhibitor  \n",
       "16          CHIR-99021                 glycogen synthase kinase inhibitor  \n",
       "17          filgotinib                                      JAK inhibitor  \n",
       "18       Staurosporine  Apoptosis inducer (ATP-competitive kinase inhi...  \n",
       "19              SGX523        hepatocyte growth factor receptor inhibitor  \n",
       "20            CPI-0610                              bromodomain inhibitor  \n",
       "21           BIX-02188                                      MEK inhibitor  \n",
       "22              AMG900                            Aurora kinase inhibitor  \n",
       "23           T-0901317                                        LXR agonist  \n",
       "24              ML-298                            phospholipase inhibitor  \n",
       "25          NVP-AEW541                                    IGF-1 inhibitor  \n",
       "26         maprotiline                           tricyclic antidepressant  \n",
       "27               ML324               histone lysine demethylase inhibitor  \n",
       "28           ketotifen                        phosphodiesterase inhibitor  \n",
       "29           PNU-74654                             beta-catenin inhibitor  "
      ]
     },
     "execution_count": 72,
     "metadata": {},
     "output_type": "execute_result"
    }
   ],
   "source": [
    "combined_moa_df.head(30)"
   ]
  },
  {
   "attachments": {},
   "cell_type": "markdown",
   "metadata": {},
   "source": [
    "#### Standard cellpainting data vs mito "
   ]
  },
  {
   "cell_type": "code",
   "execution_count": 75,
   "metadata": {},
   "outputs": [
    {
     "data": {
      "application/vnd.plotly.v1+json": {
       "config": {
        "plotlyServerURL": "https://plot.ly"
       },
       "data": [
        {
         "hovertemplate": "MoA=tumor necrosis factor production inhibitor<br>Mean average precision - Standard CellPainting dyes=%{x}<br>Mean average precision - <br> Tocris Mitobrilliant 647=%{y}<extra></extra>",
         "legendgroup": "tumor necrosis factor production inhibitor",
         "marker": {
          "color": "#636efa",
          "symbol": "circle"
         },
         "mode": "markers",
         "name": "tumor necrosis factor production inhibitor",
         "orientation": "v",
         "showlegend": true,
         "type": "scatter",
         "x": [
          0.10955503314536727,
          0.02726300292853341
         ],
         "xaxis": "x",
         "y": [
          0.04106362361483655,
          0.019429886518556976
         ],
         "yaxis": "y"
        },
        {
         "hovertemplate": "MoA=antihistamine<br>Mean average precision - Standard CellPainting dyes=%{x}<br>Mean average precision - <br> Tocris Mitobrilliant 647=%{y}<extra></extra>",
         "legendgroup": "antihistamine",
         "marker": {
          "color": "#EF553B",
          "symbol": "circle"
         },
         "mode": "markers",
         "name": "antihistamine",
         "orientation": "v",
         "showlegend": true,
         "type": "scatter",
         "x": [
          0.011390147377227103,
          0.03797591735678792
         ],
         "xaxis": "x",
         "y": [
          0.02949657787694289,
          0.0746827293059189
         ],
         "yaxis": "y"
        },
        {
         "hovertemplate": "MoA=acetylcholine receptor antagonist<br>Mean average precision - Standard CellPainting dyes=%{x}<br>Mean average precision - <br> Tocris Mitobrilliant 647=%{y}<extra></extra>",
         "legendgroup": "acetylcholine receptor antagonist",
         "marker": {
          "color": "#00cc96",
          "symbol": "circle"
         },
         "mode": "markers",
         "name": "acetylcholine receptor antagonist",
         "orientation": "v",
         "showlegend": true,
         "type": "scatter",
         "x": [
          0.04617461963750725,
          0.04240428192923572
         ],
         "xaxis": "x",
         "y": [
          0.1833019774514587,
          0.13014459686660684
         ],
         "yaxis": "y"
        },
        {
         "hovertemplate": "MoA=pyruvate dehydrogenase kinase inhibitor<br>Mean average precision - Standard CellPainting dyes=%{x}<br>Mean average precision - <br> Tocris Mitobrilliant 647=%{y}<extra></extra>",
         "legendgroup": "pyruvate dehydrogenase kinase inhibitor",
         "marker": {
          "color": "#ab63fa",
          "symbol": "circle"
         },
         "mode": "markers",
         "name": "pyruvate dehydrogenase kinase inhibitor",
         "orientation": "v",
         "showlegend": true,
         "type": "scatter",
         "x": [
          0.10679002598213568,
          0.9097222222222222
         ],
         "xaxis": "x",
         "y": [
          0.07866485866907745,
          0.9583333333333333
         ],
         "yaxis": "y"
        },
        {
         "hovertemplate": "MoA=protein tyrosine kinase inhibitor<br>Mean average precision - Standard CellPainting dyes=%{x}<br>Mean average precision - <br> Tocris Mitobrilliant 647=%{y}<extra></extra>",
         "legendgroup": "protein tyrosine kinase inhibitor",
         "marker": {
          "color": "#FFA15A",
          "symbol": "circle"
         },
         "mode": "markers",
         "name": "protein tyrosine kinase inhibitor",
         "orientation": "v",
         "showlegend": true,
         "type": "scatter",
         "x": [
          0.18928995877912755,
          0.028133314931622723
         ],
         "xaxis": "x",
         "y": [
          0.1897562890307287,
          0.2595924468408903
         ],
         "yaxis": "y"
        },
        {
         "hovertemplate": "MoA=hepatocyte growth factor receptor inhibitor<br>Mean average precision - Standard CellPainting dyes=%{x}<br>Mean average precision - <br> Tocris Mitobrilliant 647=%{y}<extra></extra>",
         "legendgroup": "hepatocyte growth factor receptor inhibitor",
         "marker": {
          "color": "#19d3f3",
          "symbol": "circle"
         },
         "mode": "markers",
         "name": "hepatocyte growth factor receptor inhibitor",
         "orientation": "v",
         "showlegend": true,
         "type": "scatter",
         "x": [
          0.9166666666666667,
          0.05425296150197329
         ],
         "xaxis": "x",
         "y": [
          0.5669190336953494,
          0.03347491551772617
         ],
         "yaxis": "y"
        },
        {
         "hovertemplate": "MoA=CHK inhibitor<br>Mean average precision - Standard CellPainting dyes=%{x}<br>Mean average precision - <br> Tocris Mitobrilliant 647=%{y}<extra></extra>",
         "legendgroup": "CHK inhibitor",
         "marker": {
          "color": "#FF6692",
          "symbol": "circle"
         },
         "mode": "markers",
         "name": "CHK inhibitor",
         "orientation": "v",
         "showlegend": true,
         "type": "scatter",
         "x": [
          0.9583333333333333,
          0.7891865079365079
         ],
         "xaxis": "x",
         "y": [
          0.5808469308469308,
          1
         ],
         "yaxis": "y"
        },
        {
         "hovertemplate": "MoA=glycogen synthase kinase inhibitor<br>Mean average precision - Standard CellPainting dyes=%{x}<br>Mean average precision - <br> Tocris Mitobrilliant 647=%{y}<extra></extra>",
         "legendgroup": "glycogen synthase kinase inhibitor",
         "marker": {
          "color": "#B6E880",
          "symbol": "circle"
         },
         "mode": "markers",
         "name": "glycogen synthase kinase inhibitor",
         "orientation": "v",
         "showlegend": true,
         "type": "scatter",
         "x": [
          1,
          0.5654241731777601
         ],
         "xaxis": "x",
         "y": [
          1,
          1
         ],
         "yaxis": "y"
        },
        {
         "hovertemplate": "MoA=histone lysine methyltransferase inhibitor<br>Mean average precision - Standard CellPainting dyes=%{x}<br>Mean average precision - <br> Tocris Mitobrilliant 647=%{y}<extra></extra>",
         "legendgroup": "histone lysine methyltransferase inhibitor",
         "marker": {
          "color": "#FF97FF",
          "symbol": "circle"
         },
         "mode": "markers",
         "name": "histone lysine methyltransferase inhibitor",
         "orientation": "v",
         "showlegend": true,
         "type": "scatter",
         "x": [
          0.010157074614598097,
          1
         ],
         "xaxis": "x",
         "y": [
          0.06298017376306836,
          1
         ],
         "yaxis": "y"
        },
        {
         "hovertemplate": "MoA=inosine monophosphate dehydrogenase inhibitor<br>Mean average precision - Standard CellPainting dyes=%{x}<br>Mean average precision - <br> Tocris Mitobrilliant 647=%{y}<extra></extra>",
         "legendgroup": "inosine monophosphate dehydrogenase inhibitor",
         "marker": {
          "color": "#FECB52",
          "symbol": "circle"
         },
         "mode": "markers",
         "name": "inosine monophosphate dehydrogenase inhibitor",
         "orientation": "v",
         "showlegend": true,
         "type": "scatter",
         "x": [
          0.9583333333333333,
          1
         ],
         "xaxis": "x",
         "y": [
          0.9791666666666666,
          0.9513888888888888
         ],
         "yaxis": "y"
        },
        {
         "hovertemplate": "MoA=CDC inhibitor<br>Mean average precision - Standard CellPainting dyes=%{x}<br>Mean average precision - <br> Tocris Mitobrilliant 647=%{y}<extra></extra>",
         "legendgroup": "CDC inhibitor",
         "marker": {
          "color": "#636efa",
          "symbol": "circle"
         },
         "mode": "markers",
         "name": "CDC inhibitor",
         "orientation": "v",
         "showlegend": true,
         "type": "scatter",
         "x": [
          1,
          0.09987495271894538
         ],
         "xaxis": "x",
         "y": [
          1,
          0.03462231939689321
         ],
         "yaxis": "y"
        },
        {
         "hovertemplate": "MoA=PARP inhibitor<br>Mean average precision - Standard CellPainting dyes=%{x}<br>Mean average precision - <br> Tocris Mitobrilliant 647=%{y}<extra></extra>",
         "legendgroup": "PARP inhibitor",
         "marker": {
          "color": "#EF553B",
          "symbol": "circle"
         },
         "mode": "markers",
         "name": "PARP inhibitor",
         "orientation": "v",
         "showlegend": true,
         "type": "scatter",
         "x": [
          0.18770334842977676,
          0.5931182121971595
         ],
         "xaxis": "x",
         "y": [
          0.021220867930195873,
          0.9791666666666666
         ],
         "yaxis": "y"
        },
        {
         "hovertemplate": "MoA=bromodomain inhibitor<br>Mean average precision - Standard CellPainting dyes=%{x}<br>Mean average precision - <br> Tocris Mitobrilliant 647=%{y}<extra></extra>",
         "legendgroup": "bromodomain inhibitor",
         "marker": {
          "color": "#00cc96",
          "symbol": "circle"
         },
         "mode": "markers",
         "name": "bromodomain inhibitor",
         "orientation": "v",
         "showlegend": true,
         "type": "scatter",
         "x": [
          0.1774238369398024,
          0.8968253968253967
         ],
         "xaxis": "x",
         "y": [
          0.3121456916099773,
          1
         ],
         "yaxis": "y"
        },
        {
         "hovertemplate": "MoA=ubiquitin specific protease inhibitor<br>Mean average precision - Standard CellPainting dyes=%{x}<br>Mean average precision - <br> Tocris Mitobrilliant 647=%{y}<extra></extra>",
         "legendgroup": "ubiquitin specific protease inhibitor",
         "marker": {
          "color": "#ab63fa",
          "symbol": "circle"
         },
         "mode": "markers",
         "name": "ubiquitin specific protease inhibitor",
         "orientation": "v",
         "showlegend": true,
         "type": "scatter",
         "x": [
          0.02248489593927961,
          0.06952250117918726
         ],
         "xaxis": "x",
         "y": [
          0.025234957122206355,
          0.1397571840718938
         ],
         "yaxis": "y"
        },
        {
         "hovertemplate": "MoA=JAK inhibitor<br>Mean average precision - Standard CellPainting dyes=%{x}<br>Mean average precision - <br> Tocris Mitobrilliant 647=%{y}<extra></extra>",
         "legendgroup": "JAK inhibitor",
         "marker": {
          "color": "#FFA15A",
          "symbol": "circle"
         },
         "mode": "markers",
         "name": "JAK inhibitor",
         "orientation": "v",
         "showlegend": true,
         "type": "scatter",
         "x": [
          0.06568600905829389,
          0.2582214518941581
         ],
         "xaxis": "x",
         "y": [
          0.08756656601770453,
          0.1204529987212528
         ],
         "yaxis": "y"
        },
        {
         "hovertemplate": "MoA=Apoptosis inducer (ATP-competitive kinase inhibitor)<br>Mean average precision - Standard CellPainting dyes=%{x}<br>Mean average precision - <br> Tocris Mitobrilliant 647=%{y}<extra></extra>",
         "legendgroup": "Apoptosis inducer (ATP-competitive kinase inhibitor)",
         "marker": {
          "color": "#19d3f3",
          "symbol": "circle"
         },
         "mode": "markers",
         "name": "Apoptosis inducer (ATP-competitive kinase inhibitor)",
         "orientation": "v",
         "showlegend": true,
         "type": "scatter",
         "x": [
          0.6935622101230086
         ],
         "xaxis": "x",
         "y": [
          1
         ],
         "yaxis": "y"
        },
        {
         "hovertemplate": "MoA=MEK inhibitor<br>Mean average precision - Standard CellPainting dyes=%{x}<br>Mean average precision - <br> Tocris Mitobrilliant 647=%{y}<extra></extra>",
         "legendgroup": "MEK inhibitor",
         "marker": {
          "color": "#FF6692",
          "symbol": "circle"
         },
         "mode": "markers",
         "name": "MEK inhibitor",
         "orientation": "v",
         "showlegend": true,
         "type": "scatter",
         "x": [
          0.2206058574937985,
          0.58757215007215
         ],
         "xaxis": "x",
         "y": [
          0.23227378321476105,
          0.5183013623803098
         ],
         "yaxis": "y"
        },
        {
         "hovertemplate": "MoA=Aurora kinase inhibitor<br>Mean average precision - Standard CellPainting dyes=%{x}<br>Mean average precision - <br> Tocris Mitobrilliant 647=%{y}<extra></extra>",
         "legendgroup": "Aurora kinase inhibitor",
         "marker": {
          "color": "#B6E880",
          "symbol": "circle"
         },
         "mode": "markers",
         "name": "Aurora kinase inhibitor",
         "orientation": "v",
         "showlegend": true,
         "type": "scatter",
         "x": [
          0.9270833333333333,
          0.6277777777777778
         ],
         "xaxis": "x",
         "y": [
          1,
          0.46220410172616055
         ],
         "yaxis": "y"
        },
        {
         "hovertemplate": "MoA=LXR agonist<br>Mean average precision - Standard CellPainting dyes=%{x}<br>Mean average precision - <br> Tocris Mitobrilliant 647=%{y}<extra></extra>",
         "legendgroup": "LXR agonist",
         "marker": {
          "color": "#FF97FF",
          "symbol": "circle"
         },
         "mode": "markers",
         "name": "LXR agonist",
         "orientation": "v",
         "showlegend": true,
         "type": "scatter",
         "x": [
          0.8430555555555556,
          0.26202714078111
         ],
         "xaxis": "x",
         "y": [
          0.10109245761912145,
          0.27069767752108237
         ],
         "yaxis": "y"
        },
        {
         "hovertemplate": "MoA=phospholipase inhibitor<br>Mean average precision - Standard CellPainting dyes=%{x}<br>Mean average precision - <br> Tocris Mitobrilliant 647=%{y}<extra></extra>",
         "legendgroup": "phospholipase inhibitor",
         "marker": {
          "color": "#FECB52",
          "symbol": "circle"
         },
         "mode": "markers",
         "name": "phospholipase inhibitor",
         "orientation": "v",
         "showlegend": true,
         "type": "scatter",
         "x": [
          0.008887586417584208,
          0.8791666666666667
         ],
         "xaxis": "x",
         "y": [
          0.054628432982736806,
          0.48865701535450906
         ],
         "yaxis": "y"
        },
        {
         "hovertemplate": "MoA=IGF-1 inhibitor<br>Mean average precision - Standard CellPainting dyes=%{x}<br>Mean average precision - <br> Tocris Mitobrilliant 647=%{y}<extra></extra>",
         "legendgroup": "IGF-1 inhibitor",
         "marker": {
          "color": "#636efa",
          "symbol": "circle"
         },
         "mode": "markers",
         "name": "IGF-1 inhibitor",
         "orientation": "v",
         "showlegend": true,
         "type": "scatter",
         "x": [
          0.6841269841269841,
          0.3402279977647624
         ],
         "xaxis": "x",
         "y": [
          0.3877640021656237,
          0.5132783882783883
         ],
         "yaxis": "y"
        },
        {
         "hovertemplate": "MoA=tricyclic antidepressant<br>Mean average precision - Standard CellPainting dyes=%{x}<br>Mean average precision - <br> Tocris Mitobrilliant 647=%{y}<extra></extra>",
         "legendgroup": "tricyclic antidepressant",
         "marker": {
          "color": "#EF553B",
          "symbol": "circle"
         },
         "mode": "markers",
         "name": "tricyclic antidepressant",
         "orientation": "v",
         "showlegend": true,
         "type": "scatter",
         "x": [
          0.014398662534440752,
          0.04870365727884188
         ],
         "xaxis": "x",
         "y": [
          0.021027320115483174,
          0.026644821235381515
         ],
         "yaxis": "y"
        },
        {
         "hovertemplate": "MoA=histone lysine demethylase inhibitor<br>Mean average precision - Standard CellPainting dyes=%{x}<br>Mean average precision - <br> Tocris Mitobrilliant 647=%{y}<extra></extra>",
         "legendgroup": "histone lysine demethylase inhibitor",
         "marker": {
          "color": "#00cc96",
          "symbol": "circle"
         },
         "mode": "markers",
         "name": "histone lysine demethylase inhibitor",
         "orientation": "v",
         "showlegend": true,
         "type": "scatter",
         "x": [
          0.0303275038750778,
          0.9047619047619048
         ],
         "xaxis": "x",
         "y": [
          0.08349364926550511,
          1
         ],
         "yaxis": "y"
        },
        {
         "hovertemplate": "MoA=phosphodiesterase inhibitor<br>Mean average precision - Standard CellPainting dyes=%{x}<br>Mean average precision - <br> Tocris Mitobrilliant 647=%{y}<extra></extra>",
         "legendgroup": "phosphodiesterase inhibitor",
         "marker": {
          "color": "#ab63fa",
          "symbol": "circle"
         },
         "mode": "markers",
         "name": "phosphodiesterase inhibitor",
         "orientation": "v",
         "showlegend": true,
         "type": "scatter",
         "x": [
          0.06366725712453858,
          0.0171684646478038
         ],
         "xaxis": "x",
         "y": [
          0.024263594207216976,
          0.03664189795233662
         ],
         "yaxis": "y"
        },
        {
         "hovertemplate": "MoA=beta-catenin inhibitor<br>Mean average precision - Standard CellPainting dyes=%{x}<br>Mean average precision - <br> Tocris Mitobrilliant 647=%{y}<extra></extra>",
         "legendgroup": "beta-catenin inhibitor",
         "marker": {
          "color": "#FFA15A",
          "symbol": "circle"
         },
         "mode": "markers",
         "name": "beta-catenin inhibitor",
         "orientation": "v",
         "showlegend": true,
         "type": "scatter",
         "x": [
          0.026106453169796876,
          0.44779294779294776
         ],
         "xaxis": "x",
         "y": [
          0.026107556145646575,
          0.543670319601
         ],
         "yaxis": "y"
        },
        {
         "hovertemplate": "MoA=JNK inhibitor<br>Mean average precision - Standard CellPainting dyes=%{x}<br>Mean average precision - <br> Tocris Mitobrilliant 647=%{y}<extra></extra>",
         "legendgroup": "JNK inhibitor",
         "marker": {
          "color": "#19d3f3",
          "symbol": "circle"
         },
         "mode": "markers",
         "name": "JNK inhibitor",
         "orientation": "v",
         "showlegend": true,
         "type": "scatter",
         "x": [
          0.012972513852344934,
          0.023534791753386002
         ],
         "xaxis": "x",
         "y": [
          0.009432631589004056,
          0.04183803807873086
         ],
         "yaxis": "y"
        },
        {
         "hovertemplate": "MoA=DNA inhibitor<br>Mean average precision - Standard CellPainting dyes=%{x}<br>Mean average precision - <br> Tocris Mitobrilliant 647=%{y}<extra></extra>",
         "legendgroup": "DNA inhibitor",
         "marker": {
          "color": "#FF6692",
          "symbol": "circle"
         },
         "mode": "markers",
         "name": "DNA inhibitor",
         "orientation": "v",
         "showlegend": true,
         "type": "scatter",
         "x": [
          0.03020197735240865,
          0.699810606060606
         ],
         "xaxis": "x",
         "y": [
          0.016600425662321276,
          0.5800560428849902
         ],
         "yaxis": "y"
        },
        {
         "hovertemplate": "MoA=kinesin inhibitor<br>Mean average precision - Standard CellPainting dyes=%{x}<br>Mean average precision - <br> Tocris Mitobrilliant 647=%{y}<extra></extra>",
         "legendgroup": "kinesin inhibitor",
         "marker": {
          "color": "#B6E880",
          "symbol": "circle"
         },
         "mode": "markers",
         "name": "kinesin inhibitor",
         "orientation": "v",
         "showlegend": true,
         "type": "scatter",
         "x": [
          0.9041666666666667,
          0.3198806498721288
         ],
         "xaxis": "x",
         "y": [
          0.624186507936508,
          0.09999576577470667
         ],
         "yaxis": "y"
        },
        {
         "hovertemplate": "MoA=phosphoinositide dependent kinase inhibitor<br>Mean average precision - Standard CellPainting dyes=%{x}<br>Mean average precision - <br> Tocris Mitobrilliant 647=%{y}<extra></extra>",
         "legendgroup": "phosphoinositide dependent kinase inhibitor",
         "marker": {
          "color": "#FF97FF",
          "symbol": "circle"
         },
         "mode": "markers",
         "name": "phosphoinositide dependent kinase inhibitor",
         "orientation": "v",
         "showlegend": true,
         "type": "scatter",
         "x": [
          0.9097222222222222,
          0.5185938928383964
         ],
         "xaxis": "x",
         "y": [
          1,
          0.875
         ],
         "yaxis": "y"
        },
        {
         "hovertemplate": "MoA=RAF inhibitor<br>Mean average precision - Standard CellPainting dyes=%{x}<br>Mean average precision - <br> Tocris Mitobrilliant 647=%{y}<extra></extra>",
         "legendgroup": "RAF inhibitor",
         "marker": {
          "color": "#FECB52",
          "symbol": "circle"
         },
         "mode": "markers",
         "name": "RAF inhibitor",
         "orientation": "v",
         "showlegend": true,
         "type": "scatter",
         "x": [
          0.07373619966430117,
          0.8916666666666667
         ],
         "xaxis": "x",
         "y": [
          0.1591623642130517,
          1
         ],
         "yaxis": "y"
        },
        {
         "hovertemplate": "MoA=FGFR inhibitor<br>Mean average precision - Standard CellPainting dyes=%{x}<br>Mean average precision - <br> Tocris Mitobrilliant 647=%{y}<extra></extra>",
         "legendgroup": "FGFR inhibitor",
         "marker": {
          "color": "#636efa",
          "symbol": "circle"
         },
         "mode": "markers",
         "name": "FGFR inhibitor",
         "orientation": "v",
         "showlegend": true,
         "type": "scatter",
         "x": [
          0.3421757104683934,
          0.8334415584415583
         ],
         "xaxis": "x",
         "y": [
          1,
          0.5110164141414142
         ],
         "yaxis": "y"
        },
        {
         "hovertemplate": "MoA=Bcr-Abl kinase inhibitor<br>Mean average precision - Standard CellPainting dyes=%{x}<br>Mean average precision - <br> Tocris Mitobrilliant 647=%{y}<extra></extra>",
         "legendgroup": "Bcr-Abl kinase inhibitor",
         "marker": {
          "color": "#EF553B",
          "symbol": "circle"
         },
         "mode": "markers",
         "name": "Bcr-Abl kinase inhibitor",
         "orientation": "v",
         "showlegend": true,
         "type": "scatter",
         "x": [
          0.9097222222222222,
          0.31676234550163035
         ],
         "xaxis": "x",
         "y": [
          0.48283730158730154,
          0.4821403424950335
         ],
         "yaxis": "y"
        },
        {
         "hovertemplate": "MoA=AMPK inhibitor<br>Mean average precision - Standard CellPainting dyes=%{x}<br>Mean average precision - <br> Tocris Mitobrilliant 647=%{y}<extra></extra>",
         "legendgroup": "AMPK inhibitor",
         "marker": {
          "color": "#00cc96",
          "symbol": "circle"
         },
         "mode": "markers",
         "name": "AMPK inhibitor",
         "orientation": "v",
         "showlegend": true,
         "type": "scatter",
         "x": [
          0.07066101668242297
         ],
         "xaxis": "x",
         "y": [
          0.10764986804905201
         ],
         "yaxis": "y"
        },
        {
         "hovertemplate": "MoA=BCL inhibitor<br>Mean average precision - Standard CellPainting dyes=%{x}<br>Mean average precision - <br> Tocris Mitobrilliant 647=%{y}<extra></extra>",
         "legendgroup": "BCL inhibitor",
         "marker": {
          "color": "#ab63fa",
          "symbol": "circle"
         },
         "mode": "markers",
         "name": "BCL inhibitor",
         "orientation": "v",
         "showlegend": true,
         "type": "scatter",
         "x": [
          0.9666666666666667,
          0.3624624674431176
         ],
         "xaxis": "x",
         "y": [
          0.6781746031746032,
          0.2187300493628103
         ],
         "yaxis": "y"
        },
        {
         "hovertemplate": "MoA=HDAC inhibitor<br>Mean average precision - Standard CellPainting dyes=%{x}<br>Mean average precision - <br> Tocris Mitobrilliant 647=%{y}<extra></extra>",
         "legendgroup": "HDAC inhibitor",
         "marker": {
          "color": "#FFA15A",
          "symbol": "circle"
         },
         "mode": "markers",
         "name": "HDAC inhibitor",
         "orientation": "v",
         "showlegend": true,
         "type": "scatter",
         "x": [
          0.9166666666666666,
          0.9180555555555555
         ],
         "xaxis": "x",
         "y": [
          0.6,
          0.9791666666666666
         ],
         "yaxis": "y"
        },
        {
         "hovertemplate": "MoA=CDK inhibitor<br>Mean average precision - Standard CellPainting dyes=%{x}<br>Mean average precision - <br> Tocris Mitobrilliant 647=%{y}<extra></extra>",
         "legendgroup": "CDK inhibitor",
         "marker": {
          "color": "#19d3f3",
          "symbol": "circle"
         },
         "mode": "markers",
         "name": "CDK inhibitor",
         "orientation": "v",
         "showlegend": true,
         "type": "scatter",
         "x": [
          0.8854166666666666,
          1
         ],
         "xaxis": "x",
         "y": [
          0.8284722222222223,
          1
         ],
         "yaxis": "y"
        },
        {
         "hovertemplate": "MoA=MAP kinase inhibitor<br>Mean average precision - Standard CellPainting dyes=%{x}<br>Mean average precision - <br> Tocris Mitobrilliant 647=%{y}<extra></extra>",
         "legendgroup": "MAP kinase inhibitor",
         "marker": {
          "color": "#FF6692",
          "symbol": "circle"
         },
         "mode": "markers",
         "name": "MAP kinase inhibitor",
         "orientation": "v",
         "showlegend": true,
         "type": "scatter",
         "x": [
          0.022535914925799212,
          0.3246913873289948
         ],
         "xaxis": "x",
         "y": [
          0.06362750496133969,
          0.21984025466607732
         ],
         "yaxis": "y"
        },
        {
         "hovertemplate": "MoA=ER stressor (SERCA inhibitor)<br>Mean average precision - Standard CellPainting dyes=%{x}<br>Mean average precision - <br> Tocris Mitobrilliant 647=%{y}<extra></extra>",
         "legendgroup": "ER stressor (SERCA inhibitor)",
         "marker": {
          "color": "#B6E880",
          "symbol": "circle"
         },
         "mode": "markers",
         "name": "ER stressor (SERCA inhibitor)",
         "orientation": "v",
         "showlegend": true,
         "type": "scatter",
         "x": [
          1
         ],
         "xaxis": "x",
         "y": [
          0.7284722222222222
         ],
         "yaxis": "y"
        },
        {
         "hovertemplate": "MoA=protein arginine N-methyltransferase inhibitor<br>Mean average precision - Standard CellPainting dyes=%{x}<br>Mean average precision - <br> Tocris Mitobrilliant 647=%{y}<extra></extra>",
         "legendgroup": "protein arginine N-methyltransferase inhibitor",
         "marker": {
          "color": "#FF97FF",
          "symbol": "circle"
         },
         "mode": "markers",
         "name": "protein arginine N-methyltransferase inhibitor",
         "orientation": "v",
         "showlegend": true,
         "type": "scatter",
         "x": [
          0.22704619128914902,
          0.17048690978410008
         ],
         "xaxis": "x",
         "y": [
          0.2295368662978083,
          0.04563628441538039
         ],
         "yaxis": "y"
        },
        {
         "hovertemplate": "MoA=Apoptosis inducer (transcription inhibitor)<br>Mean average precision - Standard CellPainting dyes=%{x}<br>Mean average precision - <br> Tocris Mitobrilliant 647=%{y}<extra></extra>",
         "legendgroup": "Apoptosis inducer (transcription inhibitor)",
         "marker": {
          "color": "#FECB52",
          "symbol": "circle"
         },
         "mode": "markers",
         "name": "Apoptosis inducer (transcription inhibitor)",
         "orientation": "v",
         "showlegend": true,
         "type": "scatter",
         "x": [
          0.7449494949494949
         ],
         "xaxis": "x",
         "y": [
          0.7331439393939393
         ],
         "yaxis": "y"
        },
        {
         "hovertemplate": "MoA=smoothened receptor agonist<br>Mean average precision - Standard CellPainting dyes=%{x}<br>Mean average precision - <br> Tocris Mitobrilliant 647=%{y}<extra></extra>",
         "legendgroup": "smoothened receptor agonist",
         "marker": {
          "color": "#636efa",
          "symbol": "circle"
         },
         "mode": "markers",
         "name": "smoothened receptor agonist",
         "orientation": "v",
         "showlegend": true,
         "type": "scatter",
         "x": [
          0.2734829294648993,
          0.16227213998063067
         ],
         "xaxis": "x",
         "y": [
          0.17811234435294584,
          0.6988095238095238
         ],
         "yaxis": "y"
        },
        {
         "hovertemplate": "MoA=EGFR inhibitor<br>Mean average precision - Standard CellPainting dyes=%{x}<br>Mean average precision - <br> Tocris Mitobrilliant 647=%{y}<extra></extra>",
         "legendgroup": "EGFR inhibitor",
         "marker": {
          "color": "#EF553B",
          "symbol": "circle"
         },
         "mode": "markers",
         "name": "EGFR inhibitor",
         "orientation": "v",
         "showlegend": true,
         "type": "scatter",
         "x": [
          0.017502009539681746,
          1
         ],
         "xaxis": "x",
         "y": [
          0.04595042286634634,
          1
         ],
         "yaxis": "y"
        },
        {
         "hovertemplate": "MoA=androgen receptor modulator<br>Mean average precision - Standard CellPainting dyes=%{x}<br>Mean average precision - <br> Tocris Mitobrilliant 647=%{y}<extra></extra>",
         "legendgroup": "androgen receptor modulator",
         "marker": {
          "color": "#00cc96",
          "symbol": "circle"
         },
         "mode": "markers",
         "name": "androgen receptor modulator",
         "orientation": "v",
         "showlegend": true,
         "type": "scatter",
         "x": [
          0.04047577496321185,
          0.18196175251178207
         ],
         "xaxis": "x",
         "y": [
          0.038186486125156446,
          0.03836758415948279
         ],
         "yaxis": "y"
        },
        {
         "hovertemplate": "MoA=HMGCR inhibitor<br>Mean average precision - Standard CellPainting dyes=%{x}<br>Mean average precision - <br> Tocris Mitobrilliant 647=%{y}<extra></extra>",
         "legendgroup": "HMGCR inhibitor",
         "marker": {
          "color": "#ab63fa",
          "symbol": "circle"
         },
         "mode": "markers",
         "name": "HMGCR inhibitor",
         "orientation": "v",
         "showlegend": true,
         "type": "scatter",
         "x": [
          0.04517148384530613,
          0.022299156471077757
         ],
         "xaxis": "x",
         "y": [
          0.029302781132119548,
          0.018711526352367624
         ],
         "yaxis": "y"
        },
        {
         "hovertemplate": "MoA=p38 MAPK inhibitor<br>Mean average precision - Standard CellPainting dyes=%{x}<br>Mean average precision - <br> Tocris Mitobrilliant 647=%{y}<extra></extra>",
         "legendgroup": "p38 MAPK inhibitor",
         "marker": {
          "color": "#FFA15A",
          "symbol": "circle"
         },
         "mode": "markers",
         "name": "p38 MAPK inhibitor",
         "orientation": "v",
         "showlegend": true,
         "type": "scatter",
         "x": [
          0.2857310210457726,
          0.033945904171806984
         ],
         "xaxis": "x",
         "y": [
          0.4206664862914863,
          0.1731837907490402
         ],
         "yaxis": "y"
        },
        {
         "hovertemplate": "MoA=mTOR inhibitor<br>Mean average precision - Standard CellPainting dyes=%{x}<br>Mean average precision - <br> Tocris Mitobrilliant 647=%{y}<extra></extra>",
         "legendgroup": "mTOR inhibitor",
         "marker": {
          "color": "#19d3f3",
          "symbol": "circle"
         },
         "mode": "markers",
         "name": "mTOR inhibitor",
         "orientation": "v",
         "showlegend": true,
         "type": "scatter",
         "x": [
          1,
          1
         ],
         "xaxis": "x",
         "y": [
          0.9791666666666666,
          1
         ],
         "yaxis": "y"
        },
        {
         "hovertemplate": "MoA=hypoxia inducible factor inhibitor<br>Mean average precision - Standard CellPainting dyes=%{x}<br>Mean average precision - <br> Tocris Mitobrilliant 647=%{y}<extra></extra>",
         "legendgroup": "hypoxia inducible factor inhibitor",
         "marker": {
          "color": "#FF6692",
          "symbol": "circle"
         },
         "mode": "markers",
         "name": "hypoxia inducible factor inhibitor",
         "orientation": "v",
         "showlegend": true,
         "type": "scatter",
         "x": [
          0.034380644784609185,
          0.9388888888888889
         ],
         "xaxis": "x",
         "y": [
          0.207946280119936,
          0.698561507936508
         ],
         "yaxis": "y"
        }
       ],
       "layout": {
        "height": 800,
        "legend": {
         "orientation": "h",
         "title": {
          "text": "MoA"
         },
         "tracegroupgap": 0
        },
        "margin": {
         "t": 60
        },
        "template": {
         "data": {
          "bar": [
           {
            "error_x": {
             "color": "#2a3f5f"
            },
            "error_y": {
             "color": "#2a3f5f"
            },
            "marker": {
             "line": {
              "color": "#E5ECF6",
              "width": 0.5
             },
             "pattern": {
              "fillmode": "overlay",
              "size": 10,
              "solidity": 0.2
             }
            },
            "type": "bar"
           }
          ],
          "barpolar": [
           {
            "marker": {
             "line": {
              "color": "#E5ECF6",
              "width": 0.5
             },
             "pattern": {
              "fillmode": "overlay",
              "size": 10,
              "solidity": 0.2
             }
            },
            "type": "barpolar"
           }
          ],
          "carpet": [
           {
            "aaxis": {
             "endlinecolor": "#2a3f5f",
             "gridcolor": "white",
             "linecolor": "white",
             "minorgridcolor": "white",
             "startlinecolor": "#2a3f5f"
            },
            "baxis": {
             "endlinecolor": "#2a3f5f",
             "gridcolor": "white",
             "linecolor": "white",
             "minorgridcolor": "white",
             "startlinecolor": "#2a3f5f"
            },
            "type": "carpet"
           }
          ],
          "choropleth": [
           {
            "colorbar": {
             "outlinewidth": 0,
             "ticks": ""
            },
            "type": "choropleth"
           }
          ],
          "contour": [
           {
            "colorbar": {
             "outlinewidth": 0,
             "ticks": ""
            },
            "colorscale": [
             [
              0,
              "#0d0887"
             ],
             [
              0.1111111111111111,
              "#46039f"
             ],
             [
              0.2222222222222222,
              "#7201a8"
             ],
             [
              0.3333333333333333,
              "#9c179e"
             ],
             [
              0.4444444444444444,
              "#bd3786"
             ],
             [
              0.5555555555555556,
              "#d8576b"
             ],
             [
              0.6666666666666666,
              "#ed7953"
             ],
             [
              0.7777777777777778,
              "#fb9f3a"
             ],
             [
              0.8888888888888888,
              "#fdca26"
             ],
             [
              1,
              "#f0f921"
             ]
            ],
            "type": "contour"
           }
          ],
          "contourcarpet": [
           {
            "colorbar": {
             "outlinewidth": 0,
             "ticks": ""
            },
            "type": "contourcarpet"
           }
          ],
          "heatmap": [
           {
            "colorbar": {
             "outlinewidth": 0,
             "ticks": ""
            },
            "colorscale": [
             [
              0,
              "#0d0887"
             ],
             [
              0.1111111111111111,
              "#46039f"
             ],
             [
              0.2222222222222222,
              "#7201a8"
             ],
             [
              0.3333333333333333,
              "#9c179e"
             ],
             [
              0.4444444444444444,
              "#bd3786"
             ],
             [
              0.5555555555555556,
              "#d8576b"
             ],
             [
              0.6666666666666666,
              "#ed7953"
             ],
             [
              0.7777777777777778,
              "#fb9f3a"
             ],
             [
              0.8888888888888888,
              "#fdca26"
             ],
             [
              1,
              "#f0f921"
             ]
            ],
            "type": "heatmap"
           }
          ],
          "heatmapgl": [
           {
            "colorbar": {
             "outlinewidth": 0,
             "ticks": ""
            },
            "colorscale": [
             [
              0,
              "#0d0887"
             ],
             [
              0.1111111111111111,
              "#46039f"
             ],
             [
              0.2222222222222222,
              "#7201a8"
             ],
             [
              0.3333333333333333,
              "#9c179e"
             ],
             [
              0.4444444444444444,
              "#bd3786"
             ],
             [
              0.5555555555555556,
              "#d8576b"
             ],
             [
              0.6666666666666666,
              "#ed7953"
             ],
             [
              0.7777777777777778,
              "#fb9f3a"
             ],
             [
              0.8888888888888888,
              "#fdca26"
             ],
             [
              1,
              "#f0f921"
             ]
            ],
            "type": "heatmapgl"
           }
          ],
          "histogram": [
           {
            "marker": {
             "pattern": {
              "fillmode": "overlay",
              "size": 10,
              "solidity": 0.2
             }
            },
            "type": "histogram"
           }
          ],
          "histogram2d": [
           {
            "colorbar": {
             "outlinewidth": 0,
             "ticks": ""
            },
            "colorscale": [
             [
              0,
              "#0d0887"
             ],
             [
              0.1111111111111111,
              "#46039f"
             ],
             [
              0.2222222222222222,
              "#7201a8"
             ],
             [
              0.3333333333333333,
              "#9c179e"
             ],
             [
              0.4444444444444444,
              "#bd3786"
             ],
             [
              0.5555555555555556,
              "#d8576b"
             ],
             [
              0.6666666666666666,
              "#ed7953"
             ],
             [
              0.7777777777777778,
              "#fb9f3a"
             ],
             [
              0.8888888888888888,
              "#fdca26"
             ],
             [
              1,
              "#f0f921"
             ]
            ],
            "type": "histogram2d"
           }
          ],
          "histogram2dcontour": [
           {
            "colorbar": {
             "outlinewidth": 0,
             "ticks": ""
            },
            "colorscale": [
             [
              0,
              "#0d0887"
             ],
             [
              0.1111111111111111,
              "#46039f"
             ],
             [
              0.2222222222222222,
              "#7201a8"
             ],
             [
              0.3333333333333333,
              "#9c179e"
             ],
             [
              0.4444444444444444,
              "#bd3786"
             ],
             [
              0.5555555555555556,
              "#d8576b"
             ],
             [
              0.6666666666666666,
              "#ed7953"
             ],
             [
              0.7777777777777778,
              "#fb9f3a"
             ],
             [
              0.8888888888888888,
              "#fdca26"
             ],
             [
              1,
              "#f0f921"
             ]
            ],
            "type": "histogram2dcontour"
           }
          ],
          "mesh3d": [
           {
            "colorbar": {
             "outlinewidth": 0,
             "ticks": ""
            },
            "type": "mesh3d"
           }
          ],
          "parcoords": [
           {
            "line": {
             "colorbar": {
              "outlinewidth": 0,
              "ticks": ""
             }
            },
            "type": "parcoords"
           }
          ],
          "pie": [
           {
            "automargin": true,
            "type": "pie"
           }
          ],
          "scatter": [
           {
            "fillpattern": {
             "fillmode": "overlay",
             "size": 10,
             "solidity": 0.2
            },
            "type": "scatter"
           }
          ],
          "scatter3d": [
           {
            "line": {
             "colorbar": {
              "outlinewidth": 0,
              "ticks": ""
             }
            },
            "marker": {
             "colorbar": {
              "outlinewidth": 0,
              "ticks": ""
             }
            },
            "type": "scatter3d"
           }
          ],
          "scattercarpet": [
           {
            "marker": {
             "colorbar": {
              "outlinewidth": 0,
              "ticks": ""
             }
            },
            "type": "scattercarpet"
           }
          ],
          "scattergeo": [
           {
            "marker": {
             "colorbar": {
              "outlinewidth": 0,
              "ticks": ""
             }
            },
            "type": "scattergeo"
           }
          ],
          "scattergl": [
           {
            "marker": {
             "colorbar": {
              "outlinewidth": 0,
              "ticks": ""
             }
            },
            "type": "scattergl"
           }
          ],
          "scattermapbox": [
           {
            "marker": {
             "colorbar": {
              "outlinewidth": 0,
              "ticks": ""
             }
            },
            "type": "scattermapbox"
           }
          ],
          "scatterpolar": [
           {
            "marker": {
             "colorbar": {
              "outlinewidth": 0,
              "ticks": ""
             }
            },
            "type": "scatterpolar"
           }
          ],
          "scatterpolargl": [
           {
            "marker": {
             "colorbar": {
              "outlinewidth": 0,
              "ticks": ""
             }
            },
            "type": "scatterpolargl"
           }
          ],
          "scatterternary": [
           {
            "marker": {
             "colorbar": {
              "outlinewidth": 0,
              "ticks": ""
             }
            },
            "type": "scatterternary"
           }
          ],
          "surface": [
           {
            "colorbar": {
             "outlinewidth": 0,
             "ticks": ""
            },
            "colorscale": [
             [
              0,
              "#0d0887"
             ],
             [
              0.1111111111111111,
              "#46039f"
             ],
             [
              0.2222222222222222,
              "#7201a8"
             ],
             [
              0.3333333333333333,
              "#9c179e"
             ],
             [
              0.4444444444444444,
              "#bd3786"
             ],
             [
              0.5555555555555556,
              "#d8576b"
             ],
             [
              0.6666666666666666,
              "#ed7953"
             ],
             [
              0.7777777777777778,
              "#fb9f3a"
             ],
             [
              0.8888888888888888,
              "#fdca26"
             ],
             [
              1,
              "#f0f921"
             ]
            ],
            "type": "surface"
           }
          ],
          "table": [
           {
            "cells": {
             "fill": {
              "color": "#EBF0F8"
             },
             "line": {
              "color": "white"
             }
            },
            "header": {
             "fill": {
              "color": "#C8D4E3"
             },
             "line": {
              "color": "white"
             }
            },
            "type": "table"
           }
          ]
         },
         "layout": {
          "annotationdefaults": {
           "arrowcolor": "#2a3f5f",
           "arrowhead": 0,
           "arrowwidth": 1
          },
          "autotypenumbers": "strict",
          "coloraxis": {
           "colorbar": {
            "outlinewidth": 0,
            "ticks": ""
           }
          },
          "colorscale": {
           "diverging": [
            [
             0,
             "#8e0152"
            ],
            [
             0.1,
             "#c51b7d"
            ],
            [
             0.2,
             "#de77ae"
            ],
            [
             0.3,
             "#f1b6da"
            ],
            [
             0.4,
             "#fde0ef"
            ],
            [
             0.5,
             "#f7f7f7"
            ],
            [
             0.6,
             "#e6f5d0"
            ],
            [
             0.7,
             "#b8e186"
            ],
            [
             0.8,
             "#7fbc41"
            ],
            [
             0.9,
             "#4d9221"
            ],
            [
             1,
             "#276419"
            ]
           ],
           "sequential": [
            [
             0,
             "#0d0887"
            ],
            [
             0.1111111111111111,
             "#46039f"
            ],
            [
             0.2222222222222222,
             "#7201a8"
            ],
            [
             0.3333333333333333,
             "#9c179e"
            ],
            [
             0.4444444444444444,
             "#bd3786"
            ],
            [
             0.5555555555555556,
             "#d8576b"
            ],
            [
             0.6666666666666666,
             "#ed7953"
            ],
            [
             0.7777777777777778,
             "#fb9f3a"
            ],
            [
             0.8888888888888888,
             "#fdca26"
            ],
            [
             1,
             "#f0f921"
            ]
           ],
           "sequentialminus": [
            [
             0,
             "#0d0887"
            ],
            [
             0.1111111111111111,
             "#46039f"
            ],
            [
             0.2222222222222222,
             "#7201a8"
            ],
            [
             0.3333333333333333,
             "#9c179e"
            ],
            [
             0.4444444444444444,
             "#bd3786"
            ],
            [
             0.5555555555555556,
             "#d8576b"
            ],
            [
             0.6666666666666666,
             "#ed7953"
            ],
            [
             0.7777777777777778,
             "#fb9f3a"
            ],
            [
             0.8888888888888888,
             "#fdca26"
            ],
            [
             1,
             "#f0f921"
            ]
           ]
          },
          "colorway": [
           "#636efa",
           "#EF553B",
           "#00cc96",
           "#ab63fa",
           "#FFA15A",
           "#19d3f3",
           "#FF6692",
           "#B6E880",
           "#FF97FF",
           "#FECB52"
          ],
          "font": {
           "color": "#2a3f5f"
          },
          "geo": {
           "bgcolor": "white",
           "lakecolor": "white",
           "landcolor": "#E5ECF6",
           "showlakes": true,
           "showland": true,
           "subunitcolor": "white"
          },
          "hoverlabel": {
           "align": "left"
          },
          "hovermode": "closest",
          "mapbox": {
           "style": "light"
          },
          "paper_bgcolor": "white",
          "plot_bgcolor": "#E5ECF6",
          "polar": {
           "angularaxis": {
            "gridcolor": "white",
            "linecolor": "white",
            "ticks": ""
           },
           "bgcolor": "#E5ECF6",
           "radialaxis": {
            "gridcolor": "white",
            "linecolor": "white",
            "ticks": ""
           }
          },
          "scene": {
           "xaxis": {
            "backgroundcolor": "#E5ECF6",
            "gridcolor": "white",
            "gridwidth": 2,
            "linecolor": "white",
            "showbackground": true,
            "ticks": "",
            "zerolinecolor": "white"
           },
           "yaxis": {
            "backgroundcolor": "#E5ECF6",
            "gridcolor": "white",
            "gridwidth": 2,
            "linecolor": "white",
            "showbackground": true,
            "ticks": "",
            "zerolinecolor": "white"
           },
           "zaxis": {
            "backgroundcolor": "#E5ECF6",
            "gridcolor": "white",
            "gridwidth": 2,
            "linecolor": "white",
            "showbackground": true,
            "ticks": "",
            "zerolinecolor": "white"
           }
          },
          "shapedefaults": {
           "line": {
            "color": "#2a3f5f"
           }
          },
          "ternary": {
           "aaxis": {
            "gridcolor": "white",
            "linecolor": "white",
            "ticks": ""
           },
           "baxis": {
            "gridcolor": "white",
            "linecolor": "white",
            "ticks": ""
           },
           "bgcolor": "#E5ECF6",
           "caxis": {
            "gridcolor": "white",
            "linecolor": "white",
            "ticks": ""
           }
          },
          "title": {
           "x": 0.05
          },
          "xaxis": {
           "automargin": true,
           "gridcolor": "white",
           "linecolor": "white",
           "ticks": "",
           "title": {
            "standoff": 15
           },
           "zerolinecolor": "white",
           "zerolinewidth": 2
          },
          "yaxis": {
           "automargin": true,
           "gridcolor": "white",
           "linecolor": "white",
           "ticks": "",
           "title": {
            "standoff": 15
           },
           "zerolinecolor": "white",
           "zerolinewidth": 2
          }
         }
        },
        "width": 1000,
        "xaxis": {
         "anchor": "y",
         "domain": [
          0,
          1
         ],
         "title": {
          "text": "Mean average precision - Standard CellPainting dyes"
         }
        },
        "yaxis": {
         "anchor": "x",
         "domain": [
          0,
          1
         ],
         "title": {
          "text": "Mean average precision - <br> Tocris Mitobrilliant 647"
         }
        }
       }
      }
     },
     "metadata": {},
     "output_type": "display_data"
    }
   ],
   "source": [
    "mito_fig =px.scatter(combined_moa_df, x =combined_moa_df['average_precision_std'], y=combined_moa_df['average_precision_mito'],labels={'average_precision_std':'Mean average precision - Standard CellPainting dyes', 'average_precision_mito':'Mean average precision - <br> Tocris Mitobrilliant 647'}, color=combined_moa_df['MoA'])\n",
    "mito_fig.update_layout(legend=dict(orientation=\"h\"), height=800, width=1000)"
   ]
  },
  {
   "attachments": {},
   "cell_type": "markdown",
   "metadata": {},
   "source": [
    "#### Standard cellpainting data vs Actin "
   ]
  },
  {
   "cell_type": "code",
   "execution_count": 77,
   "metadata": {},
   "outputs": [
    {
     "data": {
      "application/vnd.plotly.v1+json": {
       "config": {
        "plotlyServerURL": "https://plot.ly"
       },
       "data": [
        {
         "hovertemplate": "MoA=tumor necrosis factor production inhibitor<br>Mean Average Precision - Standard CellPainting dyes=%{x}<br>Mean Average Preicison - <br> Phalloidin 400LS (long-stoke shifted)=%{y}<extra></extra>",
         "legendgroup": "tumor necrosis factor production inhibitor",
         "marker": {
          "color": "#636efa",
          "symbol": "circle"
         },
         "mode": "markers",
         "name": "tumor necrosis factor production inhibitor",
         "orientation": "v",
         "showlegend": true,
         "type": "scatter",
         "x": [
          0.10955503314536727,
          0.02726300292853341
         ],
         "xaxis": "x",
         "y": [
          0.1189305903733504,
          0.024689695997976838
         ],
         "yaxis": "y"
        },
        {
         "hovertemplate": "MoA=antihistamine<br>Mean Average Precision - Standard CellPainting dyes=%{x}<br>Mean Average Preicison - <br> Phalloidin 400LS (long-stoke shifted)=%{y}<extra></extra>",
         "legendgroup": "antihistamine",
         "marker": {
          "color": "#EF553B",
          "symbol": "circle"
         },
         "mode": "markers",
         "name": "antihistamine",
         "orientation": "v",
         "showlegend": true,
         "type": "scatter",
         "x": [
          0.011390147377227103,
          0.03797591735678792
         ],
         "xaxis": "x",
         "y": [
          0.023821862279838985,
          0.018357154975974815
         ],
         "yaxis": "y"
        },
        {
         "hovertemplate": "MoA=acetylcholine receptor antagonist<br>Mean Average Precision - Standard CellPainting dyes=%{x}<br>Mean Average Preicison - <br> Phalloidin 400LS (long-stoke shifted)=%{y}<extra></extra>",
         "legendgroup": "acetylcholine receptor antagonist",
         "marker": {
          "color": "#00cc96",
          "symbol": "circle"
         },
         "mode": "markers",
         "name": "acetylcholine receptor antagonist",
         "orientation": "v",
         "showlegend": true,
         "type": "scatter",
         "x": [
          0.04617461963750725,
          0.04240428192923572
         ],
         "xaxis": "x",
         "y": [
          0.059661034883154065,
          0.11647597134694804
         ],
         "yaxis": "y"
        },
        {
         "hovertemplate": "MoA=pyruvate dehydrogenase kinase inhibitor<br>Mean Average Precision - Standard CellPainting dyes=%{x}<br>Mean Average Preicison - <br> Phalloidin 400LS (long-stoke shifted)=%{y}<extra></extra>",
         "legendgroup": "pyruvate dehydrogenase kinase inhibitor",
         "marker": {
          "color": "#ab63fa",
          "symbol": "circle"
         },
         "mode": "markers",
         "name": "pyruvate dehydrogenase kinase inhibitor",
         "orientation": "v",
         "showlegend": true,
         "type": "scatter",
         "x": [
          0.10679002598213568,
          0.9097222222222222
         ],
         "xaxis": "x",
         "y": [
          0.13393854005521255,
          0.9315476190476191
         ],
         "yaxis": "y"
        },
        {
         "hovertemplate": "MoA=protein tyrosine kinase inhibitor<br>Mean Average Precision - Standard CellPainting dyes=%{x}<br>Mean Average Preicison - <br> Phalloidin 400LS (long-stoke shifted)=%{y}<extra></extra>",
         "legendgroup": "protein tyrosine kinase inhibitor",
         "marker": {
          "color": "#FFA15A",
          "symbol": "circle"
         },
         "mode": "markers",
         "name": "protein tyrosine kinase inhibitor",
         "orientation": "v",
         "showlegend": true,
         "type": "scatter",
         "x": [
          0.18928995877912755,
          0.028133314931622723
         ],
         "xaxis": "x",
         "y": [
          0.07189728462084566,
          0.025899897528075706
         ],
         "yaxis": "y"
        },
        {
         "hovertemplate": "MoA=hepatocyte growth factor receptor inhibitor<br>Mean Average Precision - Standard CellPainting dyes=%{x}<br>Mean Average Preicison - <br> Phalloidin 400LS (long-stoke shifted)=%{y}<extra></extra>",
         "legendgroup": "hepatocyte growth factor receptor inhibitor",
         "marker": {
          "color": "#19d3f3",
          "symbol": "circle"
         },
         "mode": "markers",
         "name": "hepatocyte growth factor receptor inhibitor",
         "orientation": "v",
         "showlegend": true,
         "type": "scatter",
         "x": [
          0.9166666666666667,
          0.05425296150197329
         ],
         "xaxis": "x",
         "y": [
          0.8586309523809523,
          0.022859714735969393
         ],
         "yaxis": "y"
        },
        {
         "hovertemplate": "MoA=CHK inhibitor<br>Mean Average Precision - Standard CellPainting dyes=%{x}<br>Mean Average Preicison - <br> Phalloidin 400LS (long-stoke shifted)=%{y}<extra></extra>",
         "legendgroup": "CHK inhibitor",
         "marker": {
          "color": "#FF6692",
          "symbol": "circle"
         },
         "mode": "markers",
         "name": "CHK inhibitor",
         "orientation": "v",
         "showlegend": true,
         "type": "scatter",
         "x": [
          0.9583333333333333,
          0.7891865079365079
         ],
         "xaxis": "x",
         "y": [
          0.7409722222222221,
          0.5214405677228953
         ],
         "yaxis": "y"
        },
        {
         "hovertemplate": "MoA=glycogen synthase kinase inhibitor<br>Mean Average Precision - Standard CellPainting dyes=%{x}<br>Mean Average Preicison - <br> Phalloidin 400LS (long-stoke shifted)=%{y}<extra></extra>",
         "legendgroup": "glycogen synthase kinase inhibitor",
         "marker": {
          "color": "#B6E880",
          "symbol": "circle"
         },
         "mode": "markers",
         "name": "glycogen synthase kinase inhibitor",
         "orientation": "v",
         "showlegend": true,
         "type": "scatter",
         "x": [
          1,
          0.5654241731777601
         ],
         "xaxis": "x",
         "y": [
          0.5863686995265943,
          1
         ],
         "yaxis": "y"
        },
        {
         "hovertemplate": "MoA=histone lysine methyltransferase inhibitor<br>Mean Average Precision - Standard CellPainting dyes=%{x}<br>Mean Average Preicison - <br> Phalloidin 400LS (long-stoke shifted)=%{y}<extra></extra>",
         "legendgroup": "histone lysine methyltransferase inhibitor",
         "marker": {
          "color": "#FF97FF",
          "symbol": "circle"
         },
         "mode": "markers",
         "name": "histone lysine methyltransferase inhibitor",
         "orientation": "v",
         "showlegend": true,
         "type": "scatter",
         "x": [
          0.010157074614598097,
          1
         ],
         "xaxis": "x",
         "y": [
          0.026257425179132876,
          0.7979166666666667
         ],
         "yaxis": "y"
        },
        {
         "hovertemplate": "MoA=inosine monophosphate dehydrogenase inhibitor<br>Mean Average Precision - Standard CellPainting dyes=%{x}<br>Mean Average Preicison - <br> Phalloidin 400LS (long-stoke shifted)=%{y}<extra></extra>",
         "legendgroup": "inosine monophosphate dehydrogenase inhibitor",
         "marker": {
          "color": "#FECB52",
          "symbol": "circle"
         },
         "mode": "markers",
         "name": "inosine monophosphate dehydrogenase inhibitor",
         "orientation": "v",
         "showlegend": true,
         "type": "scatter",
         "x": [
          0.9583333333333333,
          1
         ],
         "xaxis": "x",
         "y": [
          1,
          0.4396804699063594
         ],
         "yaxis": "y"
        },
        {
         "hovertemplate": "MoA=CDC inhibitor<br>Mean Average Precision - Standard CellPainting dyes=%{x}<br>Mean Average Preicison - <br> Phalloidin 400LS (long-stoke shifted)=%{y}<extra></extra>",
         "legendgroup": "CDC inhibitor",
         "marker": {
          "color": "#636efa",
          "symbol": "circle"
         },
         "mode": "markers",
         "name": "CDC inhibitor",
         "orientation": "v",
         "showlegend": true,
         "type": "scatter",
         "x": [
          1,
          0.09987495271894538
         ],
         "xaxis": "x",
         "y": [
          0.7942307692307692,
          0.03386131858047147
         ],
         "yaxis": "y"
        },
        {
         "hovertemplate": "MoA=PARP inhibitor<br>Mean Average Precision - Standard CellPainting dyes=%{x}<br>Mean Average Preicison - <br> Phalloidin 400LS (long-stoke shifted)=%{y}<extra></extra>",
         "legendgroup": "PARP inhibitor",
         "marker": {
          "color": "#EF553B",
          "symbol": "circle"
         },
         "mode": "markers",
         "name": "PARP inhibitor",
         "orientation": "v",
         "showlegend": true,
         "type": "scatter",
         "x": [
          0.18770334842977676,
          0.5931182121971595
         ],
         "xaxis": "x",
         "y": [
          0.07504307989691783,
          0.5899531024531024
         ],
         "yaxis": "y"
        },
        {
         "hovertemplate": "MoA=bromodomain inhibitor<br>Mean Average Precision - Standard CellPainting dyes=%{x}<br>Mean Average Preicison - <br> Phalloidin 400LS (long-stoke shifted)=%{y}<extra></extra>",
         "legendgroup": "bromodomain inhibitor",
         "marker": {
          "color": "#00cc96",
          "symbol": "circle"
         },
         "mode": "markers",
         "name": "bromodomain inhibitor",
         "orientation": "v",
         "showlegend": true,
         "type": "scatter",
         "x": [
          0.1774238369398024,
          0.8968253968253967
         ],
         "xaxis": "x",
         "y": [
          0.18779567494601254,
          1
         ],
         "yaxis": "y"
        },
        {
         "hovertemplate": "MoA=ubiquitin specific protease inhibitor<br>Mean Average Precision - Standard CellPainting dyes=%{x}<br>Mean Average Preicison - <br> Phalloidin 400LS (long-stoke shifted)=%{y}<extra></extra>",
         "legendgroup": "ubiquitin specific protease inhibitor",
         "marker": {
          "color": "#ab63fa",
          "symbol": "circle"
         },
         "mode": "markers",
         "name": "ubiquitin specific protease inhibitor",
         "orientation": "v",
         "showlegend": true,
         "type": "scatter",
         "x": [
          0.02248489593927961,
          0.06952250117918726
         ],
         "xaxis": "x",
         "y": [
          0.011739297845485453,
          0.13365538899768287
         ],
         "yaxis": "y"
        },
        {
         "hovertemplate": "MoA=JAK inhibitor<br>Mean Average Precision - Standard CellPainting dyes=%{x}<br>Mean Average Preicison - <br> Phalloidin 400LS (long-stoke shifted)=%{y}<extra></extra>",
         "legendgroup": "JAK inhibitor",
         "marker": {
          "color": "#FFA15A",
          "symbol": "circle"
         },
         "mode": "markers",
         "name": "JAK inhibitor",
         "orientation": "v",
         "showlegend": true,
         "type": "scatter",
         "x": [
          0.06568600905829389,
          0.2582214518941581
         ],
         "xaxis": "x",
         "y": [
          0.03241336677380982,
          0.055438568623184685
         ],
         "yaxis": "y"
        },
        {
         "hovertemplate": "MoA=Apoptosis inducer (ATP-competitive kinase inhibitor)<br>Mean Average Precision - Standard CellPainting dyes=%{x}<br>Mean Average Preicison - <br> Phalloidin 400LS (long-stoke shifted)=%{y}<extra></extra>",
         "legendgroup": "Apoptosis inducer (ATP-competitive kinase inhibitor)",
         "marker": {
          "color": "#19d3f3",
          "symbol": "circle"
         },
         "mode": "markers",
         "name": "Apoptosis inducer (ATP-competitive kinase inhibitor)",
         "orientation": "v",
         "showlegend": true,
         "type": "scatter",
         "x": [
          0.6935622101230086
         ],
         "xaxis": "x",
         "y": [
          0.6500793650793651
         ],
         "yaxis": "y"
        },
        {
         "hovertemplate": "MoA=MEK inhibitor<br>Mean Average Precision - Standard CellPainting dyes=%{x}<br>Mean Average Preicison - <br> Phalloidin 400LS (long-stoke shifted)=%{y}<extra></extra>",
         "legendgroup": "MEK inhibitor",
         "marker": {
          "color": "#FF6692",
          "symbol": "circle"
         },
         "mode": "markers",
         "name": "MEK inhibitor",
         "orientation": "v",
         "showlegend": true,
         "type": "scatter",
         "x": [
          0.2206058574937985,
          0.58757215007215
         ],
         "xaxis": "x",
         "y": [
          0.1584022190346931,
          1
         ],
         "yaxis": "y"
        },
        {
         "hovertemplate": "MoA=Aurora kinase inhibitor<br>Mean Average Precision - Standard CellPainting dyes=%{x}<br>Mean Average Preicison - <br> Phalloidin 400LS (long-stoke shifted)=%{y}<extra></extra>",
         "legendgroup": "Aurora kinase inhibitor",
         "marker": {
          "color": "#B6E880",
          "symbol": "circle"
         },
         "mode": "markers",
         "name": "Aurora kinase inhibitor",
         "orientation": "v",
         "showlegend": true,
         "type": "scatter",
         "x": [
          0.9270833333333333,
          0.6277777777777778
         ],
         "xaxis": "x",
         "y": [
          1,
          0.47685636123136116
         ],
         "yaxis": "y"
        },
        {
         "hovertemplate": "MoA=LXR agonist<br>Mean Average Precision - Standard CellPainting dyes=%{x}<br>Mean Average Preicison - <br> Phalloidin 400LS (long-stoke shifted)=%{y}<extra></extra>",
         "legendgroup": "LXR agonist",
         "marker": {
          "color": "#FF97FF",
          "symbol": "circle"
         },
         "mode": "markers",
         "name": "LXR agonist",
         "orientation": "v",
         "showlegend": true,
         "type": "scatter",
         "x": [
          0.8430555555555556,
          0.26202714078111
         ],
         "xaxis": "x",
         "y": [
          0.6231221903096902,
          0.03732076144453075
         ],
         "yaxis": "y"
        },
        {
         "hovertemplate": "MoA=phospholipase inhibitor<br>Mean Average Precision - Standard CellPainting dyes=%{x}<br>Mean Average Preicison - <br> Phalloidin 400LS (long-stoke shifted)=%{y}<extra></extra>",
         "legendgroup": "phospholipase inhibitor",
         "marker": {
          "color": "#FECB52",
          "symbol": "circle"
         },
         "mode": "markers",
         "name": "phospholipase inhibitor",
         "orientation": "v",
         "showlegend": true,
         "type": "scatter",
         "x": [
          0.008887586417584208,
          0.8791666666666667
         ],
         "xaxis": "x",
         "y": [
          0.024034622206059966,
          0.6573237628384687
         ],
         "yaxis": "y"
        },
        {
         "hovertemplate": "MoA=IGF-1 inhibitor<br>Mean Average Precision - Standard CellPainting dyes=%{x}<br>Mean Average Preicison - <br> Phalloidin 400LS (long-stoke shifted)=%{y}<extra></extra>",
         "legendgroup": "IGF-1 inhibitor",
         "marker": {
          "color": "#636efa",
          "symbol": "circle"
         },
         "mode": "markers",
         "name": "IGF-1 inhibitor",
         "orientation": "v",
         "showlegend": true,
         "type": "scatter",
         "x": [
          0.6841269841269841,
          0.3402279977647624
         ],
         "xaxis": "x",
         "y": [
          0.6589285714285714,
          0.8208333333333333
         ],
         "yaxis": "y"
        },
        {
         "hovertemplate": "MoA=tricyclic antidepressant<br>Mean Average Precision - Standard CellPainting dyes=%{x}<br>Mean Average Preicison - <br> Phalloidin 400LS (long-stoke shifted)=%{y}<extra></extra>",
         "legendgroup": "tricyclic antidepressant",
         "marker": {
          "color": "#EF553B",
          "symbol": "circle"
         },
         "mode": "markers",
         "name": "tricyclic antidepressant",
         "orientation": "v",
         "showlegend": true,
         "type": "scatter",
         "x": [
          0.014398662534440752,
          0.04870365727884188
         ],
         "xaxis": "x",
         "y": [
          0.14116563283380534,
          0.04377924001384785
         ],
         "yaxis": "y"
        },
        {
         "hovertemplate": "MoA=histone lysine demethylase inhibitor<br>Mean Average Precision - Standard CellPainting dyes=%{x}<br>Mean Average Preicison - <br> Phalloidin 400LS (long-stoke shifted)=%{y}<extra></extra>",
         "legendgroup": "histone lysine demethylase inhibitor",
         "marker": {
          "color": "#00cc96",
          "symbol": "circle"
         },
         "mode": "markers",
         "name": "histone lysine demethylase inhibitor",
         "orientation": "v",
         "showlegend": true,
         "type": "scatter",
         "x": [
          0.0303275038750778,
          0.9047619047619048
         ],
         "xaxis": "x",
         "y": [
          0.05027493874987471,
          1
         ],
         "yaxis": "y"
        },
        {
         "hovertemplate": "MoA=phosphodiesterase inhibitor<br>Mean Average Precision - Standard CellPainting dyes=%{x}<br>Mean Average Preicison - <br> Phalloidin 400LS (long-stoke shifted)=%{y}<extra></extra>",
         "legendgroup": "phosphodiesterase inhibitor",
         "marker": {
          "color": "#ab63fa",
          "symbol": "circle"
         },
         "mode": "markers",
         "name": "phosphodiesterase inhibitor",
         "orientation": "v",
         "showlegend": true,
         "type": "scatter",
         "x": [
          0.06366725712453858,
          0.0171684646478038
         ],
         "xaxis": "x",
         "y": [
          0.038547737145931495,
          0.01368036992193085
         ],
         "yaxis": "y"
        },
        {
         "hovertemplate": "MoA=beta-catenin inhibitor<br>Mean Average Precision - Standard CellPainting dyes=%{x}<br>Mean Average Preicison - <br> Phalloidin 400LS (long-stoke shifted)=%{y}<extra></extra>",
         "legendgroup": "beta-catenin inhibitor",
         "marker": {
          "color": "#FFA15A",
          "symbol": "circle"
         },
         "mode": "markers",
         "name": "beta-catenin inhibitor",
         "orientation": "v",
         "showlegend": true,
         "type": "scatter",
         "x": [
          0.026106453169796876,
          0.44779294779294776
         ],
         "xaxis": "x",
         "y": [
          0.01900981522471383,
          0.23714080184145345
         ],
         "yaxis": "y"
        },
        {
         "hovertemplate": "MoA=JNK inhibitor<br>Mean Average Precision - Standard CellPainting dyes=%{x}<br>Mean Average Preicison - <br> Phalloidin 400LS (long-stoke shifted)=%{y}<extra></extra>",
         "legendgroup": "JNK inhibitor",
         "marker": {
          "color": "#19d3f3",
          "symbol": "circle"
         },
         "mode": "markers",
         "name": "JNK inhibitor",
         "orientation": "v",
         "showlegend": true,
         "type": "scatter",
         "x": [
          0.012972513852344934,
          0.023534791753386002
         ],
         "xaxis": "x",
         "y": [
          0.010784647278707645,
          0.01314603744661886
         ],
         "yaxis": "y"
        },
        {
         "hovertemplate": "MoA=DNA inhibitor<br>Mean Average Precision - Standard CellPainting dyes=%{x}<br>Mean Average Preicison - <br> Phalloidin 400LS (long-stoke shifted)=%{y}<extra></extra>",
         "legendgroup": "DNA inhibitor",
         "marker": {
          "color": "#FF6692",
          "symbol": "circle"
         },
         "mode": "markers",
         "name": "DNA inhibitor",
         "orientation": "v",
         "showlegend": true,
         "type": "scatter",
         "x": [
          0.03020197735240865,
          0.699810606060606
         ],
         "xaxis": "x",
         "y": [
          0.0223922091960821,
          0.4247114507459335
         ],
         "yaxis": "y"
        },
        {
         "hovertemplate": "MoA=kinesin inhibitor<br>Mean Average Precision - Standard CellPainting dyes=%{x}<br>Mean Average Preicison - <br> Phalloidin 400LS (long-stoke shifted)=%{y}<extra></extra>",
         "legendgroup": "kinesin inhibitor",
         "marker": {
          "color": "#B6E880",
          "symbol": "circle"
         },
         "mode": "markers",
         "name": "kinesin inhibitor",
         "orientation": "v",
         "showlegend": true,
         "type": "scatter",
         "x": [
          0.9041666666666667,
          0.3198806498721288
         ],
         "xaxis": "x",
         "y": [
          0.6226783433679985,
          0.2552159010966564
         ],
         "yaxis": "y"
        },
        {
         "hovertemplate": "MoA=phosphoinositide dependent kinase inhibitor<br>Mean Average Precision - Standard CellPainting dyes=%{x}<br>Mean Average Preicison - <br> Phalloidin 400LS (long-stoke shifted)=%{y}<extra></extra>",
         "legendgroup": "phosphoinositide dependent kinase inhibitor",
         "marker": {
          "color": "#FF97FF",
          "symbol": "circle"
         },
         "mode": "markers",
         "name": "phosphoinositide dependent kinase inhibitor",
         "orientation": "v",
         "showlegend": true,
         "type": "scatter",
         "x": [
          0.9097222222222222,
          0.5185938928383964
         ],
         "xaxis": "x",
         "y": [
          1,
          0.7495791245791246
         ],
         "yaxis": "y"
        },
        {
         "hovertemplate": "MoA=RAF inhibitor<br>Mean Average Precision - Standard CellPainting dyes=%{x}<br>Mean Average Preicison - <br> Phalloidin 400LS (long-stoke shifted)=%{y}<extra></extra>",
         "legendgroup": "RAF inhibitor",
         "marker": {
          "color": "#FECB52",
          "symbol": "circle"
         },
         "mode": "markers",
         "name": "RAF inhibitor",
         "orientation": "v",
         "showlegend": true,
         "type": "scatter",
         "x": [
          0.07373619966430117,
          0.8916666666666667
         ],
         "xaxis": "x",
         "y": [
          0.045127259577761085,
          0.5922733516483516
         ],
         "yaxis": "y"
        },
        {
         "hovertemplate": "MoA=FGFR inhibitor<br>Mean Average Precision - Standard CellPainting dyes=%{x}<br>Mean Average Preicison - <br> Phalloidin 400LS (long-stoke shifted)=%{y}<extra></extra>",
         "legendgroup": "FGFR inhibitor",
         "marker": {
          "color": "#636efa",
          "symbol": "circle"
         },
         "mode": "markers",
         "name": "FGFR inhibitor",
         "orientation": "v",
         "showlegend": true,
         "type": "scatter",
         "x": [
          0.3421757104683934,
          0.8334415584415583
         ],
         "xaxis": "x",
         "y": [
          0.9791666666666666,
          0.9791666666666666
         ],
         "yaxis": "y"
        },
        {
         "hovertemplate": "MoA=Bcr-Abl kinase inhibitor<br>Mean Average Precision - Standard CellPainting dyes=%{x}<br>Mean Average Preicison - <br> Phalloidin 400LS (long-stoke shifted)=%{y}<extra></extra>",
         "legendgroup": "Bcr-Abl kinase inhibitor",
         "marker": {
          "color": "#EF553B",
          "symbol": "circle"
         },
         "mode": "markers",
         "name": "Bcr-Abl kinase inhibitor",
         "orientation": "v",
         "showlegend": true,
         "type": "scatter",
         "x": [
          0.9097222222222222,
          0.31676234550163035
         ],
         "xaxis": "x",
         "y": [
          0.6309163059163059,
          0.6049859343702132
         ],
         "yaxis": "y"
        },
        {
         "hovertemplate": "MoA=AMPK inhibitor<br>Mean Average Precision - Standard CellPainting dyes=%{x}<br>Mean Average Preicison - <br> Phalloidin 400LS (long-stoke shifted)=%{y}<extra></extra>",
         "legendgroup": "AMPK inhibitor",
         "marker": {
          "color": "#00cc96",
          "symbol": "circle"
         },
         "mode": "markers",
         "name": "AMPK inhibitor",
         "orientation": "v",
         "showlegend": true,
         "type": "scatter",
         "x": [
          0.07066101668242297
         ],
         "xaxis": "x",
         "y": [
          0.0723404884230702
         ],
         "yaxis": "y"
        },
        {
         "hovertemplate": "MoA=BCL inhibitor<br>Mean Average Precision - Standard CellPainting dyes=%{x}<br>Mean Average Preicison - <br> Phalloidin 400LS (long-stoke shifted)=%{y}<extra></extra>",
         "legendgroup": "BCL inhibitor",
         "marker": {
          "color": "#ab63fa",
          "symbol": "circle"
         },
         "mode": "markers",
         "name": "BCL inhibitor",
         "orientation": "v",
         "showlegend": true,
         "type": "scatter",
         "x": [
          0.9666666666666667,
          0.3624624674431176
         ],
         "xaxis": "x",
         "y": [
          0.8576388888888888,
          0.32241967112034575
         ],
         "yaxis": "y"
        },
        {
         "hovertemplate": "MoA=HDAC inhibitor<br>Mean Average Precision - Standard CellPainting dyes=%{x}<br>Mean Average Preicison - <br> Phalloidin 400LS (long-stoke shifted)=%{y}<extra></extra>",
         "legendgroup": "HDAC inhibitor",
         "marker": {
          "color": "#FFA15A",
          "symbol": "circle"
         },
         "mode": "markers",
         "name": "HDAC inhibitor",
         "orientation": "v",
         "showlegend": true,
         "type": "scatter",
         "x": [
          0.9166666666666666,
          0.9180555555555555
         ],
         "xaxis": "x",
         "y": [
          0.42916666666666664,
          1
         ],
         "yaxis": "y"
        },
        {
         "hovertemplate": "MoA=CDK inhibitor<br>Mean Average Precision - Standard CellPainting dyes=%{x}<br>Mean Average Preicison - <br> Phalloidin 400LS (long-stoke shifted)=%{y}<extra></extra>",
         "legendgroup": "CDK inhibitor",
         "marker": {
          "color": "#19d3f3",
          "symbol": "circle"
         },
         "mode": "markers",
         "name": "CDK inhibitor",
         "orientation": "v",
         "showlegend": true,
         "type": "scatter",
         "x": [
          0.8854166666666666,
          1
         ],
         "xaxis": "x",
         "y": [
          0.3849171539961014,
          1
         ],
         "yaxis": "y"
        },
        {
         "hovertemplate": "MoA=MAP kinase inhibitor<br>Mean Average Precision - Standard CellPainting dyes=%{x}<br>Mean Average Preicison - <br> Phalloidin 400LS (long-stoke shifted)=%{y}<extra></extra>",
         "legendgroup": "MAP kinase inhibitor",
         "marker": {
          "color": "#FF6692",
          "symbol": "circle"
         },
         "mode": "markers",
         "name": "MAP kinase inhibitor",
         "orientation": "v",
         "showlegend": true,
         "type": "scatter",
         "x": [
          0.022535914925799212,
          0.3246913873289948
         ],
         "xaxis": "x",
         "y": [
          0.10837150779277095,
          0.4803109500686629
         ],
         "yaxis": "y"
        },
        {
         "hovertemplate": "MoA=ER stressor (SERCA inhibitor)<br>Mean Average Precision - Standard CellPainting dyes=%{x}<br>Mean Average Preicison - <br> Phalloidin 400LS (long-stoke shifted)=%{y}<extra></extra>",
         "legendgroup": "ER stressor (SERCA inhibitor)",
         "marker": {
          "color": "#B6E880",
          "symbol": "circle"
         },
         "mode": "markers",
         "name": "ER stressor (SERCA inhibitor)",
         "orientation": "v",
         "showlegend": true,
         "type": "scatter",
         "x": [
          1
         ],
         "xaxis": "x",
         "y": [
          1
         ],
         "yaxis": "y"
        },
        {
         "hovertemplate": "MoA=protein arginine N-methyltransferase inhibitor<br>Mean Average Precision - Standard CellPainting dyes=%{x}<br>Mean Average Preicison - <br> Phalloidin 400LS (long-stoke shifted)=%{y}<extra></extra>",
         "legendgroup": "protein arginine N-methyltransferase inhibitor",
         "marker": {
          "color": "#FF97FF",
          "symbol": "circle"
         },
         "mode": "markers",
         "name": "protein arginine N-methyltransferase inhibitor",
         "orientation": "v",
         "showlegend": true,
         "type": "scatter",
         "x": [
          0.22704619128914902,
          0.17048690978410008
         ],
         "xaxis": "x",
         "y": [
          0.5425708112625814,
          0.027162646205354454
         ],
         "yaxis": "y"
        },
        {
         "hovertemplate": "MoA=Apoptosis inducer (transcription inhibitor)<br>Mean Average Precision - Standard CellPainting dyes=%{x}<br>Mean Average Preicison - <br> Phalloidin 400LS (long-stoke shifted)=%{y}<extra></extra>",
         "legendgroup": "Apoptosis inducer (transcription inhibitor)",
         "marker": {
          "color": "#FECB52",
          "symbol": "circle"
         },
         "mode": "markers",
         "name": "Apoptosis inducer (transcription inhibitor)",
         "orientation": "v",
         "showlegend": true,
         "type": "scatter",
         "x": [
          0.7449494949494949
         ],
         "xaxis": "x",
         "y": [
          0.38763854679802956
         ],
         "yaxis": "y"
        },
        {
         "hovertemplate": "MoA=smoothened receptor agonist<br>Mean Average Precision - Standard CellPainting dyes=%{x}<br>Mean Average Preicison - <br> Phalloidin 400LS (long-stoke shifted)=%{y}<extra></extra>",
         "legendgroup": "smoothened receptor agonist",
         "marker": {
          "color": "#636efa",
          "symbol": "circle"
         },
         "mode": "markers",
         "name": "smoothened receptor agonist",
         "orientation": "v",
         "showlegend": true,
         "type": "scatter",
         "x": [
          0.2734829294648993,
          0.16227213998063067
         ],
         "xaxis": "x",
         "y": [
          0.19912297656174927,
          0.354452205506378
         ],
         "yaxis": "y"
        },
        {
         "hovertemplate": "MoA=EGFR inhibitor<br>Mean Average Precision - Standard CellPainting dyes=%{x}<br>Mean Average Preicison - <br> Phalloidin 400LS (long-stoke shifted)=%{y}<extra></extra>",
         "legendgroup": "EGFR inhibitor",
         "marker": {
          "color": "#EF553B",
          "symbol": "circle"
         },
         "mode": "markers",
         "name": "EGFR inhibitor",
         "orientation": "v",
         "showlegend": true,
         "type": "scatter",
         "x": [
          0.017502009539681746,
          1
         ],
         "xaxis": "x",
         "y": [
          0.17246768255843695,
          1
         ],
         "yaxis": "y"
        },
        {
         "hovertemplate": "MoA=androgen receptor modulator<br>Mean Average Precision - Standard CellPainting dyes=%{x}<br>Mean Average Preicison - <br> Phalloidin 400LS (long-stoke shifted)=%{y}<extra></extra>",
         "legendgroup": "androgen receptor modulator",
         "marker": {
          "color": "#00cc96",
          "symbol": "circle"
         },
         "mode": "markers",
         "name": "androgen receptor modulator",
         "orientation": "v",
         "showlegend": true,
         "type": "scatter",
         "x": [
          0.04047577496321185,
          0.18196175251178207
         ],
         "xaxis": "x",
         "y": [
          0.03710350443658388,
          0.11117036829641117
         ],
         "yaxis": "y"
        },
        {
         "hovertemplate": "MoA=HMGCR inhibitor<br>Mean Average Precision - Standard CellPainting dyes=%{x}<br>Mean Average Preicison - <br> Phalloidin 400LS (long-stoke shifted)=%{y}<extra></extra>",
         "legendgroup": "HMGCR inhibitor",
         "marker": {
          "color": "#ab63fa",
          "symbol": "circle"
         },
         "mode": "markers",
         "name": "HMGCR inhibitor",
         "orientation": "v",
         "showlegend": true,
         "type": "scatter",
         "x": [
          0.04517148384530613,
          0.022299156471077757
         ],
         "xaxis": "x",
         "y": [
          0.17521043926221444,
          0.10312752493300735
         ],
         "yaxis": "y"
        },
        {
         "hovertemplate": "MoA=p38 MAPK inhibitor<br>Mean Average Precision - Standard CellPainting dyes=%{x}<br>Mean Average Preicison - <br> Phalloidin 400LS (long-stoke shifted)=%{y}<extra></extra>",
         "legendgroup": "p38 MAPK inhibitor",
         "marker": {
          "color": "#FFA15A",
          "symbol": "circle"
         },
         "mode": "markers",
         "name": "p38 MAPK inhibitor",
         "orientation": "v",
         "showlegend": true,
         "type": "scatter",
         "x": [
          0.2857310210457726,
          0.033945904171806984
         ],
         "xaxis": "x",
         "y": [
          0.38009068477818475,
          0.03267936782113004
         ],
         "yaxis": "y"
        },
        {
         "hovertemplate": "MoA=mTOR inhibitor<br>Mean Average Precision - Standard CellPainting dyes=%{x}<br>Mean Average Preicison - <br> Phalloidin 400LS (long-stoke shifted)=%{y}<extra></extra>",
         "legendgroup": "mTOR inhibitor",
         "marker": {
          "color": "#19d3f3",
          "symbol": "circle"
         },
         "mode": "markers",
         "name": "mTOR inhibitor",
         "orientation": "v",
         "showlegend": true,
         "type": "scatter",
         "x": [
          1,
          1
         ],
         "xaxis": "x",
         "y": [
          1,
          1
         ],
         "yaxis": "y"
        },
        {
         "hovertemplate": "MoA=hypoxia inducible factor inhibitor<br>Mean Average Precision - Standard CellPainting dyes=%{x}<br>Mean Average Preicison - <br> Phalloidin 400LS (long-stoke shifted)=%{y}<extra></extra>",
         "legendgroup": "hypoxia inducible factor inhibitor",
         "marker": {
          "color": "#FF6692",
          "symbol": "circle"
         },
         "mode": "markers",
         "name": "hypoxia inducible factor inhibitor",
         "orientation": "v",
         "showlegend": true,
         "type": "scatter",
         "x": [
          0.034380644784609185,
          0.9388888888888889
         ],
         "xaxis": "x",
         "y": [
          0.21859098106765146,
          0.45075357010139616
         ],
         "yaxis": "y"
        }
       ],
       "layout": {
        "height": 800,
        "legend": {
         "orientation": "h",
         "title": {
          "text": "MoA"
         },
         "tracegroupgap": 0
        },
        "margin": {
         "t": 60
        },
        "template": {
         "data": {
          "bar": [
           {
            "error_x": {
             "color": "#2a3f5f"
            },
            "error_y": {
             "color": "#2a3f5f"
            },
            "marker": {
             "line": {
              "color": "#E5ECF6",
              "width": 0.5
             },
             "pattern": {
              "fillmode": "overlay",
              "size": 10,
              "solidity": 0.2
             }
            },
            "type": "bar"
           }
          ],
          "barpolar": [
           {
            "marker": {
             "line": {
              "color": "#E5ECF6",
              "width": 0.5
             },
             "pattern": {
              "fillmode": "overlay",
              "size": 10,
              "solidity": 0.2
             }
            },
            "type": "barpolar"
           }
          ],
          "carpet": [
           {
            "aaxis": {
             "endlinecolor": "#2a3f5f",
             "gridcolor": "white",
             "linecolor": "white",
             "minorgridcolor": "white",
             "startlinecolor": "#2a3f5f"
            },
            "baxis": {
             "endlinecolor": "#2a3f5f",
             "gridcolor": "white",
             "linecolor": "white",
             "minorgridcolor": "white",
             "startlinecolor": "#2a3f5f"
            },
            "type": "carpet"
           }
          ],
          "choropleth": [
           {
            "colorbar": {
             "outlinewidth": 0,
             "ticks": ""
            },
            "type": "choropleth"
           }
          ],
          "contour": [
           {
            "colorbar": {
             "outlinewidth": 0,
             "ticks": ""
            },
            "colorscale": [
             [
              0,
              "#0d0887"
             ],
             [
              0.1111111111111111,
              "#46039f"
             ],
             [
              0.2222222222222222,
              "#7201a8"
             ],
             [
              0.3333333333333333,
              "#9c179e"
             ],
             [
              0.4444444444444444,
              "#bd3786"
             ],
             [
              0.5555555555555556,
              "#d8576b"
             ],
             [
              0.6666666666666666,
              "#ed7953"
             ],
             [
              0.7777777777777778,
              "#fb9f3a"
             ],
             [
              0.8888888888888888,
              "#fdca26"
             ],
             [
              1,
              "#f0f921"
             ]
            ],
            "type": "contour"
           }
          ],
          "contourcarpet": [
           {
            "colorbar": {
             "outlinewidth": 0,
             "ticks": ""
            },
            "type": "contourcarpet"
           }
          ],
          "heatmap": [
           {
            "colorbar": {
             "outlinewidth": 0,
             "ticks": ""
            },
            "colorscale": [
             [
              0,
              "#0d0887"
             ],
             [
              0.1111111111111111,
              "#46039f"
             ],
             [
              0.2222222222222222,
              "#7201a8"
             ],
             [
              0.3333333333333333,
              "#9c179e"
             ],
             [
              0.4444444444444444,
              "#bd3786"
             ],
             [
              0.5555555555555556,
              "#d8576b"
             ],
             [
              0.6666666666666666,
              "#ed7953"
             ],
             [
              0.7777777777777778,
              "#fb9f3a"
             ],
             [
              0.8888888888888888,
              "#fdca26"
             ],
             [
              1,
              "#f0f921"
             ]
            ],
            "type": "heatmap"
           }
          ],
          "heatmapgl": [
           {
            "colorbar": {
             "outlinewidth": 0,
             "ticks": ""
            },
            "colorscale": [
             [
              0,
              "#0d0887"
             ],
             [
              0.1111111111111111,
              "#46039f"
             ],
             [
              0.2222222222222222,
              "#7201a8"
             ],
             [
              0.3333333333333333,
              "#9c179e"
             ],
             [
              0.4444444444444444,
              "#bd3786"
             ],
             [
              0.5555555555555556,
              "#d8576b"
             ],
             [
              0.6666666666666666,
              "#ed7953"
             ],
             [
              0.7777777777777778,
              "#fb9f3a"
             ],
             [
              0.8888888888888888,
              "#fdca26"
             ],
             [
              1,
              "#f0f921"
             ]
            ],
            "type": "heatmapgl"
           }
          ],
          "histogram": [
           {
            "marker": {
             "pattern": {
              "fillmode": "overlay",
              "size": 10,
              "solidity": 0.2
             }
            },
            "type": "histogram"
           }
          ],
          "histogram2d": [
           {
            "colorbar": {
             "outlinewidth": 0,
             "ticks": ""
            },
            "colorscale": [
             [
              0,
              "#0d0887"
             ],
             [
              0.1111111111111111,
              "#46039f"
             ],
             [
              0.2222222222222222,
              "#7201a8"
             ],
             [
              0.3333333333333333,
              "#9c179e"
             ],
             [
              0.4444444444444444,
              "#bd3786"
             ],
             [
              0.5555555555555556,
              "#d8576b"
             ],
             [
              0.6666666666666666,
              "#ed7953"
             ],
             [
              0.7777777777777778,
              "#fb9f3a"
             ],
             [
              0.8888888888888888,
              "#fdca26"
             ],
             [
              1,
              "#f0f921"
             ]
            ],
            "type": "histogram2d"
           }
          ],
          "histogram2dcontour": [
           {
            "colorbar": {
             "outlinewidth": 0,
             "ticks": ""
            },
            "colorscale": [
             [
              0,
              "#0d0887"
             ],
             [
              0.1111111111111111,
              "#46039f"
             ],
             [
              0.2222222222222222,
              "#7201a8"
             ],
             [
              0.3333333333333333,
              "#9c179e"
             ],
             [
              0.4444444444444444,
              "#bd3786"
             ],
             [
              0.5555555555555556,
              "#d8576b"
             ],
             [
              0.6666666666666666,
              "#ed7953"
             ],
             [
              0.7777777777777778,
              "#fb9f3a"
             ],
             [
              0.8888888888888888,
              "#fdca26"
             ],
             [
              1,
              "#f0f921"
             ]
            ],
            "type": "histogram2dcontour"
           }
          ],
          "mesh3d": [
           {
            "colorbar": {
             "outlinewidth": 0,
             "ticks": ""
            },
            "type": "mesh3d"
           }
          ],
          "parcoords": [
           {
            "line": {
             "colorbar": {
              "outlinewidth": 0,
              "ticks": ""
             }
            },
            "type": "parcoords"
           }
          ],
          "pie": [
           {
            "automargin": true,
            "type": "pie"
           }
          ],
          "scatter": [
           {
            "fillpattern": {
             "fillmode": "overlay",
             "size": 10,
             "solidity": 0.2
            },
            "type": "scatter"
           }
          ],
          "scatter3d": [
           {
            "line": {
             "colorbar": {
              "outlinewidth": 0,
              "ticks": ""
             }
            },
            "marker": {
             "colorbar": {
              "outlinewidth": 0,
              "ticks": ""
             }
            },
            "type": "scatter3d"
           }
          ],
          "scattercarpet": [
           {
            "marker": {
             "colorbar": {
              "outlinewidth": 0,
              "ticks": ""
             }
            },
            "type": "scattercarpet"
           }
          ],
          "scattergeo": [
           {
            "marker": {
             "colorbar": {
              "outlinewidth": 0,
              "ticks": ""
             }
            },
            "type": "scattergeo"
           }
          ],
          "scattergl": [
           {
            "marker": {
             "colorbar": {
              "outlinewidth": 0,
              "ticks": ""
             }
            },
            "type": "scattergl"
           }
          ],
          "scattermapbox": [
           {
            "marker": {
             "colorbar": {
              "outlinewidth": 0,
              "ticks": ""
             }
            },
            "type": "scattermapbox"
           }
          ],
          "scatterpolar": [
           {
            "marker": {
             "colorbar": {
              "outlinewidth": 0,
              "ticks": ""
             }
            },
            "type": "scatterpolar"
           }
          ],
          "scatterpolargl": [
           {
            "marker": {
             "colorbar": {
              "outlinewidth": 0,
              "ticks": ""
             }
            },
            "type": "scatterpolargl"
           }
          ],
          "scatterternary": [
           {
            "marker": {
             "colorbar": {
              "outlinewidth": 0,
              "ticks": ""
             }
            },
            "type": "scatterternary"
           }
          ],
          "surface": [
           {
            "colorbar": {
             "outlinewidth": 0,
             "ticks": ""
            },
            "colorscale": [
             [
              0,
              "#0d0887"
             ],
             [
              0.1111111111111111,
              "#46039f"
             ],
             [
              0.2222222222222222,
              "#7201a8"
             ],
             [
              0.3333333333333333,
              "#9c179e"
             ],
             [
              0.4444444444444444,
              "#bd3786"
             ],
             [
              0.5555555555555556,
              "#d8576b"
             ],
             [
              0.6666666666666666,
              "#ed7953"
             ],
             [
              0.7777777777777778,
              "#fb9f3a"
             ],
             [
              0.8888888888888888,
              "#fdca26"
             ],
             [
              1,
              "#f0f921"
             ]
            ],
            "type": "surface"
           }
          ],
          "table": [
           {
            "cells": {
             "fill": {
              "color": "#EBF0F8"
             },
             "line": {
              "color": "white"
             }
            },
            "header": {
             "fill": {
              "color": "#C8D4E3"
             },
             "line": {
              "color": "white"
             }
            },
            "type": "table"
           }
          ]
         },
         "layout": {
          "annotationdefaults": {
           "arrowcolor": "#2a3f5f",
           "arrowhead": 0,
           "arrowwidth": 1
          },
          "autotypenumbers": "strict",
          "coloraxis": {
           "colorbar": {
            "outlinewidth": 0,
            "ticks": ""
           }
          },
          "colorscale": {
           "diverging": [
            [
             0,
             "#8e0152"
            ],
            [
             0.1,
             "#c51b7d"
            ],
            [
             0.2,
             "#de77ae"
            ],
            [
             0.3,
             "#f1b6da"
            ],
            [
             0.4,
             "#fde0ef"
            ],
            [
             0.5,
             "#f7f7f7"
            ],
            [
             0.6,
             "#e6f5d0"
            ],
            [
             0.7,
             "#b8e186"
            ],
            [
             0.8,
             "#7fbc41"
            ],
            [
             0.9,
             "#4d9221"
            ],
            [
             1,
             "#276419"
            ]
           ],
           "sequential": [
            [
             0,
             "#0d0887"
            ],
            [
             0.1111111111111111,
             "#46039f"
            ],
            [
             0.2222222222222222,
             "#7201a8"
            ],
            [
             0.3333333333333333,
             "#9c179e"
            ],
            [
             0.4444444444444444,
             "#bd3786"
            ],
            [
             0.5555555555555556,
             "#d8576b"
            ],
            [
             0.6666666666666666,
             "#ed7953"
            ],
            [
             0.7777777777777778,
             "#fb9f3a"
            ],
            [
             0.8888888888888888,
             "#fdca26"
            ],
            [
             1,
             "#f0f921"
            ]
           ],
           "sequentialminus": [
            [
             0,
             "#0d0887"
            ],
            [
             0.1111111111111111,
             "#46039f"
            ],
            [
             0.2222222222222222,
             "#7201a8"
            ],
            [
             0.3333333333333333,
             "#9c179e"
            ],
            [
             0.4444444444444444,
             "#bd3786"
            ],
            [
             0.5555555555555556,
             "#d8576b"
            ],
            [
             0.6666666666666666,
             "#ed7953"
            ],
            [
             0.7777777777777778,
             "#fb9f3a"
            ],
            [
             0.8888888888888888,
             "#fdca26"
            ],
            [
             1,
             "#f0f921"
            ]
           ]
          },
          "colorway": [
           "#636efa",
           "#EF553B",
           "#00cc96",
           "#ab63fa",
           "#FFA15A",
           "#19d3f3",
           "#FF6692",
           "#B6E880",
           "#FF97FF",
           "#FECB52"
          ],
          "font": {
           "color": "#2a3f5f"
          },
          "geo": {
           "bgcolor": "white",
           "lakecolor": "white",
           "landcolor": "#E5ECF6",
           "showlakes": true,
           "showland": true,
           "subunitcolor": "white"
          },
          "hoverlabel": {
           "align": "left"
          },
          "hovermode": "closest",
          "mapbox": {
           "style": "light"
          },
          "paper_bgcolor": "white",
          "plot_bgcolor": "#E5ECF6",
          "polar": {
           "angularaxis": {
            "gridcolor": "white",
            "linecolor": "white",
            "ticks": ""
           },
           "bgcolor": "#E5ECF6",
           "radialaxis": {
            "gridcolor": "white",
            "linecolor": "white",
            "ticks": ""
           }
          },
          "scene": {
           "xaxis": {
            "backgroundcolor": "#E5ECF6",
            "gridcolor": "white",
            "gridwidth": 2,
            "linecolor": "white",
            "showbackground": true,
            "ticks": "",
            "zerolinecolor": "white"
           },
           "yaxis": {
            "backgroundcolor": "#E5ECF6",
            "gridcolor": "white",
            "gridwidth": 2,
            "linecolor": "white",
            "showbackground": true,
            "ticks": "",
            "zerolinecolor": "white"
           },
           "zaxis": {
            "backgroundcolor": "#E5ECF6",
            "gridcolor": "white",
            "gridwidth": 2,
            "linecolor": "white",
            "showbackground": true,
            "ticks": "",
            "zerolinecolor": "white"
           }
          },
          "shapedefaults": {
           "line": {
            "color": "#2a3f5f"
           }
          },
          "ternary": {
           "aaxis": {
            "gridcolor": "white",
            "linecolor": "white",
            "ticks": ""
           },
           "baxis": {
            "gridcolor": "white",
            "linecolor": "white",
            "ticks": ""
           },
           "bgcolor": "#E5ECF6",
           "caxis": {
            "gridcolor": "white",
            "linecolor": "white",
            "ticks": ""
           }
          },
          "title": {
           "x": 0.05
          },
          "xaxis": {
           "automargin": true,
           "gridcolor": "white",
           "linecolor": "white",
           "ticks": "",
           "title": {
            "standoff": 15
           },
           "zerolinecolor": "white",
           "zerolinewidth": 2
          },
          "yaxis": {
           "automargin": true,
           "gridcolor": "white",
           "linecolor": "white",
           "ticks": "",
           "title": {
            "standoff": 15
           },
           "zerolinecolor": "white",
           "zerolinewidth": 2
          }
         }
        },
        "width": 1000,
        "xaxis": {
         "anchor": "y",
         "domain": [
          0,
          1
         ],
         "title": {
          "text": "Mean Average Precision - Standard CellPainting dyes"
         }
        },
        "yaxis": {
         "anchor": "x",
         "domain": [
          0,
          1
         ],
         "title": {
          "text": "Mean Average Preicison - <br> Phalloidin 400LS (long-stoke shifted)"
         }
        }
       }
      }
     },
     "metadata": {},
     "output_type": "display_data"
    }
   ],
   "source": [
    "actin_fig = px.scatter(combined_moa_df, x =combined_moa_df['average_precision_std'], y=combined_moa_df['average_precision_act'],labels={'average_precision_std':'Mean Average Precision - Standard CellPainting dyes', 'average_precision_act':'Mean Average Preicison - <br> Phalloidin 400LS (long-stoke shifted)'}, color=combined_moa_df['MoA'])\n",
    "actin_fig.update_layout(legend=dict(orientation=\"h\"), height=800, width=1000)"
   ]
  },
  {
   "cell_type": "code",
   "execution_count": 69,
   "metadata": {},
   "outputs": [
    {
     "data": {
      "text/html": [
       "<div>\n",
       "<style scoped>\n",
       "    .dataframe tbody tr th:only-of-type {\n",
       "        vertical-align: middle;\n",
       "    }\n",
       "\n",
       "    .dataframe tbody tr th {\n",
       "        vertical-align: top;\n",
       "    }\n",
       "\n",
       "    .dataframe thead th {\n",
       "        text-align: right;\n",
       "    }\n",
       "</style>\n",
       "<table border=\"1\" class=\"dataframe\">\n",
       "  <thead>\n",
       "    <tr style=\"text-align: right;\">\n",
       "      <th></th>\n",
       "      <th>Metadata_broad_sample_x</th>\n",
       "      <th>average_precision_std</th>\n",
       "      <th>average_precision_mito</th>\n",
       "      <th>average_precision_act</th>\n",
       "      <th>BRD ID</th>\n",
       "      <th>Metadata_broad_sample_y</th>\n",
       "      <th>Common Name</th>\n",
       "      <th>MoA</th>\n",
       "    </tr>\n",
       "  </thead>\n",
       "  <tbody>\n",
       "    <tr>\n",
       "      <th>0</th>\n",
       "      <td>BRD-A12994259-001-11-9</td>\n",
       "      <td>0.109555</td>\n",
       "      <td>0.041064</td>\n",
       "      <td>0.118931</td>\n",
       "      <td>A12994259</td>\n",
       "      <td>BRD-A12994259-001-02-1</td>\n",
       "      <td>pomalidomide</td>\n",
       "      <td>tumor necrosis factor production inhibitor</td>\n",
       "    </tr>\n",
       "    <tr>\n",
       "      <th>1</th>\n",
       "      <td>BRD-A22769835-300-05-7</td>\n",
       "      <td>0.011390</td>\n",
       "      <td>0.029497</td>\n",
       "      <td>0.023822</td>\n",
       "      <td>A22769835</td>\n",
       "      <td>BRD-A22769835-300-05-7</td>\n",
       "      <td>homochlorcyclizine</td>\n",
       "      <td>antihistamine</td>\n",
       "    </tr>\n",
       "    <tr>\n",
       "      <th>2</th>\n",
       "      <td>BRD-A53576514-048-02-8</td>\n",
       "      <td>0.046175</td>\n",
       "      <td>0.183302</td>\n",
       "      <td>0.059661</td>\n",
       "      <td>A53576514</td>\n",
       "      <td>BRD-A53576514-048-14-3</td>\n",
       "      <td>orphenadrine</td>\n",
       "      <td>acetylcholine receptor antagonist</td>\n",
       "    </tr>\n",
       "    <tr>\n",
       "      <th>3</th>\n",
       "      <td>BRD-A87435144-001-01-6</td>\n",
       "      <td>0.106790</td>\n",
       "      <td>0.078665</td>\n",
       "      <td>0.133939</td>\n",
       "      <td>A87435144</td>\n",
       "      <td>BRD-A87435144-001-01-6</td>\n",
       "      <td>AZD7545</td>\n",
       "      <td>pyruvate dehydrogenase kinase inhibitor</td>\n",
       "    </tr>\n",
       "    <tr>\n",
       "      <th>4</th>\n",
       "      <td>BRD-K00818915-001-02-9</td>\n",
       "      <td>0.189290</td>\n",
       "      <td>0.189756</td>\n",
       "      <td>0.071897</td>\n",
       "      <td>K00818915</td>\n",
       "      <td>BRD-K00818915-003-01-8</td>\n",
       "      <td>SHP099</td>\n",
       "      <td>protein tyrosine kinase inhibitor</td>\n",
       "    </tr>\n",
       "    <tr>\n",
       "      <th>...</th>\n",
       "      <td>...</td>\n",
       "      <td>...</td>\n",
       "      <td>...</td>\n",
       "      <td>...</td>\n",
       "      <td>...</td>\n",
       "      <td>...</td>\n",
       "      <td>...</td>\n",
       "      <td>...</td>\n",
       "    </tr>\n",
       "    <tr>\n",
       "      <th>85</th>\n",
       "      <td>BRD-K98251413-001-07-9</td>\n",
       "      <td>0.034381</td>\n",
       "      <td>0.207946</td>\n",
       "      <td>0.218591</td>\n",
       "      <td>K98251413</td>\n",
       "      <td>BRD-K98251413-001-04-0</td>\n",
       "      <td>IOX2</td>\n",
       "      <td>hypoxia inducible factor inhibitor</td>\n",
       "    </tr>\n",
       "    <tr>\n",
       "      <th>86</th>\n",
       "      <td>BRD-K99092662-001-02-9</td>\n",
       "      <td>0.181962</td>\n",
       "      <td>0.038368</td>\n",
       "      <td>0.111170</td>\n",
       "      <td>K99092662</td>\n",
       "      <td>BRD-K99092662-001-01-1</td>\n",
       "      <td>PS178990</td>\n",
       "      <td>androgen receptor modulator</td>\n",
       "    </tr>\n",
       "    <tr>\n",
       "      <th>87</th>\n",
       "      <td>BRD-K99113996-001-02-0</td>\n",
       "      <td>1.000000</td>\n",
       "      <td>1.000000</td>\n",
       "      <td>1.000000</td>\n",
       "      <td>K99113996</td>\n",
       "      <td>BRD-K99113996-001-02-0</td>\n",
       "      <td>AZD2014</td>\n",
       "      <td>mTOR inhibitor</td>\n",
       "    </tr>\n",
       "    <tr>\n",
       "      <th>88</th>\n",
       "      <td>BRD-K99433989-001-02-9</td>\n",
       "      <td>0.162272</td>\n",
       "      <td>0.698810</td>\n",
       "      <td>0.354452</td>\n",
       "      <td>K99433989</td>\n",
       "      <td>BRD-K99433989-001-02-9</td>\n",
       "      <td>SAG</td>\n",
       "      <td>smoothened receptor agonist</td>\n",
       "    </tr>\n",
       "    <tr>\n",
       "      <th>89</th>\n",
       "      <td>BRD-M87138257-003-01-1</td>\n",
       "      <td>0.938889</td>\n",
       "      <td>0.698562</td>\n",
       "      <td>0.450754</td>\n",
       "      <td>M87138257</td>\n",
       "      <td>BRD-M87138257-003-01-1</td>\n",
       "      <td>acriflavine</td>\n",
       "      <td>hypoxia inducible factor inhibitor</td>\n",
       "    </tr>\n",
       "  </tbody>\n",
       "</table>\n",
       "<p>90 rows × 8 columns</p>\n",
       "</div>"
      ],
      "text/plain": [
       "   Metadata_broad_sample_x  average_precision_std  average_precision_mito  \\\n",
       "0   BRD-A12994259-001-11-9               0.109555                0.041064   \n",
       "1   BRD-A22769835-300-05-7               0.011390                0.029497   \n",
       "2   BRD-A53576514-048-02-8               0.046175                0.183302   \n",
       "3   BRD-A87435144-001-01-6               0.106790                0.078665   \n",
       "4   BRD-K00818915-001-02-9               0.189290                0.189756   \n",
       "..                     ...                    ...                     ...   \n",
       "85  BRD-K98251413-001-07-9               0.034381                0.207946   \n",
       "86  BRD-K99092662-001-02-9               0.181962                0.038368   \n",
       "87  BRD-K99113996-001-02-0               1.000000                1.000000   \n",
       "88  BRD-K99433989-001-02-9               0.162272                0.698810   \n",
       "89  BRD-M87138257-003-01-1               0.938889                0.698562   \n",
       "\n",
       "    average_precision_act     BRD ID Metadata_broad_sample_y  \\\n",
       "0                0.118931  A12994259  BRD-A12994259-001-02-1   \n",
       "1                0.023822  A22769835  BRD-A22769835-300-05-7   \n",
       "2                0.059661  A53576514  BRD-A53576514-048-14-3   \n",
       "3                0.133939  A87435144  BRD-A87435144-001-01-6   \n",
       "4                0.071897  K00818915  BRD-K00818915-003-01-8   \n",
       "..                    ...        ...                     ...   \n",
       "85               0.218591  K98251413  BRD-K98251413-001-04-0   \n",
       "86               0.111170  K99092662  BRD-K99092662-001-01-1   \n",
       "87               1.000000  K99113996  BRD-K99113996-001-02-0   \n",
       "88               0.354452  K99433989  BRD-K99433989-001-02-9   \n",
       "89               0.450754  M87138257  BRD-M87138257-003-01-1   \n",
       "\n",
       "           Common Name                                         MoA  \n",
       "0         pomalidomide  tumor necrosis factor production inhibitor  \n",
       "1   homochlorcyclizine                               antihistamine  \n",
       "2         orphenadrine           acetylcholine receptor antagonist  \n",
       "3              AZD7545     pyruvate dehydrogenase kinase inhibitor  \n",
       "4               SHP099           protein tyrosine kinase inhibitor  \n",
       "..                 ...                                         ...  \n",
       "85                IOX2          hypoxia inducible factor inhibitor  \n",
       "86            PS178990                 androgen receptor modulator  \n",
       "87             AZD2014                              mTOR inhibitor  \n",
       "88                 SAG                 smoothened receptor agonist  \n",
       "89         acriflavine          hypoxia inducible factor inhibitor  \n",
       "\n",
       "[90 rows x 8 columns]"
      ]
     },
     "execution_count": 69,
     "metadata": {},
     "output_type": "execute_result"
    }
   ],
   "source": [
    "combined_moa_df"
   ]
  },
  {
   "cell_type": "markdown",
   "metadata": {},
   "source": [
    "#### Creating a column to have the difference in the mAP values"
   ]
  },
  {
   "cell_type": "code",
   "execution_count": 90,
   "metadata": {},
   "outputs": [],
   "source": [
    "combined_moa_df['std_vs_act'] = combined_moa_df['average_precision_std'] - combined_moa_df['average_precision_act']"
   ]
  },
  {
   "cell_type": "code",
   "execution_count": 91,
   "metadata": {},
   "outputs": [],
   "source": [
    "combined_moa_df['std_vs_mito'] = combined_moa_df['average_precision_std'] - combined_moa_df['average_precision_mito']"
   ]
  },
  {
   "cell_type": "code",
   "execution_count": 92,
   "metadata": {},
   "outputs": [
    {
     "data": {
      "text/html": [
       "<div>\n",
       "<style scoped>\n",
       "    .dataframe tbody tr th:only-of-type {\n",
       "        vertical-align: middle;\n",
       "    }\n",
       "\n",
       "    .dataframe tbody tr th {\n",
       "        vertical-align: top;\n",
       "    }\n",
       "\n",
       "    .dataframe thead th {\n",
       "        text-align: right;\n",
       "    }\n",
       "</style>\n",
       "<table border=\"1\" class=\"dataframe\">\n",
       "  <thead>\n",
       "    <tr style=\"text-align: right;\">\n",
       "      <th></th>\n",
       "      <th>Metadata_broad_sample_x</th>\n",
       "      <th>average_precision_std</th>\n",
       "      <th>average_precision_mito</th>\n",
       "      <th>average_precision_act</th>\n",
       "      <th>BRD ID</th>\n",
       "      <th>Metadata_broad_sample_y</th>\n",
       "      <th>Common Name</th>\n",
       "      <th>MoA</th>\n",
       "      <th>std_vs_act</th>\n",
       "      <th>std_vs_mito</th>\n",
       "    </tr>\n",
       "  </thead>\n",
       "  <tbody>\n",
       "    <tr>\n",
       "      <th>0</th>\n",
       "      <td>BRD-A12994259-001-11-9</td>\n",
       "      <td>0.109555</td>\n",
       "      <td>0.041064</td>\n",
       "      <td>0.118931</td>\n",
       "      <td>A12994259</td>\n",
       "      <td>BRD-A12994259-001-02-1</td>\n",
       "      <td>pomalidomide</td>\n",
       "      <td>tumor necrosis factor production inhibitor</td>\n",
       "      <td>-0.009376</td>\n",
       "      <td>0.068491</td>\n",
       "    </tr>\n",
       "    <tr>\n",
       "      <th>1</th>\n",
       "      <td>BRD-A22769835-300-05-7</td>\n",
       "      <td>0.011390</td>\n",
       "      <td>0.029497</td>\n",
       "      <td>0.023822</td>\n",
       "      <td>A22769835</td>\n",
       "      <td>BRD-A22769835-300-05-7</td>\n",
       "      <td>homochlorcyclizine</td>\n",
       "      <td>antihistamine</td>\n",
       "      <td>-0.012432</td>\n",
       "      <td>-0.018106</td>\n",
       "    </tr>\n",
       "    <tr>\n",
       "      <th>2</th>\n",
       "      <td>BRD-A53576514-048-02-8</td>\n",
       "      <td>0.046175</td>\n",
       "      <td>0.183302</td>\n",
       "      <td>0.059661</td>\n",
       "      <td>A53576514</td>\n",
       "      <td>BRD-A53576514-048-14-3</td>\n",
       "      <td>orphenadrine</td>\n",
       "      <td>acetylcholine receptor antagonist</td>\n",
       "      <td>-0.013486</td>\n",
       "      <td>-0.137127</td>\n",
       "    </tr>\n",
       "    <tr>\n",
       "      <th>3</th>\n",
       "      <td>BRD-A87435144-001-01-6</td>\n",
       "      <td>0.106790</td>\n",
       "      <td>0.078665</td>\n",
       "      <td>0.133939</td>\n",
       "      <td>A87435144</td>\n",
       "      <td>BRD-A87435144-001-01-6</td>\n",
       "      <td>AZD7545</td>\n",
       "      <td>pyruvate dehydrogenase kinase inhibitor</td>\n",
       "      <td>-0.027149</td>\n",
       "      <td>0.028125</td>\n",
       "    </tr>\n",
       "    <tr>\n",
       "      <th>4</th>\n",
       "      <td>BRD-K00818915-001-02-9</td>\n",
       "      <td>0.189290</td>\n",
       "      <td>0.189756</td>\n",
       "      <td>0.071897</td>\n",
       "      <td>K00818915</td>\n",
       "      <td>BRD-K00818915-003-01-8</td>\n",
       "      <td>SHP099</td>\n",
       "      <td>protein tyrosine kinase inhibitor</td>\n",
       "      <td>0.117393</td>\n",
       "      <td>-0.000466</td>\n",
       "    </tr>\n",
       "    <tr>\n",
       "      <th>...</th>\n",
       "      <td>...</td>\n",
       "      <td>...</td>\n",
       "      <td>...</td>\n",
       "      <td>...</td>\n",
       "      <td>...</td>\n",
       "      <td>...</td>\n",
       "      <td>...</td>\n",
       "      <td>...</td>\n",
       "      <td>...</td>\n",
       "      <td>...</td>\n",
       "    </tr>\n",
       "    <tr>\n",
       "      <th>85</th>\n",
       "      <td>BRD-K98251413-001-07-9</td>\n",
       "      <td>0.034381</td>\n",
       "      <td>0.207946</td>\n",
       "      <td>0.218591</td>\n",
       "      <td>K98251413</td>\n",
       "      <td>BRD-K98251413-001-04-0</td>\n",
       "      <td>IOX2</td>\n",
       "      <td>hypoxia inducible factor inhibitor</td>\n",
       "      <td>-0.184210</td>\n",
       "      <td>-0.173566</td>\n",
       "    </tr>\n",
       "    <tr>\n",
       "      <th>86</th>\n",
       "      <td>BRD-K99092662-001-02-9</td>\n",
       "      <td>0.181962</td>\n",
       "      <td>0.038368</td>\n",
       "      <td>0.111170</td>\n",
       "      <td>K99092662</td>\n",
       "      <td>BRD-K99092662-001-01-1</td>\n",
       "      <td>PS178990</td>\n",
       "      <td>androgen receptor modulator</td>\n",
       "      <td>0.070791</td>\n",
       "      <td>0.143594</td>\n",
       "    </tr>\n",
       "    <tr>\n",
       "      <th>87</th>\n",
       "      <td>BRD-K99113996-001-02-0</td>\n",
       "      <td>1.000000</td>\n",
       "      <td>1.000000</td>\n",
       "      <td>1.000000</td>\n",
       "      <td>K99113996</td>\n",
       "      <td>BRD-K99113996-001-02-0</td>\n",
       "      <td>AZD2014</td>\n",
       "      <td>mTOR inhibitor</td>\n",
       "      <td>0.000000</td>\n",
       "      <td>0.000000</td>\n",
       "    </tr>\n",
       "    <tr>\n",
       "      <th>88</th>\n",
       "      <td>BRD-K99433989-001-02-9</td>\n",
       "      <td>0.162272</td>\n",
       "      <td>0.698810</td>\n",
       "      <td>0.354452</td>\n",
       "      <td>K99433989</td>\n",
       "      <td>BRD-K99433989-001-02-9</td>\n",
       "      <td>SAG</td>\n",
       "      <td>smoothened receptor agonist</td>\n",
       "      <td>-0.192180</td>\n",
       "      <td>-0.536537</td>\n",
       "    </tr>\n",
       "    <tr>\n",
       "      <th>89</th>\n",
       "      <td>BRD-M87138257-003-01-1</td>\n",
       "      <td>0.938889</td>\n",
       "      <td>0.698562</td>\n",
       "      <td>0.450754</td>\n",
       "      <td>M87138257</td>\n",
       "      <td>BRD-M87138257-003-01-1</td>\n",
       "      <td>acriflavine</td>\n",
       "      <td>hypoxia inducible factor inhibitor</td>\n",
       "      <td>0.488135</td>\n",
       "      <td>0.240327</td>\n",
       "    </tr>\n",
       "  </tbody>\n",
       "</table>\n",
       "<p>90 rows × 10 columns</p>\n",
       "</div>"
      ],
      "text/plain": [
       "   Metadata_broad_sample_x  average_precision_std  average_precision_mito  \\\n",
       "0   BRD-A12994259-001-11-9               0.109555                0.041064   \n",
       "1   BRD-A22769835-300-05-7               0.011390                0.029497   \n",
       "2   BRD-A53576514-048-02-8               0.046175                0.183302   \n",
       "3   BRD-A87435144-001-01-6               0.106790                0.078665   \n",
       "4   BRD-K00818915-001-02-9               0.189290                0.189756   \n",
       "..                     ...                    ...                     ...   \n",
       "85  BRD-K98251413-001-07-9               0.034381                0.207946   \n",
       "86  BRD-K99092662-001-02-9               0.181962                0.038368   \n",
       "87  BRD-K99113996-001-02-0               1.000000                1.000000   \n",
       "88  BRD-K99433989-001-02-9               0.162272                0.698810   \n",
       "89  BRD-M87138257-003-01-1               0.938889                0.698562   \n",
       "\n",
       "    average_precision_act     BRD ID Metadata_broad_sample_y  \\\n",
       "0                0.118931  A12994259  BRD-A12994259-001-02-1   \n",
       "1                0.023822  A22769835  BRD-A22769835-300-05-7   \n",
       "2                0.059661  A53576514  BRD-A53576514-048-14-3   \n",
       "3                0.133939  A87435144  BRD-A87435144-001-01-6   \n",
       "4                0.071897  K00818915  BRD-K00818915-003-01-8   \n",
       "..                    ...        ...                     ...   \n",
       "85               0.218591  K98251413  BRD-K98251413-001-04-0   \n",
       "86               0.111170  K99092662  BRD-K99092662-001-01-1   \n",
       "87               1.000000  K99113996  BRD-K99113996-001-02-0   \n",
       "88               0.354452  K99433989  BRD-K99433989-001-02-9   \n",
       "89               0.450754  M87138257  BRD-M87138257-003-01-1   \n",
       "\n",
       "           Common Name                                         MoA  \\\n",
       "0         pomalidomide  tumor necrosis factor production inhibitor   \n",
       "1   homochlorcyclizine                               antihistamine   \n",
       "2         orphenadrine           acetylcholine receptor antagonist   \n",
       "3              AZD7545     pyruvate dehydrogenase kinase inhibitor   \n",
       "4               SHP099           protein tyrosine kinase inhibitor   \n",
       "..                 ...                                         ...   \n",
       "85                IOX2          hypoxia inducible factor inhibitor   \n",
       "86            PS178990                 androgen receptor modulator   \n",
       "87             AZD2014                              mTOR inhibitor   \n",
       "88                 SAG                 smoothened receptor agonist   \n",
       "89         acriflavine          hypoxia inducible factor inhibitor   \n",
       "\n",
       "    std_vs_act  std_vs_mito  \n",
       "0    -0.009376     0.068491  \n",
       "1    -0.012432    -0.018106  \n",
       "2    -0.013486    -0.137127  \n",
       "3    -0.027149     0.028125  \n",
       "4     0.117393    -0.000466  \n",
       "..         ...          ...  \n",
       "85   -0.184210    -0.173566  \n",
       "86    0.070791     0.143594  \n",
       "87    0.000000     0.000000  \n",
       "88   -0.192180    -0.536537  \n",
       "89    0.488135     0.240327  \n",
       "\n",
       "[90 rows x 10 columns]"
      ]
     },
     "execution_count": 92,
     "metadata": {},
     "output_type": "execute_result"
    }
   ],
   "source": [
    "combined_moa_df"
   ]
  },
  {
   "cell_type": "markdown",
   "metadata": {},
   "source": [
    "#### Creating a dataframe for just actin alone"
   ]
  },
  {
   "cell_type": "code",
   "execution_count": 102,
   "metadata": {},
   "outputs": [],
   "source": [
    "diff_actin_df = combined_moa_df[['average_precision_std','average_precision_act','BRD ID', 'MoA', 'std_vs_act']]"
   ]
  },
  {
   "cell_type": "code",
   "execution_count": 103,
   "metadata": {},
   "outputs": [
    {
     "data": {
      "text/html": [
       "<div>\n",
       "<style scoped>\n",
       "    .dataframe tbody tr th:only-of-type {\n",
       "        vertical-align: middle;\n",
       "    }\n",
       "\n",
       "    .dataframe tbody tr th {\n",
       "        vertical-align: top;\n",
       "    }\n",
       "\n",
       "    .dataframe thead th {\n",
       "        text-align: right;\n",
       "    }\n",
       "</style>\n",
       "<table border=\"1\" class=\"dataframe\">\n",
       "  <thead>\n",
       "    <tr style=\"text-align: right;\">\n",
       "      <th></th>\n",
       "      <th>average_precision_std</th>\n",
       "      <th>average_precision_act</th>\n",
       "      <th>BRD ID</th>\n",
       "      <th>MoA</th>\n",
       "      <th>std_vs_act</th>\n",
       "    </tr>\n",
       "  </thead>\n",
       "  <tbody>\n",
       "    <tr>\n",
       "      <th>36</th>\n",
       "      <td>0.342176</td>\n",
       "      <td>0.979167</td>\n",
       "      <td>K39974922</td>\n",
       "      <td>FGFR inhibitor</td>\n",
       "      <td>-0.636991</td>\n",
       "    </tr>\n",
       "    <tr>\n",
       "      <th>76</th>\n",
       "      <td>0.340228</td>\n",
       "      <td>0.820833</td>\n",
       "      <td>K86118762</td>\n",
       "      <td>IGF-1 inhibitor</td>\n",
       "      <td>-0.480605</td>\n",
       "    </tr>\n",
       "    <tr>\n",
       "      <th>16</th>\n",
       "      <td>0.565424</td>\n",
       "      <td>1.000000</td>\n",
       "      <td>K16189898</td>\n",
       "      <td>glycogen synthase kinase inhibitor</td>\n",
       "      <td>-0.434576</td>\n",
       "    </tr>\n",
       "    <tr>\n",
       "      <th>47</th>\n",
       "      <td>0.587572</td>\n",
       "      <td>1.000000</td>\n",
       "      <td>K57080016</td>\n",
       "      <td>MEK inhibitor</td>\n",
       "      <td>-0.412428</td>\n",
       "    </tr>\n",
       "    <tr>\n",
       "      <th>60</th>\n",
       "      <td>0.227046</td>\n",
       "      <td>0.542571</td>\n",
       "      <td>K70446295</td>\n",
       "      <td>protein arginine N-methyltransferase inhibitor</td>\n",
       "      <td>-0.315525</td>\n",
       "    </tr>\n",
       "    <tr>\n",
       "      <th>...</th>\n",
       "      <td>...</td>\n",
       "      <td>...</td>\n",
       "      <td>...</td>\n",
       "      <td>...</td>\n",
       "      <td>...</td>\n",
       "    </tr>\n",
       "    <tr>\n",
       "      <th>8</th>\n",
       "      <td>1.000000</td>\n",
       "      <td>0.586369</td>\n",
       "      <td>K04923131</td>\n",
       "      <td>glycogen synthase kinase inhibitor</td>\n",
       "      <td>0.413631</td>\n",
       "    </tr>\n",
       "    <tr>\n",
       "      <th>49</th>\n",
       "      <td>0.916667</td>\n",
       "      <td>0.429167</td>\n",
       "      <td>K61397605</td>\n",
       "      <td>HDAC inhibitor</td>\n",
       "      <td>0.487500</td>\n",
       "    </tr>\n",
       "    <tr>\n",
       "      <th>89</th>\n",
       "      <td>0.938889</td>\n",
       "      <td>0.450754</td>\n",
       "      <td>M87138257</td>\n",
       "      <td>hypoxia inducible factor inhibitor</td>\n",
       "      <td>0.488135</td>\n",
       "    </tr>\n",
       "    <tr>\n",
       "      <th>54</th>\n",
       "      <td>0.885417</td>\n",
       "      <td>0.384917</td>\n",
       "      <td>K66401437</td>\n",
       "      <td>CDK inhibitor</td>\n",
       "      <td>0.500500</td>\n",
       "    </tr>\n",
       "    <tr>\n",
       "      <th>46</th>\n",
       "      <td>1.000000</td>\n",
       "      <td>0.439680</td>\n",
       "      <td>K56932272</td>\n",
       "      <td>inosine monophosphate dehydrogenase inhibitor</td>\n",
       "      <td>0.560320</td>\n",
       "    </tr>\n",
       "  </tbody>\n",
       "</table>\n",
       "<p>90 rows × 5 columns</p>\n",
       "</div>"
      ],
      "text/plain": [
       "    average_precision_std  average_precision_act     BRD ID  \\\n",
       "36               0.342176               0.979167  K39974922   \n",
       "76               0.340228               0.820833  K86118762   \n",
       "16               0.565424               1.000000  K16189898   \n",
       "47               0.587572               1.000000  K57080016   \n",
       "60               0.227046               0.542571  K70446295   \n",
       "..                    ...                    ...        ...   \n",
       "8                1.000000               0.586369  K04923131   \n",
       "49               0.916667               0.429167  K61397605   \n",
       "89               0.938889               0.450754  M87138257   \n",
       "54               0.885417               0.384917  K66401437   \n",
       "46               1.000000               0.439680  K56932272   \n",
       "\n",
       "                                               MoA  std_vs_act  \n",
       "36                                  FGFR inhibitor   -0.636991  \n",
       "76                                 IGF-1 inhibitor   -0.480605  \n",
       "16              glycogen synthase kinase inhibitor   -0.434576  \n",
       "47                                   MEK inhibitor   -0.412428  \n",
       "60  protein arginine N-methyltransferase inhibitor   -0.315525  \n",
       "..                                             ...         ...  \n",
       "8               glycogen synthase kinase inhibitor    0.413631  \n",
       "49                                  HDAC inhibitor    0.487500  \n",
       "89              hypoxia inducible factor inhibitor    0.488135  \n",
       "54                                   CDK inhibitor    0.500500  \n",
       "46   inosine monophosphate dehydrogenase inhibitor    0.560320  \n",
       "\n",
       "[90 rows x 5 columns]"
      ]
     },
     "execution_count": 103,
     "metadata": {},
     "output_type": "execute_result"
    }
   ],
   "source": [
    "diff_actin_df.sort_values(by=['std_vs_act'])"
   ]
  },
  {
   "cell_type": "code",
   "execution_count": 159,
   "metadata": {},
   "outputs": [
    {
     "data": {
      "application/vnd.plotly.v1+json": {
       "config": {
        "plotlyServerURL": "https://plot.ly"
       },
       "data": [
        {
         "alignmentgroup": "True",
         "hovertemplate": "=%{x}<br>Difference in mAP with standard <br> CP dyes and phalloidin 400LS=%{y}<extra></extra>",
         "legendgroup": "",
         "marker": {
          "color": "#636efa",
          "pattern": {
           "shape": ""
          }
         },
         "name": "",
         "offsetgroup": "",
         "orientation": "v",
         "showlegend": false,
         "textposition": "auto",
         "type": "bar",
         "x": [
          "tumor necrosis factor production inhibitor",
          "antihistamine",
          "acetylcholine receptor antagonist",
          "pyruvate dehydrogenase kinase inhibitor",
          "protein tyrosine kinase inhibitor",
          "antihistamine",
          "hepatocyte growth factor receptor inhibitor",
          "CHK inhibitor",
          "glycogen synthase kinase inhibitor",
          "histone lysine methyltransferase inhibitor",
          "tumor necrosis factor production inhibitor",
          "inosine monophosphate dehydrogenase inhibitor",
          "CDC inhibitor",
          "PARP inhibitor",
          "bromodomain inhibitor",
          "ubiquitin specific protease inhibitor",
          "glycogen synthase kinase inhibitor",
          "JAK inhibitor",
          "Apoptosis inducer (ATP-competitive kinase inhibitor)",
          "hepatocyte growth factor receptor inhibitor",
          "bromodomain inhibitor",
          "MEK inhibitor",
          "Aurora kinase inhibitor",
          "LXR agonist",
          "phospholipase inhibitor",
          "IGF-1 inhibitor",
          "tricyclic antidepressant",
          "histone lysine demethylase inhibitor",
          "phosphodiesterase inhibitor",
          "beta-catenin inhibitor",
          "JNK inhibitor",
          "LXR agonist",
          "DNA inhibitor",
          "kinesin inhibitor",
          "phosphoinositide dependent kinase inhibitor",
          "RAF inhibitor",
          "FGFR inhibitor",
          "Bcr-Abl kinase inhibitor",
          "AMPK inhibitor",
          "pyruvate dehydrogenase kinase inhibitor",
          "phospholipase inhibitor",
          "Aurora kinase inhibitor",
          "JAK inhibitor",
          "tricyclic antidepressant",
          "PARP inhibitor",
          "BCL inhibitor",
          "inosine monophosphate dehydrogenase inhibitor",
          "MEK inhibitor",
          "histone lysine methyltransferase inhibitor",
          "HDAC inhibitor",
          "HDAC inhibitor",
          "BCL inhibitor",
          "phosphodiesterase inhibitor",
          "kinesin inhibitor",
          "CDK inhibitor",
          "CDC inhibitor",
          "RAF inhibitor",
          "protein tyrosine kinase inhibitor",
          "MAP kinase inhibitor",
          "ER stressor (SERCA inhibitor)",
          "protein arginine N-methyltransferase inhibitor",
          "Apoptosis inducer (transcription inhibitor)",
          "phosphoinositide dependent kinase inhibitor",
          "FGFR inhibitor",
          "DNA inhibitor",
          "smoothened receptor agonist",
          "JNK inhibitor",
          "CHK inhibitor",
          "EGFR inhibitor",
          "androgen receptor modulator",
          "HMGCR inhibitor",
          "acetylcholine receptor antagonist",
          "p38 MAPK inhibitor",
          "mTOR inhibitor",
          "EGFR inhibitor",
          "HMGCR inhibitor",
          "IGF-1 inhibitor",
          "protein arginine N-methyltransferase inhibitor",
          "Bcr-Abl kinase inhibitor",
          "MAP kinase inhibitor",
          "p38 MAPK inhibitor",
          "ubiquitin specific protease inhibitor",
          "beta-catenin inhibitor",
          "CDK inhibitor",
          "histone lysine demethylase inhibitor",
          "hypoxia inducible factor inhibitor",
          "androgen receptor modulator",
          "mTOR inhibitor",
          "smoothened receptor agonist",
          "hypoxia inducible factor inhibitor"
         ],
         "xaxis": "x",
         "y": [
          -0.009375557227983125,
          -0.012431714902611881,
          -0.013486415245646817,
          -0.027148514073076876,
          0.11739267415828189,
          0.0196187623808131,
          0.05803571428571441,
          0.21736111111111112,
          0.4136313004734057,
          -0.01610035056453478,
          0.0025733069305565737,
          -0.04166666666666674,
          0.20576923076923082,
          0.11266026853285893,
          -0.010371838006210138,
          0.010745598093794157,
          -0.43457582682223994,
          0.033272642284484066,
          0.043482845043643414,
          0.0313932467660039,
          -0.10317460317460325,
          0.0622036384591054,
          -0.07291666666666674,
          0.21993336524586538,
          -0.015147035788475758,
          0.02519841269841272,
          -0.1267669702993646,
          -0.01994743487479691,
          0.025119519978607084,
          0.007096637945083046,
          0.002187866573637289,
          0.22470637933657925,
          0.007809768156326547,
          0.28148832329866813,
          -0.09027777777777779,
          0.028608940086540087,
          -0.6369909561982732,
          0.27880591630591633,
          -0.001679471740647226,
          -0.02182539682539686,
          0.22184290382819793,
          0.1509214165464166,
          0.20278288327097344,
          0.004924417264994027,
          0.0031651097440571485,
          0.10902777777777783,
          0.5603195300936405,
          -0.41242784992785,
          0.20208333333333328,
          0.4875,
          -0.08194444444444449,
          0.040042796322771856,
          0.003488094725872951,
          0.0646647487754724,
          0.5004995126705652,
          0.06601363413847391,
          0.2993933150183151,
          0.0022334174035470167,
          -0.08583559286697173,
          0,
          -0.3155246199734324,
          0.35731094815146536,
          -0.23098523174072816,
          -0.1457251082251083,
          0.27509915531467244,
          0.07435995290315006,
          0.010388754306767143,
          0.26774594021361264,
          -0.1549656730187552,
          0.003372270526627967,
          -0.1300389554169083,
          -0.07407168941771232,
          -0.09435966373241217,
          0,
          0,
          -0.08082836846192959,
          -0.4806053355685709,
          0.14332426357874561,
          -0.28822358886858285,
          -0.15561956273966815,
          0.0012665363506769445,
          -0.0641328878184956,
          0.2106521459514943,
          0,
          -0.09523809523809523,
          -0.1842103362830423,
          0.0707913842153709,
          0,
          -0.19218006552574735,
          0.4881353187874927
         ],
         "yaxis": "y"
        }
       ],
       "layout": {
        "barmode": "relative",
        "font": {
         "color": "Black",
         "family": "Arial",
         "size": 14
        },
        "height": 800,
        "legend": {
         "tracegroupgap": 0
        },
        "margin": {
         "t": 60
        },
        "template": {
         "data": {
          "bar": [
           {
            "error_x": {
             "color": "#2a3f5f"
            },
            "error_y": {
             "color": "#2a3f5f"
            },
            "marker": {
             "line": {
              "color": "#E5ECF6",
              "width": 0.5
             },
             "pattern": {
              "fillmode": "overlay",
              "size": 10,
              "solidity": 0.2
             }
            },
            "type": "bar"
           }
          ],
          "barpolar": [
           {
            "marker": {
             "line": {
              "color": "#E5ECF6",
              "width": 0.5
             },
             "pattern": {
              "fillmode": "overlay",
              "size": 10,
              "solidity": 0.2
             }
            },
            "type": "barpolar"
           }
          ],
          "carpet": [
           {
            "aaxis": {
             "endlinecolor": "#2a3f5f",
             "gridcolor": "white",
             "linecolor": "white",
             "minorgridcolor": "white",
             "startlinecolor": "#2a3f5f"
            },
            "baxis": {
             "endlinecolor": "#2a3f5f",
             "gridcolor": "white",
             "linecolor": "white",
             "minorgridcolor": "white",
             "startlinecolor": "#2a3f5f"
            },
            "type": "carpet"
           }
          ],
          "choropleth": [
           {
            "colorbar": {
             "outlinewidth": 0,
             "ticks": ""
            },
            "type": "choropleth"
           }
          ],
          "contour": [
           {
            "colorbar": {
             "outlinewidth": 0,
             "ticks": ""
            },
            "colorscale": [
             [
              0,
              "#0d0887"
             ],
             [
              0.1111111111111111,
              "#46039f"
             ],
             [
              0.2222222222222222,
              "#7201a8"
             ],
             [
              0.3333333333333333,
              "#9c179e"
             ],
             [
              0.4444444444444444,
              "#bd3786"
             ],
             [
              0.5555555555555556,
              "#d8576b"
             ],
             [
              0.6666666666666666,
              "#ed7953"
             ],
             [
              0.7777777777777778,
              "#fb9f3a"
             ],
             [
              0.8888888888888888,
              "#fdca26"
             ],
             [
              1,
              "#f0f921"
             ]
            ],
            "type": "contour"
           }
          ],
          "contourcarpet": [
           {
            "colorbar": {
             "outlinewidth": 0,
             "ticks": ""
            },
            "type": "contourcarpet"
           }
          ],
          "heatmap": [
           {
            "colorbar": {
             "outlinewidth": 0,
             "ticks": ""
            },
            "colorscale": [
             [
              0,
              "#0d0887"
             ],
             [
              0.1111111111111111,
              "#46039f"
             ],
             [
              0.2222222222222222,
              "#7201a8"
             ],
             [
              0.3333333333333333,
              "#9c179e"
             ],
             [
              0.4444444444444444,
              "#bd3786"
             ],
             [
              0.5555555555555556,
              "#d8576b"
             ],
             [
              0.6666666666666666,
              "#ed7953"
             ],
             [
              0.7777777777777778,
              "#fb9f3a"
             ],
             [
              0.8888888888888888,
              "#fdca26"
             ],
             [
              1,
              "#f0f921"
             ]
            ],
            "type": "heatmap"
           }
          ],
          "heatmapgl": [
           {
            "colorbar": {
             "outlinewidth": 0,
             "ticks": ""
            },
            "colorscale": [
             [
              0,
              "#0d0887"
             ],
             [
              0.1111111111111111,
              "#46039f"
             ],
             [
              0.2222222222222222,
              "#7201a8"
             ],
             [
              0.3333333333333333,
              "#9c179e"
             ],
             [
              0.4444444444444444,
              "#bd3786"
             ],
             [
              0.5555555555555556,
              "#d8576b"
             ],
             [
              0.6666666666666666,
              "#ed7953"
             ],
             [
              0.7777777777777778,
              "#fb9f3a"
             ],
             [
              0.8888888888888888,
              "#fdca26"
             ],
             [
              1,
              "#f0f921"
             ]
            ],
            "type": "heatmapgl"
           }
          ],
          "histogram": [
           {
            "marker": {
             "pattern": {
              "fillmode": "overlay",
              "size": 10,
              "solidity": 0.2
             }
            },
            "type": "histogram"
           }
          ],
          "histogram2d": [
           {
            "colorbar": {
             "outlinewidth": 0,
             "ticks": ""
            },
            "colorscale": [
             [
              0,
              "#0d0887"
             ],
             [
              0.1111111111111111,
              "#46039f"
             ],
             [
              0.2222222222222222,
              "#7201a8"
             ],
             [
              0.3333333333333333,
              "#9c179e"
             ],
             [
              0.4444444444444444,
              "#bd3786"
             ],
             [
              0.5555555555555556,
              "#d8576b"
             ],
             [
              0.6666666666666666,
              "#ed7953"
             ],
             [
              0.7777777777777778,
              "#fb9f3a"
             ],
             [
              0.8888888888888888,
              "#fdca26"
             ],
             [
              1,
              "#f0f921"
             ]
            ],
            "type": "histogram2d"
           }
          ],
          "histogram2dcontour": [
           {
            "colorbar": {
             "outlinewidth": 0,
             "ticks": ""
            },
            "colorscale": [
             [
              0,
              "#0d0887"
             ],
             [
              0.1111111111111111,
              "#46039f"
             ],
             [
              0.2222222222222222,
              "#7201a8"
             ],
             [
              0.3333333333333333,
              "#9c179e"
             ],
             [
              0.4444444444444444,
              "#bd3786"
             ],
             [
              0.5555555555555556,
              "#d8576b"
             ],
             [
              0.6666666666666666,
              "#ed7953"
             ],
             [
              0.7777777777777778,
              "#fb9f3a"
             ],
             [
              0.8888888888888888,
              "#fdca26"
             ],
             [
              1,
              "#f0f921"
             ]
            ],
            "type": "histogram2dcontour"
           }
          ],
          "mesh3d": [
           {
            "colorbar": {
             "outlinewidth": 0,
             "ticks": ""
            },
            "type": "mesh3d"
           }
          ],
          "parcoords": [
           {
            "line": {
             "colorbar": {
              "outlinewidth": 0,
              "ticks": ""
             }
            },
            "type": "parcoords"
           }
          ],
          "pie": [
           {
            "automargin": true,
            "type": "pie"
           }
          ],
          "scatter": [
           {
            "fillpattern": {
             "fillmode": "overlay",
             "size": 10,
             "solidity": 0.2
            },
            "type": "scatter"
           }
          ],
          "scatter3d": [
           {
            "line": {
             "colorbar": {
              "outlinewidth": 0,
              "ticks": ""
             }
            },
            "marker": {
             "colorbar": {
              "outlinewidth": 0,
              "ticks": ""
             }
            },
            "type": "scatter3d"
           }
          ],
          "scattercarpet": [
           {
            "marker": {
             "colorbar": {
              "outlinewidth": 0,
              "ticks": ""
             }
            },
            "type": "scattercarpet"
           }
          ],
          "scattergeo": [
           {
            "marker": {
             "colorbar": {
              "outlinewidth": 0,
              "ticks": ""
             }
            },
            "type": "scattergeo"
           }
          ],
          "scattergl": [
           {
            "marker": {
             "colorbar": {
              "outlinewidth": 0,
              "ticks": ""
             }
            },
            "type": "scattergl"
           }
          ],
          "scattermapbox": [
           {
            "marker": {
             "colorbar": {
              "outlinewidth": 0,
              "ticks": ""
             }
            },
            "type": "scattermapbox"
           }
          ],
          "scatterpolar": [
           {
            "marker": {
             "colorbar": {
              "outlinewidth": 0,
              "ticks": ""
             }
            },
            "type": "scatterpolar"
           }
          ],
          "scatterpolargl": [
           {
            "marker": {
             "colorbar": {
              "outlinewidth": 0,
              "ticks": ""
             }
            },
            "type": "scatterpolargl"
           }
          ],
          "scatterternary": [
           {
            "marker": {
             "colorbar": {
              "outlinewidth": 0,
              "ticks": ""
             }
            },
            "type": "scatterternary"
           }
          ],
          "surface": [
           {
            "colorbar": {
             "outlinewidth": 0,
             "ticks": ""
            },
            "colorscale": [
             [
              0,
              "#0d0887"
             ],
             [
              0.1111111111111111,
              "#46039f"
             ],
             [
              0.2222222222222222,
              "#7201a8"
             ],
             [
              0.3333333333333333,
              "#9c179e"
             ],
             [
              0.4444444444444444,
              "#bd3786"
             ],
             [
              0.5555555555555556,
              "#d8576b"
             ],
             [
              0.6666666666666666,
              "#ed7953"
             ],
             [
              0.7777777777777778,
              "#fb9f3a"
             ],
             [
              0.8888888888888888,
              "#fdca26"
             ],
             [
              1,
              "#f0f921"
             ]
            ],
            "type": "surface"
           }
          ],
          "table": [
           {
            "cells": {
             "fill": {
              "color": "#EBF0F8"
             },
             "line": {
              "color": "white"
             }
            },
            "header": {
             "fill": {
              "color": "#C8D4E3"
             },
             "line": {
              "color": "white"
             }
            },
            "type": "table"
           }
          ]
         },
         "layout": {
          "annotationdefaults": {
           "arrowcolor": "#2a3f5f",
           "arrowhead": 0,
           "arrowwidth": 1
          },
          "autotypenumbers": "strict",
          "coloraxis": {
           "colorbar": {
            "outlinewidth": 0,
            "ticks": ""
           }
          },
          "colorscale": {
           "diverging": [
            [
             0,
             "#8e0152"
            ],
            [
             0.1,
             "#c51b7d"
            ],
            [
             0.2,
             "#de77ae"
            ],
            [
             0.3,
             "#f1b6da"
            ],
            [
             0.4,
             "#fde0ef"
            ],
            [
             0.5,
             "#f7f7f7"
            ],
            [
             0.6,
             "#e6f5d0"
            ],
            [
             0.7,
             "#b8e186"
            ],
            [
             0.8,
             "#7fbc41"
            ],
            [
             0.9,
             "#4d9221"
            ],
            [
             1,
             "#276419"
            ]
           ],
           "sequential": [
            [
             0,
             "#0d0887"
            ],
            [
             0.1111111111111111,
             "#46039f"
            ],
            [
             0.2222222222222222,
             "#7201a8"
            ],
            [
             0.3333333333333333,
             "#9c179e"
            ],
            [
             0.4444444444444444,
             "#bd3786"
            ],
            [
             0.5555555555555556,
             "#d8576b"
            ],
            [
             0.6666666666666666,
             "#ed7953"
            ],
            [
             0.7777777777777778,
             "#fb9f3a"
            ],
            [
             0.8888888888888888,
             "#fdca26"
            ],
            [
             1,
             "#f0f921"
            ]
           ],
           "sequentialminus": [
            [
             0,
             "#0d0887"
            ],
            [
             0.1111111111111111,
             "#46039f"
            ],
            [
             0.2222222222222222,
             "#7201a8"
            ],
            [
             0.3333333333333333,
             "#9c179e"
            ],
            [
             0.4444444444444444,
             "#bd3786"
            ],
            [
             0.5555555555555556,
             "#d8576b"
            ],
            [
             0.6666666666666666,
             "#ed7953"
            ],
            [
             0.7777777777777778,
             "#fb9f3a"
            ],
            [
             0.8888888888888888,
             "#fdca26"
            ],
            [
             1,
             "#f0f921"
            ]
           ]
          },
          "colorway": [
           "#636efa",
           "#EF553B",
           "#00cc96",
           "#ab63fa",
           "#FFA15A",
           "#19d3f3",
           "#FF6692",
           "#B6E880",
           "#FF97FF",
           "#FECB52"
          ],
          "font": {
           "color": "#2a3f5f"
          },
          "geo": {
           "bgcolor": "white",
           "lakecolor": "white",
           "landcolor": "#E5ECF6",
           "showlakes": true,
           "showland": true,
           "subunitcolor": "white"
          },
          "hoverlabel": {
           "align": "left"
          },
          "hovermode": "closest",
          "mapbox": {
           "style": "light"
          },
          "paper_bgcolor": "white",
          "plot_bgcolor": "#E5ECF6",
          "polar": {
           "angularaxis": {
            "gridcolor": "white",
            "linecolor": "white",
            "ticks": ""
           },
           "bgcolor": "#E5ECF6",
           "radialaxis": {
            "gridcolor": "white",
            "linecolor": "white",
            "ticks": ""
           }
          },
          "scene": {
           "xaxis": {
            "backgroundcolor": "#E5ECF6",
            "gridcolor": "white",
            "gridwidth": 2,
            "linecolor": "white",
            "showbackground": true,
            "ticks": "",
            "zerolinecolor": "white"
           },
           "yaxis": {
            "backgroundcolor": "#E5ECF6",
            "gridcolor": "white",
            "gridwidth": 2,
            "linecolor": "white",
            "showbackground": true,
            "ticks": "",
            "zerolinecolor": "white"
           },
           "zaxis": {
            "backgroundcolor": "#E5ECF6",
            "gridcolor": "white",
            "gridwidth": 2,
            "linecolor": "white",
            "showbackground": true,
            "ticks": "",
            "zerolinecolor": "white"
           }
          },
          "shapedefaults": {
           "line": {
            "color": "#2a3f5f"
           }
          },
          "ternary": {
           "aaxis": {
            "gridcolor": "white",
            "linecolor": "white",
            "ticks": ""
           },
           "baxis": {
            "gridcolor": "white",
            "linecolor": "white",
            "ticks": ""
           },
           "bgcolor": "#E5ECF6",
           "caxis": {
            "gridcolor": "white",
            "linecolor": "white",
            "ticks": ""
           }
          },
          "title": {
           "x": 0.05
          },
          "xaxis": {
           "automargin": true,
           "gridcolor": "white",
           "linecolor": "white",
           "ticks": "",
           "title": {
            "standoff": 15
           },
           "zerolinecolor": "white",
           "zerolinewidth": 2
          },
          "yaxis": {
           "automargin": true,
           "gridcolor": "white",
           "linecolor": "white",
           "ticks": "",
           "title": {
            "standoff": 15
           },
           "zerolinecolor": "white",
           "zerolinewidth": 2
          }
         }
        },
        "xaxis": {
         "anchor": "y",
         "categoryorder": "total ascending",
         "domain": [
          0,
          1
         ],
         "tickangle": 90,
         "title": {
          "text": ""
         }
        },
        "yaxis": {
         "anchor": "x",
         "domain": [
          0,
          1
         ],
         "title": {
          "text": "Difference in mAP with standard <br> CP dyes and phalloidin 400LS"
         }
        }
       }
      }
     },
     "metadata": {},
     "output_type": "display_data"
    }
   ],
   "source": [
    "fig = px.bar(diff_actin_df, x='MoA', y='std_vs_act', labels={'std_vs_act':'Difference in mAP with standard <br> CP dyes and phalloidin 400LS', 'MoA':''})\n",
    "fig.update_xaxes(tickangle=90, categoryorder='total ascending')\n",
    "fig.update_layout(height=800,font_family='Arial', font=dict(size=14, color='Black'))"
   ]
  },
  {
   "cell_type": "code",
   "execution_count": 104,
   "metadata": {},
   "outputs": [
    {
     "data": {
      "application/vnd.plotly.v1+json": {
       "config": {
        "plotlyServerURL": "https://plot.ly"
       },
       "data": [
        {
         "alignmentgroup": "True",
         "bingroup": "x",
         "hovertemplate": "std_vs_act=%{x}<br>count=%{y}<extra></extra>",
         "legendgroup": "",
         "marker": {
          "color": "#636efa",
          "pattern": {
           "shape": ""
          }
         },
         "name": "",
         "offsetgroup": "",
         "orientation": "v",
         "showlegend": false,
         "type": "histogram",
         "x": [
          -0.009375557227983125,
          -0.012431714902611881,
          -0.013486415245646817,
          -0.027148514073076876,
          0.11739267415828189,
          0.0196187623808131,
          0.05803571428571441,
          0.21736111111111112,
          0.4136313004734057,
          -0.01610035056453478,
          0.0025733069305565737,
          -0.04166666666666674,
          0.20576923076923082,
          0.11266026853285893,
          -0.010371838006210138,
          0.010745598093794157,
          -0.43457582682223994,
          0.033272642284484066,
          0.043482845043643414,
          0.0313932467660039,
          -0.10317460317460325,
          0.0622036384591054,
          -0.07291666666666674,
          0.21993336524586538,
          -0.015147035788475758,
          0.02519841269841272,
          -0.1267669702993646,
          -0.01994743487479691,
          0.025119519978607084,
          0.007096637945083046,
          0.002187866573637289,
          0.22470637933657925,
          0.007809768156326547,
          0.28148832329866813,
          -0.09027777777777779,
          0.028608940086540087,
          -0.6369909561982732,
          0.27880591630591633,
          -0.001679471740647226,
          -0.02182539682539686,
          0.22184290382819793,
          0.1509214165464166,
          0.20278288327097344,
          0.004924417264994027,
          0.0031651097440571485,
          0.10902777777777783,
          0.5603195300936405,
          -0.41242784992785,
          0.20208333333333328,
          0.4875,
          -0.08194444444444449,
          0.040042796322771856,
          0.003488094725872951,
          0.0646647487754724,
          0.5004995126705652,
          0.06601363413847391,
          0.2993933150183151,
          0.0022334174035470167,
          -0.08583559286697173,
          0,
          -0.3155246199734324,
          0.35731094815146536,
          -0.23098523174072816,
          -0.1457251082251083,
          0.27509915531467244,
          0.07435995290315006,
          0.010388754306767143,
          0.26774594021361264,
          -0.1549656730187552,
          0.003372270526627967,
          -0.1300389554169083,
          -0.07407168941771232,
          -0.09435966373241217,
          0,
          0,
          -0.08082836846192959,
          -0.4806053355685709,
          0.14332426357874561,
          -0.28822358886858285,
          -0.15561956273966815,
          0.0012665363506769445,
          -0.0641328878184956,
          0.2106521459514943,
          0,
          -0.09523809523809523,
          -0.1842103362830423,
          0.0707913842153709,
          0,
          -0.19218006552574735,
          0.4881353187874927
         ],
         "xaxis": "x",
         "yaxis": "y"
        }
       ],
       "layout": {
        "barmode": "relative",
        "legend": {
         "tracegroupgap": 0
        },
        "margin": {
         "t": 60
        },
        "template": {
         "data": {
          "bar": [
           {
            "error_x": {
             "color": "#2a3f5f"
            },
            "error_y": {
             "color": "#2a3f5f"
            },
            "marker": {
             "line": {
              "color": "#E5ECF6",
              "width": 0.5
             },
             "pattern": {
              "fillmode": "overlay",
              "size": 10,
              "solidity": 0.2
             }
            },
            "type": "bar"
           }
          ],
          "barpolar": [
           {
            "marker": {
             "line": {
              "color": "#E5ECF6",
              "width": 0.5
             },
             "pattern": {
              "fillmode": "overlay",
              "size": 10,
              "solidity": 0.2
             }
            },
            "type": "barpolar"
           }
          ],
          "carpet": [
           {
            "aaxis": {
             "endlinecolor": "#2a3f5f",
             "gridcolor": "white",
             "linecolor": "white",
             "minorgridcolor": "white",
             "startlinecolor": "#2a3f5f"
            },
            "baxis": {
             "endlinecolor": "#2a3f5f",
             "gridcolor": "white",
             "linecolor": "white",
             "minorgridcolor": "white",
             "startlinecolor": "#2a3f5f"
            },
            "type": "carpet"
           }
          ],
          "choropleth": [
           {
            "colorbar": {
             "outlinewidth": 0,
             "ticks": ""
            },
            "type": "choropleth"
           }
          ],
          "contour": [
           {
            "colorbar": {
             "outlinewidth": 0,
             "ticks": ""
            },
            "colorscale": [
             [
              0,
              "#0d0887"
             ],
             [
              0.1111111111111111,
              "#46039f"
             ],
             [
              0.2222222222222222,
              "#7201a8"
             ],
             [
              0.3333333333333333,
              "#9c179e"
             ],
             [
              0.4444444444444444,
              "#bd3786"
             ],
             [
              0.5555555555555556,
              "#d8576b"
             ],
             [
              0.6666666666666666,
              "#ed7953"
             ],
             [
              0.7777777777777778,
              "#fb9f3a"
             ],
             [
              0.8888888888888888,
              "#fdca26"
             ],
             [
              1,
              "#f0f921"
             ]
            ],
            "type": "contour"
           }
          ],
          "contourcarpet": [
           {
            "colorbar": {
             "outlinewidth": 0,
             "ticks": ""
            },
            "type": "contourcarpet"
           }
          ],
          "heatmap": [
           {
            "colorbar": {
             "outlinewidth": 0,
             "ticks": ""
            },
            "colorscale": [
             [
              0,
              "#0d0887"
             ],
             [
              0.1111111111111111,
              "#46039f"
             ],
             [
              0.2222222222222222,
              "#7201a8"
             ],
             [
              0.3333333333333333,
              "#9c179e"
             ],
             [
              0.4444444444444444,
              "#bd3786"
             ],
             [
              0.5555555555555556,
              "#d8576b"
             ],
             [
              0.6666666666666666,
              "#ed7953"
             ],
             [
              0.7777777777777778,
              "#fb9f3a"
             ],
             [
              0.8888888888888888,
              "#fdca26"
             ],
             [
              1,
              "#f0f921"
             ]
            ],
            "type": "heatmap"
           }
          ],
          "heatmapgl": [
           {
            "colorbar": {
             "outlinewidth": 0,
             "ticks": ""
            },
            "colorscale": [
             [
              0,
              "#0d0887"
             ],
             [
              0.1111111111111111,
              "#46039f"
             ],
             [
              0.2222222222222222,
              "#7201a8"
             ],
             [
              0.3333333333333333,
              "#9c179e"
             ],
             [
              0.4444444444444444,
              "#bd3786"
             ],
             [
              0.5555555555555556,
              "#d8576b"
             ],
             [
              0.6666666666666666,
              "#ed7953"
             ],
             [
              0.7777777777777778,
              "#fb9f3a"
             ],
             [
              0.8888888888888888,
              "#fdca26"
             ],
             [
              1,
              "#f0f921"
             ]
            ],
            "type": "heatmapgl"
           }
          ],
          "histogram": [
           {
            "marker": {
             "pattern": {
              "fillmode": "overlay",
              "size": 10,
              "solidity": 0.2
             }
            },
            "type": "histogram"
           }
          ],
          "histogram2d": [
           {
            "colorbar": {
             "outlinewidth": 0,
             "ticks": ""
            },
            "colorscale": [
             [
              0,
              "#0d0887"
             ],
             [
              0.1111111111111111,
              "#46039f"
             ],
             [
              0.2222222222222222,
              "#7201a8"
             ],
             [
              0.3333333333333333,
              "#9c179e"
             ],
             [
              0.4444444444444444,
              "#bd3786"
             ],
             [
              0.5555555555555556,
              "#d8576b"
             ],
             [
              0.6666666666666666,
              "#ed7953"
             ],
             [
              0.7777777777777778,
              "#fb9f3a"
             ],
             [
              0.8888888888888888,
              "#fdca26"
             ],
             [
              1,
              "#f0f921"
             ]
            ],
            "type": "histogram2d"
           }
          ],
          "histogram2dcontour": [
           {
            "colorbar": {
             "outlinewidth": 0,
             "ticks": ""
            },
            "colorscale": [
             [
              0,
              "#0d0887"
             ],
             [
              0.1111111111111111,
              "#46039f"
             ],
             [
              0.2222222222222222,
              "#7201a8"
             ],
             [
              0.3333333333333333,
              "#9c179e"
             ],
             [
              0.4444444444444444,
              "#bd3786"
             ],
             [
              0.5555555555555556,
              "#d8576b"
             ],
             [
              0.6666666666666666,
              "#ed7953"
             ],
             [
              0.7777777777777778,
              "#fb9f3a"
             ],
             [
              0.8888888888888888,
              "#fdca26"
             ],
             [
              1,
              "#f0f921"
             ]
            ],
            "type": "histogram2dcontour"
           }
          ],
          "mesh3d": [
           {
            "colorbar": {
             "outlinewidth": 0,
             "ticks": ""
            },
            "type": "mesh3d"
           }
          ],
          "parcoords": [
           {
            "line": {
             "colorbar": {
              "outlinewidth": 0,
              "ticks": ""
             }
            },
            "type": "parcoords"
           }
          ],
          "pie": [
           {
            "automargin": true,
            "type": "pie"
           }
          ],
          "scatter": [
           {
            "fillpattern": {
             "fillmode": "overlay",
             "size": 10,
             "solidity": 0.2
            },
            "type": "scatter"
           }
          ],
          "scatter3d": [
           {
            "line": {
             "colorbar": {
              "outlinewidth": 0,
              "ticks": ""
             }
            },
            "marker": {
             "colorbar": {
              "outlinewidth": 0,
              "ticks": ""
             }
            },
            "type": "scatter3d"
           }
          ],
          "scattercarpet": [
           {
            "marker": {
             "colorbar": {
              "outlinewidth": 0,
              "ticks": ""
             }
            },
            "type": "scattercarpet"
           }
          ],
          "scattergeo": [
           {
            "marker": {
             "colorbar": {
              "outlinewidth": 0,
              "ticks": ""
             }
            },
            "type": "scattergeo"
           }
          ],
          "scattergl": [
           {
            "marker": {
             "colorbar": {
              "outlinewidth": 0,
              "ticks": ""
             }
            },
            "type": "scattergl"
           }
          ],
          "scattermapbox": [
           {
            "marker": {
             "colorbar": {
              "outlinewidth": 0,
              "ticks": ""
             }
            },
            "type": "scattermapbox"
           }
          ],
          "scatterpolar": [
           {
            "marker": {
             "colorbar": {
              "outlinewidth": 0,
              "ticks": ""
             }
            },
            "type": "scatterpolar"
           }
          ],
          "scatterpolargl": [
           {
            "marker": {
             "colorbar": {
              "outlinewidth": 0,
              "ticks": ""
             }
            },
            "type": "scatterpolargl"
           }
          ],
          "scatterternary": [
           {
            "marker": {
             "colorbar": {
              "outlinewidth": 0,
              "ticks": ""
             }
            },
            "type": "scatterternary"
           }
          ],
          "surface": [
           {
            "colorbar": {
             "outlinewidth": 0,
             "ticks": ""
            },
            "colorscale": [
             [
              0,
              "#0d0887"
             ],
             [
              0.1111111111111111,
              "#46039f"
             ],
             [
              0.2222222222222222,
              "#7201a8"
             ],
             [
              0.3333333333333333,
              "#9c179e"
             ],
             [
              0.4444444444444444,
              "#bd3786"
             ],
             [
              0.5555555555555556,
              "#d8576b"
             ],
             [
              0.6666666666666666,
              "#ed7953"
             ],
             [
              0.7777777777777778,
              "#fb9f3a"
             ],
             [
              0.8888888888888888,
              "#fdca26"
             ],
             [
              1,
              "#f0f921"
             ]
            ],
            "type": "surface"
           }
          ],
          "table": [
           {
            "cells": {
             "fill": {
              "color": "#EBF0F8"
             },
             "line": {
              "color": "white"
             }
            },
            "header": {
             "fill": {
              "color": "#C8D4E3"
             },
             "line": {
              "color": "white"
             }
            },
            "type": "table"
           }
          ]
         },
         "layout": {
          "annotationdefaults": {
           "arrowcolor": "#2a3f5f",
           "arrowhead": 0,
           "arrowwidth": 1
          },
          "autotypenumbers": "strict",
          "coloraxis": {
           "colorbar": {
            "outlinewidth": 0,
            "ticks": ""
           }
          },
          "colorscale": {
           "diverging": [
            [
             0,
             "#8e0152"
            ],
            [
             0.1,
             "#c51b7d"
            ],
            [
             0.2,
             "#de77ae"
            ],
            [
             0.3,
             "#f1b6da"
            ],
            [
             0.4,
             "#fde0ef"
            ],
            [
             0.5,
             "#f7f7f7"
            ],
            [
             0.6,
             "#e6f5d0"
            ],
            [
             0.7,
             "#b8e186"
            ],
            [
             0.8,
             "#7fbc41"
            ],
            [
             0.9,
             "#4d9221"
            ],
            [
             1,
             "#276419"
            ]
           ],
           "sequential": [
            [
             0,
             "#0d0887"
            ],
            [
             0.1111111111111111,
             "#46039f"
            ],
            [
             0.2222222222222222,
             "#7201a8"
            ],
            [
             0.3333333333333333,
             "#9c179e"
            ],
            [
             0.4444444444444444,
             "#bd3786"
            ],
            [
             0.5555555555555556,
             "#d8576b"
            ],
            [
             0.6666666666666666,
             "#ed7953"
            ],
            [
             0.7777777777777778,
             "#fb9f3a"
            ],
            [
             0.8888888888888888,
             "#fdca26"
            ],
            [
             1,
             "#f0f921"
            ]
           ],
           "sequentialminus": [
            [
             0,
             "#0d0887"
            ],
            [
             0.1111111111111111,
             "#46039f"
            ],
            [
             0.2222222222222222,
             "#7201a8"
            ],
            [
             0.3333333333333333,
             "#9c179e"
            ],
            [
             0.4444444444444444,
             "#bd3786"
            ],
            [
             0.5555555555555556,
             "#d8576b"
            ],
            [
             0.6666666666666666,
             "#ed7953"
            ],
            [
             0.7777777777777778,
             "#fb9f3a"
            ],
            [
             0.8888888888888888,
             "#fdca26"
            ],
            [
             1,
             "#f0f921"
            ]
           ]
          },
          "colorway": [
           "#636efa",
           "#EF553B",
           "#00cc96",
           "#ab63fa",
           "#FFA15A",
           "#19d3f3",
           "#FF6692",
           "#B6E880",
           "#FF97FF",
           "#FECB52"
          ],
          "font": {
           "color": "#2a3f5f"
          },
          "geo": {
           "bgcolor": "white",
           "lakecolor": "white",
           "landcolor": "#E5ECF6",
           "showlakes": true,
           "showland": true,
           "subunitcolor": "white"
          },
          "hoverlabel": {
           "align": "left"
          },
          "hovermode": "closest",
          "mapbox": {
           "style": "light"
          },
          "paper_bgcolor": "white",
          "plot_bgcolor": "#E5ECF6",
          "polar": {
           "angularaxis": {
            "gridcolor": "white",
            "linecolor": "white",
            "ticks": ""
           },
           "bgcolor": "#E5ECF6",
           "radialaxis": {
            "gridcolor": "white",
            "linecolor": "white",
            "ticks": ""
           }
          },
          "scene": {
           "xaxis": {
            "backgroundcolor": "#E5ECF6",
            "gridcolor": "white",
            "gridwidth": 2,
            "linecolor": "white",
            "showbackground": true,
            "ticks": "",
            "zerolinecolor": "white"
           },
           "yaxis": {
            "backgroundcolor": "#E5ECF6",
            "gridcolor": "white",
            "gridwidth": 2,
            "linecolor": "white",
            "showbackground": true,
            "ticks": "",
            "zerolinecolor": "white"
           },
           "zaxis": {
            "backgroundcolor": "#E5ECF6",
            "gridcolor": "white",
            "gridwidth": 2,
            "linecolor": "white",
            "showbackground": true,
            "ticks": "",
            "zerolinecolor": "white"
           }
          },
          "shapedefaults": {
           "line": {
            "color": "#2a3f5f"
           }
          },
          "ternary": {
           "aaxis": {
            "gridcolor": "white",
            "linecolor": "white",
            "ticks": ""
           },
           "baxis": {
            "gridcolor": "white",
            "linecolor": "white",
            "ticks": ""
           },
           "bgcolor": "#E5ECF6",
           "caxis": {
            "gridcolor": "white",
            "linecolor": "white",
            "ticks": ""
           }
          },
          "title": {
           "x": 0.05
          },
          "xaxis": {
           "automargin": true,
           "gridcolor": "white",
           "linecolor": "white",
           "ticks": "",
           "title": {
            "standoff": 15
           },
           "zerolinecolor": "white",
           "zerolinewidth": 2
          },
          "yaxis": {
           "automargin": true,
           "gridcolor": "white",
           "linecolor": "white",
           "ticks": "",
           "title": {
            "standoff": 15
           },
           "zerolinecolor": "white",
           "zerolinewidth": 2
          }
         }
        },
        "xaxis": {
         "anchor": "y",
         "domain": [
          0,
          1
         ],
         "title": {
          "text": "std_vs_act"
         }
        },
        "yaxis": {
         "anchor": "x",
         "domain": [
          0,
          1
         ],
         "title": {
          "text": "count"
         }
        }
       }
      }
     },
     "metadata": {},
     "output_type": "display_data"
    }
   ],
   "source": [
    "px.histogram(diff_actin_df, x ='std_vs_act')"
   ]
  },
  {
   "cell_type": "markdown",
   "metadata": {},
   "source": [
    "#### Absolute values"
   ]
  },
  {
   "cell_type": "code",
   "execution_count": 105,
   "metadata": {},
   "outputs": [],
   "source": [
    "diff_actin_df_abs = diff_actin_df.iloc[:,0:4]"
   ]
  },
  {
   "cell_type": "code",
   "execution_count": 108,
   "metadata": {},
   "outputs": [],
   "source": [
    "diff_actin_df_abs['abs_values'] = abs(combined_moa_df['average_precision_std'] - combined_moa_df['average_precision_act'])"
   ]
  },
  {
   "cell_type": "code",
   "execution_count": 111,
   "metadata": {},
   "outputs": [
    {
     "data": {
      "text/html": [
       "<div>\n",
       "<style scoped>\n",
       "    .dataframe tbody tr th:only-of-type {\n",
       "        vertical-align: middle;\n",
       "    }\n",
       "\n",
       "    .dataframe tbody tr th {\n",
       "        vertical-align: top;\n",
       "    }\n",
       "\n",
       "    .dataframe thead th {\n",
       "        text-align: right;\n",
       "    }\n",
       "</style>\n",
       "<table border=\"1\" class=\"dataframe\">\n",
       "  <thead>\n",
       "    <tr style=\"text-align: right;\">\n",
       "      <th></th>\n",
       "      <th>average_precision_std</th>\n",
       "      <th>average_precision_act</th>\n",
       "      <th>BRD ID</th>\n",
       "      <th>MoA</th>\n",
       "      <th>abs_values</th>\n",
       "    </tr>\n",
       "  </thead>\n",
       "  <tbody>\n",
       "    <tr>\n",
       "      <th>36</th>\n",
       "      <td>0.342176</td>\n",
       "      <td>0.979167</td>\n",
       "      <td>K39974922</td>\n",
       "      <td>FGFR inhibitor</td>\n",
       "      <td>0.636991</td>\n",
       "    </tr>\n",
       "    <tr>\n",
       "      <th>46</th>\n",
       "      <td>1.000000</td>\n",
       "      <td>0.439680</td>\n",
       "      <td>K56932272</td>\n",
       "      <td>inosine monophosphate dehydrogenase inhibitor</td>\n",
       "      <td>0.560320</td>\n",
       "    </tr>\n",
       "    <tr>\n",
       "      <th>54</th>\n",
       "      <td>0.885417</td>\n",
       "      <td>0.384917</td>\n",
       "      <td>K66401437</td>\n",
       "      <td>CDK inhibitor</td>\n",
       "      <td>0.500500</td>\n",
       "    </tr>\n",
       "    <tr>\n",
       "      <th>89</th>\n",
       "      <td>0.938889</td>\n",
       "      <td>0.450754</td>\n",
       "      <td>M87138257</td>\n",
       "      <td>hypoxia inducible factor inhibitor</td>\n",
       "      <td>0.488135</td>\n",
       "    </tr>\n",
       "    <tr>\n",
       "      <th>49</th>\n",
       "      <td>0.916667</td>\n",
       "      <td>0.429167</td>\n",
       "      <td>K61397605</td>\n",
       "      <td>HDAC inhibitor</td>\n",
       "      <td>0.487500</td>\n",
       "    </tr>\n",
       "    <tr>\n",
       "      <th>...</th>\n",
       "      <td>...</td>\n",
       "      <td>...</td>\n",
       "      <td>...</td>\n",
       "      <td>...</td>\n",
       "      <td>...</td>\n",
       "    </tr>\n",
       "    <tr>\n",
       "      <th>74</th>\n",
       "      <td>1.000000</td>\n",
       "      <td>1.000000</td>\n",
       "      <td>K85606544</td>\n",
       "      <td>EGFR inhibitor</td>\n",
       "      <td>0.000000</td>\n",
       "    </tr>\n",
       "    <tr>\n",
       "      <th>73</th>\n",
       "      <td>1.000000</td>\n",
       "      <td>1.000000</td>\n",
       "      <td>K84937637</td>\n",
       "      <td>mTOR inhibitor</td>\n",
       "      <td>0.000000</td>\n",
       "    </tr>\n",
       "    <tr>\n",
       "      <th>59</th>\n",
       "      <td>1.000000</td>\n",
       "      <td>1.000000</td>\n",
       "      <td>K69023402</td>\n",
       "      <td>ER stressor (SERCA inhibitor)</td>\n",
       "      <td>0.000000</td>\n",
       "    </tr>\n",
       "    <tr>\n",
       "      <th>83</th>\n",
       "      <td>1.000000</td>\n",
       "      <td>1.000000</td>\n",
       "      <td>K97452254</td>\n",
       "      <td>CDK inhibitor</td>\n",
       "      <td>0.000000</td>\n",
       "    </tr>\n",
       "    <tr>\n",
       "      <th>87</th>\n",
       "      <td>1.000000</td>\n",
       "      <td>1.000000</td>\n",
       "      <td>K99113996</td>\n",
       "      <td>mTOR inhibitor</td>\n",
       "      <td>0.000000</td>\n",
       "    </tr>\n",
       "  </tbody>\n",
       "</table>\n",
       "<p>90 rows × 5 columns</p>\n",
       "</div>"
      ],
      "text/plain": [
       "    average_precision_std  average_precision_act     BRD ID  \\\n",
       "36               0.342176               0.979167  K39974922   \n",
       "46               1.000000               0.439680  K56932272   \n",
       "54               0.885417               0.384917  K66401437   \n",
       "89               0.938889               0.450754  M87138257   \n",
       "49               0.916667               0.429167  K61397605   \n",
       "..                    ...                    ...        ...   \n",
       "74               1.000000               1.000000  K85606544   \n",
       "73               1.000000               1.000000  K84937637   \n",
       "59               1.000000               1.000000  K69023402   \n",
       "83               1.000000               1.000000  K97452254   \n",
       "87               1.000000               1.000000  K99113996   \n",
       "\n",
       "                                              MoA  abs_values  \n",
       "36                                 FGFR inhibitor    0.636991  \n",
       "46  inosine monophosphate dehydrogenase inhibitor    0.560320  \n",
       "54                                  CDK inhibitor    0.500500  \n",
       "89             hypoxia inducible factor inhibitor    0.488135  \n",
       "49                                 HDAC inhibitor    0.487500  \n",
       "..                                            ...         ...  \n",
       "74                                 EGFR inhibitor    0.000000  \n",
       "73                                 mTOR inhibitor    0.000000  \n",
       "59                  ER stressor (SERCA inhibitor)    0.000000  \n",
       "83                                  CDK inhibitor    0.000000  \n",
       "87                                 mTOR inhibitor    0.000000  \n",
       "\n",
       "[90 rows x 5 columns]"
      ]
     },
     "execution_count": 111,
     "metadata": {},
     "output_type": "execute_result"
    }
   ],
   "source": [
    "diff_actin_df_abs.sort_values(by=['abs_values'], ascending=False)"
   ]
  },
  {
   "cell_type": "code",
   "execution_count": 122,
   "metadata": {},
   "outputs": [
    {
     "data": {
      "application/vnd.plotly.v1+json": {
       "config": {
        "plotlyServerURL": "https://plot.ly"
       },
       "data": [
        {
         "alignmentgroup": "True",
         "hovertemplate": "MoA=%{x}<br>abs_values=%{y}<extra></extra>",
         "legendgroup": "",
         "marker": {
          "color": "#636efa",
          "pattern": {
           "shape": ""
          }
         },
         "name": "",
         "offsetgroup": "",
         "orientation": "v",
         "showlegend": false,
         "textposition": "auto",
         "type": "bar",
         "x": [
          "tumor necrosis factor production inhibitor",
          "antihistamine",
          "acetylcholine receptor antagonist",
          "pyruvate dehydrogenase kinase inhibitor",
          "protein tyrosine kinase inhibitor",
          "antihistamine",
          "hepatocyte growth factor receptor inhibitor",
          "CHK inhibitor",
          "glycogen synthase kinase inhibitor",
          "histone lysine methyltransferase inhibitor",
          "tumor necrosis factor production inhibitor",
          "inosine monophosphate dehydrogenase inhibitor",
          "CDC inhibitor",
          "PARP inhibitor",
          "bromodomain inhibitor",
          "ubiquitin specific protease inhibitor",
          "glycogen synthase kinase inhibitor",
          "JAK inhibitor",
          "Apoptosis inducer (ATP-competitive kinase inhibitor)",
          "hepatocyte growth factor receptor inhibitor",
          "bromodomain inhibitor",
          "MEK inhibitor",
          "Aurora kinase inhibitor",
          "LXR agonist",
          "phospholipase inhibitor",
          "IGF-1 inhibitor",
          "tricyclic antidepressant",
          "histone lysine demethylase inhibitor",
          "phosphodiesterase inhibitor",
          "beta-catenin inhibitor",
          "JNK inhibitor",
          "LXR agonist",
          "DNA inhibitor",
          "kinesin inhibitor",
          "phosphoinositide dependent kinase inhibitor",
          "RAF inhibitor",
          "FGFR inhibitor",
          "Bcr-Abl kinase inhibitor",
          "AMPK inhibitor",
          "pyruvate dehydrogenase kinase inhibitor",
          "phospholipase inhibitor",
          "Aurora kinase inhibitor",
          "JAK inhibitor",
          "tricyclic antidepressant",
          "PARP inhibitor",
          "BCL inhibitor",
          "inosine monophosphate dehydrogenase inhibitor",
          "MEK inhibitor",
          "histone lysine methyltransferase inhibitor",
          "HDAC inhibitor",
          "HDAC inhibitor",
          "BCL inhibitor",
          "phosphodiesterase inhibitor",
          "kinesin inhibitor",
          "CDK inhibitor",
          "CDC inhibitor",
          "RAF inhibitor",
          "protein tyrosine kinase inhibitor",
          "MAP kinase inhibitor",
          "ER stressor (SERCA inhibitor)",
          "protein arginine N-methyltransferase inhibitor",
          "Apoptosis inducer (transcription inhibitor)",
          "phosphoinositide dependent kinase inhibitor",
          "FGFR inhibitor",
          "DNA inhibitor",
          "smoothened receptor agonist",
          "JNK inhibitor",
          "CHK inhibitor",
          "EGFR inhibitor",
          "androgen receptor modulator",
          "HMGCR inhibitor",
          "acetylcholine receptor antagonist",
          "p38 MAPK inhibitor",
          "mTOR inhibitor",
          "EGFR inhibitor",
          "HMGCR inhibitor",
          "IGF-1 inhibitor",
          "protein arginine N-methyltransferase inhibitor",
          "Bcr-Abl kinase inhibitor",
          "MAP kinase inhibitor",
          "p38 MAPK inhibitor",
          "ubiquitin specific protease inhibitor",
          "beta-catenin inhibitor",
          "CDK inhibitor",
          "histone lysine demethylase inhibitor",
          "hypoxia inducible factor inhibitor",
          "androgen receptor modulator",
          "mTOR inhibitor",
          "smoothened receptor agonist",
          "hypoxia inducible factor inhibitor"
         ],
         "xaxis": "x",
         "y": [
          0.009375557227983125,
          0.012431714902611881,
          0.013486415245646817,
          0.027148514073076876,
          0.11739267415828189,
          0.0196187623808131,
          0.05803571428571441,
          0.21736111111111112,
          0.4136313004734057,
          0.01610035056453478,
          0.0025733069305565737,
          0.04166666666666674,
          0.20576923076923082,
          0.11266026853285893,
          0.010371838006210138,
          0.010745598093794157,
          0.43457582682223994,
          0.033272642284484066,
          0.043482845043643414,
          0.0313932467660039,
          0.10317460317460325,
          0.0622036384591054,
          0.07291666666666674,
          0.21993336524586538,
          0.015147035788475758,
          0.02519841269841272,
          0.1267669702993646,
          0.01994743487479691,
          0.025119519978607084,
          0.007096637945083046,
          0.002187866573637289,
          0.22470637933657925,
          0.007809768156326547,
          0.28148832329866813,
          0.09027777777777779,
          0.028608940086540087,
          0.6369909561982732,
          0.27880591630591633,
          0.001679471740647226,
          0.02182539682539686,
          0.22184290382819793,
          0.1509214165464166,
          0.20278288327097344,
          0.004924417264994027,
          0.0031651097440571485,
          0.10902777777777783,
          0.5603195300936405,
          0.41242784992785,
          0.20208333333333328,
          0.4875,
          0.08194444444444449,
          0.040042796322771856,
          0.003488094725872951,
          0.0646647487754724,
          0.5004995126705652,
          0.06601363413847391,
          0.2993933150183151,
          0.0022334174035470167,
          0.08583559286697173,
          0,
          0.3155246199734324,
          0.35731094815146536,
          0.23098523174072816,
          0.1457251082251083,
          0.27509915531467244,
          0.07435995290315006,
          0.010388754306767143,
          0.26774594021361264,
          0.1549656730187552,
          0.003372270526627967,
          0.1300389554169083,
          0.07407168941771232,
          0.09435966373241217,
          0,
          0,
          0.08082836846192959,
          0.4806053355685709,
          0.14332426357874561,
          0.28822358886858285,
          0.15561956273966815,
          0.0012665363506769445,
          0.0641328878184956,
          0.2106521459514943,
          0,
          0.09523809523809523,
          0.1842103362830423,
          0.0707913842153709,
          0,
          0.19218006552574735,
          0.4881353187874927
         ],
         "yaxis": "y"
        }
       ],
       "layout": {
        "barmode": "relative",
        "font": {
         "size": 18
        },
        "height": 1000,
        "legend": {
         "tracegroupgap": 0
        },
        "margin": {
         "t": 60
        },
        "template": {
         "data": {
          "bar": [
           {
            "error_x": {
             "color": "#2a3f5f"
            },
            "error_y": {
             "color": "#2a3f5f"
            },
            "marker": {
             "line": {
              "color": "#E5ECF6",
              "width": 0.5
             },
             "pattern": {
              "fillmode": "overlay",
              "size": 10,
              "solidity": 0.2
             }
            },
            "type": "bar"
           }
          ],
          "barpolar": [
           {
            "marker": {
             "line": {
              "color": "#E5ECF6",
              "width": 0.5
             },
             "pattern": {
              "fillmode": "overlay",
              "size": 10,
              "solidity": 0.2
             }
            },
            "type": "barpolar"
           }
          ],
          "carpet": [
           {
            "aaxis": {
             "endlinecolor": "#2a3f5f",
             "gridcolor": "white",
             "linecolor": "white",
             "minorgridcolor": "white",
             "startlinecolor": "#2a3f5f"
            },
            "baxis": {
             "endlinecolor": "#2a3f5f",
             "gridcolor": "white",
             "linecolor": "white",
             "minorgridcolor": "white",
             "startlinecolor": "#2a3f5f"
            },
            "type": "carpet"
           }
          ],
          "choropleth": [
           {
            "colorbar": {
             "outlinewidth": 0,
             "ticks": ""
            },
            "type": "choropleth"
           }
          ],
          "contour": [
           {
            "colorbar": {
             "outlinewidth": 0,
             "ticks": ""
            },
            "colorscale": [
             [
              0,
              "#0d0887"
             ],
             [
              0.1111111111111111,
              "#46039f"
             ],
             [
              0.2222222222222222,
              "#7201a8"
             ],
             [
              0.3333333333333333,
              "#9c179e"
             ],
             [
              0.4444444444444444,
              "#bd3786"
             ],
             [
              0.5555555555555556,
              "#d8576b"
             ],
             [
              0.6666666666666666,
              "#ed7953"
             ],
             [
              0.7777777777777778,
              "#fb9f3a"
             ],
             [
              0.8888888888888888,
              "#fdca26"
             ],
             [
              1,
              "#f0f921"
             ]
            ],
            "type": "contour"
           }
          ],
          "contourcarpet": [
           {
            "colorbar": {
             "outlinewidth": 0,
             "ticks": ""
            },
            "type": "contourcarpet"
           }
          ],
          "heatmap": [
           {
            "colorbar": {
             "outlinewidth": 0,
             "ticks": ""
            },
            "colorscale": [
             [
              0,
              "#0d0887"
             ],
             [
              0.1111111111111111,
              "#46039f"
             ],
             [
              0.2222222222222222,
              "#7201a8"
             ],
             [
              0.3333333333333333,
              "#9c179e"
             ],
             [
              0.4444444444444444,
              "#bd3786"
             ],
             [
              0.5555555555555556,
              "#d8576b"
             ],
             [
              0.6666666666666666,
              "#ed7953"
             ],
             [
              0.7777777777777778,
              "#fb9f3a"
             ],
             [
              0.8888888888888888,
              "#fdca26"
             ],
             [
              1,
              "#f0f921"
             ]
            ],
            "type": "heatmap"
           }
          ],
          "heatmapgl": [
           {
            "colorbar": {
             "outlinewidth": 0,
             "ticks": ""
            },
            "colorscale": [
             [
              0,
              "#0d0887"
             ],
             [
              0.1111111111111111,
              "#46039f"
             ],
             [
              0.2222222222222222,
              "#7201a8"
             ],
             [
              0.3333333333333333,
              "#9c179e"
             ],
             [
              0.4444444444444444,
              "#bd3786"
             ],
             [
              0.5555555555555556,
              "#d8576b"
             ],
             [
              0.6666666666666666,
              "#ed7953"
             ],
             [
              0.7777777777777778,
              "#fb9f3a"
             ],
             [
              0.8888888888888888,
              "#fdca26"
             ],
             [
              1,
              "#f0f921"
             ]
            ],
            "type": "heatmapgl"
           }
          ],
          "histogram": [
           {
            "marker": {
             "pattern": {
              "fillmode": "overlay",
              "size": 10,
              "solidity": 0.2
             }
            },
            "type": "histogram"
           }
          ],
          "histogram2d": [
           {
            "colorbar": {
             "outlinewidth": 0,
             "ticks": ""
            },
            "colorscale": [
             [
              0,
              "#0d0887"
             ],
             [
              0.1111111111111111,
              "#46039f"
             ],
             [
              0.2222222222222222,
              "#7201a8"
             ],
             [
              0.3333333333333333,
              "#9c179e"
             ],
             [
              0.4444444444444444,
              "#bd3786"
             ],
             [
              0.5555555555555556,
              "#d8576b"
             ],
             [
              0.6666666666666666,
              "#ed7953"
             ],
             [
              0.7777777777777778,
              "#fb9f3a"
             ],
             [
              0.8888888888888888,
              "#fdca26"
             ],
             [
              1,
              "#f0f921"
             ]
            ],
            "type": "histogram2d"
           }
          ],
          "histogram2dcontour": [
           {
            "colorbar": {
             "outlinewidth": 0,
             "ticks": ""
            },
            "colorscale": [
             [
              0,
              "#0d0887"
             ],
             [
              0.1111111111111111,
              "#46039f"
             ],
             [
              0.2222222222222222,
              "#7201a8"
             ],
             [
              0.3333333333333333,
              "#9c179e"
             ],
             [
              0.4444444444444444,
              "#bd3786"
             ],
             [
              0.5555555555555556,
              "#d8576b"
             ],
             [
              0.6666666666666666,
              "#ed7953"
             ],
             [
              0.7777777777777778,
              "#fb9f3a"
             ],
             [
              0.8888888888888888,
              "#fdca26"
             ],
             [
              1,
              "#f0f921"
             ]
            ],
            "type": "histogram2dcontour"
           }
          ],
          "mesh3d": [
           {
            "colorbar": {
             "outlinewidth": 0,
             "ticks": ""
            },
            "type": "mesh3d"
           }
          ],
          "parcoords": [
           {
            "line": {
             "colorbar": {
              "outlinewidth": 0,
              "ticks": ""
             }
            },
            "type": "parcoords"
           }
          ],
          "pie": [
           {
            "automargin": true,
            "type": "pie"
           }
          ],
          "scatter": [
           {
            "fillpattern": {
             "fillmode": "overlay",
             "size": 10,
             "solidity": 0.2
            },
            "type": "scatter"
           }
          ],
          "scatter3d": [
           {
            "line": {
             "colorbar": {
              "outlinewidth": 0,
              "ticks": ""
             }
            },
            "marker": {
             "colorbar": {
              "outlinewidth": 0,
              "ticks": ""
             }
            },
            "type": "scatter3d"
           }
          ],
          "scattercarpet": [
           {
            "marker": {
             "colorbar": {
              "outlinewidth": 0,
              "ticks": ""
             }
            },
            "type": "scattercarpet"
           }
          ],
          "scattergeo": [
           {
            "marker": {
             "colorbar": {
              "outlinewidth": 0,
              "ticks": ""
             }
            },
            "type": "scattergeo"
           }
          ],
          "scattergl": [
           {
            "marker": {
             "colorbar": {
              "outlinewidth": 0,
              "ticks": ""
             }
            },
            "type": "scattergl"
           }
          ],
          "scattermapbox": [
           {
            "marker": {
             "colorbar": {
              "outlinewidth": 0,
              "ticks": ""
             }
            },
            "type": "scattermapbox"
           }
          ],
          "scatterpolar": [
           {
            "marker": {
             "colorbar": {
              "outlinewidth": 0,
              "ticks": ""
             }
            },
            "type": "scatterpolar"
           }
          ],
          "scatterpolargl": [
           {
            "marker": {
             "colorbar": {
              "outlinewidth": 0,
              "ticks": ""
             }
            },
            "type": "scatterpolargl"
           }
          ],
          "scatterternary": [
           {
            "marker": {
             "colorbar": {
              "outlinewidth": 0,
              "ticks": ""
             }
            },
            "type": "scatterternary"
           }
          ],
          "surface": [
           {
            "colorbar": {
             "outlinewidth": 0,
             "ticks": ""
            },
            "colorscale": [
             [
              0,
              "#0d0887"
             ],
             [
              0.1111111111111111,
              "#46039f"
             ],
             [
              0.2222222222222222,
              "#7201a8"
             ],
             [
              0.3333333333333333,
              "#9c179e"
             ],
             [
              0.4444444444444444,
              "#bd3786"
             ],
             [
              0.5555555555555556,
              "#d8576b"
             ],
             [
              0.6666666666666666,
              "#ed7953"
             ],
             [
              0.7777777777777778,
              "#fb9f3a"
             ],
             [
              0.8888888888888888,
              "#fdca26"
             ],
             [
              1,
              "#f0f921"
             ]
            ],
            "type": "surface"
           }
          ],
          "table": [
           {
            "cells": {
             "fill": {
              "color": "#EBF0F8"
             },
             "line": {
              "color": "white"
             }
            },
            "header": {
             "fill": {
              "color": "#C8D4E3"
             },
             "line": {
              "color": "white"
             }
            },
            "type": "table"
           }
          ]
         },
         "layout": {
          "annotationdefaults": {
           "arrowcolor": "#2a3f5f",
           "arrowhead": 0,
           "arrowwidth": 1
          },
          "autotypenumbers": "strict",
          "coloraxis": {
           "colorbar": {
            "outlinewidth": 0,
            "ticks": ""
           }
          },
          "colorscale": {
           "diverging": [
            [
             0,
             "#8e0152"
            ],
            [
             0.1,
             "#c51b7d"
            ],
            [
             0.2,
             "#de77ae"
            ],
            [
             0.3,
             "#f1b6da"
            ],
            [
             0.4,
             "#fde0ef"
            ],
            [
             0.5,
             "#f7f7f7"
            ],
            [
             0.6,
             "#e6f5d0"
            ],
            [
             0.7,
             "#b8e186"
            ],
            [
             0.8,
             "#7fbc41"
            ],
            [
             0.9,
             "#4d9221"
            ],
            [
             1,
             "#276419"
            ]
           ],
           "sequential": [
            [
             0,
             "#0d0887"
            ],
            [
             0.1111111111111111,
             "#46039f"
            ],
            [
             0.2222222222222222,
             "#7201a8"
            ],
            [
             0.3333333333333333,
             "#9c179e"
            ],
            [
             0.4444444444444444,
             "#bd3786"
            ],
            [
             0.5555555555555556,
             "#d8576b"
            ],
            [
             0.6666666666666666,
             "#ed7953"
            ],
            [
             0.7777777777777778,
             "#fb9f3a"
            ],
            [
             0.8888888888888888,
             "#fdca26"
            ],
            [
             1,
             "#f0f921"
            ]
           ],
           "sequentialminus": [
            [
             0,
             "#0d0887"
            ],
            [
             0.1111111111111111,
             "#46039f"
            ],
            [
             0.2222222222222222,
             "#7201a8"
            ],
            [
             0.3333333333333333,
             "#9c179e"
            ],
            [
             0.4444444444444444,
             "#bd3786"
            ],
            [
             0.5555555555555556,
             "#d8576b"
            ],
            [
             0.6666666666666666,
             "#ed7953"
            ],
            [
             0.7777777777777778,
             "#fb9f3a"
            ],
            [
             0.8888888888888888,
             "#fdca26"
            ],
            [
             1,
             "#f0f921"
            ]
           ]
          },
          "colorway": [
           "#636efa",
           "#EF553B",
           "#00cc96",
           "#ab63fa",
           "#FFA15A",
           "#19d3f3",
           "#FF6692",
           "#B6E880",
           "#FF97FF",
           "#FECB52"
          ],
          "font": {
           "color": "#2a3f5f"
          },
          "geo": {
           "bgcolor": "white",
           "lakecolor": "white",
           "landcolor": "#E5ECF6",
           "showlakes": true,
           "showland": true,
           "subunitcolor": "white"
          },
          "hoverlabel": {
           "align": "left"
          },
          "hovermode": "closest",
          "mapbox": {
           "style": "light"
          },
          "paper_bgcolor": "white",
          "plot_bgcolor": "#E5ECF6",
          "polar": {
           "angularaxis": {
            "gridcolor": "white",
            "linecolor": "white",
            "ticks": ""
           },
           "bgcolor": "#E5ECF6",
           "radialaxis": {
            "gridcolor": "white",
            "linecolor": "white",
            "ticks": ""
           }
          },
          "scene": {
           "xaxis": {
            "backgroundcolor": "#E5ECF6",
            "gridcolor": "white",
            "gridwidth": 2,
            "linecolor": "white",
            "showbackground": true,
            "ticks": "",
            "zerolinecolor": "white"
           },
           "yaxis": {
            "backgroundcolor": "#E5ECF6",
            "gridcolor": "white",
            "gridwidth": 2,
            "linecolor": "white",
            "showbackground": true,
            "ticks": "",
            "zerolinecolor": "white"
           },
           "zaxis": {
            "backgroundcolor": "#E5ECF6",
            "gridcolor": "white",
            "gridwidth": 2,
            "linecolor": "white",
            "showbackground": true,
            "ticks": "",
            "zerolinecolor": "white"
           }
          },
          "shapedefaults": {
           "line": {
            "color": "#2a3f5f"
           }
          },
          "ternary": {
           "aaxis": {
            "gridcolor": "white",
            "linecolor": "white",
            "ticks": ""
           },
           "baxis": {
            "gridcolor": "white",
            "linecolor": "white",
            "ticks": ""
           },
           "bgcolor": "#E5ECF6",
           "caxis": {
            "gridcolor": "white",
            "linecolor": "white",
            "ticks": ""
           }
          },
          "title": {
           "x": 0.05
          },
          "xaxis": {
           "automargin": true,
           "gridcolor": "white",
           "linecolor": "white",
           "ticks": "",
           "title": {
            "standoff": 15
           },
           "zerolinecolor": "white",
           "zerolinewidth": 2
          },
          "yaxis": {
           "automargin": true,
           "gridcolor": "white",
           "linecolor": "white",
           "ticks": "",
           "title": {
            "standoff": 15
           },
           "zerolinecolor": "white",
           "zerolinewidth": 2
          }
         }
        },
        "xaxis": {
         "anchor": "y",
         "categoryorder": "total ascending",
         "domain": [
          0,
          1
         ],
         "tickangle": 90,
         "title": {
          "text": "MoA"
         }
        },
        "yaxis": {
         "anchor": "x",
         "domain": [
          0,
          1
         ],
         "title": {
          "text": "abs_values"
         }
        }
       }
      }
     },
     "metadata": {},
     "output_type": "display_data"
    }
   ],
   "source": [
    "fig = px.bar(diff_actin_df_abs, x=diff_actin_df_abs['MoA'], y=diff_actin_df_abs['abs_values'], orientation='v')\n",
    "fig.update_xaxes(categoryorder='total ascending', tickangle=90)\n",
    "fig.update_layout(height=1000, font=dict(size=18))"
   ]
  },
  {
   "cell_type": "code",
   "execution_count": 164,
   "metadata": {},
   "outputs": [
    {
     "data": {
      "application/vnd.plotly.v1+json": {
       "config": {
        "plotlyServerURL": "https://plot.ly"
       },
       "data": [
        {
         "name": "Standard Cellpainting dyes",
         "type": "box",
         "x": [
          "tumor necrosis factor production inhibitor",
          "antihistamine",
          "acetylcholine receptor antagonist",
          "pyruvate dehydrogenase kinase inhibitor",
          "protein tyrosine kinase inhibitor",
          "antihistamine",
          "hepatocyte growth factor receptor inhibitor",
          "CHK inhibitor",
          "glycogen synthase kinase inhibitor",
          "histone lysine methyltransferase inhibitor",
          "tumor necrosis factor production inhibitor",
          "inosine monophosphate dehydrogenase inhibitor",
          "CDC inhibitor",
          "PARP inhibitor",
          "bromodomain inhibitor",
          "ubiquitin specific protease inhibitor",
          "glycogen synthase kinase inhibitor",
          "JAK inhibitor",
          "Apoptosis inducer (ATP-competitive kinase inhibitor)",
          "hepatocyte growth factor receptor inhibitor",
          "bromodomain inhibitor",
          "MEK inhibitor",
          "Aurora kinase inhibitor",
          "LXR agonist",
          "phospholipase inhibitor",
          "IGF-1 inhibitor",
          "tricyclic antidepressant",
          "histone lysine demethylase inhibitor",
          "phosphodiesterase inhibitor",
          "beta-catenin inhibitor",
          "JNK inhibitor",
          "LXR agonist",
          "DNA inhibitor",
          "kinesin inhibitor",
          "phosphoinositide dependent kinase inhibitor",
          "RAF inhibitor",
          "FGFR inhibitor",
          "Bcr-Abl kinase inhibitor",
          "AMPK inhibitor",
          "pyruvate dehydrogenase kinase inhibitor",
          "phospholipase inhibitor",
          "Aurora kinase inhibitor",
          "JAK inhibitor",
          "tricyclic antidepressant",
          "PARP inhibitor",
          "BCL inhibitor",
          "inosine monophosphate dehydrogenase inhibitor",
          "MEK inhibitor",
          "histone lysine methyltransferase inhibitor",
          "HDAC inhibitor",
          "HDAC inhibitor",
          "BCL inhibitor",
          "phosphodiesterase inhibitor",
          "kinesin inhibitor",
          "CDK inhibitor",
          "CDC inhibitor",
          "RAF inhibitor",
          "protein tyrosine kinase inhibitor",
          "MAP kinase inhibitor",
          "ER stressor (SERCA inhibitor)",
          "protein arginine N-methyltransferase inhibitor",
          "Apoptosis inducer (transcription inhibitor)",
          "phosphoinositide dependent kinase inhibitor",
          "FGFR inhibitor",
          "DNA inhibitor",
          "smoothened receptor agonist",
          "JNK inhibitor",
          "CHK inhibitor",
          "EGFR inhibitor",
          "androgen receptor modulator",
          "HMGCR inhibitor",
          "acetylcholine receptor antagonist",
          "p38 MAPK inhibitor",
          "mTOR inhibitor",
          "EGFR inhibitor",
          "HMGCR inhibitor",
          "IGF-1 inhibitor",
          "protein arginine N-methyltransferase inhibitor",
          "Bcr-Abl kinase inhibitor",
          "MAP kinase inhibitor",
          "p38 MAPK inhibitor",
          "ubiquitin specific protease inhibitor",
          "beta-catenin inhibitor",
          "CDK inhibitor",
          "histone lysine demethylase inhibitor",
          "hypoxia inducible factor inhibitor",
          "androgen receptor modulator",
          "mTOR inhibitor",
          "smoothened receptor agonist",
          "hypoxia inducible factor inhibitor"
         ],
         "y": [
          0.10955503314536727,
          0.011390147377227103,
          0.04617461963750725,
          0.10679002598213568,
          0.18928995877912755,
          0.03797591735678792,
          0.9166666666666667,
          0.9583333333333333,
          1,
          0.010157074614598097,
          0.02726300292853341,
          0.9583333333333333,
          1,
          0.18770334842977676,
          0.1774238369398024,
          0.02248489593927961,
          0.5654241731777601,
          0.06568600905829389,
          0.6935622101230086,
          0.05425296150197329,
          0.8968253968253967,
          0.2206058574937985,
          0.9270833333333333,
          0.8430555555555556,
          0.008887586417584208,
          0.6841269841269841,
          0.014398662534440752,
          0.0303275038750778,
          0.06366725712453858,
          0.026106453169796876,
          0.012972513852344934,
          0.26202714078111,
          0.03020197735240865,
          0.9041666666666667,
          0.9097222222222222,
          0.07373619966430117,
          0.3421757104683934,
          0.9097222222222222,
          0.07066101668242297,
          0.9097222222222222,
          0.8791666666666667,
          0.6277777777777778,
          0.2582214518941581,
          0.04870365727884188,
          0.5931182121971595,
          0.9666666666666667,
          1,
          0.58757215007215,
          1,
          0.9166666666666666,
          0.9180555555555555,
          0.3624624674431176,
          0.0171684646478038,
          0.3198806498721288,
          0.8854166666666666,
          0.09987495271894538,
          0.8916666666666667,
          0.028133314931622723,
          0.022535914925799212,
          1,
          0.22704619128914902,
          0.7449494949494949,
          0.5185938928383964,
          0.8334415584415583,
          0.699810606060606,
          0.2734829294648993,
          0.023534791753386002,
          0.7891865079365079,
          0.017502009539681746,
          0.04047577496321185,
          0.04517148384530613,
          0.04240428192923572,
          0.2857310210457726,
          1,
          1,
          0.022299156471077757,
          0.3402279977647624,
          0.17048690978410008,
          0.31676234550163035,
          0.3246913873289948,
          0.033945904171806984,
          0.06952250117918726,
          0.44779294779294776,
          1,
          0.9047619047619048,
          0.034380644784609185,
          0.18196175251178207,
          1,
          0.16227213998063067,
          0.9388888888888889
         ]
        },
        {
         "name": "Phalloidin 400LS",
         "type": "box",
         "x": [
          "tumor necrosis factor production inhibitor",
          "antihistamine",
          "acetylcholine receptor antagonist",
          "pyruvate dehydrogenase kinase inhibitor",
          "protein tyrosine kinase inhibitor",
          "antihistamine",
          "hepatocyte growth factor receptor inhibitor",
          "CHK inhibitor",
          "glycogen synthase kinase inhibitor",
          "histone lysine methyltransferase inhibitor",
          "tumor necrosis factor production inhibitor",
          "inosine monophosphate dehydrogenase inhibitor",
          "CDC inhibitor",
          "PARP inhibitor",
          "bromodomain inhibitor",
          "ubiquitin specific protease inhibitor",
          "glycogen synthase kinase inhibitor",
          "JAK inhibitor",
          "Apoptosis inducer (ATP-competitive kinase inhibitor)",
          "hepatocyte growth factor receptor inhibitor",
          "bromodomain inhibitor",
          "MEK inhibitor",
          "Aurora kinase inhibitor",
          "LXR agonist",
          "phospholipase inhibitor",
          "IGF-1 inhibitor",
          "tricyclic antidepressant",
          "histone lysine demethylase inhibitor",
          "phosphodiesterase inhibitor",
          "beta-catenin inhibitor",
          "JNK inhibitor",
          "LXR agonist",
          "DNA inhibitor",
          "kinesin inhibitor",
          "phosphoinositide dependent kinase inhibitor",
          "RAF inhibitor",
          "FGFR inhibitor",
          "Bcr-Abl kinase inhibitor",
          "AMPK inhibitor",
          "pyruvate dehydrogenase kinase inhibitor",
          "phospholipase inhibitor",
          "Aurora kinase inhibitor",
          "JAK inhibitor",
          "tricyclic antidepressant",
          "PARP inhibitor",
          "BCL inhibitor",
          "inosine monophosphate dehydrogenase inhibitor",
          "MEK inhibitor",
          "histone lysine methyltransferase inhibitor",
          "HDAC inhibitor",
          "HDAC inhibitor",
          "BCL inhibitor",
          "phosphodiesterase inhibitor",
          "kinesin inhibitor",
          "CDK inhibitor",
          "CDC inhibitor",
          "RAF inhibitor",
          "protein tyrosine kinase inhibitor",
          "MAP kinase inhibitor",
          "ER stressor (SERCA inhibitor)",
          "protein arginine N-methyltransferase inhibitor",
          "Apoptosis inducer (transcription inhibitor)",
          "phosphoinositide dependent kinase inhibitor",
          "FGFR inhibitor",
          "DNA inhibitor",
          "smoothened receptor agonist",
          "JNK inhibitor",
          "CHK inhibitor",
          "EGFR inhibitor",
          "androgen receptor modulator",
          "HMGCR inhibitor",
          "acetylcholine receptor antagonist",
          "p38 MAPK inhibitor",
          "mTOR inhibitor",
          "EGFR inhibitor",
          "HMGCR inhibitor",
          "IGF-1 inhibitor",
          "protein arginine N-methyltransferase inhibitor",
          "Bcr-Abl kinase inhibitor",
          "MAP kinase inhibitor",
          "p38 MAPK inhibitor",
          "ubiquitin specific protease inhibitor",
          "beta-catenin inhibitor",
          "CDK inhibitor",
          "histone lysine demethylase inhibitor",
          "hypoxia inducible factor inhibitor",
          "androgen receptor modulator",
          "mTOR inhibitor",
          "smoothened receptor agonist",
          "hypoxia inducible factor inhibitor"
         ],
         "y": [
          0.1189305903733504,
          0.023821862279838985,
          0.059661034883154065,
          0.13393854005521255,
          0.07189728462084566,
          0.018357154975974815,
          0.8586309523809523,
          0.7409722222222221,
          0.5863686995265943,
          0.026257425179132876,
          0.024689695997976838,
          1,
          0.7942307692307692,
          0.07504307989691783,
          0.18779567494601254,
          0.011739297845485453,
          1,
          0.03241336677380982,
          0.6500793650793651,
          0.022859714735969393,
          1,
          0.1584022190346931,
          1,
          0.6231221903096902,
          0.024034622206059966,
          0.6589285714285714,
          0.14116563283380534,
          0.05027493874987471,
          0.038547737145931495,
          0.01900981522471383,
          0.010784647278707645,
          0.03732076144453075,
          0.0223922091960821,
          0.6226783433679985,
          1,
          0.045127259577761085,
          0.9791666666666666,
          0.6309163059163059,
          0.0723404884230702,
          0.9315476190476191,
          0.6573237628384687,
          0.47685636123136116,
          0.055438568623184685,
          0.04377924001384785,
          0.5899531024531024,
          0.8576388888888888,
          0.4396804699063594,
          1,
          0.7979166666666667,
          0.42916666666666664,
          1,
          0.32241967112034575,
          0.01368036992193085,
          0.2552159010966564,
          0.3849171539961014,
          0.03386131858047147,
          0.5922733516483516,
          0.025899897528075706,
          0.10837150779277095,
          1,
          0.5425708112625814,
          0.38763854679802956,
          0.7495791245791246,
          0.9791666666666666,
          0.4247114507459335,
          0.19912297656174927,
          0.01314603744661886,
          0.5214405677228953,
          0.17246768255843695,
          0.03710350443658388,
          0.17521043926221444,
          0.11647597134694804,
          0.38009068477818475,
          1,
          1,
          0.10312752493300735,
          0.8208333333333333,
          0.027162646205354454,
          0.6049859343702132,
          0.4803109500686629,
          0.03267936782113004,
          0.13365538899768287,
          0.23714080184145345,
          1,
          1,
          0.21859098106765146,
          0.11117036829641117,
          1,
          0.354452205506378,
          0.45075357010139616
         ]
        },
        {
         "name": "Tocris MitoBrilliant",
         "type": "box",
         "x": [
          "tumor necrosis factor production inhibitor",
          "antihistamine",
          "acetylcholine receptor antagonist",
          "pyruvate dehydrogenase kinase inhibitor",
          "protein tyrosine kinase inhibitor",
          "antihistamine",
          "hepatocyte growth factor receptor inhibitor",
          "CHK inhibitor",
          "glycogen synthase kinase inhibitor",
          "histone lysine methyltransferase inhibitor",
          "tumor necrosis factor production inhibitor",
          "inosine monophosphate dehydrogenase inhibitor",
          "CDC inhibitor",
          "PARP inhibitor",
          "bromodomain inhibitor",
          "ubiquitin specific protease inhibitor",
          "glycogen synthase kinase inhibitor",
          "JAK inhibitor",
          "Apoptosis inducer (ATP-competitive kinase inhibitor)",
          "hepatocyte growth factor receptor inhibitor",
          "bromodomain inhibitor",
          "MEK inhibitor",
          "Aurora kinase inhibitor",
          "LXR agonist",
          "phospholipase inhibitor",
          "IGF-1 inhibitor",
          "tricyclic antidepressant",
          "histone lysine demethylase inhibitor",
          "phosphodiesterase inhibitor",
          "beta-catenin inhibitor",
          "JNK inhibitor",
          "LXR agonist",
          "DNA inhibitor",
          "kinesin inhibitor",
          "phosphoinositide dependent kinase inhibitor",
          "RAF inhibitor",
          "FGFR inhibitor",
          "Bcr-Abl kinase inhibitor",
          "AMPK inhibitor",
          "pyruvate dehydrogenase kinase inhibitor",
          "phospholipase inhibitor",
          "Aurora kinase inhibitor",
          "JAK inhibitor",
          "tricyclic antidepressant",
          "PARP inhibitor",
          "BCL inhibitor",
          "inosine monophosphate dehydrogenase inhibitor",
          "MEK inhibitor",
          "histone lysine methyltransferase inhibitor",
          "HDAC inhibitor",
          "HDAC inhibitor",
          "BCL inhibitor",
          "phosphodiesterase inhibitor",
          "kinesin inhibitor",
          "CDK inhibitor",
          "CDC inhibitor",
          "RAF inhibitor",
          "protein tyrosine kinase inhibitor",
          "MAP kinase inhibitor",
          "ER stressor (SERCA inhibitor)",
          "protein arginine N-methyltransferase inhibitor",
          "Apoptosis inducer (transcription inhibitor)",
          "phosphoinositide dependent kinase inhibitor",
          "FGFR inhibitor",
          "DNA inhibitor",
          "smoothened receptor agonist",
          "JNK inhibitor",
          "CHK inhibitor",
          "EGFR inhibitor",
          "androgen receptor modulator",
          "HMGCR inhibitor",
          "acetylcholine receptor antagonist",
          "p38 MAPK inhibitor",
          "mTOR inhibitor",
          "EGFR inhibitor",
          "HMGCR inhibitor",
          "IGF-1 inhibitor",
          "protein arginine N-methyltransferase inhibitor",
          "Bcr-Abl kinase inhibitor",
          "MAP kinase inhibitor",
          "p38 MAPK inhibitor",
          "ubiquitin specific protease inhibitor",
          "beta-catenin inhibitor",
          "CDK inhibitor",
          "histone lysine demethylase inhibitor",
          "hypoxia inducible factor inhibitor",
          "androgen receptor modulator",
          "mTOR inhibitor",
          "smoothened receptor agonist",
          "hypoxia inducible factor inhibitor"
         ],
         "y": [
          0.04106362361483655,
          0.02949657787694289,
          0.1833019774514587,
          0.07866485866907745,
          0.1897562890307287,
          0.0746827293059189,
          0.5669190336953494,
          0.5808469308469308,
          1,
          0.06298017376306836,
          0.019429886518556976,
          0.9791666666666666,
          1,
          0.021220867930195873,
          0.3121456916099773,
          0.025234957122206355,
          1,
          0.08756656601770453,
          1,
          0.03347491551772617,
          1,
          0.23227378321476105,
          1,
          0.10109245761912145,
          0.054628432982736806,
          0.3877640021656237,
          0.021027320115483174,
          0.08349364926550511,
          0.024263594207216976,
          0.026107556145646575,
          0.009432631589004056,
          0.27069767752108237,
          0.016600425662321276,
          0.624186507936508,
          1,
          0.1591623642130517,
          1,
          0.48283730158730154,
          0.10764986804905201,
          0.9583333333333333,
          0.48865701535450906,
          0.46220410172616055,
          0.1204529987212528,
          0.026644821235381515,
          0.9791666666666666,
          0.6781746031746032,
          0.9513888888888888,
          0.5183013623803098,
          1,
          0.6,
          0.9791666666666666,
          0.2187300493628103,
          0.03664189795233662,
          0.09999576577470667,
          0.8284722222222223,
          0.03462231939689321,
          1,
          0.2595924468408903,
          0.06362750496133969,
          0.7284722222222222,
          0.2295368662978083,
          0.7331439393939393,
          0.875,
          0.5110164141414142,
          0.5800560428849902,
          0.17811234435294584,
          0.04183803807873086,
          1,
          0.04595042286634634,
          0.038186486125156446,
          0.029302781132119548,
          0.13014459686660684,
          0.4206664862914863,
          0.9791666666666666,
          1,
          0.018711526352367624,
          0.5132783882783883,
          0.04563628441538039,
          0.4821403424950335,
          0.21984025466607732,
          0.1731837907490402,
          0.1397571840718938,
          0.543670319601,
          1,
          1,
          0.207946280119936,
          0.03836758415948279,
          1,
          0.6988095238095238,
          0.698561507936508
         ]
        }
       ],
       "layout": {
        "boxmode": "group",
        "font": {
         "color": "Black",
         "family": "Arial",
         "size": 14
        },
        "height": 800,
        "legend": {
         "x": 0.01,
         "xanchor": "left",
         "y": 0.99,
         "yanchor": "top"
        },
        "template": {
         "data": {
          "bar": [
           {
            "error_x": {
             "color": "#2a3f5f"
            },
            "error_y": {
             "color": "#2a3f5f"
            },
            "marker": {
             "line": {
              "color": "#E5ECF6",
              "width": 0.5
             },
             "pattern": {
              "fillmode": "overlay",
              "size": 10,
              "solidity": 0.2
             }
            },
            "type": "bar"
           }
          ],
          "barpolar": [
           {
            "marker": {
             "line": {
              "color": "#E5ECF6",
              "width": 0.5
             },
             "pattern": {
              "fillmode": "overlay",
              "size": 10,
              "solidity": 0.2
             }
            },
            "type": "barpolar"
           }
          ],
          "carpet": [
           {
            "aaxis": {
             "endlinecolor": "#2a3f5f",
             "gridcolor": "white",
             "linecolor": "white",
             "minorgridcolor": "white",
             "startlinecolor": "#2a3f5f"
            },
            "baxis": {
             "endlinecolor": "#2a3f5f",
             "gridcolor": "white",
             "linecolor": "white",
             "minorgridcolor": "white",
             "startlinecolor": "#2a3f5f"
            },
            "type": "carpet"
           }
          ],
          "choropleth": [
           {
            "colorbar": {
             "outlinewidth": 0,
             "ticks": ""
            },
            "type": "choropleth"
           }
          ],
          "contour": [
           {
            "colorbar": {
             "outlinewidth": 0,
             "ticks": ""
            },
            "colorscale": [
             [
              0,
              "#0d0887"
             ],
             [
              0.1111111111111111,
              "#46039f"
             ],
             [
              0.2222222222222222,
              "#7201a8"
             ],
             [
              0.3333333333333333,
              "#9c179e"
             ],
             [
              0.4444444444444444,
              "#bd3786"
             ],
             [
              0.5555555555555556,
              "#d8576b"
             ],
             [
              0.6666666666666666,
              "#ed7953"
             ],
             [
              0.7777777777777778,
              "#fb9f3a"
             ],
             [
              0.8888888888888888,
              "#fdca26"
             ],
             [
              1,
              "#f0f921"
             ]
            ],
            "type": "contour"
           }
          ],
          "contourcarpet": [
           {
            "colorbar": {
             "outlinewidth": 0,
             "ticks": ""
            },
            "type": "contourcarpet"
           }
          ],
          "heatmap": [
           {
            "colorbar": {
             "outlinewidth": 0,
             "ticks": ""
            },
            "colorscale": [
             [
              0,
              "#0d0887"
             ],
             [
              0.1111111111111111,
              "#46039f"
             ],
             [
              0.2222222222222222,
              "#7201a8"
             ],
             [
              0.3333333333333333,
              "#9c179e"
             ],
             [
              0.4444444444444444,
              "#bd3786"
             ],
             [
              0.5555555555555556,
              "#d8576b"
             ],
             [
              0.6666666666666666,
              "#ed7953"
             ],
             [
              0.7777777777777778,
              "#fb9f3a"
             ],
             [
              0.8888888888888888,
              "#fdca26"
             ],
             [
              1,
              "#f0f921"
             ]
            ],
            "type": "heatmap"
           }
          ],
          "heatmapgl": [
           {
            "colorbar": {
             "outlinewidth": 0,
             "ticks": ""
            },
            "colorscale": [
             [
              0,
              "#0d0887"
             ],
             [
              0.1111111111111111,
              "#46039f"
             ],
             [
              0.2222222222222222,
              "#7201a8"
             ],
             [
              0.3333333333333333,
              "#9c179e"
             ],
             [
              0.4444444444444444,
              "#bd3786"
             ],
             [
              0.5555555555555556,
              "#d8576b"
             ],
             [
              0.6666666666666666,
              "#ed7953"
             ],
             [
              0.7777777777777778,
              "#fb9f3a"
             ],
             [
              0.8888888888888888,
              "#fdca26"
             ],
             [
              1,
              "#f0f921"
             ]
            ],
            "type": "heatmapgl"
           }
          ],
          "histogram": [
           {
            "marker": {
             "pattern": {
              "fillmode": "overlay",
              "size": 10,
              "solidity": 0.2
             }
            },
            "type": "histogram"
           }
          ],
          "histogram2d": [
           {
            "colorbar": {
             "outlinewidth": 0,
             "ticks": ""
            },
            "colorscale": [
             [
              0,
              "#0d0887"
             ],
             [
              0.1111111111111111,
              "#46039f"
             ],
             [
              0.2222222222222222,
              "#7201a8"
             ],
             [
              0.3333333333333333,
              "#9c179e"
             ],
             [
              0.4444444444444444,
              "#bd3786"
             ],
             [
              0.5555555555555556,
              "#d8576b"
             ],
             [
              0.6666666666666666,
              "#ed7953"
             ],
             [
              0.7777777777777778,
              "#fb9f3a"
             ],
             [
              0.8888888888888888,
              "#fdca26"
             ],
             [
              1,
              "#f0f921"
             ]
            ],
            "type": "histogram2d"
           }
          ],
          "histogram2dcontour": [
           {
            "colorbar": {
             "outlinewidth": 0,
             "ticks": ""
            },
            "colorscale": [
             [
              0,
              "#0d0887"
             ],
             [
              0.1111111111111111,
              "#46039f"
             ],
             [
              0.2222222222222222,
              "#7201a8"
             ],
             [
              0.3333333333333333,
              "#9c179e"
             ],
             [
              0.4444444444444444,
              "#bd3786"
             ],
             [
              0.5555555555555556,
              "#d8576b"
             ],
             [
              0.6666666666666666,
              "#ed7953"
             ],
             [
              0.7777777777777778,
              "#fb9f3a"
             ],
             [
              0.8888888888888888,
              "#fdca26"
             ],
             [
              1,
              "#f0f921"
             ]
            ],
            "type": "histogram2dcontour"
           }
          ],
          "mesh3d": [
           {
            "colorbar": {
             "outlinewidth": 0,
             "ticks": ""
            },
            "type": "mesh3d"
           }
          ],
          "parcoords": [
           {
            "line": {
             "colorbar": {
              "outlinewidth": 0,
              "ticks": ""
             }
            },
            "type": "parcoords"
           }
          ],
          "pie": [
           {
            "automargin": true,
            "type": "pie"
           }
          ],
          "scatter": [
           {
            "fillpattern": {
             "fillmode": "overlay",
             "size": 10,
             "solidity": 0.2
            },
            "type": "scatter"
           }
          ],
          "scatter3d": [
           {
            "line": {
             "colorbar": {
              "outlinewidth": 0,
              "ticks": ""
             }
            },
            "marker": {
             "colorbar": {
              "outlinewidth": 0,
              "ticks": ""
             }
            },
            "type": "scatter3d"
           }
          ],
          "scattercarpet": [
           {
            "marker": {
             "colorbar": {
              "outlinewidth": 0,
              "ticks": ""
             }
            },
            "type": "scattercarpet"
           }
          ],
          "scattergeo": [
           {
            "marker": {
             "colorbar": {
              "outlinewidth": 0,
              "ticks": ""
             }
            },
            "type": "scattergeo"
           }
          ],
          "scattergl": [
           {
            "marker": {
             "colorbar": {
              "outlinewidth": 0,
              "ticks": ""
             }
            },
            "type": "scattergl"
           }
          ],
          "scattermapbox": [
           {
            "marker": {
             "colorbar": {
              "outlinewidth": 0,
              "ticks": ""
             }
            },
            "type": "scattermapbox"
           }
          ],
          "scatterpolar": [
           {
            "marker": {
             "colorbar": {
              "outlinewidth": 0,
              "ticks": ""
             }
            },
            "type": "scatterpolar"
           }
          ],
          "scatterpolargl": [
           {
            "marker": {
             "colorbar": {
              "outlinewidth": 0,
              "ticks": ""
             }
            },
            "type": "scatterpolargl"
           }
          ],
          "scatterternary": [
           {
            "marker": {
             "colorbar": {
              "outlinewidth": 0,
              "ticks": ""
             }
            },
            "type": "scatterternary"
           }
          ],
          "surface": [
           {
            "colorbar": {
             "outlinewidth": 0,
             "ticks": ""
            },
            "colorscale": [
             [
              0,
              "#0d0887"
             ],
             [
              0.1111111111111111,
              "#46039f"
             ],
             [
              0.2222222222222222,
              "#7201a8"
             ],
             [
              0.3333333333333333,
              "#9c179e"
             ],
             [
              0.4444444444444444,
              "#bd3786"
             ],
             [
              0.5555555555555556,
              "#d8576b"
             ],
             [
              0.6666666666666666,
              "#ed7953"
             ],
             [
              0.7777777777777778,
              "#fb9f3a"
             ],
             [
              0.8888888888888888,
              "#fdca26"
             ],
             [
              1,
              "#f0f921"
             ]
            ],
            "type": "surface"
           }
          ],
          "table": [
           {
            "cells": {
             "fill": {
              "color": "#EBF0F8"
             },
             "line": {
              "color": "white"
             }
            },
            "header": {
             "fill": {
              "color": "#C8D4E3"
             },
             "line": {
              "color": "white"
             }
            },
            "type": "table"
           }
          ]
         },
         "layout": {
          "annotationdefaults": {
           "arrowcolor": "#2a3f5f",
           "arrowhead": 0,
           "arrowwidth": 1
          },
          "autotypenumbers": "strict",
          "coloraxis": {
           "colorbar": {
            "outlinewidth": 0,
            "ticks": ""
           }
          },
          "colorscale": {
           "diverging": [
            [
             0,
             "#8e0152"
            ],
            [
             0.1,
             "#c51b7d"
            ],
            [
             0.2,
             "#de77ae"
            ],
            [
             0.3,
             "#f1b6da"
            ],
            [
             0.4,
             "#fde0ef"
            ],
            [
             0.5,
             "#f7f7f7"
            ],
            [
             0.6,
             "#e6f5d0"
            ],
            [
             0.7,
             "#b8e186"
            ],
            [
             0.8,
             "#7fbc41"
            ],
            [
             0.9,
             "#4d9221"
            ],
            [
             1,
             "#276419"
            ]
           ],
           "sequential": [
            [
             0,
             "#0d0887"
            ],
            [
             0.1111111111111111,
             "#46039f"
            ],
            [
             0.2222222222222222,
             "#7201a8"
            ],
            [
             0.3333333333333333,
             "#9c179e"
            ],
            [
             0.4444444444444444,
             "#bd3786"
            ],
            [
             0.5555555555555556,
             "#d8576b"
            ],
            [
             0.6666666666666666,
             "#ed7953"
            ],
            [
             0.7777777777777778,
             "#fb9f3a"
            ],
            [
             0.8888888888888888,
             "#fdca26"
            ],
            [
             1,
             "#f0f921"
            ]
           ],
           "sequentialminus": [
            [
             0,
             "#0d0887"
            ],
            [
             0.1111111111111111,
             "#46039f"
            ],
            [
             0.2222222222222222,
             "#7201a8"
            ],
            [
             0.3333333333333333,
             "#9c179e"
            ],
            [
             0.4444444444444444,
             "#bd3786"
            ],
            [
             0.5555555555555556,
             "#d8576b"
            ],
            [
             0.6666666666666666,
             "#ed7953"
            ],
            [
             0.7777777777777778,
             "#fb9f3a"
            ],
            [
             0.8888888888888888,
             "#fdca26"
            ],
            [
             1,
             "#f0f921"
            ]
           ]
          },
          "colorway": [
           "#636efa",
           "#EF553B",
           "#00cc96",
           "#ab63fa",
           "#FFA15A",
           "#19d3f3",
           "#FF6692",
           "#B6E880",
           "#FF97FF",
           "#FECB52"
          ],
          "font": {
           "color": "#2a3f5f"
          },
          "geo": {
           "bgcolor": "white",
           "lakecolor": "white",
           "landcolor": "#E5ECF6",
           "showlakes": true,
           "showland": true,
           "subunitcolor": "white"
          },
          "hoverlabel": {
           "align": "left"
          },
          "hovermode": "closest",
          "mapbox": {
           "style": "light"
          },
          "paper_bgcolor": "white",
          "plot_bgcolor": "#E5ECF6",
          "polar": {
           "angularaxis": {
            "gridcolor": "white",
            "linecolor": "white",
            "ticks": ""
           },
           "bgcolor": "#E5ECF6",
           "radialaxis": {
            "gridcolor": "white",
            "linecolor": "white",
            "ticks": ""
           }
          },
          "scene": {
           "xaxis": {
            "backgroundcolor": "#E5ECF6",
            "gridcolor": "white",
            "gridwidth": 2,
            "linecolor": "white",
            "showbackground": true,
            "ticks": "",
            "zerolinecolor": "white"
           },
           "yaxis": {
            "backgroundcolor": "#E5ECF6",
            "gridcolor": "white",
            "gridwidth": 2,
            "linecolor": "white",
            "showbackground": true,
            "ticks": "",
            "zerolinecolor": "white"
           },
           "zaxis": {
            "backgroundcolor": "#E5ECF6",
            "gridcolor": "white",
            "gridwidth": 2,
            "linecolor": "white",
            "showbackground": true,
            "ticks": "",
            "zerolinecolor": "white"
           }
          },
          "shapedefaults": {
           "line": {
            "color": "#2a3f5f"
           }
          },
          "ternary": {
           "aaxis": {
            "gridcolor": "white",
            "linecolor": "white",
            "ticks": ""
           },
           "baxis": {
            "gridcolor": "white",
            "linecolor": "white",
            "ticks": ""
           },
           "bgcolor": "#E5ECF6",
           "caxis": {
            "gridcolor": "white",
            "linecolor": "white",
            "ticks": ""
           }
          },
          "title": {
           "x": 0.05
          },
          "xaxis": {
           "automargin": true,
           "gridcolor": "white",
           "linecolor": "white",
           "ticks": "",
           "title": {
            "standoff": 15
           },
           "zerolinecolor": "white",
           "zerolinewidth": 2
          },
          "yaxis": {
           "automargin": true,
           "gridcolor": "white",
           "linecolor": "white",
           "ticks": "",
           "title": {
            "standoff": 15
           },
           "zerolinecolor": "white",
           "zerolinewidth": 2
          }
         }
        },
        "width": 1900,
        "xaxis": {
         "categoryorder": "total ascending",
         "tickangle": 90
        },
        "yaxis": {
         "title": {
          "text": "Mean average precision"
         }
        }
       }
      }
     },
     "metadata": {},
     "output_type": "display_data"
    }
   ],
   "source": [
    "box_plot = go.Figure()\n",
    "box_plot.add_trace(go.Box(x=combined_moa_df['MoA'], y=combined_moa_df['average_precision_std'], name = 'Standard Cellpainting dyes'))\n",
    "box_plot.add_trace(go.Box(x=combined_moa_df['MoA'], y=combined_moa_df['average_precision_act'], name = 'Phalloidin 400LS'))\n",
    "box_plot.add_trace(go.Box(x=combined_moa_df['MoA'], y=combined_moa_df['average_precision_mito'], name = 'Tocris MitoBrilliant'))\n",
    "box_plot.update_layout(height=800,width=1900, font_family='Arial', font=dict(size=14, color='Black'), boxmode='group',yaxis_title = 'Mean average precision',  legend=dict(yanchor=\"top\",y=0.99,xanchor=\"left\",x=0.01))\n",
    "box_plot.update_xaxes(tickangle=90, categoryorder='total ascending')"
   ]
  },
  {
   "cell_type": "code",
   "execution_count": null,
   "metadata": {},
   "outputs": [],
   "source": []
  }
 ],
 "metadata": {
  "kernelspec": {
   "display_name": "base",
   "language": "python",
   "name": "python3"
  },
  "language_info": {
   "codemirror_mode": {
    "name": "ipython",
    "version": 3
   },
   "file_extension": ".py",
   "mimetype": "text/x-python",
   "name": "python",
   "nbconvert_exporter": "python",
   "pygments_lexer": "ipython3",
   "version": "3.9.13"
  },
  "orig_nbformat": 4
 },
 "nbformat": 4,
 "nbformat_minor": 2
}
