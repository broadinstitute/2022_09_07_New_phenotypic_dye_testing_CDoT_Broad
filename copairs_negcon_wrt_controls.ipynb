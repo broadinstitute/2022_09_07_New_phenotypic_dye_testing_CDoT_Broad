{
 "cells": [
  {
   "cell_type": "markdown",
   "metadata": {},
   "source": [
    "### Modules import"
   ]
  },
  {
   "cell_type": "code",
   "execution_count": 2,
   "metadata": {},
   "outputs": [],
   "source": [
    "import pandas as pd\n",
    "from copairs.map import run_pipeline\n",
    "import numpy as np\n",
    "\n",
    "import logging\n",
    "logging.basicConfig(format='%(levelname)s:%(asctime)s:%(name)s:%(message)s')\n",
    "logging.getLogger(\"copairs\").setLevel(logging.INFO)"
   ]
  },
  {
   "cell_type": "markdown",
   "metadata": {},
   "source": [
    "### Reading the dataframe \n",
    "Batch 1 consists of plate with standard CP dye and other plate stained with Tocris Mitobrilliant dye"
   ]
  },
  {
   "cell_type": "code",
   "execution_count": 3,
   "metadata": {},
   "outputs": [],
   "source": [
    "batch1_negcon_df = pd.read_csv('gct\\\\2023_05_15_Batch1\\\\2023_05_15_Batch1_normalized_feature_select_negcon_batch.csv.gz')"
   ]
  },
  {
   "cell_type": "code",
   "execution_count": 4,
   "metadata": {},
   "outputs": [],
   "source": [
    "batch2_negcon_df = pd.read_csv('gct\\\\2023_05_17_Batch2\\\\2023_05_17_Batch2_normalized_feature_select_negcon_batch.csv.gz')"
   ]
  },
  {
   "cell_type": "markdown",
   "metadata": {},
   "source": [
    "### Analysis - Plate wise with respect to control DMSO wells\n",
    "#### Defining parameters to compute map "
   ]
  },
  {
   "cell_type": "code",
   "execution_count": 5,
   "metadata": {},
   "outputs": [],
   "source": [
    "pert_col = 'Metadata_broad_sample'\n",
    "control_col = 'Metadata_control_type'"
   ]
  },
  {
   "cell_type": "code",
   "execution_count": 16,
   "metadata": {},
   "outputs": [],
   "source": [
    "pos_sameby = [pert_col]\n",
    "pos_diffby = []\n",
    "\n",
    "neg_sameby = []\n",
    "neg_diffby = [control_col]\n",
    "null_size =10000"
   ]
  },
  {
   "cell_type": "markdown",
   "metadata": {},
   "source": [
    "### Batch 1\n",
    "Since Batch1 consists of both the plates - standard CP dyes and the mitobrilliant dye, the dataframe is split"
   ]
  },
  {
   "cell_type": "code",
   "execution_count": 7,
   "metadata": {},
   "outputs": [],
   "source": [
    "standard_negcon_df  = batch1_negcon_df.loc[batch1_negcon_df['Metadata_Plate'] == 'BR00122250']"
   ]
  },
  {
   "cell_type": "code",
   "execution_count": 8,
   "metadata": {},
   "outputs": [],
   "source": [
    "mito_negcon_df = batch1_negcon_df.loc[batch1_negcon_df['Metadata_Plate'] == 'BR00122246']"
   ]
  },
  {
   "cell_type": "code",
   "execution_count": 17,
   "metadata": {},
   "outputs": [],
   "source": [
    "metadata_names_std = [c for c in standard_negcon_df.columns if c.startswith('Metadata')]\n",
    "feature_names_std = [c for c in standard_negcon_df.columns if not c.startswith('Metadata')]\n",
    "feats_std = standard_negcon_df[feature_names_std].values\n",
    "dframe_std = standard_negcon_df[metadata_names_std]"
   ]
  },
  {
   "cell_type": "code",
   "execution_count": 21,
   "metadata": {},
   "outputs": [
    {
     "name": "stderr",
     "output_type": "stream",
     "text": [
      "C:\\Users\\ssivagur\\AppData\\Local\\Temp\\ipykernel_30596\\731671538.py:1: SettingWithCopyWarning: \n",
      "A value is trying to be set on a copy of a slice from a DataFrame\n",
      "\n",
      "See the caveats in the documentation: https://pandas.pydata.org/pandas-docs/stable/user_guide/indexing.html#returning-a-view-versus-a-copy\n",
      "  dframe_std[control_col].fillna('trt', inplace=True)\n"
     ]
    }
   ],
   "source": [
    "dframe_std[control_col].fillna('trt', inplace=True)"
   ]
  },
  {
   "cell_type": "code",
   "execution_count": 22,
   "metadata": {},
   "outputs": [
    {
     "name": "stderr",
     "output_type": "stream",
     "text": [
      "INFO:2023-07-14 12:11:08,434:copairs:Indexing metadata...\n",
      "INFO:2023-07-14 12:11:08,445:copairs:Finding positive pairs...\n",
      "INFO:2023-07-14 12:11:08,448:copairs:dropping dups...\n",
      "INFO:2023-07-14 12:11:08,452:copairs:Finding negative pairs...\n",
      "INFO:2023-07-14 12:11:08,527:copairs:dropping dups...\n",
      "INFO:2023-07-14 12:11:08,536:copairs:Computing positive similarities...\n"
     ]
    },
    {
     "data": {
      "application/vnd.jupyter.widget-view+json": {
       "model_id": "7e44672c94f048688dcbc2103b73a0e8",
       "version_major": 2,
       "version_minor": 0
      },
      "text/plain": [
       "  0%|          | 0/1 [00:00<?, ?it/s]"
      ]
     },
     "metadata": {},
     "output_type": "display_data"
    },
    {
     "name": "stderr",
     "output_type": "stream",
     "text": [
      "INFO:2023-07-14 12:11:09,407:copairs:Computing negative similarities...\n"
     ]
    },
    {
     "data": {
      "application/vnd.jupyter.widget-view+json": {
       "model_id": "03fab52234854d60b0ffdb23652fad8d",
       "version_major": 2,
       "version_minor": 0
      },
      "text/plain": [
       "  0%|          | 0/1 [00:00<?, ?it/s]"
      ]
     },
     "metadata": {},
     "output_type": "display_data"
    },
    {
     "name": "stderr",
     "output_type": "stream",
     "text": [
      "INFO:2023-07-14 12:11:10,373:copairs:Building rank lists...\n",
      "INFO:2023-07-14 12:11:10,414:copairs:Computing average precision...\n",
      "INFO:2023-07-14 12:11:10,425:copairs:Computing null distributions...\n",
      "INFO:2023-07-14 12:11:11,446:copairs:Computing P-values...\n",
      "INFO:2023-07-14 12:11:11,453:copairs:Creating result DataFrame...\n",
      "INFO:2023-07-14 12:11:11,456:copairs:Finished.\n"
     ]
    }
   ],
   "source": [
    "result_std = run_pipeline(dframe_std, feats_std, \n",
    "                          pos_sameby, pos_diffby,\n",
    "                          neg_sameby, neg_diffby,\n",
    "                          null_size)"
   ]
  },
  {
   "cell_type": "code",
   "execution_count": 24,
   "metadata": {},
   "outputs": [],
   "source": [
    "result_std.to_csv('copairs_csv\\\\Result_Negcon_wrt_Controls_StandardCP.csv')"
   ]
  },
  {
   "cell_type": "code",
   "execution_count": 25,
   "metadata": {},
   "outputs": [],
   "source": [
    "from copairs.map import aggregate"
   ]
  },
  {
   "cell_type": "code",
   "execution_count": 26,
   "metadata": {},
   "outputs": [],
   "source": [
    "agg_result_std = aggregate(result_std, sameby=pos_sameby, threshold=0.05)\n",
    "agg_result_std.to_csv('copairs_csv\\\\Aggregate_result_Negcon_wrt_Controls_StandardCP.csv')"
   ]
  },
  {
   "cell_type": "markdown",
   "metadata": {},
   "source": [
    "#### Mito data "
   ]
  },
  {
   "cell_type": "code",
   "execution_count": 27,
   "metadata": {},
   "outputs": [],
   "source": [
    "metadata_names_mito = [ c for c in mito_negcon_df.columns if c.startswith('Metadata')]\n",
    "feature_names_mito = [c for c in mito_negcon_df.columns if not c.startswith('Metadata')]\n",
    "feats_mito = mito_negcon_df[feature_names_mito].values\n",
    "dframe_mito = mito_negcon_df[metadata_names_mito]"
   ]
  },
  {
   "cell_type": "code",
   "execution_count": 28,
   "metadata": {},
   "outputs": [
    {
     "name": "stderr",
     "output_type": "stream",
     "text": [
      "C:\\Users\\ssivagur\\AppData\\Local\\Temp\\ipykernel_30596\\4093336437.py:1: SettingWithCopyWarning: \n",
      "A value is trying to be set on a copy of a slice from a DataFrame\n",
      "\n",
      "See the caveats in the documentation: https://pandas.pydata.org/pandas-docs/stable/user_guide/indexing.html#returning-a-view-versus-a-copy\n",
      "  dframe_mito[control_col].fillna('trt', inplace=True)\n"
     ]
    }
   ],
   "source": [
    "dframe_mito[control_col].fillna('trt', inplace=True)"
   ]
  },
  {
   "cell_type": "code",
   "execution_count": 29,
   "metadata": {},
   "outputs": [
    {
     "name": "stderr",
     "output_type": "stream",
     "text": [
      "INFO:2023-07-14 12:17:36,763:copairs:Indexing metadata...\n",
      "INFO:2023-07-14 12:17:36,776:copairs:Finding positive pairs...\n",
      "INFO:2023-07-14 12:17:36,777:copairs:dropping dups...\n",
      "INFO:2023-07-14 12:17:36,781:copairs:Finding negative pairs...\n",
      "INFO:2023-07-14 12:17:36,804:copairs:dropping dups...\n",
      "INFO:2023-07-14 12:17:36,815:copairs:Computing positive similarities...\n"
     ]
    },
    {
     "data": {
      "application/vnd.jupyter.widget-view+json": {
       "model_id": "a167e2f7b134417e9f7f876b435312f5",
       "version_major": 2,
       "version_minor": 0
      },
      "text/plain": [
       "  0%|          | 0/1 [00:00<?, ?it/s]"
      ]
     },
     "metadata": {},
     "output_type": "display_data"
    },
    {
     "name": "stderr",
     "output_type": "stream",
     "text": [
      "INFO:2023-07-14 12:17:37,633:copairs:Computing negative similarities...\n"
     ]
    },
    {
     "data": {
      "application/vnd.jupyter.widget-view+json": {
       "model_id": "74faa44cfc01403e8b3e1a6ff6549ac4",
       "version_major": 2,
       "version_minor": 0
      },
      "text/plain": [
       "  0%|          | 0/1 [00:00<?, ?it/s]"
      ]
     },
     "metadata": {},
     "output_type": "display_data"
    },
    {
     "name": "stderr",
     "output_type": "stream",
     "text": [
      "INFO:2023-07-14 12:17:38,557:copairs:Building rank lists...\n",
      "INFO:2023-07-14 12:17:38,589:copairs:Computing average precision...\n",
      "INFO:2023-07-14 12:17:38,597:copairs:Computing null distributions...\n",
      "INFO:2023-07-14 12:17:39,725:copairs:Computing P-values...\n",
      "INFO:2023-07-14 12:17:39,733:copairs:Creating result DataFrame...\n",
      "INFO:2023-07-14 12:17:39,733:copairs:Finished.\n"
     ]
    }
   ],
   "source": [
    "result_mito = run_pipeline(dframe_mito, feats_mito,\n",
    "                           pos_sameby, pos_diffby,\n",
    "                           neg_sameby, neg_diffby,\n",
    "                           null_size)"
   ]
  },
  {
   "cell_type": "code",
   "execution_count": 30,
   "metadata": {},
   "outputs": [],
   "source": [
    "result_mito.to_csv('copairs_csv\\\\Result_Negcon_wrt_Controls_Tocris_mitobrilliant.csv')"
   ]
  },
  {
   "cell_type": "code",
   "execution_count": 31,
   "metadata": {},
   "outputs": [],
   "source": [
    "agg_result_mito = aggregate(result_mito, sameby=pos_sameby, threshold=0.05)\n",
    "agg_result_mito.to_csv('copairs_csv\\\\Aggregate_result_Negcon_wrt_Controls_Tocris_Mitobrilliant.csv')"
   ]
  },
  {
   "cell_type": "markdown",
   "metadata": {},
   "source": [
    "#### Batch2 - Long stoke shifted actin "
   ]
  },
  {
   "cell_type": "code",
   "execution_count": 32,
   "metadata": {},
   "outputs": [],
   "source": [
    "metadata_names_act = [c for c in batch2_negcon_df.columns if c.startswith('Metadata')]\n",
    "feature_names_act = [ c for c in batch2_negcon_df.columns if not c.startswith('Metadata')]\n",
    "feats_act = batch2_negcon_df[feature_names_act].values\n",
    "dframe_act = batch2_negcon_df[metadata_names_act]"
   ]
  },
  {
   "cell_type": "code",
   "execution_count": 33,
   "metadata": {},
   "outputs": [
    {
     "name": "stderr",
     "output_type": "stream",
     "text": [
      "C:\\Users\\ssivagur\\AppData\\Local\\Temp\\ipykernel_30596\\4240195735.py:1: SettingWithCopyWarning: \n",
      "A value is trying to be set on a copy of a slice from a DataFrame\n",
      "\n",
      "See the caveats in the documentation: https://pandas.pydata.org/pandas-docs/stable/user_guide/indexing.html#returning-a-view-versus-a-copy\n",
      "  dframe_act[control_col].fillna('trt', inplace=True)\n"
     ]
    }
   ],
   "source": [
    "dframe_act[control_col].fillna('trt', inplace=True)"
   ]
  },
  {
   "cell_type": "code",
   "execution_count": 34,
   "metadata": {},
   "outputs": [
    {
     "name": "stderr",
     "output_type": "stream",
     "text": [
      "INFO:2023-07-14 12:20:25,241:copairs:Indexing metadata...\n",
      "INFO:2023-07-14 12:20:25,254:copairs:Finding positive pairs...\n",
      "INFO:2023-07-14 12:20:25,256:copairs:dropping dups...\n",
      "INFO:2023-07-14 12:20:25,261:copairs:Finding negative pairs...\n",
      "INFO:2023-07-14 12:20:25,284:copairs:dropping dups...\n",
      "INFO:2023-07-14 12:20:25,297:copairs:Computing positive similarities...\n"
     ]
    },
    {
     "data": {
      "application/vnd.jupyter.widget-view+json": {
       "model_id": "0cd9e495be7747a88da46a6c87f8c8dc",
       "version_major": 2,
       "version_minor": 0
      },
      "text/plain": [
       "  0%|          | 0/1 [00:00<?, ?it/s]"
      ]
     },
     "metadata": {},
     "output_type": "display_data"
    },
    {
     "name": "stderr",
     "output_type": "stream",
     "text": [
      "INFO:2023-07-14 12:20:26,145:copairs:Computing negative similarities...\n"
     ]
    },
    {
     "data": {
      "application/vnd.jupyter.widget-view+json": {
       "model_id": "a2a5d61cadbc43c59c8b19b96d1898f6",
       "version_major": 2,
       "version_minor": 0
      },
      "text/plain": [
       "  0%|          | 0/1 [00:00<?, ?it/s]"
      ]
     },
     "metadata": {},
     "output_type": "display_data"
    },
    {
     "name": "stderr",
     "output_type": "stream",
     "text": [
      "INFO:2023-07-14 12:20:27,088:copairs:Building rank lists...\n",
      "INFO:2023-07-14 12:20:27,120:copairs:Computing average precision...\n",
      "INFO:2023-07-14 12:20:27,127:copairs:Computing null distributions...\n",
      "INFO:2023-07-14 12:20:28,182:copairs:Computing P-values...\n",
      "INFO:2023-07-14 12:20:28,191:copairs:Creating result DataFrame...\n",
      "INFO:2023-07-14 12:20:28,191:copairs:Finished.\n"
     ]
    }
   ],
   "source": [
    "result_act = run_pipeline(dframe_act, feats_act,\n",
    "                          pos_sameby, pos_diffby, \n",
    "                          neg_sameby, neg_diffby,\n",
    "                          null_size)"
   ]
  },
  {
   "cell_type": "code",
   "execution_count": 35,
   "metadata": {},
   "outputs": [],
   "source": [
    "result_act.to_csv('copairs_csv\\\\Result_Negcon_wrt_Controls_Phalloidin400LS.csv')"
   ]
  },
  {
   "cell_type": "code",
   "execution_count": 36,
   "metadata": {},
   "outputs": [],
   "source": [
    "agg_result_act = aggregate(result_act, sameby=pos_sameby, threshold=0.05)\n",
    "agg_result_act.to_csv('copairs_csv\\\\Aggregate_result_Negcon_wrt_Controls_Phalloidin400LS.csv')"
   ]
  },
  {
   "cell_type": "markdown",
   "metadata": {},
   "source": [
    "#### Combining all the aggregated results for easier plotting "
   ]
  },
  {
   "cell_type": "code",
   "execution_count": 37,
   "metadata": {},
   "outputs": [],
   "source": [
    "agg_result_std = agg_result_std.rename(columns = {'average_precision': 'average_precision_std'})\n",
    "agg_result_mito = agg_result_mito.rename(columns = {'average_precision':'average_precision_mito'})\n",
    "agg_result_act = agg_result_act.rename(columns = {'average_precision':'average_precision_act'})"
   ]
  },
  {
   "cell_type": "code",
   "execution_count": 38,
   "metadata": {},
   "outputs": [],
   "source": [
    "agg_result_std_subset = agg_result_std[['Metadata_broad_sample', 'average_precision_std']]\n",
    "agg_result_mito_subset = agg_result_mito[['Metadata_broad_sample', 'average_precision_mito']]\n",
    "agg_result_act_subset = agg_result_act[['Metadata_broad_sample', 'average_precision_act']]"
   ]
  },
  {
   "cell_type": "code",
   "execution_count": 39,
   "metadata": {},
   "outputs": [],
   "source": [
    "combined_df = pd.merge(agg_result_std_subset, agg_result_mito_subset, on='Metadata_broad_sample')\n",
    "combined_df  =pd.merge(combined_df,agg_result_act_subset, on='Metadata_broad_sample')"
   ]
  },
  {
   "cell_type": "markdown",
   "metadata": {},
   "source": [
    "#### Adding metadata information to the combined_df \n"
   ]
  },
  {
   "cell_type": "code",
   "execution_count": 40,
   "metadata": {},
   "outputs": [],
   "source": [
    "moa_metadata = pd.read_csv('copairs_csv\\\\LC00009948_MoA_Common_Names.csv')\n",
    "moa_metadata = moa_metadata.rename(columns = {'BRD with batch':'Metadata_broad_sample'})"
   ]
  },
  {
   "cell_type": "markdown",
   "metadata": {},
   "source": [
    "##### Extracting BRD ID from BROAD sample name "
   ]
  },
  {
   "cell_type": "code",
   "execution_count": 41,
   "metadata": {},
   "outputs": [],
   "source": [
    "def BRD_ID(i):\n",
    "    if type(i) != float:\n",
    "        ID = i.split('-')\n",
    "        return ID[1]"
   ]
  },
  {
   "cell_type": "code",
   "execution_count": 42,
   "metadata": {},
   "outputs": [],
   "source": [
    "combined_df['BRD ID'] = combined_df['Metadata_broad_sample'].map(BRD_ID)\n",
    "combined_moa_df = pd.merge(combined_df,moa_metadata, on = 'BRD ID')"
   ]
  },
  {
   "cell_type": "markdown",
   "metadata": {},
   "source": [
    "### Generating columns for difference in mAP"
   ]
  },
  {
   "cell_type": "code",
   "execution_count": 43,
   "metadata": {},
   "outputs": [],
   "source": [
    " \n",
    "combined_moa_df['std_vs_act'] = combined_moa_df['average_precision_std'] - combined_moa_df['average_precision_act']\n",
    "combined_moa_df['std_vs_mito'] = combined_moa_df['average_precision_std'] - combined_moa_df['average_precision_mito']\n"
   ]
  },
  {
   "cell_type": "code",
   "execution_count": 44,
   "metadata": {},
   "outputs": [],
   "source": [
    "combined_moa_df.to_csv('copairs_csv\\\\PrecisionValues_with_MoA_allplates_Negcon_wrt_Controls.csv')"
   ]
  }
 ],
 "metadata": {
  "kernelspec": {
   "display_name": "base",
   "language": "python",
   "name": "python3"
  },
  "language_info": {
   "codemirror_mode": {
    "name": "ipython",
    "version": 3
   },
   "file_extension": ".py",
   "mimetype": "text/x-python",
   "name": "python",
   "nbconvert_exporter": "python",
   "pygments_lexer": "ipython3",
   "version": "3.9.13"
  },
  "orig_nbformat": 4
 },
 "nbformat": 4,
 "nbformat_minor": 2
}
